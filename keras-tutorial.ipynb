{
 "cells": [
  {
   "cell_type": "markdown",
   "id": "c8d4abdc",
   "metadata": {
    "papermill": {
     "duration": 0.008528,
     "end_time": "2024-01-15T14:10:17.822794",
     "exception": false,
     "start_time": "2024-01-15T14:10:17.814266",
     "status": "completed"
    },
    "tags": []
   },
   "source": [
    "# Introduction"
   ]
  },
  {
   "cell_type": "code",
   "execution_count": 1,
   "id": "d7e01d1f",
   "metadata": {
    "execution": {
     "iopub.execute_input": "2024-01-15T14:10:17.839877Z",
     "iopub.status.busy": "2024-01-15T14:10:17.839594Z",
     "iopub.status.idle": "2024-01-15T14:10:45.304103Z",
     "shell.execute_reply": "2024-01-15T14:10:45.302951Z"
    },
    "papermill": {
     "duration": 27.475554,
     "end_time": "2024-01-15T14:10:45.306377",
     "exception": false,
     "start_time": "2024-01-15T14:10:17.830823",
     "status": "completed"
    },
    "scrolled": true,
    "tags": []
   },
   "outputs": [
    {
     "name": "stdout",
     "output_type": "stream",
     "text": [
      "Requirement already satisfied: keras in /opt/conda/lib/python3.10/site-packages (2.13.1)\r\n",
      "Collecting keras\r\n",
      "  Obtaining dependency information for keras from https://files.pythonhosted.org/packages/ca/48/643d21747d52fa380f572f76c493779fc5b4bd03605247209d2dd0a6d9a9/keras-3.0.2-py3-none-any.whl.metadata\r\n",
      "  Downloading keras-3.0.2-py3-none-any.whl.metadata (4.8 kB)\r\n",
      "Requirement already satisfied: absl-py in /opt/conda/lib/python3.10/site-packages (from keras) (1.4.0)\r\n",
      "Requirement already satisfied: numpy in /opt/conda/lib/python3.10/site-packages (from keras) (1.24.3)\r\n",
      "Requirement already satisfied: rich in /opt/conda/lib/python3.10/site-packages (from keras) (13.5.2)\r\n",
      "Requirement already satisfied: namex in /opt/conda/lib/python3.10/site-packages (from keras) (0.0.7)\r\n",
      "Requirement already satisfied: h5py in /opt/conda/lib/python3.10/site-packages (from keras) (3.9.0)\r\n",
      "Requirement already satisfied: dm-tree in /opt/conda/lib/python3.10/site-packages (from keras) (0.1.8)\r\n",
      "Requirement already satisfied: markdown-it-py>=2.2.0 in /opt/conda/lib/python3.10/site-packages (from rich->keras) (3.0.0)\r\n",
      "Requirement already satisfied: pygments<3.0.0,>=2.13.0 in /opt/conda/lib/python3.10/site-packages (from rich->keras) (2.16.1)\r\n",
      "Requirement already satisfied: mdurl~=0.1 in /opt/conda/lib/python3.10/site-packages (from markdown-it-py>=2.2.0->rich->keras) (0.1.2)\r\n",
      "Downloading keras-3.0.2-py3-none-any.whl (1.0 MB)\r\n",
      "\u001b[2K   \u001b[90m━━━━━━━━━━━━━━━━━━━━━━━━━━━━━━━━━━━━━━━━\u001b[0m \u001b[32m1.0/1.0 MB\u001b[0m \u001b[31m19.3 MB/s\u001b[0m eta \u001b[36m0:00:00\u001b[0m\r\n",
      "\u001b[?25hInstalling collected packages: keras\r\n",
      "  Attempting uninstall: keras\r\n",
      "    Found existing installation: keras 2.13.1\r\n",
      "    Uninstalling keras-2.13.1:\r\n",
      "      Successfully uninstalled keras-2.13.1\r\n",
      "\u001b[31mERROR: pip's dependency resolver does not currently take into account all the packages that are installed. This behaviour is the source of the following dependency conflicts.\r\n",
      "tensorflow 2.13.0 requires keras<2.14,>=2.13.1, but you have keras 3.0.2 which is incompatible.\r\n",
      "tensorflowjs 4.15.0 requires packaging~=23.1, but you have packaging 21.3 which is incompatible.\u001b[0m\u001b[31m\r\n",
      "\u001b[0mSuccessfully installed keras-3.0.2\r\n",
      "Requirement already satisfied: tensorflow in /opt/conda/lib/python3.10/site-packages (2.13.0)\r\n",
      "Requirement already satisfied: absl-py>=1.0.0 in /opt/conda/lib/python3.10/site-packages (from tensorflow) (1.4.0)\r\n",
      "Requirement already satisfied: astunparse>=1.6.0 in /opt/conda/lib/python3.10/site-packages (from tensorflow) (1.6.3)\r\n",
      "Requirement already satisfied: flatbuffers>=23.1.21 in /opt/conda/lib/python3.10/site-packages (from tensorflow) (23.5.26)\r\n",
      "Requirement already satisfied: gast<=0.4.0,>=0.2.1 in /opt/conda/lib/python3.10/site-packages (from tensorflow) (0.4.0)\r\n",
      "Requirement already satisfied: google-pasta>=0.1.1 in /opt/conda/lib/python3.10/site-packages (from tensorflow) (0.2.0)\r\n",
      "Requirement already satisfied: grpcio<2.0,>=1.24.3 in /opt/conda/lib/python3.10/site-packages (from tensorflow) (1.51.1)\r\n",
      "Requirement already satisfied: h5py>=2.9.0 in /opt/conda/lib/python3.10/site-packages (from tensorflow) (3.9.0)\r\n",
      "Collecting keras<2.14,>=2.13.1 (from tensorflow)\r\n",
      "  Obtaining dependency information for keras<2.14,>=2.13.1 from https://files.pythonhosted.org/packages/2e/f3/19da7511b45e80216cbbd9467137b2d28919c58ba1ccb971435cb631e470/keras-2.13.1-py3-none-any.whl.metadata\r\n",
      "  Downloading keras-2.13.1-py3-none-any.whl.metadata (2.4 kB)\r\n",
      "Requirement already satisfied: libclang>=13.0.0 in /opt/conda/lib/python3.10/site-packages (from tensorflow) (16.0.6)\r\n",
      "Requirement already satisfied: numpy<=1.24.3,>=1.22 in /opt/conda/lib/python3.10/site-packages (from tensorflow) (1.24.3)\r\n",
      "Requirement already satisfied: opt-einsum>=2.3.2 in /opt/conda/lib/python3.10/site-packages (from tensorflow) (3.3.0)\r\n",
      "Requirement already satisfied: packaging in /opt/conda/lib/python3.10/site-packages (from tensorflow) (21.3)\r\n",
      "Requirement already satisfied: protobuf!=4.21.0,!=4.21.1,!=4.21.2,!=4.21.3,!=4.21.4,!=4.21.5,<5.0.0dev,>=3.20.3 in /opt/conda/lib/python3.10/site-packages (from tensorflow) (3.20.3)\r\n",
      "Requirement already satisfied: setuptools in /opt/conda/lib/python3.10/site-packages (from tensorflow) (68.1.2)\r\n",
      "Requirement already satisfied: six>=1.12.0 in /opt/conda/lib/python3.10/site-packages (from tensorflow) (1.16.0)\r\n",
      "Requirement already satisfied: tensorboard<2.14,>=2.13 in /opt/conda/lib/python3.10/site-packages (from tensorflow) (2.13.0)\r\n",
      "Requirement already satisfied: tensorflow-estimator<2.14,>=2.13.0 in /opt/conda/lib/python3.10/site-packages (from tensorflow) (2.13.0)\r\n",
      "Requirement already satisfied: termcolor>=1.1.0 in /opt/conda/lib/python3.10/site-packages (from tensorflow) (2.3.0)\r\n",
      "Requirement already satisfied: typing-extensions<4.6.0,>=3.6.6 in /opt/conda/lib/python3.10/site-packages (from tensorflow) (4.5.0)\r\n",
      "Requirement already satisfied: wrapt>=1.11.0 in /opt/conda/lib/python3.10/site-packages (from tensorflow) (1.15.0)\r\n",
      "Requirement already satisfied: tensorflow-io-gcs-filesystem>=0.23.1 in /opt/conda/lib/python3.10/site-packages (from tensorflow) (0.34.0)\r\n",
      "Requirement already satisfied: wheel<1.0,>=0.23.0 in /opt/conda/lib/python3.10/site-packages (from astunparse>=1.6.0->tensorflow) (0.41.2)\r\n",
      "Requirement already satisfied: google-auth<3,>=1.6.3 in /opt/conda/lib/python3.10/site-packages (from tensorboard<2.14,>=2.13->tensorflow) (2.22.0)\r\n",
      "Requirement already satisfied: google-auth-oauthlib<1.1,>=0.5 in /opt/conda/lib/python3.10/site-packages (from tensorboard<2.14,>=2.13->tensorflow) (1.0.0)\r\n",
      "Requirement already satisfied: markdown>=2.6.8 in /opt/conda/lib/python3.10/site-packages (from tensorboard<2.14,>=2.13->tensorflow) (3.4.4)\r\n",
      "Requirement already satisfied: requests<3,>=2.21.0 in /opt/conda/lib/python3.10/site-packages (from tensorboard<2.14,>=2.13->tensorflow) (2.31.0)\r\n",
      "Requirement already satisfied: tensorboard-data-server<0.8.0,>=0.7.0 in /opt/conda/lib/python3.10/site-packages (from tensorboard<2.14,>=2.13->tensorflow) (0.7.1)\r\n",
      "Requirement already satisfied: werkzeug>=1.0.1 in /opt/conda/lib/python3.10/site-packages (from tensorboard<2.14,>=2.13->tensorflow) (3.0.1)\r\n",
      "Requirement already satisfied: pyparsing!=3.0.5,>=2.0.2 in /opt/conda/lib/python3.10/site-packages (from packaging->tensorflow) (3.0.9)\r\n",
      "Requirement already satisfied: cachetools<6.0,>=2.0.0 in /opt/conda/lib/python3.10/site-packages (from google-auth<3,>=1.6.3->tensorboard<2.14,>=2.13->tensorflow) (4.2.4)\r\n",
      "Requirement already satisfied: pyasn1-modules>=0.2.1 in /opt/conda/lib/python3.10/site-packages (from google-auth<3,>=1.6.3->tensorboard<2.14,>=2.13->tensorflow) (0.2.7)\r\n",
      "Requirement already satisfied: rsa<5,>=3.1.4 in /opt/conda/lib/python3.10/site-packages (from google-auth<3,>=1.6.3->tensorboard<2.14,>=2.13->tensorflow) (4.9)\r\n",
      "Requirement already satisfied: urllib3<2.0 in /opt/conda/lib/python3.10/site-packages (from google-auth<3,>=1.6.3->tensorboard<2.14,>=2.13->tensorflow) (1.26.15)\r\n",
      "Requirement already satisfied: requests-oauthlib>=0.7.0 in /opt/conda/lib/python3.10/site-packages (from google-auth-oauthlib<1.1,>=0.5->tensorboard<2.14,>=2.13->tensorflow) (1.3.1)\r\n",
      "Requirement already satisfied: charset-normalizer<4,>=2 in /opt/conda/lib/python3.10/site-packages (from requests<3,>=2.21.0->tensorboard<2.14,>=2.13->tensorflow) (3.2.0)\r\n",
      "Requirement already satisfied: idna<4,>=2.5 in /opt/conda/lib/python3.10/site-packages (from requests<3,>=2.21.0->tensorboard<2.14,>=2.13->tensorflow) (3.4)\r\n",
      "Requirement already satisfied: certifi>=2017.4.17 in /opt/conda/lib/python3.10/site-packages (from requests<3,>=2.21.0->tensorboard<2.14,>=2.13->tensorflow) (2023.11.17)\r\n",
      "Requirement already satisfied: MarkupSafe>=2.1.1 in /opt/conda/lib/python3.10/site-packages (from werkzeug>=1.0.1->tensorboard<2.14,>=2.13->tensorflow) (2.1.3)\r\n",
      "Requirement already satisfied: pyasn1<0.5.0,>=0.4.6 in /opt/conda/lib/python3.10/site-packages (from pyasn1-modules>=0.2.1->google-auth<3,>=1.6.3->tensorboard<2.14,>=2.13->tensorflow) (0.4.8)\r\n",
      "Requirement already satisfied: oauthlib>=3.0.0 in /opt/conda/lib/python3.10/site-packages (from requests-oauthlib>=0.7.0->google-auth-oauthlib<1.1,>=0.5->tensorboard<2.14,>=2.13->tensorflow) (3.2.2)\r\n",
      "Downloading keras-2.13.1-py3-none-any.whl (1.7 MB)\r\n",
      "\u001b[2K   \u001b[90m━━━━━━━━━━━━━━━━━━━━━━━━━━━━━━━━━━━━━━━━\u001b[0m \u001b[32m1.7/1.7 MB\u001b[0m \u001b[31m23.1 MB/s\u001b[0m eta \u001b[36m0:00:00\u001b[0m\r\n",
      "\u001b[?25hInstalling collected packages: keras\r\n",
      "  Attempting uninstall: keras\r\n",
      "    Found existing installation: keras 3.0.2\r\n",
      "    Uninstalling keras-3.0.2:\r\n",
      "      Successfully uninstalled keras-3.0.2\r\n",
      "\u001b[31mERROR: pip's dependency resolver does not currently take into account all the packages that are installed. This behaviour is the source of the following dependency conflicts.\r\n",
      "tensorflowjs 4.15.0 requires packaging~=23.1, but you have packaging 21.3 which is incompatible.\u001b[0m\u001b[31m\r\n",
      "\u001b[0mSuccessfully installed keras-2.13.1\r\n"
     ]
    }
   ],
   "source": [
    "!pip install keras --upgrade\n",
    "!pip install tensorflow"
   ]
  },
  {
   "cell_type": "markdown",
   "id": "66036a8c",
   "metadata": {
    "papermill": {
     "duration": 0.009716,
     "end_time": "2024-01-15T14:10:45.326508",
     "exception": false,
     "start_time": "2024-01-15T14:10:45.316792",
     "status": "completed"
    },
    "tags": []
   },
   "source": [
    "## Notebook Imports"
   ]
  },
  {
   "cell_type": "code",
   "execution_count": 2,
   "id": "6a26fc5e",
   "metadata": {
    "execution": {
     "iopub.execute_input": "2024-01-15T14:10:45.348042Z",
     "iopub.status.busy": "2024-01-15T14:10:45.347484Z",
     "iopub.status.idle": "2024-01-15T14:10:56.882268Z",
     "shell.execute_reply": "2024-01-15T14:10:56.881465Z"
    },
    "papermill": {
     "duration": 11.548171,
     "end_time": "2024-01-15T14:10:56.884567",
     "exception": false,
     "start_time": "2024-01-15T14:10:45.336396",
     "status": "completed"
    },
    "tags": []
   },
   "outputs": [
    {
     "name": "stderr",
     "output_type": "stream",
     "text": [
      "/opt/conda/lib/python3.10/site-packages/scipy/__init__.py:146: UserWarning: A NumPy version >=1.16.5 and <1.23.0 is required for this version of SciPy (detected version 1.24.3\n",
      "  warnings.warn(f\"A NumPy version >={np_minversion} and <{np_maxversion}\"\n"
     ]
    }
   ],
   "source": [
    "from keras import models\n",
    "from keras import layers\n",
    "import numpy as np\n",
    "from random import randint\n",
    "from sklearn.utils import shuffle \n",
    "from sklearn.preprocessing import MinMaxScaler"
   ]
  },
  {
   "cell_type": "code",
   "execution_count": 3,
   "id": "a70a1403",
   "metadata": {
    "execution": {
     "iopub.execute_input": "2024-01-15T14:10:56.906519Z",
     "iopub.status.busy": "2024-01-15T14:10:56.906015Z",
     "iopub.status.idle": "2024-01-15T14:10:56.910096Z",
     "shell.execute_reply": "2024-01-15T14:10:56.909345Z"
    },
    "papermill": {
     "duration": 0.016861,
     "end_time": "2024-01-15T14:10:56.911940",
     "exception": false,
     "start_time": "2024-01-15T14:10:56.895079",
     "status": "completed"
    },
    "tags": []
   },
   "outputs": [],
   "source": [
    "train_labels = []\n",
    "train_samples = []"
   ]
  },
  {
   "cell_type": "markdown",
   "id": "5f9060cc",
   "metadata": {
    "papermill": {
     "duration": 0.009944,
     "end_time": "2024-01-15T14:10:56.933053",
     "exception": false,
     "start_time": "2024-01-15T14:10:56.923109",
     "status": "completed"
    },
    "tags": []
   },
   "source": [
    "### Example\n",
    "\n",
    "* In a clinical trial with 2100 participants from 13 to 100\n",
    "* Half under 65 and half 65 or older\n",
    "* 95% of the older group had side effects\n",
    "* 95% of the younger group had no side effects"
   ]
  },
  {
   "cell_type": "code",
   "execution_count": 4,
   "id": "84b78046",
   "metadata": {
    "execution": {
     "iopub.execute_input": "2024-01-15T14:10:56.954238Z",
     "iopub.status.busy": "2024-01-15T14:10:56.953916Z",
     "iopub.status.idle": "2024-01-15T14:10:56.963931Z",
     "shell.execute_reply": "2024-01-15T14:10:56.963187Z"
    },
    "papermill": {
     "duration": 0.022574,
     "end_time": "2024-01-15T14:10:56.965737",
     "exception": false,
     "start_time": "2024-01-15T14:10:56.943163",
     "status": "completed"
    },
    "tags": []
   },
   "outputs": [],
   "source": [
    "for i in range(50):\n",
    "    # ~5% of younger individuals who did experience side effect\n",
    "    random_younger = randint(13, 64)\n",
    "    train_samples.append(random_younger)\n",
    "    train_labels.append(1)\n",
    "    \n",
    "    # ~5% of older individuals who did not experience side effect\n",
    "    random_older = randint(65, 100)\n",
    "    train_samples.append(random_older)\n",
    "    train_labels.append(0)\n",
    "    \n",
    "for i in range(1000):\n",
    "    # ~95% of younger individuals who did not experience side effect\n",
    "    random_younger = randint(13, 64)\n",
    "    train_samples.append(random_younger)\n",
    "    train_labels.append(0)\n",
    "    \n",
    "    # ~95% of older individuals who did experience side effect\n",
    "    random_older = randint(65, 100)\n",
    "    train_samples.append(random_older)\n",
    "    train_labels.append(1)"
   ]
  },
  {
   "cell_type": "code",
   "execution_count": 5,
   "id": "b374f6f1",
   "metadata": {
    "execution": {
     "iopub.execute_input": "2024-01-15T14:10:56.987528Z",
     "iopub.status.busy": "2024-01-15T14:10:56.987251Z",
     "iopub.status.idle": "2024-01-15T14:10:56.997061Z",
     "shell.execute_reply": "2024-01-15T14:10:56.996226Z"
    },
    "papermill": {
     "duration": 0.022279,
     "end_time": "2024-01-15T14:10:56.998876",
     "exception": false,
     "start_time": "2024-01-15T14:10:56.976597",
     "status": "completed"
    },
    "tags": []
   },
   "outputs": [],
   "source": [
    "train_labels = np.array(train_labels)\n",
    "train_samples = np.array(train_samples)\n",
    "train_labels, train_samples = shuffle(train_labels, train_samples)"
   ]
  },
  {
   "cell_type": "code",
   "execution_count": 6,
   "id": "13593c4d",
   "metadata": {
    "execution": {
     "iopub.execute_input": "2024-01-15T14:10:57.019884Z",
     "iopub.status.busy": "2024-01-15T14:10:57.019625Z",
     "iopub.status.idle": "2024-01-15T14:10:57.024762Z",
     "shell.execute_reply": "2024-01-15T14:10:57.023968Z"
    },
    "papermill": {
     "duration": 0.017834,
     "end_time": "2024-01-15T14:10:57.026643",
     "exception": false,
     "start_time": "2024-01-15T14:10:57.008809",
     "status": "completed"
    },
    "tags": []
   },
   "outputs": [],
   "source": [
    "scaler = MinMaxScaler(feature_range=(0, 1))\n",
    "scaled_train_samples = scaler.fit_transform(train_samples.reshape(-1, 1))"
   ]
  },
  {
   "cell_type": "code",
   "execution_count": 7,
   "id": "0835cc1e",
   "metadata": {
    "execution": {
     "iopub.execute_input": "2024-01-15T14:10:57.047754Z",
     "iopub.status.busy": "2024-01-15T14:10:57.047481Z",
     "iopub.status.idle": "2024-01-15T14:10:57.054193Z",
     "shell.execute_reply": "2024-01-15T14:10:57.053334Z"
    },
    "papermill": {
     "duration": 0.019188,
     "end_time": "2024-01-15T14:10:57.056055",
     "exception": false,
     "start_time": "2024-01-15T14:10:57.036867",
     "status": "completed"
    },
    "tags": []
   },
   "outputs": [
    {
     "data": {
      "text/plain": [
       "array([[0.74712644],\n",
       "       [0.09195402],\n",
       "       [0.35632184],\n",
       "       ...,\n",
       "       [0.75862069],\n",
       "       [0.75862069],\n",
       "       [0.7816092 ]])"
      ]
     },
     "execution_count": 7,
     "metadata": {},
     "output_type": "execute_result"
    }
   ],
   "source": [
    "scaled_train_samples"
   ]
  },
  {
   "cell_type": "markdown",
   "id": "cf82d00f",
   "metadata": {
    "papermill": {
     "duration": 0.009936,
     "end_time": "2024-01-15T14:10:57.076151",
     "exception": false,
     "start_time": "2024-01-15T14:10:57.066215",
     "status": "completed"
    },
    "tags": []
   },
   "source": [
    "# Simple tf.keras Sequential Model"
   ]
  },
  {
   "cell_type": "markdown",
   "id": "256c5539",
   "metadata": {
    "papermill": {
     "duration": 0.009985,
     "end_time": "2024-01-15T14:10:57.096310",
     "exception": false,
     "start_time": "2024-01-15T14:10:57.086325",
     "status": "completed"
    },
    "tags": []
   },
   "source": [
    "## Notebook Imports"
   ]
  },
  {
   "cell_type": "code",
   "execution_count": 8,
   "id": "824dedd3",
   "metadata": {
    "execution": {
     "iopub.execute_input": "2024-01-15T14:10:57.117630Z",
     "iopub.status.busy": "2024-01-15T14:10:57.117357Z",
     "iopub.status.idle": "2024-01-15T14:10:57.139258Z",
     "shell.execute_reply": "2024-01-15T14:10:57.138582Z"
    },
    "papermill": {
     "duration": 0.034596,
     "end_time": "2024-01-15T14:10:57.141010",
     "exception": false,
     "start_time": "2024-01-15T14:10:57.106414",
     "status": "completed"
    },
    "tags": []
   },
   "outputs": [],
   "source": [
    "import tensorflow as tf\n",
    "from tensorflow import keras\n",
    "from tensorflow.keras.models import Sequential \n",
    "from tensorflow.keras.layers import Activation, Dense \n",
    "from tensorflow.keras.optimizers import Adam \n",
    "from tensorflow.keras.metrics import categorical_crossentropy "
   ]
  },
  {
   "cell_type": "code",
   "execution_count": 9,
   "id": "a5d5f814",
   "metadata": {
    "execution": {
     "iopub.execute_input": "2024-01-15T14:10:57.162786Z",
     "iopub.status.busy": "2024-01-15T14:10:57.162509Z",
     "iopub.status.idle": "2024-01-15T14:10:57.578490Z",
     "shell.execute_reply": "2024-01-15T14:10:57.577580Z"
    },
    "papermill": {
     "duration": 0.429131,
     "end_time": "2024-01-15T14:10:57.580527",
     "exception": false,
     "start_time": "2024-01-15T14:10:57.151396",
     "status": "completed"
    },
    "tags": []
   },
   "outputs": [
    {
     "name": "stdout",
     "output_type": "stream",
     "text": [
      "Num GPUs Available: 1\n"
     ]
    }
   ],
   "source": [
    "physical_devices = tf.config.experimental.list_physical_devices('GPU')\n",
    "print('Num GPUs Available:', len(physical_devices)) "
   ]
  },
  {
   "cell_type": "code",
   "execution_count": 10,
   "id": "ad5e9074",
   "metadata": {
    "execution": {
     "iopub.execute_input": "2024-01-15T14:10:57.602470Z",
     "iopub.status.busy": "2024-01-15T14:10:57.602177Z",
     "iopub.status.idle": "2024-01-15T14:10:58.174634Z",
     "shell.execute_reply": "2024-01-15T14:10:58.173840Z"
    },
    "papermill": {
     "duration": 0.586032,
     "end_time": "2024-01-15T14:10:58.177012",
     "exception": false,
     "start_time": "2024-01-15T14:10:57.590980",
     "status": "completed"
    },
    "tags": []
   },
   "outputs": [],
   "source": [
    "model = Sequential([\n",
    "    Dense(units=16, input_shape=(1,), activation='relu'),\n",
    "    Dense(units=32, activation='relu'),\n",
    "    Dense(units=2, activation='softmax'),\n",
    "])"
   ]
  },
  {
   "cell_type": "code",
   "execution_count": 11,
   "id": "cf1d7344",
   "metadata": {
    "execution": {
     "iopub.execute_input": "2024-01-15T14:10:58.199571Z",
     "iopub.status.busy": "2024-01-15T14:10:58.199274Z",
     "iopub.status.idle": "2024-01-15T14:10:58.216004Z",
     "shell.execute_reply": "2024-01-15T14:10:58.215139Z"
    },
    "papermill": {
     "duration": 0.034219,
     "end_time": "2024-01-15T14:10:58.221991",
     "exception": false,
     "start_time": "2024-01-15T14:10:58.187772",
     "status": "completed"
    },
    "tags": []
   },
   "outputs": [
    {
     "name": "stdout",
     "output_type": "stream",
     "text": [
      "Model: \"sequential\"\n",
      "_________________________________________________________________\n",
      " Layer (type)                Output Shape              Param #   \n",
      "=================================================================\n",
      " dense (Dense)               (None, 16)                32        \n",
      "                                                                 \n",
      " dense_1 (Dense)             (None, 32)                544       \n",
      "                                                                 \n",
      " dense_2 (Dense)             (None, 2)                 66        \n",
      "                                                                 \n",
      "=================================================================\n",
      "Total params: 642 (2.51 KB)\n",
      "Trainable params: 642 (2.51 KB)\n",
      "Non-trainable params: 0 (0.00 Byte)\n",
      "_________________________________________________________________\n"
     ]
    }
   ],
   "source": [
    "model.summary()"
   ]
  },
  {
   "cell_type": "code",
   "execution_count": 12,
   "id": "52db5848",
   "metadata": {
    "execution": {
     "iopub.execute_input": "2024-01-15T14:10:58.245938Z",
     "iopub.status.busy": "2024-01-15T14:10:58.245642Z",
     "iopub.status.idle": "2024-01-15T14:10:58.260158Z",
     "shell.execute_reply": "2024-01-15T14:10:58.259479Z"
    },
    "papermill": {
     "duration": 0.028561,
     "end_time": "2024-01-15T14:10:58.262028",
     "exception": false,
     "start_time": "2024-01-15T14:10:58.233467",
     "status": "completed"
    },
    "tags": []
   },
   "outputs": [],
   "source": [
    "model.compile(optimizer=Adam(learning_rate=0.0001), loss='sparse_categorical_crossentropy', metrics=['accuracy'])"
   ]
  },
  {
   "cell_type": "code",
   "execution_count": 13,
   "id": "dc5d8ebb",
   "metadata": {
    "execution": {
     "iopub.execute_input": "2024-01-15T14:10:58.285809Z",
     "iopub.status.busy": "2024-01-15T14:10:58.285296Z",
     "iopub.status.idle": "2024-01-15T14:11:13.461106Z",
     "shell.execute_reply": "2024-01-15T14:11:13.460177Z"
    },
    "papermill": {
     "duration": 15.189685,
     "end_time": "2024-01-15T14:11:13.462998",
     "exception": false,
     "start_time": "2024-01-15T14:10:58.273313",
     "status": "completed"
    },
    "tags": []
   },
   "outputs": [
    {
     "name": "stdout",
     "output_type": "stream",
     "text": [
      "Epoch 1/30\n",
      "189/189 - 3s - loss: 0.6663 - accuracy: 0.5455 - val_loss: 0.6516 - val_accuracy: 0.6190 - 3s/epoch - 15ms/step\n",
      "Epoch 2/30\n",
      "189/189 - 0s - loss: 0.6387 - accuracy: 0.6429 - val_loss: 0.6220 - val_accuracy: 0.7048 - 423ms/epoch - 2ms/step\n",
      "Epoch 3/30\n",
      "189/189 - 0s - loss: 0.6101 - accuracy: 0.6984 - val_loss: 0.5906 - val_accuracy: 0.7476 - 455ms/epoch - 2ms/step\n",
      "Epoch 4/30\n",
      "189/189 - 0s - loss: 0.5795 - accuracy: 0.7497 - val_loss: 0.5582 - val_accuracy: 0.7619 - 412ms/epoch - 2ms/step\n",
      "Epoch 5/30\n",
      "189/189 - 0s - loss: 0.5486 - accuracy: 0.7794 - val_loss: 0.5260 - val_accuracy: 0.8000 - 416ms/epoch - 2ms/step\n",
      "Epoch 6/30\n",
      "189/189 - 0s - loss: 0.5177 - accuracy: 0.8101 - val_loss: 0.4934 - val_accuracy: 0.8095 - 412ms/epoch - 2ms/step\n",
      "Epoch 7/30\n",
      "189/189 - 0s - loss: 0.4869 - accuracy: 0.8317 - val_loss: 0.4617 - val_accuracy: 0.8429 - 413ms/epoch - 2ms/step\n",
      "Epoch 8/30\n",
      "189/189 - 0s - loss: 0.4571 - accuracy: 0.8519 - val_loss: 0.4308 - val_accuracy: 0.8571 - 411ms/epoch - 2ms/step\n",
      "Epoch 9/30\n",
      "189/189 - 0s - loss: 0.4289 - accuracy: 0.8640 - val_loss: 0.4021 - val_accuracy: 0.9048 - 408ms/epoch - 2ms/step\n",
      "Epoch 10/30\n",
      "189/189 - 0s - loss: 0.4034 - accuracy: 0.8730 - val_loss: 0.3768 - val_accuracy: 0.9238 - 411ms/epoch - 2ms/step\n",
      "Epoch 11/30\n",
      "189/189 - 0s - loss: 0.3810 - accuracy: 0.8852 - val_loss: 0.3544 - val_accuracy: 0.9238 - 415ms/epoch - 2ms/step\n",
      "Epoch 12/30\n",
      "189/189 - 0s - loss: 0.3620 - accuracy: 0.8937 - val_loss: 0.3350 - val_accuracy: 0.9286 - 407ms/epoch - 2ms/step\n",
      "Epoch 13/30\n",
      "189/189 - 0s - loss: 0.3453 - accuracy: 0.9079 - val_loss: 0.3183 - val_accuracy: 0.9286 - 411ms/epoch - 2ms/step\n",
      "Epoch 14/30\n",
      "189/189 - 0s - loss: 0.3316 - accuracy: 0.9101 - val_loss: 0.3043 - val_accuracy: 0.9286 - 407ms/epoch - 2ms/step\n",
      "Epoch 15/30\n",
      "189/189 - 0s - loss: 0.3201 - accuracy: 0.9127 - val_loss: 0.2935 - val_accuracy: 0.9333 - 410ms/epoch - 2ms/step\n",
      "Epoch 16/30\n",
      "189/189 - 0s - loss: 0.3109 - accuracy: 0.9217 - val_loss: 0.2832 - val_accuracy: 0.9333 - 406ms/epoch - 2ms/step\n",
      "Epoch 17/30\n",
      "189/189 - 0s - loss: 0.3029 - accuracy: 0.9254 - val_loss: 0.2747 - val_accuracy: 0.9333 - 411ms/epoch - 2ms/step\n",
      "Epoch 18/30\n",
      "189/189 - 0s - loss: 0.2963 - accuracy: 0.9228 - val_loss: 0.2679 - val_accuracy: 0.9381 - 415ms/epoch - 2ms/step\n",
      "Epoch 19/30\n",
      "189/189 - 0s - loss: 0.2910 - accuracy: 0.9254 - val_loss: 0.2617 - val_accuracy: 0.9381 - 409ms/epoch - 2ms/step\n",
      "Epoch 20/30\n",
      "189/189 - 0s - loss: 0.2861 - accuracy: 0.9270 - val_loss: 0.2571 - val_accuracy: 0.9381 - 412ms/epoch - 2ms/step\n",
      "Epoch 21/30\n",
      "189/189 - 0s - loss: 0.2824 - accuracy: 0.9275 - val_loss: 0.2525 - val_accuracy: 0.9381 - 412ms/epoch - 2ms/step\n",
      "Epoch 22/30\n",
      "189/189 - 0s - loss: 0.2793 - accuracy: 0.9307 - val_loss: 0.2486 - val_accuracy: 0.9381 - 412ms/epoch - 2ms/step\n",
      "Epoch 23/30\n",
      "189/189 - 0s - loss: 0.2763 - accuracy: 0.9270 - val_loss: 0.2454 - val_accuracy: 0.9381 - 403ms/epoch - 2ms/step\n",
      "Epoch 24/30\n",
      "189/189 - 0s - loss: 0.2739 - accuracy: 0.9307 - val_loss: 0.2427 - val_accuracy: 0.9429 - 400ms/epoch - 2ms/step\n",
      "Epoch 25/30\n",
      "189/189 - 0s - loss: 0.2717 - accuracy: 0.9323 - val_loss: 0.2402 - val_accuracy: 0.9429 - 407ms/epoch - 2ms/step\n",
      "Epoch 26/30\n",
      "189/189 - 0s - loss: 0.2700 - accuracy: 0.9323 - val_loss: 0.2379 - val_accuracy: 0.9429 - 399ms/epoch - 2ms/step\n",
      "Epoch 27/30\n",
      "189/189 - 0s - loss: 0.2684 - accuracy: 0.9296 - val_loss: 0.2361 - val_accuracy: 0.9429 - 441ms/epoch - 2ms/step\n",
      "Epoch 28/30\n",
      "189/189 - 0s - loss: 0.2669 - accuracy: 0.9344 - val_loss: 0.2343 - val_accuracy: 0.9429 - 489ms/epoch - 3ms/step\n",
      "Epoch 29/30\n",
      "189/189 - 0s - loss: 0.2655 - accuracy: 0.9307 - val_loss: 0.2328 - val_accuracy: 0.9429 - 442ms/epoch - 2ms/step\n",
      "Epoch 30/30\n",
      "189/189 - 0s - loss: 0.2643 - accuracy: 0.9323 - val_loss: 0.2317 - val_accuracy: 0.9429 - 426ms/epoch - 2ms/step\n"
     ]
    },
    {
     "data": {
      "text/plain": [
       "<keras.src.callbacks.History at 0x7a1d67f94af0>"
      ]
     },
     "execution_count": 13,
     "metadata": {},
     "output_type": "execute_result"
    }
   ],
   "source": [
    "model.fit(x=scaled_train_samples, y=train_labels, validation_split=0.1, \n",
    "          batch_size=10, epochs=30, shuffle=True, verbose=2)"
   ]
  },
  {
   "cell_type": "markdown",
   "id": "9ce2ccfc",
   "metadata": {
    "papermill": {
     "duration": 0.015691,
     "end_time": "2024-01-15T14:11:13.494933",
     "exception": false,
     "start_time": "2024-01-15T14:11:13.479242",
     "status": "completed"
    },
    "tags": []
   },
   "source": [
    "## Preprocess Test Data"
   ]
  },
  {
   "cell_type": "code",
   "execution_count": 14,
   "id": "536673d8",
   "metadata": {
    "execution": {
     "iopub.execute_input": "2024-01-15T14:11:13.528035Z",
     "iopub.status.busy": "2024-01-15T14:11:13.527454Z",
     "iopub.status.idle": "2024-01-15T14:11:13.531272Z",
     "shell.execute_reply": "2024-01-15T14:11:13.530525Z"
    },
    "papermill": {
     "duration": 0.02228,
     "end_time": "2024-01-15T14:11:13.533043",
     "exception": false,
     "start_time": "2024-01-15T14:11:13.510763",
     "status": "completed"
    },
    "tags": []
   },
   "outputs": [],
   "source": [
    "test_labels = []\n",
    "test_samples = []"
   ]
  },
  {
   "cell_type": "code",
   "execution_count": 15,
   "id": "030965eb",
   "metadata": {
    "execution": {
     "iopub.execute_input": "2024-01-15T14:11:13.607833Z",
     "iopub.status.busy": "2024-01-15T14:11:13.607100Z",
     "iopub.status.idle": "2024-01-15T14:11:13.614252Z",
     "shell.execute_reply": "2024-01-15T14:11:13.613466Z"
    },
    "papermill": {
     "duration": 0.067249,
     "end_time": "2024-01-15T14:11:13.616082",
     "exception": false,
     "start_time": "2024-01-15T14:11:13.548833",
     "status": "completed"
    },
    "tags": []
   },
   "outputs": [],
   "source": [
    "for i in range(10):\n",
    "    # ~5% of younger individuals who did experience side effect\n",
    "    random_younger = randint(13, 64)\n",
    "    test_samples.append(random_younger)\n",
    "    test_labels.append(1)\n",
    "    \n",
    "    # ~5% of older individuals who did not experience side effect\n",
    "    random_older = randint(65, 100)\n",
    "    test_samples.append(random_older)\n",
    "    test_labels.append(0)\n",
    "    \n",
    "for i in range(200):\n",
    "    # ~95% of younger individuals who did not experience side effect\n",
    "    random_younger = randint(13, 64)\n",
    "    test_samples.append(random_younger)\n",
    "    test_labels.append(0)\n",
    "    \n",
    "    # ~95% of older individuals who did experience side effect\n",
    "    random_older = randint(65, 100)\n",
    "    test_samples.append(random_older)\n",
    "    test_labels.append(1)"
   ]
  },
  {
   "cell_type": "code",
   "execution_count": 16,
   "id": "4fcd99ca",
   "metadata": {
    "execution": {
     "iopub.execute_input": "2024-01-15T14:11:13.649319Z",
     "iopub.status.busy": "2024-01-15T14:11:13.648806Z",
     "iopub.status.idle": "2024-01-15T14:11:13.653170Z",
     "shell.execute_reply": "2024-01-15T14:11:13.652363Z"
    },
    "papermill": {
     "duration": 0.023043,
     "end_time": "2024-01-15T14:11:13.655051",
     "exception": false,
     "start_time": "2024-01-15T14:11:13.632008",
     "status": "completed"
    },
    "tags": []
   },
   "outputs": [],
   "source": [
    "test_labels = np.array(test_labels)\n",
    "test_samples = np.array(test_samples)\n",
    "test_labels, test_samples = shuffle(test_labels, test_samples)"
   ]
  },
  {
   "cell_type": "code",
   "execution_count": 17,
   "id": "64c82a20",
   "metadata": {
    "execution": {
     "iopub.execute_input": "2024-01-15T14:11:13.688457Z",
     "iopub.status.busy": "2024-01-15T14:11:13.687660Z",
     "iopub.status.idle": "2024-01-15T14:11:13.692759Z",
     "shell.execute_reply": "2024-01-15T14:11:13.691960Z"
    },
    "papermill": {
     "duration": 0.023573,
     "end_time": "2024-01-15T14:11:13.694582",
     "exception": false,
     "start_time": "2024-01-15T14:11:13.671009",
     "status": "completed"
    },
    "tags": []
   },
   "outputs": [],
   "source": [
    "scaler = MinMaxScaler(feature_range=(0, 1))\n",
    "scaled_test_samples = scaler.fit_transform(test_samples.reshape(-1, 1))"
   ]
  },
  {
   "cell_type": "markdown",
   "id": "9ef80386",
   "metadata": {
    "papermill": {
     "duration": 0.017061,
     "end_time": "2024-01-15T14:11:13.727569",
     "exception": false,
     "start_time": "2024-01-15T14:11:13.710508",
     "status": "completed"
    },
    "tags": []
   },
   "source": [
    "## Predict"
   ]
  },
  {
   "cell_type": "code",
   "execution_count": 18,
   "id": "039f86e2",
   "metadata": {
    "execution": {
     "iopub.execute_input": "2024-01-15T14:11:13.760468Z",
     "iopub.status.busy": "2024-01-15T14:11:13.760190Z",
     "iopub.status.idle": "2024-01-15T14:11:13.978247Z",
     "shell.execute_reply": "2024-01-15T14:11:13.976994Z"
    },
    "papermill": {
     "duration": 0.237433,
     "end_time": "2024-01-15T14:11:13.980900",
     "exception": false,
     "start_time": "2024-01-15T14:11:13.743467",
     "status": "completed"
    },
    "tags": []
   },
   "outputs": [],
   "source": [
    "predictions = model.predict(x=scaled_test_samples, batch_size=10, verbose=0)"
   ]
  },
  {
   "cell_type": "code",
   "execution_count": 19,
   "id": "a2dc8c26",
   "metadata": {
    "execution": {
     "iopub.execute_input": "2024-01-15T14:11:14.014706Z",
     "iopub.status.busy": "2024-01-15T14:11:14.014415Z",
     "iopub.status.idle": "2024-01-15T14:11:14.018477Z",
     "shell.execute_reply": "2024-01-15T14:11:14.017667Z"
    },
    "papermill": {
     "duration": 0.022846,
     "end_time": "2024-01-15T14:11:14.020342",
     "exception": false,
     "start_time": "2024-01-15T14:11:13.997496",
     "status": "completed"
    },
    "tags": []
   },
   "outputs": [],
   "source": [
    "rounded_predictions = np.argmax(predictions, axis=-1)"
   ]
  },
  {
   "cell_type": "code",
   "execution_count": 20,
   "id": "a7356aa8",
   "metadata": {
    "execution": {
     "iopub.execute_input": "2024-01-15T14:11:14.053908Z",
     "iopub.status.busy": "2024-01-15T14:11:14.053288Z",
     "iopub.status.idle": "2024-01-15T14:11:14.060247Z",
     "shell.execute_reply": "2024-01-15T14:11:14.059328Z"
    },
    "papermill": {
     "duration": 0.026087,
     "end_time": "2024-01-15T14:11:14.062350",
     "exception": false,
     "start_time": "2024-01-15T14:11:14.036263",
     "status": "completed"
    },
    "tags": []
   },
   "outputs": [
    {
     "data": {
      "text/plain": [
       "array([0, 1, 1, 0, 1, 0, 0, 1, 0, 1, 1, 1, 0, 1, 0, 0, 1, 0, 1, 1, 0, 0,\n",
       "       1, 1, 0, 0, 0, 0, 1, 1, 0, 0, 0, 0, 0, 1, 1, 1, 1, 1, 0, 0, 0, 1,\n",
       "       0, 0, 1, 1, 0, 1, 0, 1, 0, 1, 0, 1, 0, 0, 1, 0, 1, 0, 1, 0, 0, 0,\n",
       "       1, 0, 0, 0, 0, 0, 1, 1, 1, 0, 1, 1, 0, 1, 1, 0, 1, 1, 1, 0, 1, 0,\n",
       "       0, 1, 1, 0, 0, 1, 0, 1, 1, 1, 1, 1, 1, 1, 1, 1, 1, 1, 1, 0, 1, 1,\n",
       "       0, 0, 1, 1, 0, 0, 1, 0, 0, 0, 1, 0, 1, 1, 1, 0, 1, 0, 0, 0, 0, 1,\n",
       "       1, 0, 0, 1, 1, 0, 0, 0, 0, 0, 0, 0, 0, 0, 1, 1, 1, 0, 1, 1, 0, 0,\n",
       "       0, 0, 1, 1, 1, 0, 1, 1, 1, 1, 1, 1, 1, 0, 1, 0, 0, 1, 1, 1, 0, 0,\n",
       "       1, 0, 1, 0, 1, 0, 0, 0, 1, 0, 1, 0, 1, 1, 1, 1, 1, 0, 0, 1, 1, 1,\n",
       "       1, 0, 0, 0, 1, 1, 1, 0, 1, 0, 1, 0, 0, 1, 1, 0, 0, 0, 1, 0, 1, 0,\n",
       "       0, 0, 1, 1, 1, 0, 0, 0, 1, 0, 0, 0, 1, 1, 0, 0, 1, 0, 0, 1, 1, 1,\n",
       "       1, 1, 1, 1, 0, 0, 0, 0, 0, 1, 1, 1, 1, 1, 0, 1, 0, 1, 1, 0, 1, 0,\n",
       "       1, 1, 0, 0, 1, 0, 1, 1, 0, 0, 1, 0, 0, 1, 1, 1, 1, 0, 1, 1, 1, 0,\n",
       "       1, 1, 1, 0, 0, 1, 0, 1, 0, 0, 1, 0, 0, 1, 1, 1, 1, 1, 0, 1, 1, 1,\n",
       "       1, 0, 1, 0, 1, 0, 0, 1, 0, 1, 1, 0, 1, 1, 0, 1, 1, 0, 1, 1, 1, 1,\n",
       "       0, 1, 0, 0, 0, 0, 0, 0, 0, 1, 1, 1, 1, 0, 0, 0, 1, 1, 0, 1, 1, 1,\n",
       "       1, 0, 0, 0, 1, 1, 1, 0, 1, 1, 0, 0, 1, 1, 1, 0, 1, 1, 0, 0, 0, 1,\n",
       "       0, 1, 1, 0, 1, 0, 0, 1, 1, 0, 0, 0, 1, 1, 0, 1, 1, 0, 1, 0, 0, 1,\n",
       "       0, 0, 0, 0, 1, 0, 1, 1, 1, 1, 0, 0, 1, 0, 1, 1, 0, 1, 0, 0, 0, 1,\n",
       "       0, 1])"
      ]
     },
     "execution_count": 20,
     "metadata": {},
     "output_type": "execute_result"
    }
   ],
   "source": [
    "rounded_predictions"
   ]
  },
  {
   "cell_type": "markdown",
   "id": "9c81eff7",
   "metadata": {
    "papermill": {
     "duration": 0.016159,
     "end_time": "2024-01-15T14:11:14.095355",
     "exception": false,
     "start_time": "2024-01-15T14:11:14.079196",
     "status": "completed"
    },
    "tags": []
   },
   "source": [
    "## Confusion Matrix"
   ]
  },
  {
   "cell_type": "code",
   "execution_count": 21,
   "id": "b7e8806a",
   "metadata": {
    "execution": {
     "iopub.execute_input": "2024-01-15T14:11:14.128510Z",
     "iopub.status.busy": "2024-01-15T14:11:14.128232Z",
     "iopub.status.idle": "2024-01-15T14:11:14.201834Z",
     "shell.execute_reply": "2024-01-15T14:11:14.201139Z"
    },
    "papermill": {
     "duration": 0.092336,
     "end_time": "2024-01-15T14:11:14.203722",
     "exception": false,
     "start_time": "2024-01-15T14:11:14.111386",
     "status": "completed"
    },
    "tags": []
   },
   "outputs": [],
   "source": [
    "%matplotlib inline \n",
    "from sklearn.metrics import confusion_matrix\n",
    "import itertools\n",
    "import matplotlib.pyplot as plt"
   ]
  },
  {
   "cell_type": "code",
   "execution_count": 22,
   "id": "621d0043",
   "metadata": {
    "execution": {
     "iopub.execute_input": "2024-01-15T14:11:14.237759Z",
     "iopub.status.busy": "2024-01-15T14:11:14.237135Z",
     "iopub.status.idle": "2024-01-15T14:11:14.243410Z",
     "shell.execute_reply": "2024-01-15T14:11:14.242612Z"
    },
    "papermill": {
     "duration": 0.025048,
     "end_time": "2024-01-15T14:11:14.245349",
     "exception": false,
     "start_time": "2024-01-15T14:11:14.220301",
     "status": "completed"
    },
    "tags": []
   },
   "outputs": [],
   "source": [
    "cm = confusion_matrix(y_true=test_labels, y_pred=rounded_predictions)"
   ]
  },
  {
   "cell_type": "code",
   "execution_count": 23,
   "id": "616281d7",
   "metadata": {
    "execution": {
     "iopub.execute_input": "2024-01-15T14:11:14.278952Z",
     "iopub.status.busy": "2024-01-15T14:11:14.278434Z",
     "iopub.status.idle": "2024-01-15T14:11:14.286502Z",
     "shell.execute_reply": "2024-01-15T14:11:14.285753Z"
    },
    "papermill": {
     "duration": 0.02683,
     "end_time": "2024-01-15T14:11:14.288344",
     "exception": false,
     "start_time": "2024-01-15T14:11:14.261514",
     "status": "completed"
    },
    "tags": []
   },
   "outputs": [],
   "source": [
    "def plot_confusion_matrix(cm, classes, normalize=False, \n",
    "                          title=\"Confusion Matrix\", cmap=plt.cm.Blues):\n",
    "    \n",
    "    plt.imshow(cm, interpolation='nearest', cmap=cmap) \n",
    "    plt.title(title)\n",
    "    plt.colorbar()\n",
    "    \n",
    "    tick_marks = np.arange(len(classes))\n",
    "    plt.xticks(tick_marks, classes)\n",
    "    plt.yticks(tick_marks, classes)\n",
    "    \n",
    "    if normalize:\n",
    "        cm = cm.astype('float') / cm.sum(axis=1)[:, np.newaxis]\n",
    "        print(\"Normalized confusion matrix\")\n",
    "    else:\n",
    "        print(\"Confusion Matrix, without normalization\")\n",
    "        \n",
    "    print(cm)\n",
    "    \n",
    "    tresh = cm.max() / 2.\n",
    "    \n",
    "    for i, j in itertools.product(range(cm.shape[0]), range(cm.shape[1])):\n",
    "        plt.text(j, i, cm[i, j], horizontalalignment='center',\n",
    "                color='white' if cm[i, j] > tresh else \"black\")\n",
    "        \n",
    "        plt.tight_layout()\n",
    "        plt.ylabel(\"True Label\")\n",
    "        plt.xlabel(\"Predicted Label\")"
   ]
  },
  {
   "cell_type": "code",
   "execution_count": 24,
   "id": "cfef557c",
   "metadata": {
    "execution": {
     "iopub.execute_input": "2024-01-15T14:11:14.321596Z",
     "iopub.status.busy": "2024-01-15T14:11:14.321111Z",
     "iopub.status.idle": "2024-01-15T14:11:14.752823Z",
     "shell.execute_reply": "2024-01-15T14:11:14.751949Z"
    },
    "papermill": {
     "duration": 0.450406,
     "end_time": "2024-01-15T14:11:14.754754",
     "exception": false,
     "start_time": "2024-01-15T14:11:14.304348",
     "status": "completed"
    },
    "tags": []
   },
   "outputs": [
    {
     "name": "stdout",
     "output_type": "stream",
     "text": [
      "Confusion Matrix, without normalization\n",
      "[[189  21]\n",
      " [ 10 200]]\n"
     ]
    },
    {
     "data": {
      "image/png": "[encoded data removed]",
      "text/plain": [
       "<Figure size 640x480 with 2 Axes>"
      ]
     },
     "metadata": {},
     "output_type": "display_data"
    }
   ],
   "source": [
    "plot_labels = [\"no_side_effects\", \"had_side_effects\"]\n",
    "plot_confusion_matrix(cm=cm, classes=plot_labels)"
   ]
  },
  {
   "cell_type": "code",
   "execution_count": null,
   "id": "0718326f",
   "metadata": {
    "papermill": {
     "duration": 0.016527,
     "end_time": "2024-01-15T14:11:14.788432",
     "exception": false,
     "start_time": "2024-01-15T14:11:14.771905",
     "status": "completed"
    },
    "tags": []
   },
   "outputs": [],
   "source": []
  }
 ],
 "metadata": {
  "kaggle": {
   "accelerator": "gpu",
   "dataSources": [],
   "dockerImageVersionId": 30636,
   "isGpuEnabled": true,
   "isInternetEnabled": true,
   "language": "python",
   "sourceType": "notebook"
  },
  "kernelspec": {
   "display_name": "Python 3",
   "language": "python",
   "name": "python3"
  },
  "language_info": {
   "codemirror_mode": {
    "name": "ipython",
    "version": 3
   },
   "file_extension": ".py",
   "mimetype": "text/x-python",
   "name": "python",
   "nbconvert_exporter": "python",
   "pygments_lexer": "ipython3",
   "version": "3.10.12"
  },
  "papermill": {
   "default_parameters": {},
   "duration": 62.552847,
   "end_time": "2024-01-15T14:11:17.054850",
   "environment_variables": {},
   "exception": null,
   "input_path": "__notebook__.ipynb",
   "output_path": "__notebook__.ipynb",
   "parameters": {},
   "start_time": "2024-01-15T14:10:14.502003",
   "version": "2.4.0"
  }
 },
 "nbformat": 4,
 "nbformat_minor": 5
}
