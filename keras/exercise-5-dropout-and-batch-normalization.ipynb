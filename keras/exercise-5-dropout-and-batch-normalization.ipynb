{
 "cells": [
  {
   "cell_type": "markdown",
   "id": "c97a800d",
   "metadata": {
    "papermill": {
     "duration": 0.006539,
     "end_time": "2024-01-29T08:17:56.273887",
     "exception": false,
     "start_time": "2024-01-29T08:17:56.267348",
     "status": "completed"
    },
    "tags": []
   },
   "source": [
    "**This notebook is an exercise in the [Intro to Deep Learning](https://www.kaggle.com/learn/intro-to-deep-learning) course.  You can reference the tutorial at [this link](https://www.kaggle.com/ryanholbrook/dropout-and-batch-normalization).**\n",
    "\n",
    "---\n"
   ]
  },
  {
   "cell_type": "markdown",
   "id": "54f42f22",
   "metadata": {
    "papermill": {
     "duration": 0.00572,
     "end_time": "2024-01-29T08:17:56.285737",
     "exception": false,
     "start_time": "2024-01-29T08:17:56.280017",
     "status": "completed"
    },
    "tags": []
   },
   "source": [
    "# Introduction #\n",
    "\n",
    "In this exercise, you'll add dropout to the *Spotify* model from Exercise 4 and see how batch normalization can let you successfully train models on difficult datasets.\n",
    "\n",
    "Run the next cell to get started!"
   ]
  },
  {
   "cell_type": "code",
   "execution_count": 1,
   "id": "38072da7",
   "metadata": {
    "execution": {
     "iopub.execute_input": "2024-01-29T08:17:56.299715Z",
     "iopub.status.busy": "2024-01-29T08:17:56.298707Z",
     "iopub.status.idle": "2024-01-29T08:17:56.999553Z",
     "shell.execute_reply": "2024-01-29T08:17:56.998259Z"
    },
    "papermill": {
     "duration": 0.71081,
     "end_time": "2024-01-29T08:17:57.002461",
     "exception": false,
     "start_time": "2024-01-29T08:17:56.291651",
     "status": "completed"
    },
    "tags": []
   },
   "outputs": [
    {
     "name": "stderr",
     "output_type": "stream",
     "text": [
      "/tmp/ipykernel_27/195640296.py:3: MatplotlibDeprecationWarning: The seaborn styles shipped by Matplotlib are deprecated since 3.6, as they no longer correspond to the styles shipped by seaborn. However, they will remain available as 'seaborn-v0_8-<style>'. Alternatively, directly use the seaborn API instead.\n",
      "  plt.style.use('seaborn-whitegrid')\n"
     ]
    }
   ],
   "source": [
    "# Setup plotting\n",
    "import matplotlib.pyplot as plt\n",
    "plt.style.use('seaborn-whitegrid')\n",
    "# Set Matplotlib defaults\n",
    "plt.rc('figure', autolayout=True)\n",
    "plt.rc('axes', labelweight='bold', labelsize='large',\n",
    "       titleweight='bold', titlesize=18, titlepad=10)\n",
    "plt.rc('animation', html='html5')\n",
    "\n",
    "# Setup feedback system\n",
    "from learntools.core import binder\n",
    "binder.bind(globals())\n",
    "from learntools.deep_learning_intro.ex5 import *"
   ]
  },
  {
   "cell_type": "markdown",
   "id": "465dcf4b",
   "metadata": {
    "papermill": {
     "duration": 0.00598,
     "end_time": "2024-01-29T08:17:57.014785",
     "exception": false,
     "start_time": "2024-01-29T08:17:57.008805",
     "status": "completed"
    },
    "tags": []
   },
   "source": [
    "First load the *Spotify* dataset."
   ]
  },
  {
   "cell_type": "code",
   "execution_count": 2,
   "id": "1be6672a",
   "metadata": {
    "execution": {
     "iopub.execute_input": "2024-01-29T08:17:57.029492Z",
     "iopub.status.busy": "2024-01-29T08:17:57.029059Z",
     "iopub.status.idle": "2024-01-29T08:18:09.162681Z",
     "shell.execute_reply": "2024-01-29T08:18:09.161628Z"
    },
    "papermill": {
     "duration": 12.143445,
     "end_time": "2024-01-29T08:18:09.164793",
     "exception": false,
     "start_time": "2024-01-29T08:17:57.021348",
     "status": "completed"
    },
    "tags": []
   },
   "outputs": [
    {
     "name": "stderr",
     "output_type": "stream",
     "text": [
      "/opt/conda/lib/python3.10/site-packages/scipy/__init__.py:146: UserWarning: A NumPy version >=1.16.5 and <1.23.0 is required for this version of SciPy (detected version 1.24.3\n",
      "  warnings.warn(f\"A NumPy version >={np_minversion} and <{np_maxversion}\"\n"
     ]
    },
    {
     "name": "stdout",
     "output_type": "stream",
     "text": [
      "Input shape: [18]\n"
     ]
    }
   ],
   "source": [
    "import pandas as pd\n",
    "from sklearn.preprocessing import StandardScaler, OneHotEncoder\n",
    "from sklearn.compose import make_column_transformer\n",
    "from sklearn.model_selection import GroupShuffleSplit\n",
    "\n",
    "from tensorflow import keras\n",
    "from tensorflow.keras import layers\n",
    "from tensorflow.keras import callbacks\n",
    "\n",
    "spotify = pd.read_csv('../input/dl-course-data/spotify.csv')\n",
    "\n",
    "X = spotify.copy().dropna()\n",
    "y = X.pop('track_popularity')\n",
    "artists = X['track_artist']\n",
    "\n",
    "features_num = ['danceability', 'energy', 'key', 'loudness', 'mode',\n",
    "                'speechiness', 'acousticness', 'instrumentalness',\n",
    "                'liveness', 'valence', 'tempo', 'duration_ms']\n",
    "features_cat = ['playlist_genre']\n",
    "\n",
    "preprocessor = make_column_transformer(\n",
    "    (StandardScaler(), features_num),\n",
    "    (OneHotEncoder(), features_cat),\n",
    ")\n",
    "\n",
    "def group_split(X, y, group, train_size=0.75):\n",
    "    splitter = GroupShuffleSplit(train_size=train_size)\n",
    "    train, test = next(splitter.split(X, y, groups=group))\n",
    "    return (X.iloc[train], X.iloc[test], y.iloc[train], y.iloc[test])\n",
    "\n",
    "X_train, X_valid, y_train, y_valid = group_split(X, y, artists)\n",
    "\n",
    "X_train = preprocessor.fit_transform(X_train)\n",
    "X_valid = preprocessor.transform(X_valid)\n",
    "y_train = y_train / 100\n",
    "y_valid = y_valid / 100\n",
    "\n",
    "input_shape = [X_train.shape[1]]\n",
    "print(\"Input shape: {}\".format(input_shape))"
   ]
  },
  {
   "cell_type": "markdown",
   "id": "7bae77e4",
   "metadata": {
    "papermill": {
     "duration": 0.006066,
     "end_time": "2024-01-29T08:18:09.177358",
     "exception": false,
     "start_time": "2024-01-29T08:18:09.171292",
     "status": "completed"
    },
    "tags": []
   },
   "source": [
    "# 1) Add Dropout to Spotify Model\n",
    "\n",
    "Here is the last model from Exercise 4. Add two dropout layers, one after the `Dense` layer with 128 units, and one after the `Dense` layer with 64 units. Set the dropout rate on both to `0.3`."
   ]
  },
  {
   "cell_type": "code",
   "execution_count": 3,
   "id": "6241ea2e",
   "metadata": {
    "execution": {
     "iopub.execute_input": "2024-01-29T08:18:09.190737Z",
     "iopub.status.busy": "2024-01-29T08:18:09.190464Z",
     "iopub.status.idle": "2024-01-29T08:18:10.099885Z",
     "shell.execute_reply": "2024-01-29T08:18:10.098782Z"
    },
    "lines_to_next_cell": 2,
    "papermill": {
     "duration": 0.919288,
     "end_time": "2024-01-29T08:18:10.102746",
     "exception": false,
     "start_time": "2024-01-29T08:18:09.183458",
     "status": "completed"
    },
    "tags": []
   },
   "outputs": [
    {
     "data": {
      "application/javascript": [
       "parent.postMessage({\"jupyterEvent\": \"custom.exercise_interaction\", \"data\": {\"outcomeType\": 1, \"valueTowardsCompletion\": 0.25, \"interactionType\": 1, \"questionType\": 2, \"questionId\": \"1_Q1\", \"learnToolsVersion\": \"0.3.4\", \"failureMessage\": \"\", \"exceptionClass\": \"\", \"trace\": \"\"}}, \"*\")"
      ],
      "text/plain": [
       "<IPython.core.display.Javascript object>"
      ]
     },
     "metadata": {},
     "output_type": "display_data"
    },
    {
     "data": {
      "text/markdown": [
       "<span style=\"color:#33cc33\">Correct</span>"
      ],
      "text/plain": [
       "Correct"
      ]
     },
     "metadata": {},
     "output_type": "display_data"
    }
   ],
   "source": [
    "# YOUR CODE HERE: Add two 30% dropout layers, one after 128 and one after 64\n",
    "model = keras.Sequential([\n",
    "    layers.Dense(128, activation='relu', input_shape=input_shape),\n",
    "    layers.Dropout(0.3),\n",
    "    layers.Dense(64, activation='relu'),\n",
    "    layers.Dropout(0.3),\n",
    "    layers.Dense(1)\n",
    "])\n",
    "\n",
    "# Check your answer\n",
    "q_1.check()"
   ]
  },
  {
   "cell_type": "code",
   "execution_count": 4,
   "id": "ecbda79f",
   "metadata": {
    "execution": {
     "iopub.execute_input": "2024-01-29T08:18:10.122978Z",
     "iopub.status.busy": "2024-01-29T08:18:10.122656Z",
     "iopub.status.idle": "2024-01-29T08:18:10.126585Z",
     "shell.execute_reply": "2024-01-29T08:18:10.125688Z"
    },
    "papermill": {
     "duration": 0.016697,
     "end_time": "2024-01-29T08:18:10.128532",
     "exception": false,
     "start_time": "2024-01-29T08:18:10.111835",
     "status": "completed"
    },
    "tags": []
   },
   "outputs": [],
   "source": [
    "# Lines below will give you a hint or solution code\n",
    "#q_1.hint()\n",
    "#q_1.solution()"
   ]
  },
  {
   "cell_type": "markdown",
   "id": "967c4559",
   "metadata": {
    "papermill": {
     "duration": 0.006237,
     "end_time": "2024-01-29T08:18:10.141517",
     "exception": false,
     "start_time": "2024-01-29T08:18:10.135280",
     "status": "completed"
    },
    "tags": []
   },
   "source": [
    "Now run this next cell to train the model see the effect of adding dropout."
   ]
  },
  {
   "cell_type": "code",
   "execution_count": 5,
   "id": "c6236048",
   "metadata": {
    "execution": {
     "iopub.execute_input": "2024-01-29T08:18:10.155628Z",
     "iopub.status.busy": "2024-01-29T08:18:10.155065Z",
     "iopub.status.idle": "2024-01-29T08:18:20.734733Z",
     "shell.execute_reply": "2024-01-29T08:18:20.733798Z"
    },
    "papermill": {
     "duration": 10.588946,
     "end_time": "2024-01-29T08:18:20.736791",
     "exception": false,
     "start_time": "2024-01-29T08:18:10.147845",
     "status": "completed"
    },
    "tags": []
   },
   "outputs": [
    {
     "name": "stdout",
     "output_type": "stream",
     "text": [
      "Minimum Validation Loss: 0.1912\n"
     ]
    },
    {
     "data": {
      "image/png": "[encoded data removed]",
      "text/plain": [
       "<Figure size 640x480 with 1 Axes>"
      ]
     },
     "metadata": {},
     "output_type": "display_data"
    }
   ],
   "source": [
    "model.compile(\n",
    "    optimizer='adam',\n",
    "    loss='mae',\n",
    ")\n",
    "history = model.fit(\n",
    "    X_train, y_train,\n",
    "    validation_data=(X_valid, y_valid),\n",
    "    batch_size=512,\n",
    "    epochs=50,\n",
    "    verbose=0,\n",
    ")\n",
    "history_df = pd.DataFrame(history.history)\n",
    "history_df.loc[:, ['loss', 'val_loss']].plot()\n",
    "print(\"Minimum Validation Loss: {:0.4f}\".format(history_df['val_loss'].min()))"
   ]
  },
  {
   "cell_type": "markdown",
   "id": "232cae7f",
   "metadata": {
    "papermill": {
     "duration": 0.006836,
     "end_time": "2024-01-29T08:18:20.750894",
     "exception": false,
     "start_time": "2024-01-29T08:18:20.744058",
     "status": "completed"
    },
    "tags": []
   },
   "source": [
    "# 2) Evaluate Dropout\n",
    "\n",
    "Recall from Exercise 4 that this model tended to overfit the data around epoch 5. Did adding dropout seem to help prevent overfitting this time?"
   ]
  },
  {
   "cell_type": "code",
   "execution_count": 6,
   "id": "98b66b20",
   "metadata": {
    "execution": {
     "iopub.execute_input": "2024-01-29T08:18:20.766891Z",
     "iopub.status.busy": "2024-01-29T08:18:20.766606Z",
     "iopub.status.idle": "2024-01-29T08:18:20.773899Z",
     "shell.execute_reply": "2024-01-29T08:18:20.773031Z"
    },
    "papermill": {
     "duration": 0.017132,
     "end_time": "2024-01-29T08:18:20.775848",
     "exception": false,
     "start_time": "2024-01-29T08:18:20.758716",
     "status": "completed"
    },
    "tags": []
   },
   "outputs": [
    {
     "data": {
      "application/javascript": [
       "parent.postMessage({\"jupyterEvent\": \"custom.exercise_interaction\", \"data\": {\"outcomeType\": 1, \"valueTowardsCompletion\": 0.25, \"interactionType\": 1, \"questionType\": 4, \"questionId\": \"2_Q2\", \"learnToolsVersion\": \"0.3.4\", \"failureMessage\": \"\", \"exceptionClass\": \"\", \"trace\": \"\"}}, \"*\")"
      ],
      "text/plain": [
       "<IPython.core.display.Javascript object>"
      ]
     },
     "metadata": {},
     "output_type": "display_data"
    },
    {
     "data": {
      "text/markdown": [
       "<span style=\"color:#33cc33\">Correct:</span> \n",
       "\n",
       "\n",
       "From the learning curves, you can see that the validation loss remains near a constant minimum even though the training loss continues to decrease. So we can see that adding dropout did prevent overfitting this time. Moreover, by making it harder for the network to fit spurious patterns, dropout may have encouraged the network to seek out more of the true patterns, possibly improving the validation loss some as well).\n"
      ],
      "text/plain": [
       "Correct: \n",
       "\n",
       "\n",
       "From the learning curves, you can see that the validation loss remains near a constant minimum even though the training loss continues to decrease. So we can see that adding dropout did prevent overfitting this time. Moreover, by making it harder for the network to fit spurious patterns, dropout may have encouraged the network to seek out more of the true patterns, possibly improving the validation loss some as well)."
      ]
     },
     "metadata": {},
     "output_type": "display_data"
    }
   ],
   "source": [
    "# View the solution (Run this cell to receive credit!)\n",
    "q_2.check()"
   ]
  },
  {
   "cell_type": "markdown",
   "id": "90aa7b94",
   "metadata": {
    "papermill": {
     "duration": 0.006975,
     "end_time": "2024-01-29T08:18:20.789994",
     "exception": false,
     "start_time": "2024-01-29T08:18:20.783019",
     "status": "completed"
    },
    "tags": []
   },
   "source": [
    "Now, we'll switch topics to explore how batch normalization can fix problems in training.\n",
    "\n",
    "Load the *Concrete* dataset. We won't do any standardization this time. This will make the effect of batch normalization much more apparent."
   ]
  },
  {
   "cell_type": "code",
   "execution_count": 7,
   "id": "cd2d1eed",
   "metadata": {
    "execution": {
     "iopub.execute_input": "2024-01-29T08:18:20.805735Z",
     "iopub.status.busy": "2024-01-29T08:18:20.805458Z",
     "iopub.status.idle": "2024-01-29T08:18:20.828525Z",
     "shell.execute_reply": "2024-01-29T08:18:20.827831Z"
    },
    "papermill": {
     "duration": 0.033096,
     "end_time": "2024-01-29T08:18:20.830342",
     "exception": false,
     "start_time": "2024-01-29T08:18:20.797246",
     "status": "completed"
    },
    "tags": []
   },
   "outputs": [],
   "source": [
    "import pandas as pd\n",
    "\n",
    "concrete = pd.read_csv('../input/dl-course-data/concrete.csv')\n",
    "df = concrete.copy()\n",
    "\n",
    "df_train = df.sample(frac=0.7, random_state=0)\n",
    "df_valid = df.drop(df_train.index)\n",
    "\n",
    "X_train = df_train.drop('CompressiveStrength', axis=1)\n",
    "X_valid = df_valid.drop('CompressiveStrength', axis=1)\n",
    "y_train = df_train['CompressiveStrength']\n",
    "y_valid = df_valid['CompressiveStrength']\n",
    "\n",
    "input_shape = [X_train.shape[1]]"
   ]
  },
  {
   "cell_type": "markdown",
   "id": "7b3b8684",
   "metadata": {
    "papermill": {
     "duration": 0.007004,
     "end_time": "2024-01-29T08:18:20.844586",
     "exception": false,
     "start_time": "2024-01-29T08:18:20.837582",
     "status": "completed"
    },
    "tags": []
   },
   "source": [
    "Run the following cell to train the network on the unstandardized *Concrete* data."
   ]
  },
  {
   "cell_type": "code",
   "execution_count": 8,
   "id": "fb30a213",
   "metadata": {
    "execution": {
     "iopub.execute_input": "2024-01-29T08:18:20.860326Z",
     "iopub.status.busy": "2024-01-29T08:18:20.860048Z",
     "iopub.status.idle": "2024-01-29T08:18:28.732884Z",
     "shell.execute_reply": "2024-01-29T08:18:28.731941Z"
    },
    "papermill": {
     "duration": 7.883074,
     "end_time": "2024-01-29T08:18:28.735040",
     "exception": false,
     "start_time": "2024-01-29T08:18:20.851966",
     "status": "completed"
    },
    "tags": []
   },
   "outputs": [
    {
     "name": "stdout",
     "output_type": "stream",
     "text": [
      "Minimum Validation Loss: nan\n"
     ]
    },
    {
     "data": {
      "image/png": "[encoded data removed]",
      "text/plain": [
       "<Figure size 640x480 with 1 Axes>"
      ]
     },
     "metadata": {},
     "output_type": "display_data"
    }
   ],
   "source": [
    "model = keras.Sequential([\n",
    "    layers.Dense(512, activation='relu', input_shape=input_shape),\n",
    "    layers.Dense(512, activation='relu'),    \n",
    "    layers.Dense(512, activation='relu'),\n",
    "    layers.Dense(1),\n",
    "])\n",
    "model.compile(\n",
    "    optimizer='sgd', # SGD is more sensitive to differences of scale\n",
    "    loss='mae',\n",
    "    metrics=['mae'],\n",
    ")\n",
    "history = model.fit(\n",
    "    X_train, y_train,\n",
    "    validation_data=(X_valid, y_valid),\n",
    "    batch_size=64,\n",
    "    epochs=100,\n",
    "    verbose=0,\n",
    ")\n",
    "\n",
    "history_df = pd.DataFrame(history.history)\n",
    "history_df.loc[0:, ['loss', 'val_loss']].plot()\n",
    "print((\"Minimum Validation Loss: {:0.4f}\").format(history_df['val_loss'].min()))"
   ]
  },
  {
   "cell_type": "markdown",
   "id": "bd00d5ba",
   "metadata": {
    "papermill": {
     "duration": 0.007647,
     "end_time": "2024-01-29T08:18:28.750731",
     "exception": false,
     "start_time": "2024-01-29T08:18:28.743084",
     "status": "completed"
    },
    "tags": []
   },
   "source": [
    "Did you end up with a blank graph? Trying to train this network on this dataset will usually fail. Even when it does converge (due to a lucky weight initialization), it tends to converge to a very large number.\n",
    "\n",
    "# 3) Add Batch Normalization Layers\n",
    "\n",
    "Batch normalization can help correct problems like this.\n",
    "\n",
    "Add four `BatchNormalization` layers, one before each of the dense layers. (Remember to move the `input_shape` argument to the new first layer.)"
   ]
  },
  {
   "cell_type": "code",
   "execution_count": 9,
   "id": "108b16fc",
   "metadata": {
    "execution": {
     "iopub.execute_input": "2024-01-29T08:18:28.767444Z",
     "iopub.status.busy": "2024-01-29T08:18:28.767107Z",
     "iopub.status.idle": "2024-01-29T08:18:28.791439Z",
     "shell.execute_reply": "2024-01-29T08:18:28.790570Z"
    },
    "lines_to_next_cell": 0,
    "papermill": {
     "duration": 0.034729,
     "end_time": "2024-01-29T08:18:28.793324",
     "exception": false,
     "start_time": "2024-01-29T08:18:28.758595",
     "status": "completed"
    },
    "tags": []
   },
   "outputs": [
    {
     "data": {
      "application/javascript": [
       "parent.postMessage({\"jupyterEvent\": \"custom.exercise_interaction\", \"data\": {\"outcomeType\": 1, \"valueTowardsCompletion\": 0.25, \"interactionType\": 1, \"questionType\": 2, \"questionId\": \"3_Q3\", \"learnToolsVersion\": \"0.3.4\", \"failureMessage\": \"\", \"exceptionClass\": \"\", \"trace\": \"\"}}, \"*\")"
      ],
      "text/plain": [
       "<IPython.core.display.Javascript object>"
      ]
     },
     "metadata": {},
     "output_type": "display_data"
    },
    {
     "data": {
      "text/markdown": [
       "<span style=\"color:#33cc33\">Correct</span>"
      ],
      "text/plain": [
       "Correct"
      ]
     },
     "metadata": {},
     "output_type": "display_data"
    }
   ],
   "source": [
    "# YOUR CODE HERE: Add a BatchNormalization layer before each Dense layer\n",
    "model = keras.Sequential([\n",
    "    layers.BatchNormalization(),\n",
    "    layers.Dense(512, activation='relu', input_shape=input_shape),\n",
    "    layers.BatchNormalization(),\n",
    "    layers.Dense(512, activation='relu'),\n",
    "    layers.BatchNormalization(),\n",
    "    layers.Dense(512, activation='relu'),\n",
    "    layers.BatchNormalization(),\n",
    "    layers.Dense(1),\n",
    "])\n",
    "\n",
    "# Check your answer\n",
    "q_3.check()"
   ]
  },
  {
   "cell_type": "code",
   "execution_count": 10,
   "id": "a9139836",
   "metadata": {
    "execution": {
     "iopub.execute_input": "2024-01-29T08:18:28.810610Z",
     "iopub.status.busy": "2024-01-29T08:18:28.810329Z",
     "iopub.status.idle": "2024-01-29T08:18:28.813959Z",
     "shell.execute_reply": "2024-01-29T08:18:28.813093Z"
    },
    "papermill": {
     "duration": 0.014435,
     "end_time": "2024-01-29T08:18:28.815824",
     "exception": false,
     "start_time": "2024-01-29T08:18:28.801389",
     "status": "completed"
    },
    "tags": []
   },
   "outputs": [],
   "source": [
    "# Lines below will give you a hint or solution code\n",
    "#q_3.hint()\n",
    "#q_3.solution()"
   ]
  },
  {
   "cell_type": "markdown",
   "id": "237c14ac",
   "metadata": {
    "papermill": {
     "duration": 0.007753,
     "end_time": "2024-01-29T08:18:28.831688",
     "exception": false,
     "start_time": "2024-01-29T08:18:28.823935",
     "status": "completed"
    },
    "tags": []
   },
   "source": [
    "Run the next cell to see if batch normalization will let us train the model."
   ]
  },
  {
   "cell_type": "code",
   "execution_count": 11,
   "id": "0c54f346",
   "metadata": {
    "execution": {
     "iopub.execute_input": "2024-01-29T08:18:28.848690Z",
     "iopub.status.busy": "2024-01-29T08:18:28.848439Z",
     "iopub.status.idle": "2024-01-29T08:18:39.440931Z",
     "shell.execute_reply": "2024-01-29T08:18:39.440014Z"
    },
    "papermill": {
     "duration": 10.603382,
     "end_time": "2024-01-29T08:18:39.443043",
     "exception": false,
     "start_time": "2024-01-29T08:18:28.839661",
     "status": "completed"
    },
    "tags": []
   },
   "outputs": [
    {
     "name": "stdout",
     "output_type": "stream",
     "text": [
      "Minimum Validation Loss: 3.8869\n"
     ]
    },
    {
     "data": {
      "image/png": "[encoded data removed]",
      "text/plain": [
       "<Figure size 640x480 with 1 Axes>"
      ]
     },
     "metadata": {},
     "output_type": "display_data"
    }
   ],
   "source": [
    "model.compile(\n",
    "    optimizer='sgd',\n",
    "    loss='mae',\n",
    "    metrics=['mae'],\n",
    ")\n",
    "EPOCHS = 100\n",
    "history = model.fit(\n",
    "    X_train, y_train,\n",
    "    validation_data=(X_valid, y_valid),\n",
    "    batch_size=64,\n",
    "    epochs=EPOCHS,\n",
    "    verbose=0,\n",
    ")\n",
    "\n",
    "history_df = pd.DataFrame(history.history)\n",
    "history_df.loc[0:, ['loss', 'val_loss']].plot()\n",
    "print((\"Minimum Validation Loss: {:0.4f}\").format(history_df['val_loss'].min()))"
   ]
  },
  {
   "cell_type": "markdown",
   "id": "bcda7ec2",
   "metadata": {
    "papermill": {
     "duration": 0.008816,
     "end_time": "2024-01-29T08:18:39.460768",
     "exception": false,
     "start_time": "2024-01-29T08:18:39.451952",
     "status": "completed"
    },
    "tags": []
   },
   "source": [
    "# 4) Evaluate Batch Normalization\n",
    "\n",
    "Did adding batch normalization help?"
   ]
  },
  {
   "cell_type": "code",
   "execution_count": 12,
   "id": "bd796988",
   "metadata": {
    "execution": {
     "iopub.execute_input": "2024-01-29T08:18:39.479686Z",
     "iopub.status.busy": "2024-01-29T08:18:39.479368Z",
     "iopub.status.idle": "2024-01-29T08:18:39.486760Z",
     "shell.execute_reply": "2024-01-29T08:18:39.485816Z"
    },
    "lines_to_next_cell": 0,
    "papermill": {
     "duration": 0.019257,
     "end_time": "2024-01-29T08:18:39.488742",
     "exception": false,
     "start_time": "2024-01-29T08:18:39.469485",
     "status": "completed"
    },
    "tags": []
   },
   "outputs": [
    {
     "data": {
      "application/javascript": [
       "parent.postMessage({\"jupyterEvent\": \"custom.exercise_interaction\", \"data\": {\"outcomeType\": 1, \"valueTowardsCompletion\": 0.25, \"interactionType\": 1, \"questionType\": 4, \"questionId\": \"4_Q4\", \"learnToolsVersion\": \"0.3.4\", \"failureMessage\": \"\", \"exceptionClass\": \"\", \"trace\": \"\"}}, \"*\")"
      ],
      "text/plain": [
       "<IPython.core.display.Javascript object>"
      ]
     },
     "metadata": {},
     "output_type": "display_data"
    },
    {
     "data": {
      "text/markdown": [
       "<span style=\"color:#33cc33\">Correct:</span> \n",
       "\n",
       "\n",
       "You can see that adding batch normalization was a big improvement on the first attempt! By adaptively scaling the data as it passes through the network, batch normalization can let you train models on difficult datasets.\n"
      ],
      "text/plain": [
       "Correct: \n",
       "\n",
       "\n",
       "You can see that adding batch normalization was a big improvement on the first attempt! By adaptively scaling the data as it passes through the network, batch normalization can let you train models on difficult datasets."
      ]
     },
     "metadata": {},
     "output_type": "display_data"
    }
   ],
   "source": [
    "# View the solution (Run this cell to receive credit!)\n",
    "q_4.check()"
   ]
  },
  {
   "cell_type": "markdown",
   "id": "667c992a",
   "metadata": {
    "papermill": {
     "duration": 0.008681,
     "end_time": "2024-01-29T08:18:39.506318",
     "exception": false,
     "start_time": "2024-01-29T08:18:39.497637",
     "status": "completed"
    },
    "tags": []
   },
   "source": [
    "# Keep Going #\n",
    "\n",
    "[**Create neural networks**](https://www.kaggle.com/ryanholbrook/binary-classification) for binary classification."
   ]
  },
  {
   "cell_type": "markdown",
   "id": "0b20d40e",
   "metadata": {
    "papermill": {
     "duration": 0.008698,
     "end_time": "2024-01-29T08:18:39.523778",
     "exception": false,
     "start_time": "2024-01-29T08:18:39.515080",
     "status": "completed"
    },
    "tags": []
   },
   "source": [
    "---\n",
    "\n",
    "\n",
    "\n",
    "\n",
    "*Have questions or comments? Visit the [course discussion forum](https://www.kaggle.com/learn/intro-to-deep-learning/discussion) to chat with other learners.*"
   ]
  }
 ],
 "metadata": {
  "jupytext": {
   "cell_metadata_filter": "-all",
   "formats": "ipynb"
  },
  "kaggle": {
   "accelerator": "gpu",
   "dataSources": [
    {
     "datasetId": 829369,
     "sourceId": 1480608,
     "sourceType": "datasetVersion"
    }
   ],
   "isGpuEnabled": true,
   "isInternetEnabled": false,
   "language": "python",
   "sourceType": "notebook"
  },
  "kernelspec": {
   "display_name": "Python 3",
   "language": "python",
   "name": "python3"
  },
  "language_info": {
   "codemirror_mode": {
    "name": "ipython",
    "version": 3
   },
   "file_extension": ".py",
   "mimetype": "text/x-python",
   "name": "python",
   "nbconvert_exporter": "python",
   "pygments_lexer": "ipython3",
   "version": "3.10.12"
  },
  "papermill": {
   "default_parameters": {},
   "duration": 49.506502,
   "end_time": "2024-01-29T08:18:42.461475",
   "environment_variables": {},
   "exception": null,
   "input_path": "__notebook__.ipynb",
   "output_path": "__notebook__.ipynb",
   "parameters": {},
   "start_time": "2024-01-29T08:17:52.954973",
   "version": "2.4.0"
  }
 },
 "nbformat": 4,
 "nbformat_minor": 5
}
