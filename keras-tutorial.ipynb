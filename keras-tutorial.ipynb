{
 "cells": [
  {
   "cell_type": "markdown",
   "id": "467165bf",
   "metadata": {
    "papermill": {
     "duration": 0.016257,
     "end_time": "2024-01-19T14:28:40.536594",
     "exception": false,
     "start_time": "2024-01-19T14:28:40.520337",
     "status": "completed"
    },
    "tags": []
   },
   "source": [
    "# Introduction to Keras"
   ]
  },
  {
   "cell_type": "code",
   "execution_count": 1,
   "id": "220e3d44",
   "metadata": {
    "collapsed": true,
    "execution": {
     "iopub.execute_input": "2024-01-19T14:28:40.569030Z",
     "iopub.status.busy": "2024-01-19T14:28:40.568622Z",
     "iopub.status.idle": "2024-01-19T14:29:08.762551Z",
     "shell.execute_reply": "2024-01-19T14:29:08.761046Z"
    },
    "jupyter": {
     "outputs_hidden": true
    },
    "papermill": {
     "duration": 28.21349,
     "end_time": "2024-01-19T14:29:08.765411",
     "exception": false,
     "start_time": "2024-01-19T14:28:40.551921",
     "status": "completed"
    },
    "scrolled": true,
    "tags": []
   },
   "outputs": [],
   "source": [
    "%%capture --no-display\n",
    "!pip install keras --upgrade\n",
    "!pip install tensorflow"
   ]
  },
  {
   "cell_type": "markdown",
   "id": "6bed1ad0",
   "metadata": {
    "papermill": {
     "duration": 0.01831,
     "end_time": "2024-01-19T14:29:08.801545",
     "exception": false,
     "start_time": "2024-01-19T14:29:08.783235",
     "status": "completed"
    },
    "tags": []
   },
   "source": [
    "## Notebook Imports"
   ]
  },
  {
   "cell_type": "code",
   "execution_count": 2,
   "id": "3cff151c",
   "metadata": {
    "execution": {
     "iopub.execute_input": "2024-01-19T14:29:08.837977Z",
     "iopub.status.busy": "2024-01-19T14:29:08.837572Z",
     "iopub.status.idle": "2024-01-19T14:29:21.173628Z",
     "shell.execute_reply": "2024-01-19T14:29:21.172823Z"
    },
    "papermill": {
     "duration": 12.357197,
     "end_time": "2024-01-19T14:29:21.176028",
     "exception": false,
     "start_time": "2024-01-19T14:29:08.818831",
     "status": "completed"
    },
    "tags": []
   },
   "outputs": [
    {
     "name": "stderr",
     "output_type": "stream",
     "text": [
      "/opt/conda/lib/python3.10/site-packages/scipy/__init__.py:146: UserWarning: A NumPy version >=1.16.5 and <1.23.0 is required for this version of SciPy (detected version 1.24.3\n",
      "  warnings.warn(f\"A NumPy version >={np_minversion} and <{np_maxversion}\"\n"
     ]
    }
   ],
   "source": [
    "from keras import models\n",
    "from keras import layers\n",
    "import numpy as np\n",
    "from random import randint\n",
    "from sklearn.utils import shuffle \n",
    "from sklearn.preprocessing import MinMaxScaler"
   ]
  },
  {
   "cell_type": "code",
   "execution_count": 3,
   "id": "4d27cece",
   "metadata": {
    "execution": {
     "iopub.execute_input": "2024-01-19T14:29:21.208923Z",
     "iopub.status.busy": "2024-01-19T14:29:21.208366Z",
     "iopub.status.idle": "2024-01-19T14:29:21.212809Z",
     "shell.execute_reply": "2024-01-19T14:29:21.211916Z"
    },
    "papermill": {
     "duration": 0.022778,
     "end_time": "2024-01-19T14:29:21.214681",
     "exception": false,
     "start_time": "2024-01-19T14:29:21.191903",
     "status": "completed"
    },
    "tags": []
   },
   "outputs": [],
   "source": [
    "train_labels = []\n",
    "train_samples = []"
   ]
  },
  {
   "cell_type": "markdown",
   "id": "a86e4558",
   "metadata": {
    "papermill": {
     "duration": 0.015083,
     "end_time": "2024-01-19T14:29:21.245041",
     "exception": false,
     "start_time": "2024-01-19T14:29:21.229958",
     "status": "completed"
    },
    "tags": []
   },
   "source": [
    "### Example\n",
    "\n",
    "* In a clinical trial with 2100 participants from 13 to 100\n",
    "* Half under 65 and half 65 or older\n",
    "* 95% of the older group had side effects\n",
    "* 95% of the younger group had no side effects"
   ]
  },
  {
   "cell_type": "code",
   "execution_count": 4,
   "id": "fa551ef2",
   "metadata": {
    "execution": {
     "iopub.execute_input": "2024-01-19T14:29:21.277199Z",
     "iopub.status.busy": "2024-01-19T14:29:21.276896Z",
     "iopub.status.idle": "2024-01-19T14:29:21.287205Z",
     "shell.execute_reply": "2024-01-19T14:29:21.286334Z"
    },
    "papermill": {
     "duration": 0.028703,
     "end_time": "2024-01-19T14:29:21.289050",
     "exception": false,
     "start_time": "2024-01-19T14:29:21.260347",
     "status": "completed"
    },
    "tags": []
   },
   "outputs": [],
   "source": [
    "for i in range(50):\n",
    "    # ~5% of younger individuals who did experience side effect\n",
    "    random_younger = randint(13, 64)\n",
    "    train_samples.append(random_younger)\n",
    "    train_labels.append(1)\n",
    "    \n",
    "    # ~5% of older individuals who did not experience side effect\n",
    "    random_older = randint(65, 100)\n",
    "    train_samples.append(random_older)\n",
    "    train_labels.append(0)\n",
    "    \n",
    "for i in range(1000):\n",
    "    # ~95% of younger individuals who did not experience side effect\n",
    "    random_younger = randint(13, 64)\n",
    "    train_samples.append(random_younger)\n",
    "    train_labels.append(0)\n",
    "    \n",
    "    # ~95% of older individuals who did experience side effect\n",
    "    random_older = randint(65, 100)\n",
    "    train_samples.append(random_older)\n",
    "    train_labels.append(1)"
   ]
  },
  {
   "cell_type": "code",
   "execution_count": 5,
   "id": "c079a78b",
   "metadata": {
    "execution": {
     "iopub.execute_input": "2024-01-19T14:29:21.321379Z",
     "iopub.status.busy": "2024-01-19T14:29:21.320737Z",
     "iopub.status.idle": "2024-01-19T14:29:21.327584Z",
     "shell.execute_reply": "2024-01-19T14:29:21.326736Z"
    },
    "papermill": {
     "duration": 0.025071,
     "end_time": "2024-01-19T14:29:21.329426",
     "exception": false,
     "start_time": "2024-01-19T14:29:21.304355",
     "status": "completed"
    },
    "tags": []
   },
   "outputs": [],
   "source": [
    "train_labels = np.array(train_labels)\n",
    "train_samples = np.array(train_samples)\n",
    "train_labels, train_samples = shuffle(train_labels, train_samples)"
   ]
  },
  {
   "cell_type": "code",
   "execution_count": 6,
   "id": "5332f3c2",
   "metadata": {
    "execution": {
     "iopub.execute_input": "2024-01-19T14:29:21.362947Z",
     "iopub.status.busy": "2024-01-19T14:29:21.362093Z",
     "iopub.status.idle": "2024-01-19T14:29:21.368053Z",
     "shell.execute_reply": "2024-01-19T14:29:21.367137Z"
    },
    "papermill": {
     "duration": 0.025297,
     "end_time": "2024-01-19T14:29:21.370596",
     "exception": false,
     "start_time": "2024-01-19T14:29:21.345299",
     "status": "completed"
    },
    "tags": []
   },
   "outputs": [],
   "source": [
    "scaler = MinMaxScaler(feature_range=(0, 1))\n",
    "scaled_train_samples = scaler.fit_transform(train_samples.reshape(-1, 1))"
   ]
  },
  {
   "cell_type": "code",
   "execution_count": 7,
   "id": "e4c8ccaa",
   "metadata": {
    "execution": {
     "iopub.execute_input": "2024-01-19T14:29:21.450468Z",
     "iopub.status.busy": "2024-01-19T14:29:21.450036Z",
     "iopub.status.idle": "2024-01-19T14:29:21.457496Z",
     "shell.execute_reply": "2024-01-19T14:29:21.456639Z"
    },
    "papermill": {
     "duration": 0.027586,
     "end_time": "2024-01-19T14:29:21.459626",
     "exception": false,
     "start_time": "2024-01-19T14:29:21.432040",
     "status": "completed"
    },
    "tags": []
   },
   "outputs": [
    {
     "data": {
      "text/plain": [
       "array([[0.06896552],\n",
       "       [0.29885057],\n",
       "       [0.5862069 ],\n",
       "       ...,\n",
       "       [1.        ],\n",
       "       [0.43678161],\n",
       "       [0.90804598]])"
      ]
     },
     "execution_count": 7,
     "metadata": {},
     "output_type": "execute_result"
    }
   ],
   "source": [
    "scaled_train_samples"
   ]
  },
  {
   "cell_type": "markdown",
   "id": "e5348041",
   "metadata": {
    "papermill": {
     "duration": 0.015822,
     "end_time": "2024-01-19T14:29:21.491253",
     "exception": false,
     "start_time": "2024-01-19T14:29:21.475431",
     "status": "completed"
    },
    "tags": []
   },
   "source": [
    "### Simple tf.keras Sequential Model"
   ]
  },
  {
   "cell_type": "markdown",
   "id": "155f7431",
   "metadata": {
    "papermill": {
     "duration": 0.015455,
     "end_time": "2024-01-19T14:29:21.522241",
     "exception": false,
     "start_time": "2024-01-19T14:29:21.506786",
     "status": "completed"
    },
    "tags": []
   },
   "source": [
    "### Notebook Imports"
   ]
  },
  {
   "cell_type": "code",
   "execution_count": 8,
   "id": "66bd864c",
   "metadata": {
    "execution": {
     "iopub.execute_input": "2024-01-19T14:29:21.554240Z",
     "iopub.status.busy": "2024-01-19T14:29:21.553950Z",
     "iopub.status.idle": "2024-01-19T14:29:21.577055Z",
     "shell.execute_reply": "2024-01-19T14:29:21.576360Z"
    },
    "papermill": {
     "duration": 0.041913,
     "end_time": "2024-01-19T14:29:21.579271",
     "exception": false,
     "start_time": "2024-01-19T14:29:21.537358",
     "status": "completed"
    },
    "tags": []
   },
   "outputs": [],
   "source": [
    "import tensorflow as tf\n",
    "from tensorflow import keras\n",
    "from tensorflow.keras.models import Sequential \n",
    "from tensorflow.keras.layers import Activation, Dense \n",
    "from tensorflow.keras.optimizers import Adam \n",
    "from tensorflow.keras.metrics import categorical_crossentropy "
   ]
  },
  {
   "cell_type": "code",
   "execution_count": 9,
   "id": "55d85121",
   "metadata": {
    "execution": {
     "iopub.execute_input": "2024-01-19T14:29:21.611457Z",
     "iopub.status.busy": "2024-01-19T14:29:21.611173Z",
     "iopub.status.idle": "2024-01-19T14:29:22.035872Z",
     "shell.execute_reply": "2024-01-19T14:29:22.034944Z"
    },
    "papermill": {
     "duration": 0.443203,
     "end_time": "2024-01-19T14:29:22.037997",
     "exception": false,
     "start_time": "2024-01-19T14:29:21.594794",
     "status": "completed"
    },
    "tags": []
   },
   "outputs": [
    {
     "name": "stdout",
     "output_type": "stream",
     "text": [
      "Num GPUs Available: 1\n"
     ]
    }
   ],
   "source": [
    "physical_devices = tf.config.experimental.list_physical_devices('GPU')\n",
    "print('Num GPUs Available:', len(physical_devices)) "
   ]
  },
  {
   "cell_type": "code",
   "execution_count": 10,
   "id": "cb49541e",
   "metadata": {
    "execution": {
     "iopub.execute_input": "2024-01-19T14:29:22.071024Z",
     "iopub.status.busy": "2024-01-19T14:29:22.070671Z",
     "iopub.status.idle": "2024-01-19T14:29:22.653516Z",
     "shell.execute_reply": "2024-01-19T14:29:22.652628Z"
    },
    "papermill": {
     "duration": 0.601825,
     "end_time": "2024-01-19T14:29:22.655842",
     "exception": false,
     "start_time": "2024-01-19T14:29:22.054017",
     "status": "completed"
    },
    "tags": []
   },
   "outputs": [],
   "source": [
    "model = Sequential([\n",
    "    Dense(units=16, input_shape=(1,), activation='relu'),\n",
    "    Dense(units=32, activation='relu'),\n",
    "    Dense(units=2, activation='softmax'),\n",
    "])"
   ]
  },
  {
   "cell_type": "code",
   "execution_count": 11,
   "id": "2100e259",
   "metadata": {
    "execution": {
     "iopub.execute_input": "2024-01-19T14:29:22.689607Z",
     "iopub.status.busy": "2024-01-19T14:29:22.689290Z",
     "iopub.status.idle": "2024-01-19T14:29:22.707457Z",
     "shell.execute_reply": "2024-01-19T14:29:22.706522Z"
    },
    "papermill": {
     "duration": 0.040699,
     "end_time": "2024-01-19T14:29:22.712660",
     "exception": false,
     "start_time": "2024-01-19T14:29:22.671961",
     "status": "completed"
    },
    "tags": []
   },
   "outputs": [
    {
     "name": "stdout",
     "output_type": "stream",
     "text": [
      "Model: \"sequential\"\n",
      "_________________________________________________________________\n",
      " Layer (type)                Output Shape              Param #   \n",
      "=================================================================\n",
      " dense (Dense)               (None, 16)                32        \n",
      "                                                                 \n",
      " dense_1 (Dense)             (None, 32)                544       \n",
      "                                                                 \n",
      " dense_2 (Dense)             (None, 2)                 66        \n",
      "                                                                 \n",
      "=================================================================\n",
      "Total params: 642 (2.51 KB)\n",
      "Trainable params: 642 (2.51 KB)\n",
      "Non-trainable params: 0 (0.00 Byte)\n",
      "_________________________________________________________________\n"
     ]
    }
   ],
   "source": [
    "model.summary()"
   ]
  },
  {
   "cell_type": "code",
   "execution_count": 12,
   "id": "c921bb49",
   "metadata": {
    "execution": {
     "iopub.execute_input": "2024-01-19T14:29:22.747765Z",
     "iopub.status.busy": "2024-01-19T14:29:22.747455Z",
     "iopub.status.idle": "2024-01-19T14:29:22.762831Z",
     "shell.execute_reply": "2024-01-19T14:29:22.762144Z"
    },
    "papermill": {
     "duration": 0.035254,
     "end_time": "2024-01-19T14:29:22.764804",
     "exception": false,
     "start_time": "2024-01-19T14:29:22.729550",
     "status": "completed"
    },
    "tags": []
   },
   "outputs": [],
   "source": [
    "model.compile(optimizer=Adam(learning_rate=0.0001), loss='sparse_categorical_crossentropy', metrics=['accuracy'])"
   ]
  },
  {
   "cell_type": "code",
   "execution_count": 13,
   "id": "a6c2f09c",
   "metadata": {
    "execution": {
     "iopub.execute_input": "2024-01-19T14:29:22.800354Z",
     "iopub.status.busy": "2024-01-19T14:29:22.800036Z",
     "iopub.status.idle": "2024-01-19T14:29:38.415611Z",
     "shell.execute_reply": "2024-01-19T14:29:38.414740Z"
    },
    "papermill": {
     "duration": 15.635959,
     "end_time": "2024-01-19T14:29:38.417691",
     "exception": false,
     "start_time": "2024-01-19T14:29:22.781732",
     "status": "completed"
    },
    "tags": []
   },
   "outputs": [
    {
     "name": "stdout",
     "output_type": "stream",
     "text": [
      "Epoch 1/30\n",
      "189/189 - 3s - loss: 0.6695 - accuracy: 0.5312 - val_loss: 0.6526 - val_accuracy: 0.5810 - 3s/epoch - 16ms/step\n",
      "Epoch 2/30\n",
      "189/189 - 0s - loss: 0.6468 - accuracy: 0.6048 - val_loss: 0.6225 - val_accuracy: 0.6762 - 437ms/epoch - 2ms/step\n",
      "Epoch 3/30\n",
      "189/189 - 0s - loss: 0.6156 - accuracy: 0.6862 - val_loss: 0.5938 - val_accuracy: 0.7524 - 426ms/epoch - 2ms/step\n",
      "Epoch 4/30\n",
      "189/189 - 0s - loss: 0.5875 - accuracy: 0.7392 - val_loss: 0.5657 - val_accuracy: 0.7857 - 423ms/epoch - 2ms/step\n",
      "Epoch 5/30\n",
      "189/189 - 0s - loss: 0.5585 - accuracy: 0.7762 - val_loss: 0.5375 - val_accuracy: 0.8095 - 433ms/epoch - 2ms/step\n",
      "Epoch 6/30\n",
      "189/189 - 0s - loss: 0.5290 - accuracy: 0.8111 - val_loss: 0.5085 - val_accuracy: 0.8190 - 428ms/epoch - 2ms/step\n",
      "Epoch 7/30\n",
      "189/189 - 0s - loss: 0.4992 - accuracy: 0.8302 - val_loss: 0.4810 - val_accuracy: 0.8286 - 431ms/epoch - 2ms/step\n",
      "Epoch 8/30\n",
      "189/189 - 0s - loss: 0.4701 - accuracy: 0.8561 - val_loss: 0.4543 - val_accuracy: 0.8333 - 424ms/epoch - 2ms/step\n",
      "Epoch 9/30\n",
      "189/189 - 0s - loss: 0.4425 - accuracy: 0.8640 - val_loss: 0.4303 - val_accuracy: 0.8714 - 426ms/epoch - 2ms/step\n",
      "Epoch 10/30\n",
      "189/189 - 0s - loss: 0.4172 - accuracy: 0.8847 - val_loss: 0.4075 - val_accuracy: 0.8714 - 427ms/epoch - 2ms/step\n",
      "Epoch 11/30\n",
      "189/189 - 0s - loss: 0.3941 - accuracy: 0.8984 - val_loss: 0.3878 - val_accuracy: 0.8714 - 442ms/epoch - 2ms/step\n",
      "Epoch 12/30\n",
      "189/189 - 0s - loss: 0.3738 - accuracy: 0.8974 - val_loss: 0.3706 - val_accuracy: 0.8714 - 425ms/epoch - 2ms/step\n",
      "Epoch 13/30\n",
      "189/189 - 0s - loss: 0.3559 - accuracy: 0.9074 - val_loss: 0.3555 - val_accuracy: 0.8857 - 425ms/epoch - 2ms/step\n",
      "Epoch 14/30\n",
      "189/189 - 0s - loss: 0.3407 - accuracy: 0.9101 - val_loss: 0.3434 - val_accuracy: 0.8905 - 418ms/epoch - 2ms/step\n",
      "Epoch 15/30\n",
      "189/189 - 0s - loss: 0.3277 - accuracy: 0.9196 - val_loss: 0.3327 - val_accuracy: 0.8905 - 424ms/epoch - 2ms/step\n",
      "Epoch 16/30\n",
      "189/189 - 0s - loss: 0.3168 - accuracy: 0.9201 - val_loss: 0.3245 - val_accuracy: 0.9000 - 415ms/epoch - 2ms/step\n",
      "Epoch 17/30\n",
      "189/189 - 0s - loss: 0.3078 - accuracy: 0.9238 - val_loss: 0.3174 - val_accuracy: 0.9000 - 423ms/epoch - 2ms/step\n",
      "Epoch 18/30\n",
      "189/189 - 0s - loss: 0.3000 - accuracy: 0.9280 - val_loss: 0.3117 - val_accuracy: 0.9000 - 421ms/epoch - 2ms/step\n",
      "Epoch 19/30\n",
      "189/189 - 0s - loss: 0.2935 - accuracy: 0.9280 - val_loss: 0.3069 - val_accuracy: 0.9000 - 428ms/epoch - 2ms/step\n",
      "Epoch 20/30\n",
      "189/189 - 0s - loss: 0.2880 - accuracy: 0.9291 - val_loss: 0.3030 - val_accuracy: 0.9095 - 422ms/epoch - 2ms/step\n",
      "Epoch 21/30\n",
      "189/189 - 0s - loss: 0.2833 - accuracy: 0.9323 - val_loss: 0.2994 - val_accuracy: 0.9000 - 463ms/epoch - 2ms/step\n",
      "Epoch 22/30\n",
      "189/189 - 0s - loss: 0.2793 - accuracy: 0.9312 - val_loss: 0.2967 - val_accuracy: 0.9095 - 424ms/epoch - 2ms/step\n",
      "Epoch 23/30\n",
      "189/189 - 0s - loss: 0.2756 - accuracy: 0.9365 - val_loss: 0.2943 - val_accuracy: 0.9000 - 433ms/epoch - 2ms/step\n",
      "Epoch 24/30\n",
      "189/189 - 0s - loss: 0.2729 - accuracy: 0.9349 - val_loss: 0.2922 - val_accuracy: 0.9095 - 426ms/epoch - 2ms/step\n",
      "Epoch 25/30\n",
      "189/189 - 0s - loss: 0.2702 - accuracy: 0.9365 - val_loss: 0.2905 - val_accuracy: 0.9095 - 418ms/epoch - 2ms/step\n",
      "Epoch 26/30\n",
      "189/189 - 0s - loss: 0.2680 - accuracy: 0.9349 - val_loss: 0.2890 - val_accuracy: 0.9095 - 421ms/epoch - 2ms/step\n",
      "Epoch 27/30\n",
      "189/189 - 0s - loss: 0.2658 - accuracy: 0.9370 - val_loss: 0.2877 - val_accuracy: 0.9095 - 415ms/epoch - 2ms/step\n",
      "Epoch 28/30\n",
      "189/189 - 0s - loss: 0.2641 - accuracy: 0.9381 - val_loss: 0.2865 - val_accuracy: 0.9095 - 429ms/epoch - 2ms/step\n",
      "Epoch 29/30\n",
      "189/189 - 0s - loss: 0.2625 - accuracy: 0.9370 - val_loss: 0.2855 - val_accuracy: 0.9095 - 432ms/epoch - 2ms/step\n",
      "Epoch 30/30\n",
      "189/189 - 0s - loss: 0.2610 - accuracy: 0.9397 - val_loss: 0.2845 - val_accuracy: 0.9095 - 417ms/epoch - 2ms/step\n"
     ]
    },
    {
     "data": {
      "text/plain": [
       "<keras.src.callbacks.History at 0x7fe8fc0f0bb0>"
      ]
     },
     "execution_count": 13,
     "metadata": {},
     "output_type": "execute_result"
    }
   ],
   "source": [
    "model.fit(x=scaled_train_samples, y=train_labels, validation_split=0.1, \n",
    "          batch_size=10, epochs=30, shuffle=True, verbose=2)"
   ]
  },
  {
   "cell_type": "markdown",
   "id": "3bc0b4a5",
   "metadata": {
    "papermill": {
     "duration": 0.021334,
     "end_time": "2024-01-19T14:29:38.461499",
     "exception": false,
     "start_time": "2024-01-19T14:29:38.440165",
     "status": "completed"
    },
    "tags": []
   },
   "source": [
    "## Preprocess Test Data"
   ]
  },
  {
   "cell_type": "code",
   "execution_count": 14,
   "id": "04808595",
   "metadata": {
    "execution": {
     "iopub.execute_input": "2024-01-19T14:29:38.506430Z",
     "iopub.status.busy": "2024-01-19T14:29:38.506074Z",
     "iopub.status.idle": "2024-01-19T14:29:38.510470Z",
     "shell.execute_reply": "2024-01-19T14:29:38.509514Z"
    },
    "papermill": {
     "duration": 0.029613,
     "end_time": "2024-01-19T14:29:38.512751",
     "exception": false,
     "start_time": "2024-01-19T14:29:38.483138",
     "status": "completed"
    },
    "tags": []
   },
   "outputs": [],
   "source": [
    "test_labels = []\n",
    "test_samples = []"
   ]
  },
  {
   "cell_type": "code",
   "execution_count": 15,
   "id": "46c2b88a",
   "metadata": {
    "execution": {
     "iopub.execute_input": "2024-01-19T14:29:38.560577Z",
     "iopub.status.busy": "2024-01-19T14:29:38.560198Z",
     "iopub.status.idle": "2024-01-19T14:29:38.567934Z",
     "shell.execute_reply": "2024-01-19T14:29:38.566966Z"
    },
    "papermill": {
     "duration": 0.033715,
     "end_time": "2024-01-19T14:29:38.569905",
     "exception": false,
     "start_time": "2024-01-19T14:29:38.536190",
     "status": "completed"
    },
    "tags": []
   },
   "outputs": [],
   "source": [
    "for i in range(10):\n",
    "    # ~5% of younger individuals who did experience side effect\n",
    "    random_younger = randint(13, 64)\n",
    "    test_samples.append(random_younger)\n",
    "    test_labels.append(1)\n",
    "    \n",
    "    # ~5% of older individuals who did not experience side effect\n",
    "    random_older = randint(65, 100)\n",
    "    test_samples.append(random_older)\n",
    "    test_labels.append(0)\n",
    "    \n",
    "for i in range(200):\n",
    "    # ~95% of younger individuals who did not experience side effect\n",
    "    random_younger = randint(13, 64)\n",
    "    test_samples.append(random_younger)\n",
    "    test_labels.append(0)\n",
    "    \n",
    "    # ~95% of older individuals who did experience side effect\n",
    "    random_older = randint(65, 100)\n",
    "    test_samples.append(random_older)\n",
    "    test_labels.append(1)"
   ]
  },
  {
   "cell_type": "code",
   "execution_count": 16,
   "id": "c967b5e9",
   "metadata": {
    "execution": {
     "iopub.execute_input": "2024-01-19T14:29:38.615591Z",
     "iopub.status.busy": "2024-01-19T14:29:38.615251Z",
     "iopub.status.idle": "2024-01-19T14:29:38.620170Z",
     "shell.execute_reply": "2024-01-19T14:29:38.619385Z"
    },
    "papermill": {
     "duration": 0.029921,
     "end_time": "2024-01-19T14:29:38.622071",
     "exception": false,
     "start_time": "2024-01-19T14:29:38.592150",
     "status": "completed"
    },
    "tags": []
   },
   "outputs": [],
   "source": [
    "test_labels = np.array(test_labels)\n",
    "test_samples = np.array(test_samples)\n",
    "test_labels, test_samples = shuffle(test_labels, test_samples)"
   ]
  },
  {
   "cell_type": "code",
   "execution_count": 17,
   "id": "bb8447d7",
   "metadata": {
    "execution": {
     "iopub.execute_input": "2024-01-19T14:29:38.666613Z",
     "iopub.status.busy": "2024-01-19T14:29:38.665837Z",
     "iopub.status.idle": "2024-01-19T14:29:38.671171Z",
     "shell.execute_reply": "2024-01-19T14:29:38.670258Z"
    },
    "papermill": {
     "duration": 0.029735,
     "end_time": "2024-01-19T14:29:38.673075",
     "exception": false,
     "start_time": "2024-01-19T14:29:38.643340",
     "status": "completed"
    },
    "tags": []
   },
   "outputs": [],
   "source": [
    "scaler = MinMaxScaler(feature_range=(0, 1))\n",
    "scaled_test_samples = scaler.fit_transform(test_samples.reshape(-1, 1))"
   ]
  },
  {
   "cell_type": "markdown",
   "id": "374333ad",
   "metadata": {
    "papermill": {
     "duration": 0.021396,
     "end_time": "2024-01-19T14:29:38.716210",
     "exception": false,
     "start_time": "2024-01-19T14:29:38.694814",
     "status": "completed"
    },
    "tags": []
   },
   "source": [
    "## Predict"
   ]
  },
  {
   "cell_type": "code",
   "execution_count": 18,
   "id": "e8359dab",
   "metadata": {
    "execution": {
     "iopub.execute_input": "2024-01-19T14:29:38.779878Z",
     "iopub.status.busy": "2024-01-19T14:29:38.778849Z",
     "iopub.status.idle": "2024-01-19T14:29:39.047895Z",
     "shell.execute_reply": "2024-01-19T14:29:39.046907Z"
    },
    "papermill": {
     "duration": 0.306847,
     "end_time": "2024-01-19T14:29:39.050916",
     "exception": false,
     "start_time": "2024-01-19T14:29:38.744069",
     "status": "completed"
    },
    "tags": []
   },
   "outputs": [],
   "source": [
    "predictions = model.predict(x=scaled_test_samples, batch_size=10, verbose=0)"
   ]
  },
  {
   "cell_type": "code",
   "execution_count": 19,
   "id": "10401832",
   "metadata": {
    "execution": {
     "iopub.execute_input": "2024-01-19T14:29:39.105613Z",
     "iopub.status.busy": "2024-01-19T14:29:39.104665Z",
     "iopub.status.idle": "2024-01-19T14:29:39.109799Z",
     "shell.execute_reply": "2024-01-19T14:29:39.108870Z"
    },
    "papermill": {
     "duration": 0.034227,
     "end_time": "2024-01-19T14:29:39.111902",
     "exception": false,
     "start_time": "2024-01-19T14:29:39.077675",
     "status": "completed"
    },
    "tags": []
   },
   "outputs": [],
   "source": [
    "rounded_predictions = np.argmax(predictions, axis=-1)"
   ]
  },
  {
   "cell_type": "code",
   "execution_count": 20,
   "id": "aeed37e4",
   "metadata": {
    "execution": {
     "iopub.execute_input": "2024-01-19T14:29:39.161804Z",
     "iopub.status.busy": "2024-01-19T14:29:39.161414Z",
     "iopub.status.idle": "2024-01-19T14:29:39.170012Z",
     "shell.execute_reply": "2024-01-19T14:29:39.169060Z"
    },
    "papermill": {
     "duration": 0.039186,
     "end_time": "2024-01-19T14:29:39.173133",
     "exception": false,
     "start_time": "2024-01-19T14:29:39.133947",
     "status": "completed"
    },
    "tags": []
   },
   "outputs": [
    {
     "data": {
      "text/plain": [
       "array([0, 1, 0, 0, 0, 0, 1, 1, 0, 0, 1, 0, 0, 0, 0, 1, 0, 1, 1, 0, 1, 0,\n",
       "       1, 1, 1, 0, 1, 1, 0, 1, 1, 0, 1, 1, 0, 1, 0, 1, 1, 0, 1, 1, 0, 0,\n",
       "       0, 1, 0, 0, 1, 1, 1, 1, 0, 1, 1, 0, 0, 1, 1, 0, 0, 0, 0, 1, 1, 0,\n",
       "       0, 0, 0, 0, 1, 1, 0, 1, 1, 0, 1, 1, 0, 0, 0, 1, 0, 0, 0, 1, 1, 1,\n",
       "       0, 0, 0, 0, 0, 0, 1, 1, 1, 0, 0, 1, 1, 1, 0, 0, 1, 1, 1, 0, 0, 1,\n",
       "       1, 0, 0, 0, 1, 1, 0, 0, 0, 1, 1, 1, 0, 0, 0, 1, 1, 0, 1, 0, 0, 0,\n",
       "       1, 0, 1, 0, 0, 1, 0, 1, 1, 0, 1, 1, 1, 1, 1, 1, 0, 0, 0, 0, 0, 0,\n",
       "       1, 0, 1, 0, 1, 0, 1, 1, 1, 1, 1, 1, 0, 0, 1, 1, 1, 1, 0, 1, 0, 0,\n",
       "       0, 0, 0, 0, 1, 1, 0, 1, 0, 0, 0, 0, 0, 1, 1, 1, 1, 1, 1, 0, 1, 0,\n",
       "       1, 0, 0, 0, 0, 1, 1, 1, 1, 0, 0, 0, 1, 1, 0, 0, 0, 0, 1, 0, 1, 1,\n",
       "       0, 1, 1, 1, 0, 0, 1, 1, 1, 0, 0, 0, 0, 0, 0, 0, 0, 0, 1, 1, 1, 0,\n",
       "       1, 1, 0, 0, 1, 0, 1, 1, 0, 0, 1, 1, 0, 1, 1, 0, 0, 1, 0, 1, 1, 1,\n",
       "       0, 0, 1, 1, 0, 0, 1, 1, 0, 1, 1, 0, 0, 1, 1, 0, 1, 1, 0, 0, 0, 0,\n",
       "       0, 0, 0, 1, 1, 1, 0, 0, 1, 1, 1, 1, 1, 1, 0, 1, 0, 0, 0, 0, 0, 0,\n",
       "       0, 1, 0, 0, 0, 1, 0, 1, 1, 1, 1, 0, 0, 1, 0, 0, 1, 1, 1, 0, 0, 1,\n",
       "       1, 0, 1, 1, 0, 0, 0, 0, 0, 1, 0, 0, 1, 0, 0, 1, 0, 0, 1, 0, 0, 0,\n",
       "       1, 1, 1, 1, 1, 1, 1, 1, 1, 1, 1, 1, 1, 0, 1, 0, 1, 0, 0, 1, 1, 0,\n",
       "       1, 1, 1, 1, 1, 1, 1, 1, 1, 0, 0, 1, 1, 1, 1, 1, 1, 0, 1, 1, 0, 1,\n",
       "       0, 0, 0, 1, 0, 1, 1, 1, 0, 0, 0, 0, 1, 1, 0, 0, 0, 1, 0, 0, 1, 1,\n",
       "       1, 1])"
      ]
     },
     "execution_count": 20,
     "metadata": {},
     "output_type": "execute_result"
    }
   ],
   "source": [
    "rounded_predictions"
   ]
  },
  {
   "cell_type": "markdown",
   "id": "07f00388",
   "metadata": {
    "papermill": {
     "duration": 0.021981,
     "end_time": "2024-01-19T14:29:39.226100",
     "exception": false,
     "start_time": "2024-01-19T14:29:39.204119",
     "status": "completed"
    },
    "tags": []
   },
   "source": [
    "## Confusion Matrix"
   ]
  },
  {
   "cell_type": "code",
   "execution_count": 21,
   "id": "16429056",
   "metadata": {
    "execution": {
     "iopub.execute_input": "2024-01-19T14:29:39.272011Z",
     "iopub.status.busy": "2024-01-19T14:29:39.271242Z",
     "iopub.status.idle": "2024-01-19T14:29:39.350943Z",
     "shell.execute_reply": "2024-01-19T14:29:39.350073Z"
    },
    "papermill": {
     "duration": 0.105258,
     "end_time": "2024-01-19T14:29:39.353130",
     "exception": false,
     "start_time": "2024-01-19T14:29:39.247872",
     "status": "completed"
    },
    "tags": []
   },
   "outputs": [],
   "source": [
    "%matplotlib inline \n",
    "from sklearn.metrics import confusion_matrix\n",
    "import itertools\n",
    "import matplotlib.pyplot as plt"
   ]
  },
  {
   "cell_type": "code",
   "execution_count": 22,
   "id": "e8b46e25",
   "metadata": {
    "execution": {
     "iopub.execute_input": "2024-01-19T14:29:39.399733Z",
     "iopub.status.busy": "2024-01-19T14:29:39.399071Z",
     "iopub.status.idle": "2024-01-19T14:29:39.406578Z",
     "shell.execute_reply": "2024-01-19T14:29:39.405716Z"
    },
    "papermill": {
     "duration": 0.03278,
     "end_time": "2024-01-19T14:29:39.408543",
     "exception": false,
     "start_time": "2024-01-19T14:29:39.375763",
     "status": "completed"
    },
    "tags": []
   },
   "outputs": [],
   "source": [
    "cm = confusion_matrix(y_true=test_labels, y_pred=rounded_predictions)"
   ]
  },
  {
   "cell_type": "code",
   "execution_count": 23,
   "id": "2f07e98d",
   "metadata": {
    "execution": {
     "iopub.execute_input": "2024-01-19T14:29:39.453570Z",
     "iopub.status.busy": "2024-01-19T14:29:39.452852Z",
     "iopub.status.idle": "2024-01-19T14:29:39.464633Z",
     "shell.execute_reply": "2024-01-19T14:29:39.463624Z"
    },
    "papermill": {
     "duration": 0.036624,
     "end_time": "2024-01-19T14:29:39.466667",
     "exception": false,
     "start_time": "2024-01-19T14:29:39.430043",
     "status": "completed"
    },
    "tags": []
   },
   "outputs": [],
   "source": [
    "def plot_confusion_matrix(cm, classes, normalize=False, \n",
    "                          title=\"Confusion Matrix\", cmap=plt.cm.Blues):\n",
    "    \n",
    "    plt.imshow(cm, interpolation='nearest', cmap=cmap) \n",
    "    plt.title(title)\n",
    "    plt.colorbar()\n",
    "    \n",
    "    tick_marks = np.arange(len(classes))\n",
    "    plt.xticks(tick_marks, classes)\n",
    "    plt.yticks(tick_marks, classes)\n",
    "    \n",
    "    if normalize:\n",
    "        cm = cm.astype('float') / cm.sum(axis=1)[:, np.newaxis]\n",
    "        print(\"Normalized confusion matrix\")\n",
    "    else:\n",
    "        print(\"Confusion Matrix, without normalization\")\n",
    "        \n",
    "    print(cm)\n",
    "    \n",
    "    tresh = cm.max() / 2.\n",
    "    \n",
    "    for i, j in itertools.product(range(cm.shape[0]), range(cm.shape[1])):\n",
    "        plt.text(j, i, cm[i, j], horizontalalignment='center',\n",
    "                color='white' if cm[i, j] > tresh else \"black\")\n",
    "        \n",
    "        plt.tight_layout()\n",
    "        plt.ylabel(\"True Label\")\n",
    "        plt.xlabel(\"Predicted Label\")"
   ]
  },
  {
   "cell_type": "code",
   "execution_count": 24,
   "id": "80ee2f87",
   "metadata": {
    "execution": {
     "iopub.execute_input": "2024-01-19T14:29:39.513486Z",
     "iopub.status.busy": "2024-01-19T14:29:39.513227Z",
     "iopub.status.idle": "2024-01-19T14:29:39.997042Z",
     "shell.execute_reply": "2024-01-19T14:29:39.996035Z"
    },
    "papermill": {
     "duration": 0.508577,
     "end_time": "2024-01-19T14:29:39.999450",
     "exception": false,
     "start_time": "2024-01-19T14:29:39.490873",
     "status": "completed"
    },
    "tags": []
   },
   "outputs": [
    {
     "name": "stdout",
     "output_type": "stream",
     "text": [
      "Confusion Matrix, without normalization\n",
      "[[197  13]\n",
      " [ 10 200]]\n"
     ]
    },
    {
     "data": {
      "image/png": "[encoded data removed]",
      "text/plain": [
       "<Figure size 640x480 with 2 Axes>"
      ]
     },
     "metadata": {},
     "output_type": "display_data"
    }
   ],
   "source": [
    "plot_labels = [\"no_side_effects\", \"had_side_effects\"]\n",
    "plot_confusion_matrix(cm=cm, classes=plot_labels)"
   ]
  },
  {
   "cell_type": "markdown",
   "id": "f38e5fec",
   "metadata": {
    "papermill": {
     "duration": 0.022422,
     "end_time": "2024-01-19T14:29:40.045514",
     "exception": false,
     "start_time": "2024-01-19T14:29:40.023092",
     "status": "completed"
    },
    "tags": []
   },
   "source": [
    "## Save and Load a Model "
   ]
  },
  {
   "cell_type": "code",
   "execution_count": 25,
   "id": "7ce14f7e",
   "metadata": {
    "execution": {
     "iopub.execute_input": "2024-01-19T14:29:40.092081Z",
     "iopub.status.busy": "2024-01-19T14:29:40.091278Z",
     "iopub.status.idle": "2024-01-19T14:29:40.108713Z",
     "shell.execute_reply": "2024-01-19T14:29:40.107832Z"
    },
    "papermill": {
     "duration": 0.044753,
     "end_time": "2024-01-19T14:29:40.112767",
     "exception": false,
     "start_time": "2024-01-19T14:29:40.068014",
     "status": "completed"
    },
    "tags": []
   },
   "outputs": [
    {
     "name": "stdout",
     "output_type": "stream",
     "text": [
      "Model: \"sequential\"\n",
      "_________________________________________________________________\n",
      " Layer (type)                Output Shape              Param #   \n",
      "=================================================================\n",
      " dense (Dense)               (None, 16)                32        \n",
      "                                                                 \n",
      " dense_1 (Dense)             (None, 32)                544       \n",
      "                                                                 \n",
      " dense_2 (Dense)             (None, 2)                 66        \n",
      "                                                                 \n",
      "=================================================================\n",
      "Total params: 642 (2.51 KB)\n",
      "Trainable params: 642 (2.51 KB)\n",
      "Non-trainable params: 0 (0.00 Byte)\n",
      "_________________________________________________________________\n"
     ]
    }
   ],
   "source": [
    "model.summary()"
   ]
  },
  {
   "cell_type": "code",
   "execution_count": 26,
   "id": "f5680f6c",
   "metadata": {
    "execution": {
     "iopub.execute_input": "2024-01-19T14:29:40.159745Z",
     "iopub.status.busy": "2024-01-19T14:29:40.159134Z",
     "iopub.status.idle": "2024-01-19T14:29:40.189586Z",
     "shell.execute_reply": "2024-01-19T14:29:40.188684Z"
    },
    "papermill": {
     "duration": 0.056133,
     "end_time": "2024-01-19T14:29:40.191545",
     "exception": false,
     "start_time": "2024-01-19T14:29:40.135412",
     "status": "completed"
    },
    "tags": []
   },
   "outputs": [
    {
     "name": "stderr",
     "output_type": "stream",
     "text": [
      "/opt/conda/lib/python3.10/site-packages/keras/src/engine/training.py:3000: UserWarning: You are saving your model as an HDF5 file via `model.save()`. This file format is considered legacy. We recommend using instead the native Keras format, e.g. `model.save('my_model.keras')`.\n",
      "  saving_api.save_model(\n"
     ]
    }
   ],
   "source": [
    "import os.path\n",
    "\n",
    "if os.path.isfile('models/medical_trial_model.h5') is False:\n",
    "    model.save('models/medical_trial_model.h5')"
   ]
  },
  {
   "cell_type": "markdown",
   "id": "69efc949",
   "metadata": {
    "papermill": {
     "duration": 0.022973,
     "end_time": "2024-01-19T14:29:40.238055",
     "exception": false,
     "start_time": "2024-01-19T14:29:40.215082",
     "status": "completed"
    },
    "tags": []
   },
   "source": [
    "**This save function saves:**\n",
    "\n",
    "* The architecture of the model, allowing to re-create the model.\n",
    "* The weights of the model.\n",
    "* The training configuration (loss, optimizer).\n",
    "* The state of the optimizer, allowing to resume training exactly where you left off."
   ]
  },
  {
   "cell_type": "code",
   "execution_count": 27,
   "id": "7da0878b",
   "metadata": {
    "execution": {
     "iopub.execute_input": "2024-01-19T14:29:40.286646Z",
     "iopub.status.busy": "2024-01-19T14:29:40.285892Z",
     "iopub.status.idle": "2024-01-19T14:29:40.367489Z",
     "shell.execute_reply": "2024-01-19T14:29:40.366731Z"
    },
    "papermill": {
     "duration": 0.108469,
     "end_time": "2024-01-19T14:29:40.369936",
     "exception": false,
     "start_time": "2024-01-19T14:29:40.261467",
     "status": "completed"
    },
    "tags": []
   },
   "outputs": [],
   "source": [
    "from tensorflow.keras.models import load_model, model_from_json\n",
    "\n",
    "new_model = load_model('models/medical_trial_model.h5')"
   ]
  },
  {
   "cell_type": "code",
   "execution_count": 28,
   "id": "ec35910e",
   "metadata": {
    "execution": {
     "iopub.execute_input": "2024-01-19T14:29:40.422186Z",
     "iopub.status.busy": "2024-01-19T14:29:40.421465Z",
     "iopub.status.idle": "2024-01-19T14:29:40.438461Z",
     "shell.execute_reply": "2024-01-19T14:29:40.437437Z"
    },
    "papermill": {
     "duration": 0.050787,
     "end_time": "2024-01-19T14:29:40.445931",
     "exception": false,
     "start_time": "2024-01-19T14:29:40.395144",
     "status": "completed"
    },
    "tags": []
   },
   "outputs": [
    {
     "name": "stdout",
     "output_type": "stream",
     "text": [
      "Model: \"sequential\"\n",
      "_________________________________________________________________\n",
      " Layer (type)                Output Shape              Param #   \n",
      "=================================================================\n",
      " dense (Dense)               (None, 16)                32        \n",
      "                                                                 \n",
      " dense_1 (Dense)             (None, 32)                544       \n",
      "                                                                 \n",
      " dense_2 (Dense)             (None, 2)                 66        \n",
      "                                                                 \n",
      "=================================================================\n",
      "Total params: 642 (2.51 KB)\n",
      "Trainable params: 642 (2.51 KB)\n",
      "Non-trainable params: 0 (0.00 Byte)\n",
      "_________________________________________________________________\n"
     ]
    }
   ],
   "source": [
    "new_model.summary()"
   ]
  },
  {
   "cell_type": "code",
   "execution_count": 29,
   "id": "7d1f9b80",
   "metadata": {
    "execution": {
     "iopub.execute_input": "2024-01-19T14:29:40.498016Z",
     "iopub.status.busy": "2024-01-19T14:29:40.497660Z",
     "iopub.status.idle": "2024-01-19T14:29:40.501670Z",
     "shell.execute_reply": "2024-01-19T14:29:40.500759Z"
    },
    "papermill": {
     "duration": 0.033283,
     "end_time": "2024-01-19T14:29:40.503765",
     "exception": false,
     "start_time": "2024-01-19T14:29:40.470482",
     "status": "completed"
    },
    "tags": []
   },
   "outputs": [],
   "source": [
    "# new_model.get_weights()"
   ]
  },
  {
   "cell_type": "code",
   "execution_count": 30,
   "id": "61e93494",
   "metadata": {
    "execution": {
     "iopub.execute_input": "2024-01-19T14:29:40.556434Z",
     "iopub.status.busy": "2024-01-19T14:29:40.556114Z",
     "iopub.status.idle": "2024-01-19T14:29:40.561654Z",
     "shell.execute_reply": "2024-01-19T14:29:40.560830Z"
    },
    "papermill": {
     "duration": 0.032922,
     "end_time": "2024-01-19T14:29:40.563638",
     "exception": false,
     "start_time": "2024-01-19T14:29:40.530716",
     "status": "completed"
    },
    "tags": []
   },
   "outputs": [
    {
     "data": {
      "text/plain": [
       "<keras.src.optimizers.adam.Adam at 0x7fe88e3dba00>"
      ]
     },
     "execution_count": 30,
     "metadata": {},
     "output_type": "execute_result"
    }
   ],
   "source": [
    "new_model.optimizer"
   ]
  },
  {
   "cell_type": "markdown",
   "id": "14fe2715",
   "metadata": {
    "papermill": {
     "duration": 0.024785,
     "end_time": "2024-01-19T14:29:40.613265",
     "exception": false,
     "start_time": "2024-01-19T14:29:40.588480",
     "status": "completed"
    },
    "tags": []
   },
   "source": [
    "### 2. model.to_json()"
   ]
  },
  {
   "cell_type": "code",
   "execution_count": 31,
   "id": "60f25d18",
   "metadata": {
    "execution": {
     "iopub.execute_input": "2024-01-19T14:29:40.663724Z",
     "iopub.status.busy": "2024-01-19T14:29:40.663181Z",
     "iopub.status.idle": "2024-01-19T14:29:40.669564Z",
     "shell.execute_reply": "2024-01-19T14:29:40.668757Z"
    },
    "papermill": {
     "duration": 0.03348,
     "end_time": "2024-01-19T14:29:40.671444",
     "exception": false,
     "start_time": "2024-01-19T14:29:40.637964",
     "status": "completed"
    },
    "tags": []
   },
   "outputs": [
    {
     "data": {
      "text/plain": [
       "'{\"class_name\": \"Sequential\", \"config\": {\"name\": \"sequential\", \"layers\": [{\"class_name\": \"InputLayer\", \"config\": {\"batch_input_shape\": [null, 1], \"dtype\": \"float32\", \"sparse\": false, \"ragged\": false, \"name\": \"dense_input\"}}, {\"class_name\": \"Dense\", \"config\": {\"name\": \"dense\", \"trainable\": true, \"dtype\": \"float32\", \"batch_input_shape\": [null, 1], \"units\": 16, \"activation\": \"relu\", \"use_bias\": true, \"kernel_initializer\": {\"module\": \"keras.initializers\", \"class_name\": \"GlorotUniform\", \"config\": {\"seed\": null}, \"registered_name\": null}, \"bias_initializer\": {\"module\": \"keras.initializers\", \"class_name\": \"Zeros\", \"config\": {}, \"registered_name\": null}, \"kernel_regularizer\": null, \"bias_regularizer\": null, \"activity_regularizer\": null, \"kernel_constraint\": null, \"bias_constraint\": null}}, {\"class_name\": \"Dense\", \"config\": {\"name\": \"dense_1\", \"trainable\": true, \"dtype\": \"float32\", \"units\": 32, \"activation\": \"relu\", \"use_bias\": true, \"kernel_initializer\": {\"module\": \"keras.initializers\", \"class_name\": \"GlorotUniform\", \"config\": {\"seed\": null}, \"registered_name\": null}, \"bias_initializer\": {\"module\": \"keras.initializers\", \"class_name\": \"Zeros\", \"config\": {}, \"registered_name\": null}, \"kernel_regularizer\": null, \"bias_regularizer\": null, \"activity_regularizer\": null, \"kernel_constraint\": null, \"bias_constraint\": null}}, {\"class_name\": \"Dense\", \"config\": {\"name\": \"dense_2\", \"trainable\": true, \"dtype\": \"float32\", \"units\": 2, \"activation\": \"softmax\", \"use_bias\": true, \"kernel_initializer\": {\"module\": \"keras.initializers\", \"class_name\": \"GlorotUniform\", \"config\": {\"seed\": null}, \"registered_name\": null}, \"bias_initializer\": {\"module\": \"keras.initializers\", \"class_name\": \"Zeros\", \"config\": {}, \"registered_name\": null}, \"kernel_regularizer\": null, \"bias_regularizer\": null, \"activity_regularizer\": null, \"kernel_constraint\": null, \"bias_constraint\": null}}]}, \"keras_version\": \"2.13.1\", \"backend\": \"tensorflow\"}'"
      ]
     },
     "execution_count": 31,
     "metadata": {},
     "output_type": "execute_result"
    }
   ],
   "source": [
    "# save as JSON\n",
    "json_string = model.to_json()\n",
    "json_string"
   ]
  },
  {
   "cell_type": "code",
   "execution_count": 32,
   "id": "ab3fca1e",
   "metadata": {
    "execution": {
     "iopub.execute_input": "2024-01-19T14:29:40.722341Z",
     "iopub.status.busy": "2024-01-19T14:29:40.722055Z",
     "iopub.status.idle": "2024-01-19T14:29:40.776592Z",
     "shell.execute_reply": "2024-01-19T14:29:40.775637Z"
    },
    "papermill": {
     "duration": 0.085355,
     "end_time": "2024-01-19T14:29:40.781627",
     "exception": false,
     "start_time": "2024-01-19T14:29:40.696272",
     "status": "completed"
    },
    "tags": []
   },
   "outputs": [
    {
     "name": "stdout",
     "output_type": "stream",
     "text": [
      "Model: \"sequential\"\n",
      "_________________________________________________________________\n",
      " Layer (type)                Output Shape              Param #   \n",
      "=================================================================\n",
      " dense (Dense)               (None, 16)                32        \n",
      "                                                                 \n",
      " dense_1 (Dense)             (None, 32)                544       \n",
      "                                                                 \n",
      " dense_2 (Dense)             (None, 2)                 66        \n",
      "                                                                 \n",
      "=================================================================\n",
      "Total params: 642 (2.51 KB)\n",
      "Trainable params: 642 (2.51 KB)\n",
      "Non-trainable params: 0 (0.00 Byte)\n",
      "_________________________________________________________________\n"
     ]
    }
   ],
   "source": [
    "model_architecture = model_from_json(json_string)\n",
    "model_architecture.summary()"
   ]
  },
  {
   "cell_type": "markdown",
   "id": "16ab1f27",
   "metadata": {
    "papermill": {
     "duration": 0.026453,
     "end_time": "2024-01-19T14:29:40.835459",
     "exception": false,
     "start_time": "2024-01-19T14:29:40.809006",
     "status": "completed"
    },
    "tags": []
   },
   "source": [
    "# Convolutional Neural Networks"
   ]
  },
  {
   "cell_type": "code",
   "execution_count": 33,
   "id": "6dfe18be",
   "metadata": {
    "execution": {
     "iopub.execute_input": "2024-01-19T14:29:40.888614Z",
     "iopub.status.busy": "2024-01-19T14:29:40.888307Z",
     "iopub.status.idle": "2024-01-19T14:29:40.897958Z",
     "shell.execute_reply": "2024-01-19T14:29:40.897224Z"
    },
    "papermill": {
     "duration": 0.038288,
     "end_time": "2024-01-19T14:29:40.899909",
     "exception": false,
     "start_time": "2024-01-19T14:29:40.861621",
     "status": "completed"
    },
    "tags": []
   },
   "outputs": [],
   "source": [
    "import numpy as np\n",
    "import zipfile\n",
    "\n",
    "import tensorflow as tf\n",
    "from tensorflow import keras\n",
    "from tensorflow.keras.models import Sequential\n",
    "from tensorflow.keras.layers import Activation, Dense, Flatten, BatchNormalization, Conv2D, MaxPool2D\n",
    "from tensorflow.keras.optimizers import Adam\n",
    "from tensorflow.keras.metrics import categorical_crossentropy\n",
    "from tensorflow.keras.preprocessing.image import ImageDataGenerator\n",
    "\n",
    "from sklearn.metrics import confusion_matrix\n",
    "import itertools\n",
    "import os\n",
    "import shutil\n",
    "import random\n",
    "import glob\n",
    "import matplotlib.pyplot as plt\n",
    "import warnings\n",
    "\n",
    "warnings.simplefilter(action='ignore', category=FutureWarning)\n",
    "%matplotlib inline"
   ]
  },
  {
   "cell_type": "markdown",
   "id": "b38ccbf3",
   "metadata": {
    "papermill": {
     "duration": 0.026258,
     "end_time": "2024-01-19T14:29:40.953325",
     "exception": false,
     "start_time": "2024-01-19T14:29:40.927067",
     "status": "completed"
    },
    "tags": []
   },
   "source": [
    "### Unzipping Files from train.zip, test.zip"
   ]
  },
  {
   "cell_type": "code",
   "execution_count": 34,
   "id": "5a55f3d4",
   "metadata": {
    "execution": {
     "iopub.execute_input": "2024-01-19T14:29:41.006805Z",
     "iopub.status.busy": "2024-01-19T14:29:41.006436Z",
     "iopub.status.idle": "2024-01-19T14:29:41.011153Z",
     "shell.execute_reply": "2024-01-19T14:29:41.010385Z"
    },
    "papermill": {
     "duration": 0.033411,
     "end_time": "2024-01-19T14:29:41.013036",
     "exception": false,
     "start_time": "2024-01-19T14:29:40.979625",
     "status": "completed"
    },
    "tags": []
   },
   "outputs": [],
   "source": [
    "os.makedirs('/kaggle/working/train')\n",
    "os.makedirs('/kaggle/working/test')"
   ]
  },
  {
   "cell_type": "code",
   "execution_count": 35,
   "id": "ba89f013",
   "metadata": {
    "execution": {
     "iopub.execute_input": "2024-01-19T14:29:41.067053Z",
     "iopub.status.busy": "2024-01-19T14:29:41.066764Z",
     "iopub.status.idle": "2024-01-19T14:29:41.072548Z",
     "shell.execute_reply": "2024-01-19T14:29:41.071599Z"
    },
    "papermill": {
     "duration": 0.034695,
     "end_time": "2024-01-19T14:29:41.074479",
     "exception": false,
     "start_time": "2024-01-19T14:29:41.039784",
     "status": "completed"
    },
    "tags": []
   },
   "outputs": [
    {
     "name": "stdout",
     "output_type": "stream",
     "text": [
      "/kaggle/input/dogs-vs-cats\n"
     ]
    }
   ],
   "source": [
    "cd /kaggle/input/dogs-vs-cats"
   ]
  },
  {
   "cell_type": "code",
   "execution_count": 36,
   "id": "009ae4cb",
   "metadata": {
    "execution": {
     "iopub.execute_input": "2024-01-19T14:29:41.127738Z",
     "iopub.status.busy": "2024-01-19T14:29:41.127407Z",
     "iopub.status.idle": "2024-01-19T14:29:53.572434Z",
     "shell.execute_reply": "2024-01-19T14:29:53.571064Z"
    },
    "papermill": {
     "duration": 12.474667,
     "end_time": "2024-01-19T14:29:53.574947",
     "exception": false,
     "start_time": "2024-01-19T14:29:41.100280",
     "status": "completed"
    },
    "tags": []
   },
   "outputs": [],
   "source": [
    "%%capture --no-display\n",
    "!unzip /kaggle/input/dogs-vs-cats/train.zip -d /kaggle/working/train"
   ]
  },
  {
   "cell_type": "code",
   "execution_count": 37,
   "id": "e7113dd1",
   "metadata": {
    "execution": {
     "iopub.execute_input": "2024-01-19T14:29:53.631014Z",
     "iopub.status.busy": "2024-01-19T14:29:53.630279Z",
     "iopub.status.idle": "2024-01-19T14:29:53.637192Z",
     "shell.execute_reply": "2024-01-19T14:29:53.636214Z"
    },
    "papermill": {
     "duration": 0.03713,
     "end_time": "2024-01-19T14:29:53.639250",
     "exception": false,
     "start_time": "2024-01-19T14:29:53.602120",
     "status": "completed"
    },
    "tags": []
   },
   "outputs": [
    {
     "name": "stdout",
     "output_type": "stream",
     "text": [
      "/kaggle/input/dogs-vs-cats\n"
     ]
    }
   ],
   "source": [
    "cd /kaggle/input/dogs-vs-cats"
   ]
  },
  {
   "cell_type": "code",
   "execution_count": 38,
   "id": "a32ba8ae",
   "metadata": {
    "execution": {
     "iopub.execute_input": "2024-01-19T14:29:53.693732Z",
     "iopub.status.busy": "2024-01-19T14:29:53.693436Z",
     "iopub.status.idle": "2024-01-19T14:30:00.563233Z",
     "shell.execute_reply": "2024-01-19T14:30:00.561898Z"
    },
    "papermill": {
     "duration": 6.899419,
     "end_time": "2024-01-19T14:30:00.565908",
     "exception": false,
     "start_time": "2024-01-19T14:29:53.666489",
     "status": "completed"
    },
    "tags": []
   },
   "outputs": [],
   "source": [
    "%%capture --no-display\n",
    "!unzip /kaggle/input/dogs-vs-cats/test1.zip -d /kaggle/working/test"
   ]
  },
  {
   "cell_type": "markdown",
   "id": "e18cbd57",
   "metadata": {
    "papermill": {
     "duration": 0.025865,
     "end_time": "2024-01-19T14:30:00.620379",
     "exception": false,
     "start_time": "2024-01-19T14:30:00.594514",
     "status": "completed"
    },
    "tags": []
   },
   "source": [
    "### Data Preparation"
   ]
  },
  {
   "cell_type": "code",
   "execution_count": 39,
   "id": "9c91d57d",
   "metadata": {
    "execution": {
     "iopub.execute_input": "2024-01-19T14:30:00.674344Z",
     "iopub.status.busy": "2024-01-19T14:30:00.673962Z",
     "iopub.status.idle": "2024-01-19T14:30:01.103588Z",
     "shell.execute_reply": "2024-01-19T14:30:01.102746Z"
    },
    "papermill": {
     "duration": 0.459706,
     "end_time": "2024-01-19T14:30:01.106086",
     "exception": false,
     "start_time": "2024-01-19T14:30:00.646380",
     "status": "completed"
    },
    "tags": []
   },
   "outputs": [],
   "source": [
    "os.chdir('/kaggle/working/')\n",
    "\n",
    "if os.path.isdir('train_set/dog') is False:\n",
    "    os.makedirs('train_set/dog')\n",
    "    os.makedirs('train_set/cat')\n",
    "    os.makedirs('valid_set/dog')\n",
    "    os.makedirs('valid_set/cat')\n",
    "    os.makedirs('test_set/cat')\n",
    "    os.makedirs('test_set/dog')\n",
    "    \n",
    "try:\n",
    "    for c in random.sample(glob.glob('/kaggle/working/train/train/cat.*'), 500):\n",
    "        shutil.move(c, 'train_set/cat')\n",
    "    for c in random.sample(glob.glob('/kaggle/working/train/train/dog.*'), 500):\n",
    "        shutil.move(c, 'train_set/dog')\n",
    "    for c in random.sample(glob.glob('/kaggle/working/train/train/cat.*'), 100):\n",
    "        shutil.move(c, 'valid_set/cat')\n",
    "    for c in random.sample(glob.glob('/kaggle/working/train/train/dog.*'), 100):\n",
    "        shutil.move(c, 'valid_set/dog')\n",
    "    for c in random.sample(glob.glob('/kaggle/working/train/train/cat.*'), 50):\n",
    "        shutil.move(c, 'test_set/cat')\n",
    "    for c in random.sample(glob.glob('/kaggle/working/train/train/dog.*'), 50):\n",
    "        shutil.move(c, 'test_set/dog')\n",
    "\n",
    "except Exception as e:\n",
    "    print(f\"An error occurred: {e}\")\n",
    "\n",
    "os.chdir('../..')"
   ]
  },
  {
   "cell_type": "code",
   "execution_count": 40,
   "id": "75d59cff",
   "metadata": {
    "execution": {
     "iopub.execute_input": "2024-01-19T14:30:01.162373Z",
     "iopub.status.busy": "2024-01-19T14:30:01.162030Z",
     "iopub.status.idle": "2024-01-19T14:30:01.168009Z",
     "shell.execute_reply": "2024-01-19T14:30:01.167239Z"
    },
    "papermill": {
     "duration": 0.035804,
     "end_time": "2024-01-19T14:30:01.170036",
     "exception": false,
     "start_time": "2024-01-19T14:30:01.134232",
     "status": "completed"
    },
    "tags": []
   },
   "outputs": [],
   "source": [
    "def remove_folder_contents(folder):\n",
    "    for the_file in os.listdir(folder):\n",
    "        file_path = os.path.join(folder, the_file)\n",
    "        try:\n",
    "            if os.path.isfile(file_path):\n",
    "                os.unlink(file_path)\n",
    "            elif os.path.isdir(file_path):\n",
    "                remove_folder_contents(file_path)\n",
    "                os.rmdir(file_path)\n",
    "        except Exception as e:\n",
    "            print(e)"
   ]
  },
  {
   "cell_type": "code",
   "execution_count": 41,
   "id": "5d309380",
   "metadata": {
    "execution": {
     "iopub.execute_input": "2024-01-19T14:30:01.223816Z",
     "iopub.status.busy": "2024-01-19T14:30:01.223459Z",
     "iopub.status.idle": "2024-01-19T14:30:02.494897Z",
     "shell.execute_reply": "2024-01-19T14:30:02.494041Z"
    },
    "papermill": {
     "duration": 1.301197,
     "end_time": "2024-01-19T14:30:02.497494",
     "exception": false,
     "start_time": "2024-01-19T14:30:01.196297",
     "status": "completed"
    },
    "tags": []
   },
   "outputs": [],
   "source": [
    "folder_path = '/kaggle/working/train'\n",
    "remove_folder_contents(folder_path)\n",
    "os.rmdir(folder_path)\n",
    "\n",
    "folder_path = '/kaggle/working/test'\n",
    "remove_folder_contents(folder_path)\n",
    "os.rmdir(folder_path)"
   ]
  },
  {
   "cell_type": "markdown",
   "id": "a8d278eb",
   "metadata": {
    "papermill": {
     "duration": 0.02709,
     "end_time": "2024-01-19T14:30:02.552666",
     "exception": false,
     "start_time": "2024-01-19T14:30:02.525576",
     "status": "completed"
    },
    "tags": []
   },
   "source": [
    "### Constants"
   ]
  },
  {
   "cell_type": "code",
   "execution_count": 42,
   "id": "b0b82906",
   "metadata": {
    "execution": {
     "iopub.execute_input": "2024-01-19T14:30:02.607544Z",
     "iopub.status.busy": "2024-01-19T14:30:02.606639Z",
     "iopub.status.idle": "2024-01-19T14:30:02.611514Z",
     "shell.execute_reply": "2024-01-19T14:30:02.610658Z"
    },
    "papermill": {
     "duration": 0.034422,
     "end_time": "2024-01-19T14:30:02.613408",
     "exception": false,
     "start_time": "2024-01-19T14:30:02.578986",
     "status": "completed"
    },
    "tags": []
   },
   "outputs": [],
   "source": [
    "train_set = \"/kaggle/working/train_set\"\n",
    "test_set = \"/kaggle/working/test_set\"\n",
    "valid_set = \"/kaggle/working/valid_set\""
   ]
  },
  {
   "cell_type": "code",
   "execution_count": 43,
   "id": "3c90bba8",
   "metadata": {
    "execution": {
     "iopub.execute_input": "2024-01-19T14:30:02.665857Z",
     "iopub.status.busy": "2024-01-19T14:30:02.665544Z",
     "iopub.status.idle": "2024-01-19T14:30:02.718575Z",
     "shell.execute_reply": "2024-01-19T14:30:02.717885Z"
    },
    "papermill": {
     "duration": 0.081591,
     "end_time": "2024-01-19T14:30:02.720572",
     "exception": false,
     "start_time": "2024-01-19T14:30:02.638981",
     "status": "completed"
    },
    "tags": []
   },
   "outputs": [
    {
     "name": "stdout",
     "output_type": "stream",
     "text": [
      "Found 1000 images belonging to 2 classes.\n",
      "Found 100 images belonging to 2 classes.\n",
      "Found 200 images belonging to 2 classes.\n"
     ]
    }
   ],
   "source": [
    "train_batches = ImageDataGenerator(preprocessing_function=tf.keras.applications.vgg16.preprocess_input) \\\n",
    "    .flow_from_directory(directory=train_set, target_size=(224, 224), classes=['cat', 'dog'], batch_size=10)\n",
    "\n",
    "test_batches = ImageDataGenerator(preprocessing_function=tf.keras.applications.vgg16.preprocess_input) \\\n",
    "    .flow_from_directory(directory=test_set, target_size=(224, 224), classes=['cat', 'dog'], batch_size=10, shuffle=False)\n",
    "\n",
    "valid_batches = ImageDataGenerator(preprocessing_function=tf.keras.applications.vgg16.preprocess_input) \\\n",
    "    .flow_from_directory(directory=valid_set, target_size=(224, 224), classes=['cat', 'dog'], batch_size=10)"
   ]
  },
  {
   "cell_type": "code",
   "execution_count": 44,
   "id": "176d2945",
   "metadata": {
    "execution": {
     "iopub.execute_input": "2024-01-19T14:30:02.774419Z",
     "iopub.status.busy": "2024-01-19T14:30:02.774141Z",
     "iopub.status.idle": "2024-01-19T14:30:02.778935Z",
     "shell.execute_reply": "2024-01-19T14:30:02.778054Z"
    },
    "papermill": {
     "duration": 0.033579,
     "end_time": "2024-01-19T14:30:02.780761",
     "exception": false,
     "start_time": "2024-01-19T14:30:02.747182",
     "status": "completed"
    },
    "tags": []
   },
   "outputs": [],
   "source": [
    "assert train_batches.n == 1000\n",
    "assert valid_batches.n == 200\n",
    "assert test_batches.n == 100\n",
    "assert train_batches.num_classes == valid_batches.num_classes == test_batches.num_classes == 2"
   ]
  },
  {
   "cell_type": "code",
   "execution_count": 45,
   "id": "ed09cc62",
   "metadata": {
    "execution": {
     "iopub.execute_input": "2024-01-19T14:30:02.835974Z",
     "iopub.status.busy": "2024-01-19T14:30:02.835290Z",
     "iopub.status.idle": "2024-01-19T14:30:02.866239Z",
     "shell.execute_reply": "2024-01-19T14:30:02.865487Z"
    },
    "papermill": {
     "duration": 0.060464,
     "end_time": "2024-01-19T14:30:02.868206",
     "exception": false,
     "start_time": "2024-01-19T14:30:02.807742",
     "status": "completed"
    },
    "tags": []
   },
   "outputs": [],
   "source": [
    "imgs, labels = next(train_batches)"
   ]
  },
  {
   "cell_type": "code",
   "execution_count": 46,
   "id": "98b849c1",
   "metadata": {
    "execution": {
     "iopub.execute_input": "2024-01-19T14:30:02.921580Z",
     "iopub.status.busy": "2024-01-19T14:30:02.921272Z",
     "iopub.status.idle": "2024-01-19T14:30:02.926752Z",
     "shell.execute_reply": "2024-01-19T14:30:02.925852Z"
    },
    "papermill": {
     "duration": 0.034822,
     "end_time": "2024-01-19T14:30:02.928859",
     "exception": false,
     "start_time": "2024-01-19T14:30:02.894037",
     "status": "completed"
    },
    "tags": []
   },
   "outputs": [],
   "source": [
    "def plotImages(images_arr):\n",
    "    fig, axes = plt.subplots(1, 10, figsize=(20, 20))\n",
    "    axes = axes.flatten()\n",
    "    \n",
    "    for img, ax in zip(images_arr, axes):\n",
    "        ax.imshow(img)\n",
    "        ax.axis('off')\n",
    "        \n",
    "    plt.tight_layout()\n",
    "    plt.show()"
   ]
  },
  {
   "cell_type": "code",
   "execution_count": 47,
   "id": "4d5d0b0a",
   "metadata": {
    "execution": {
     "iopub.execute_input": "2024-01-19T14:30:02.983776Z",
     "iopub.status.busy": "2024-01-19T14:30:02.983452Z",
     "iopub.status.idle": "2024-01-19T14:30:03.589654Z",
     "shell.execute_reply": "2024-01-19T14:30:03.588920Z"
    },
    "papermill": {
     "duration": 0.639219,
     "end_time": "2024-01-19T14:30:03.595212",
     "exception": false,
     "start_time": "2024-01-19T14:30:02.955993",
     "status": "completed"
    },
    "tags": []
   },
   "outputs": [
    {
     "data": {
      "image/png": "[encoded data removed]",
      "text/plain": [
       "<Figure size 2000x2000 with 10 Axes>"
      ]
     },
     "metadata": {},
     "output_type": "display_data"
    },
    {
     "name": "stdout",
     "output_type": "stream",
     "text": [
      "[[0. 1.]\n",
      " [1. 0.]\n",
      " [1. 0.]\n",
      " [0. 1.]\n",
      " [0. 1.]\n",
      " [0. 1.]\n",
      " [0. 1.]\n",
      " [1. 0.]\n",
      " [0. 1.]\n",
      " [1. 0.]]\n"
     ]
    }
   ],
   "source": [
    "plotImages(imgs)\n",
    "print(labels)"
   ]
  },
  {
   "cell_type": "code",
   "execution_count": 48,
   "id": "c28bd3f0",
   "metadata": {
    "execution": {
     "iopub.execute_input": "2024-01-19T14:30:03.660684Z",
     "iopub.status.busy": "2024-01-19T14:30:03.659749Z",
     "iopub.status.idle": "2024-01-19T14:30:03.724865Z",
     "shell.execute_reply": "2024-01-19T14:30:03.723879Z"
    },
    "papermill": {
     "duration": 0.100306,
     "end_time": "2024-01-19T14:30:03.727132",
     "exception": false,
     "start_time": "2024-01-19T14:30:03.626826",
     "status": "completed"
    },
    "tags": []
   },
   "outputs": [],
   "source": [
    "model = Sequential([\n",
    "    Conv2D(filters=32, kernel_size=(3, 3), activation='relu', padding = 'same', input_shape=(224,224,3)),\n",
    "    MaxPool2D(pool_size=(2, 2), strides=2),\n",
    "    Conv2D(filters=64, kernel_size=(3, 3), activation='relu', padding = 'same'),\n",
    "    MaxPool2D(pool_size=(2, 2), strides=2),\n",
    "    Flatten(),\n",
    "    Dense(units=2, activation='softmax')\n",
    "])"
   ]
  },
  {
   "cell_type": "code",
   "execution_count": 49,
   "id": "78f00b65",
   "metadata": {
    "execution": {
     "iopub.execute_input": "2024-01-19T14:30:03.789329Z",
     "iopub.status.busy": "2024-01-19T14:30:03.789021Z",
     "iopub.status.idle": "2024-01-19T14:30:03.813954Z",
     "shell.execute_reply": "2024-01-19T14:30:03.813077Z"
    },
    "papermill": {
     "duration": 0.062829,
     "end_time": "2024-01-19T14:30:03.820718",
     "exception": false,
     "start_time": "2024-01-19T14:30:03.757889",
     "status": "completed"
    },
    "tags": []
   },
   "outputs": [
    {
     "name": "stdout",
     "output_type": "stream",
     "text": [
      "Model: \"sequential_1\"\n",
      "_________________________________________________________________\n",
      " Layer (type)                Output Shape              Param #   \n",
      "=================================================================\n",
      " conv2d (Conv2D)             (None, 224, 224, 32)      896       \n",
      "                                                                 \n",
      " max_pooling2d (MaxPooling2  (None, 112, 112, 32)      0         \n",
      " D)                                                              \n",
      "                                                                 \n",
      " conv2d_1 (Conv2D)           (None, 112, 112, 64)      18496     \n",
      "                                                                 \n",
      " max_pooling2d_1 (MaxPoolin  (None, 56, 56, 64)        0         \n",
      " g2D)                                                            \n",
      "                                                                 \n",
      " flatten (Flatten)           (None, 200704)            0         \n",
      "                                                                 \n",
      " dense_3 (Dense)             (None, 2)                 401410    \n",
      "                                                                 \n",
      "=================================================================\n",
      "Total params: 420802 (1.61 MB)\n",
      "Trainable params: 420802 (1.61 MB)\n",
      "Non-trainable params: 0 (0.00 Byte)\n",
      "_________________________________________________________________\n"
     ]
    }
   ],
   "source": [
    "model.summary()"
   ]
  },
  {
   "cell_type": "code",
   "execution_count": 50,
   "id": "0167ae78",
   "metadata": {
    "execution": {
     "iopub.execute_input": "2024-01-19T14:30:03.887170Z",
     "iopub.status.busy": "2024-01-19T14:30:03.886847Z",
     "iopub.status.idle": "2024-01-19T14:30:03.898851Z",
     "shell.execute_reply": "2024-01-19T14:30:03.897853Z"
    },
    "papermill": {
     "duration": 0.047868,
     "end_time": "2024-01-19T14:30:03.900960",
     "exception": false,
     "start_time": "2024-01-19T14:30:03.853092",
     "status": "completed"
    },
    "tags": []
   },
   "outputs": [],
   "source": [
    "model.compile(optimizer=Adam(learning_rate=0.0001), loss='categorical_crossentropy', metrics=['accuracy'])"
   ]
  },
  {
   "cell_type": "code",
   "execution_count": 51,
   "id": "7737d64e",
   "metadata": {
    "execution": {
     "iopub.execute_input": "2024-01-19T14:30:03.968853Z",
     "iopub.status.busy": "2024-01-19T14:30:03.968256Z",
     "iopub.status.idle": "2024-01-19T14:30:34.251858Z",
     "shell.execute_reply": "2024-01-19T14:30:34.250968Z"
    },
    "papermill": {
     "duration": 30.357401,
     "end_time": "2024-01-19T14:30:34.291663",
     "exception": false,
     "start_time": "2024-01-19T14:30:03.934262",
     "status": "completed"
    },
    "tags": []
   },
   "outputs": [
    {
     "name": "stdout",
     "output_type": "stream",
     "text": [
      "Epoch 1/10\n",
      "100/100 - 5s - loss: 35.2627 - accuracy: 0.5490 - val_loss: 21.4895 - val_accuracy: 0.5550 - 5s/epoch - 53ms/step\n",
      "Epoch 2/10\n",
      "100/100 - 3s - loss: 9.2936 - accuracy: 0.7230 - val_loss: 15.5004 - val_accuracy: 0.5450 - 3s/epoch - 28ms/step\n",
      "Epoch 3/10\n",
      "100/100 - 3s - loss: 4.2283 - accuracy: 0.8240 - val_loss: 17.8687 - val_accuracy: 0.5500 - 3s/epoch - 28ms/step\n",
      "Epoch 4/10\n",
      "100/100 - 3s - loss: 3.7406 - accuracy: 0.8340 - val_loss: 12.6991 - val_accuracy: 0.6150 - 3s/epoch - 28ms/step\n",
      "Epoch 5/10\n",
      "100/100 - 3s - loss: 2.6673 - accuracy: 0.8750 - val_loss: 16.5399 - val_accuracy: 0.6200 - 3s/epoch - 28ms/step\n",
      "Epoch 6/10\n",
      "100/100 - 3s - loss: 1.7146 - accuracy: 0.9090 - val_loss: 10.0960 - val_accuracy: 0.6650 - 3s/epoch - 28ms/step\n",
      "Epoch 7/10\n",
      "100/100 - 3s - loss: 0.7581 - accuracy: 0.9430 - val_loss: 9.8507 - val_accuracy: 0.6750 - 3s/epoch - 27ms/step\n",
      "Epoch 8/10\n",
      "100/100 - 3s - loss: 0.4199 - accuracy: 0.9700 - val_loss: 9.1983 - val_accuracy: 0.6600 - 3s/epoch - 27ms/step\n",
      "Epoch 9/10\n",
      "100/100 - 3s - loss: 0.1863 - accuracy: 0.9810 - val_loss: 13.1043 - val_accuracy: 0.6450 - 3s/epoch - 27ms/step\n",
      "Epoch 10/10\n",
      "100/100 - 3s - loss: 0.4370 - accuracy: 0.9700 - val_loss: 10.8236 - val_accuracy: 0.6500 - 3s/epoch - 28ms/step\n"
     ]
    },
    {
     "data": {
      "text/plain": [
       "<keras.src.callbacks.History at 0x7fe90cc18be0>"
      ]
     },
     "execution_count": 51,
     "metadata": {},
     "output_type": "execute_result"
    }
   ],
   "source": [
    "model.fit(x=train_batches, steps_per_epoch=len(train_batches), validation_data=valid_batches,\n",
    "          validation_steps=len(valid_batches), epochs=10, verbose=2\n",
    ")"
   ]
  }
 ],
 "metadata": {
  "kaggle": {
   "accelerator": "gpu",
   "dataSources": [
    {
     "databundleVersionId": 31148,
     "sourceId": 3362,
     "sourceType": "competition"
    }
   ],
   "dockerImageVersionId": 30636,
   "isGpuEnabled": true,
   "isInternetEnabled": true,
   "language": "python",
   "sourceType": "notebook"
  },
  "kernelspec": {
   "display_name": "Python 3",
   "language": "python",
   "name": "python3"
  },
  "language_info": {
   "codemirror_mode": {
    "name": "ipython",
    "version": 3
   },
   "file_extension": ".py",
   "mimetype": "text/x-python",
   "name": "python",
   "nbconvert_exporter": "python",
   "pygments_lexer": "ipython3",
   "version": "3.10.12"
  },
  "papermill": {
   "default_parameters": {},
   "duration": 119.583545,
   "end_time": "2024-01-19T14:30:36.718052",
   "environment_variables": {},
   "exception": null,
   "input_path": "__notebook__.ipynb",
   "output_path": "__notebook__.ipynb",
   "parameters": {},
   "start_time": "2024-01-19T14:28:37.134507",
   "version": "2.4.0"
  }
 },
 "nbformat": 4,
 "nbformat_minor": 5
}
