{
 "cells": [
  {
   "cell_type": "markdown",
   "id": "ea3c1d3c",
   "metadata": {
    "papermill": {
     "duration": 0.017316,
     "end_time": "2024-03-19T12:46:40.861023",
     "exception": false,
     "start_time": "2024-03-19T12:46:40.843707",
     "status": "completed"
    },
    "tags": []
   },
   "source": [
    "## Notebook Imports"
   ]
  },
  {
   "cell_type": "code",
   "execution_count": 1,
   "id": "d4005ae3",
   "metadata": {
    "execution": {
     "iopub.execute_input": "2024-03-19T12:46:40.896581Z",
     "iopub.status.busy": "2024-03-19T12:46:40.896267Z",
     "iopub.status.idle": "2024-03-19T12:46:45.248144Z",
     "shell.execute_reply": "2024-03-19T12:46:45.247243Z"
    },
    "papermill": {
     "duration": 4.372279,
     "end_time": "2024-03-19T12:46:45.250537",
     "exception": false,
     "start_time": "2024-03-19T12:46:40.878258",
     "status": "completed"
    },
    "tags": []
   },
   "outputs": [],
   "source": [
    "import torch\n",
    "import pandas as pd\n",
    "import numpy as np\n",
    "import matplotlib.pyplot as plt"
   ]
  },
  {
   "cell_type": "code",
   "execution_count": 2,
   "id": "0e36937e",
   "metadata": {
    "execution": {
     "iopub.execute_input": "2024-03-19T12:46:45.289743Z",
     "iopub.status.busy": "2024-03-19T12:46:45.289205Z",
     "iopub.status.idle": "2024-03-19T12:46:45.294461Z",
     "shell.execute_reply": "2024-03-19T12:46:45.293582Z"
    },
    "papermill": {
     "duration": 0.027204,
     "end_time": "2024-03-19T12:46:45.296789",
     "exception": false,
     "start_time": "2024-03-19T12:46:45.269585",
     "status": "completed"
    },
    "tags": []
   },
   "outputs": [
    {
     "name": "stdout",
     "output_type": "stream",
     "text": [
      "2.1.2\n"
     ]
    }
   ],
   "source": [
    "print(torch.__version__)"
   ]
  },
  {
   "cell_type": "markdown",
   "id": "3e350db6",
   "metadata": {
    "papermill": {
     "duration": 0.020158,
     "end_time": "2024-03-19T12:46:45.334103",
     "exception": false,
     "start_time": "2024-03-19T12:46:45.313945",
     "status": "completed"
    },
    "tags": []
   },
   "source": [
    "## Introduction to Tensors\n"
   ]
  },
  {
   "cell_type": "code",
   "execution_count": 3,
   "id": "4b4938d9",
   "metadata": {
    "execution": {
     "iopub.execute_input": "2024-03-19T12:46:45.384062Z",
     "iopub.status.busy": "2024-03-19T12:46:45.383575Z",
     "iopub.status.idle": "2024-03-19T12:46:45.418186Z",
     "shell.execute_reply": "2024-03-19T12:46:45.417228Z"
    },
    "papermill": {
     "duration": 0.063833,
     "end_time": "2024-03-19T12:46:45.420283",
     "exception": false,
     "start_time": "2024-03-19T12:46:45.356450",
     "status": "completed"
    },
    "tags": []
   },
   "outputs": [
    {
     "data": {
      "text/plain": [
       "tensor(7)"
      ]
     },
     "execution_count": 3,
     "metadata": {},
     "output_type": "execute_result"
    }
   ],
   "source": [
    "# scalar\n",
    "scalar = torch.tensor(7)\n",
    "scalar"
   ]
  },
  {
   "cell_type": "code",
   "execution_count": 4,
   "id": "098183bc",
   "metadata": {
    "execution": {
     "iopub.execute_input": "2024-03-19T12:46:45.461126Z",
     "iopub.status.busy": "2024-03-19T12:46:45.459767Z",
     "iopub.status.idle": "2024-03-19T12:46:45.467142Z",
     "shell.execute_reply": "2024-03-19T12:46:45.465960Z"
    },
    "papermill": {
     "duration": 0.031875,
     "end_time": "2024-03-19T12:46:45.469789",
     "exception": false,
     "start_time": "2024-03-19T12:46:45.437914",
     "status": "completed"
    },
    "tags": []
   },
   "outputs": [
    {
     "data": {
      "text/plain": [
       "0"
      ]
     },
     "execution_count": 4,
     "metadata": {},
     "output_type": "execute_result"
    }
   ],
   "source": [
    "scalar.ndim"
   ]
  },
  {
   "cell_type": "code",
   "execution_count": 5,
   "id": "306f18a7",
   "metadata": {
    "execution": {
     "iopub.execute_input": "2024-03-19T12:46:45.508451Z",
     "iopub.status.busy": "2024-03-19T12:46:45.507691Z",
     "iopub.status.idle": "2024-03-19T12:46:45.513924Z",
     "shell.execute_reply": "2024-03-19T12:46:45.512962Z"
    },
    "papermill": {
     "duration": 0.027073,
     "end_time": "2024-03-19T12:46:45.516034",
     "exception": false,
     "start_time": "2024-03-19T12:46:45.488961",
     "status": "completed"
    },
    "tags": []
   },
   "outputs": [
    {
     "data": {
      "text/plain": [
       "7"
      ]
     },
     "execution_count": 5,
     "metadata": {},
     "output_type": "execute_result"
    }
   ],
   "source": [
    "scalar.item()"
   ]
  },
  {
   "cell_type": "code",
   "execution_count": 6,
   "id": "1b81016d",
   "metadata": {
    "execution": {
     "iopub.execute_input": "2024-03-19T12:46:45.556145Z",
     "iopub.status.busy": "2024-03-19T12:46:45.555802Z",
     "iopub.status.idle": "2024-03-19T12:46:45.564467Z",
     "shell.execute_reply": "2024-03-19T12:46:45.563393Z"
    },
    "papermill": {
     "duration": 0.032254,
     "end_time": "2024-03-19T12:46:45.566695",
     "exception": false,
     "start_time": "2024-03-19T12:46:45.534441",
     "status": "completed"
    },
    "tags": []
   },
   "outputs": [
    {
     "data": {
      "text/plain": [
       "tensor([7, 7])"
      ]
     },
     "execution_count": 6,
     "metadata": {},
     "output_type": "execute_result"
    }
   ],
   "source": [
    "# vector\n",
    "vector = torch.tensor([7, 7])\n",
    "vector"
   ]
  },
  {
   "cell_type": "code",
   "execution_count": 7,
   "id": "d269d33d",
   "metadata": {
    "execution": {
     "iopub.execute_input": "2024-03-19T12:46:45.604804Z",
     "iopub.status.busy": "2024-03-19T12:46:45.604172Z",
     "iopub.status.idle": "2024-03-19T12:46:45.609899Z",
     "shell.execute_reply": "2024-03-19T12:46:45.609079Z"
    },
    "papermill": {
     "duration": 0.02691,
     "end_time": "2024-03-19T12:46:45.611898",
     "exception": false,
     "start_time": "2024-03-19T12:46:45.584988",
     "status": "completed"
    },
    "tags": []
   },
   "outputs": [
    {
     "data": {
      "text/plain": [
       "1"
      ]
     },
     "execution_count": 7,
     "metadata": {},
     "output_type": "execute_result"
    }
   ],
   "source": [
    "vector.ndim"
   ]
  },
  {
   "cell_type": "code",
   "execution_count": 8,
   "id": "eb928947",
   "metadata": {
    "execution": {
     "iopub.execute_input": "2024-03-19T12:46:45.649344Z",
     "iopub.status.busy": "2024-03-19T12:46:45.648544Z",
     "iopub.status.idle": "2024-03-19T12:46:45.654282Z",
     "shell.execute_reply": "2024-03-19T12:46:45.653444Z"
    },
    "papermill": {
     "duration": 0.026567,
     "end_time": "2024-03-19T12:46:45.656177",
     "exception": false,
     "start_time": "2024-03-19T12:46:45.629610",
     "status": "completed"
    },
    "tags": []
   },
   "outputs": [
    {
     "data": {
      "text/plain": [
       "torch.Size([2])"
      ]
     },
     "execution_count": 8,
     "metadata": {},
     "output_type": "execute_result"
    }
   ],
   "source": [
    "vector.shape"
   ]
  },
  {
   "cell_type": "code",
   "execution_count": 9,
   "id": "bd2ab8e7",
   "metadata": {
    "execution": {
     "iopub.execute_input": "2024-03-19T12:46:45.694178Z",
     "iopub.status.busy": "2024-03-19T12:46:45.693710Z",
     "iopub.status.idle": "2024-03-19T12:46:45.703116Z",
     "shell.execute_reply": "2024-03-19T12:46:45.701950Z"
    },
    "papermill": {
     "duration": 0.031377,
     "end_time": "2024-03-19T12:46:45.705723",
     "exception": false,
     "start_time": "2024-03-19T12:46:45.674346",
     "status": "completed"
    },
    "tags": []
   },
   "outputs": [
    {
     "data": {
      "text/plain": [
       "tensor([[ 7,  8],\n",
       "        [ 9, 10]])"
      ]
     },
     "execution_count": 9,
     "metadata": {},
     "output_type": "execute_result"
    }
   ],
   "source": [
    "# MATRIX\n",
    "MATRIX = torch.tensor([[7, 8],\n",
    "                       [9, 10]])\n",
    "\n",
    "MATRIX"
   ]
  },
  {
   "cell_type": "code",
   "execution_count": 10,
   "id": "a2f28050",
   "metadata": {
    "execution": {
     "iopub.execute_input": "2024-03-19T12:46:45.747839Z",
     "iopub.status.busy": "2024-03-19T12:46:45.747142Z",
     "iopub.status.idle": "2024-03-19T12:46:45.753181Z",
     "shell.execute_reply": "2024-03-19T12:46:45.752298Z"
    },
    "papermill": {
     "duration": 0.028141,
     "end_time": "2024-03-19T12:46:45.755094",
     "exception": false,
     "start_time": "2024-03-19T12:46:45.726953",
     "status": "completed"
    },
    "tags": []
   },
   "outputs": [
    {
     "data": {
      "text/plain": [
       "2"
      ]
     },
     "execution_count": 10,
     "metadata": {},
     "output_type": "execute_result"
    }
   ],
   "source": [
    "MATRIX.ndim"
   ]
  },
  {
   "cell_type": "code",
   "execution_count": 11,
   "id": "2d46158c",
   "metadata": {
    "execution": {
     "iopub.execute_input": "2024-03-19T12:46:45.793162Z",
     "iopub.status.busy": "2024-03-19T12:46:45.792799Z",
     "iopub.status.idle": "2024-03-19T12:46:45.799367Z",
     "shell.execute_reply": "2024-03-19T12:46:45.798498Z"
    },
    "papermill": {
     "duration": 0.0281,
     "end_time": "2024-03-19T12:46:45.801494",
     "exception": false,
     "start_time": "2024-03-19T12:46:45.773394",
     "status": "completed"
    },
    "tags": []
   },
   "outputs": [
    {
     "data": {
      "text/plain": [
       "tensor([7, 8])"
      ]
     },
     "execution_count": 11,
     "metadata": {},
     "output_type": "execute_result"
    }
   ],
   "source": [
    "MATRIX[0]"
   ]
  },
  {
   "cell_type": "code",
   "execution_count": 12,
   "id": "c88fbf3f",
   "metadata": {
    "execution": {
     "iopub.execute_input": "2024-03-19T12:46:45.840953Z",
     "iopub.status.busy": "2024-03-19T12:46:45.840075Z",
     "iopub.status.idle": "2024-03-19T12:46:45.846030Z",
     "shell.execute_reply": "2024-03-19T12:46:45.845195Z"
    },
    "papermill": {
     "duration": 0.028012,
     "end_time": "2024-03-19T12:46:45.848046",
     "exception": false,
     "start_time": "2024-03-19T12:46:45.820034",
     "status": "completed"
    },
    "tags": []
   },
   "outputs": [
    {
     "data": {
      "text/plain": [
       "torch.Size([2, 2])"
      ]
     },
     "execution_count": 12,
     "metadata": {},
     "output_type": "execute_result"
    }
   ],
   "source": [
    "MATRIX.shape"
   ]
  },
  {
   "cell_type": "code",
   "execution_count": 13,
   "id": "c63a509a",
   "metadata": {
    "execution": {
     "iopub.execute_input": "2024-03-19T12:46:45.888111Z",
     "iopub.status.busy": "2024-03-19T12:46:45.887434Z",
     "iopub.status.idle": "2024-03-19T12:46:45.895165Z",
     "shell.execute_reply": "2024-03-19T12:46:45.894025Z"
    },
    "papermill": {
     "duration": 0.030702,
     "end_time": "2024-03-19T12:46:45.897564",
     "exception": false,
     "start_time": "2024-03-19T12:46:45.866862",
     "status": "completed"
    },
    "tags": []
   },
   "outputs": [
    {
     "data": {
      "text/plain": [
       "tensor([[[1, 2, 3],\n",
       "         [3, 6, 7],\n",
       "         [2, 4, 5]]])"
      ]
     },
     "execution_count": 13,
     "metadata": {},
     "output_type": "execute_result"
    }
   ],
   "source": [
    "# TENSOR\n",
    "TENSOR = torch.tensor([[[1, 2, 3],\n",
    "                       [3, 6, 7],\n",
    "                       [2, 4, 5]]])\n",
    "TENSOR"
   ]
  },
  {
   "cell_type": "code",
   "execution_count": 14,
   "id": "342ea33b",
   "metadata": {
    "execution": {
     "iopub.execute_input": "2024-03-19T12:46:45.940892Z",
     "iopub.status.busy": "2024-03-19T12:46:45.940058Z",
     "iopub.status.idle": "2024-03-19T12:46:45.946718Z",
     "shell.execute_reply": "2024-03-19T12:46:45.945698Z"
    },
    "papermill": {
     "duration": 0.029951,
     "end_time": "2024-03-19T12:46:45.948893",
     "exception": false,
     "start_time": "2024-03-19T12:46:45.918942",
     "status": "completed"
    },
    "tags": []
   },
   "outputs": [
    {
     "data": {
      "text/plain": [
       "3"
      ]
     },
     "execution_count": 14,
     "metadata": {},
     "output_type": "execute_result"
    }
   ],
   "source": [
    "TENSOR.ndim"
   ]
  },
  {
   "cell_type": "code",
   "execution_count": 15,
   "id": "f32d7874",
   "metadata": {
    "execution": {
     "iopub.execute_input": "2024-03-19T12:46:45.990257Z",
     "iopub.status.busy": "2024-03-19T12:46:45.989513Z",
     "iopub.status.idle": "2024-03-19T12:46:45.995440Z",
     "shell.execute_reply": "2024-03-19T12:46:45.994599Z"
    },
    "papermill": {
     "duration": 0.027613,
     "end_time": "2024-03-19T12:46:45.997436",
     "exception": false,
     "start_time": "2024-03-19T12:46:45.969823",
     "status": "completed"
    },
    "tags": []
   },
   "outputs": [
    {
     "data": {
      "text/plain": [
       "torch.Size([1, 3, 3])"
      ]
     },
     "execution_count": 15,
     "metadata": {},
     "output_type": "execute_result"
    }
   ],
   "source": [
    "TENSOR.shape"
   ]
  },
  {
   "cell_type": "markdown",
   "id": "74a5054e",
   "metadata": {
    "papermill": {
     "duration": 0.018424,
     "end_time": "2024-03-19T12:46:46.034594",
     "exception": false,
     "start_time": "2024-03-19T12:46:46.016170",
     "status": "completed"
    },
    "tags": []
   },
   "source": [
    "## Random Tensors\n",
    "\n",
    "Random tensors are important because the way many neural networks learn is that they start with tensors full of random numbers and then adjust those random numbers to better represent the data.\n",
    "\n",
    "`Start with random number -> look at the data -> update random numbers -> look at the data -> update random numbers`"
   ]
  },
  {
   "cell_type": "code",
   "execution_count": 16,
   "id": "ba31c1af",
   "metadata": {
    "execution": {
     "iopub.execute_input": "2024-03-19T12:46:46.074365Z",
     "iopub.status.busy": "2024-03-19T12:46:46.073494Z",
     "iopub.status.idle": "2024-03-19T12:46:46.128795Z",
     "shell.execute_reply": "2024-03-19T12:46:46.127893Z"
    },
    "papermill": {
     "duration": 0.077091,
     "end_time": "2024-03-19T12:46:46.130832",
     "exception": false,
     "start_time": "2024-03-19T12:46:46.053741",
     "status": "completed"
    },
    "tags": []
   },
   "outputs": [
    {
     "data": {
      "text/plain": [
       "tensor([[0.0331, 0.0812, 0.5764, 0.7176],\n",
       "        [0.9494, 0.9016, 0.0191, 0.1576],\n",
       "        [0.0822, 0.0764, 0.2415, 0.5906]])"
      ]
     },
     "execution_count": 16,
     "metadata": {},
     "output_type": "execute_result"
    }
   ],
   "source": [
    "# Create a random tensor\n",
    "random_tensor = torch.rand(3, 4)\n",
    "random_tensor"
   ]
  },
  {
   "cell_type": "code",
   "execution_count": 17,
   "id": "6ff0d95a",
   "metadata": {
    "execution": {
     "iopub.execute_input": "2024-03-19T12:46:46.171124Z",
     "iopub.status.busy": "2024-03-19T12:46:46.170473Z",
     "iopub.status.idle": "2024-03-19T12:46:46.176159Z",
     "shell.execute_reply": "2024-03-19T12:46:46.175310Z"
    },
    "papermill": {
     "duration": 0.028008,
     "end_time": "2024-03-19T12:46:46.178175",
     "exception": false,
     "start_time": "2024-03-19T12:46:46.150167",
     "status": "completed"
    },
    "tags": []
   },
   "outputs": [
    {
     "data": {
      "text/plain": [
       "2"
      ]
     },
     "execution_count": 17,
     "metadata": {},
     "output_type": "execute_result"
    }
   ],
   "source": [
    "random_tensor.ndim"
   ]
  },
  {
   "cell_type": "code",
   "execution_count": 18,
   "id": "2e5e75ab",
   "metadata": {
    "execution": {
     "iopub.execute_input": "2024-03-19T12:46:46.218752Z",
     "iopub.status.busy": "2024-03-19T12:46:46.218104Z",
     "iopub.status.idle": "2024-03-19T12:46:46.227222Z",
     "shell.execute_reply": "2024-03-19T12:46:46.226338Z"
    },
    "papermill": {
     "duration": 0.031645,
     "end_time": "2024-03-19T12:46:46.229202",
     "exception": false,
     "start_time": "2024-03-19T12:46:46.197557",
     "status": "completed"
    },
    "tags": []
   },
   "outputs": [
    {
     "data": {
      "text/plain": [
       "(torch.Size([224, 224, 3]), 3)"
      ]
     },
     "execution_count": 18,
     "metadata": {},
     "output_type": "execute_result"
    }
   ],
   "source": [
    "# Create an image tensor\n",
    "random_image_size_tensor = torch.rand(size=(224, 224, 3)) # height, width, colour channels\n",
    "random_image_size_tensor.shape, random_image_size_tensor.ndim"
   ]
  },
  {
   "cell_type": "markdown",
   "id": "7c57d76f",
   "metadata": {
    "papermill": {
     "duration": 0.019119,
     "end_time": "2024-03-19T12:46:46.320044",
     "exception": false,
     "start_time": "2024-03-19T12:46:46.300925",
     "status": "completed"
    },
    "tags": []
   },
   "source": [
    "## Zeroes and Ones"
   ]
  },
  {
   "cell_type": "code",
   "execution_count": 19,
   "id": "f2fc3bdb",
   "metadata": {
    "execution": {
     "iopub.execute_input": "2024-03-19T12:46:46.360869Z",
     "iopub.status.busy": "2024-03-19T12:46:46.360048Z",
     "iopub.status.idle": "2024-03-19T12:46:46.369266Z",
     "shell.execute_reply": "2024-03-19T12:46:46.368388Z"
    },
    "papermill": {
     "duration": 0.031798,
     "end_time": "2024-03-19T12:46:46.371130",
     "exception": false,
     "start_time": "2024-03-19T12:46:46.339332",
     "status": "completed"
    },
    "tags": []
   },
   "outputs": [
    {
     "data": {
      "text/plain": [
       "tensor([[0., 0., 0., 0.],\n",
       "        [0., 0., 0., 0.],\n",
       "        [0., 0., 0., 0.]])"
      ]
     },
     "execution_count": 19,
     "metadata": {},
     "output_type": "execute_result"
    }
   ],
   "source": [
    "zeroes = torch.zeros(size=(3, 4))\n",
    "zeroes"
   ]
  },
  {
   "cell_type": "code",
   "execution_count": 20,
   "id": "636f652a",
   "metadata": {
    "execution": {
     "iopub.execute_input": "2024-03-19T12:46:46.412123Z",
     "iopub.status.busy": "2024-03-19T12:46:46.411742Z",
     "iopub.status.idle": "2024-03-19T12:46:46.420156Z",
     "shell.execute_reply": "2024-03-19T12:46:46.419340Z"
    },
    "papermill": {
     "duration": 0.03141,
     "end_time": "2024-03-19T12:46:46.422183",
     "exception": false,
     "start_time": "2024-03-19T12:46:46.390773",
     "status": "completed"
    },
    "tags": []
   },
   "outputs": [
    {
     "data": {
      "text/plain": [
       "tensor([[1., 1., 1., 1.],\n",
       "        [1., 1., 1., 1.],\n",
       "        [1., 1., 1., 1.]])"
      ]
     },
     "execution_count": 20,
     "metadata": {},
     "output_type": "execute_result"
    }
   ],
   "source": [
    "ones = torch.ones(size=(3, 4))\n",
    "ones"
   ]
  },
  {
   "cell_type": "markdown",
   "id": "c9d288cc",
   "metadata": {
    "papermill": {
     "duration": 0.019095,
     "end_time": "2024-03-19T12:46:46.461430",
     "exception": false,
     "start_time": "2024-03-19T12:46:46.442335",
     "status": "completed"
    },
    "tags": []
   },
   "source": [
    "## A Range of Tensors and Tensor-Like"
   ]
  },
  {
   "cell_type": "code",
   "execution_count": 21,
   "id": "84a19c7d",
   "metadata": {
    "execution": {
     "iopub.execute_input": "2024-03-19T12:46:46.502394Z",
     "iopub.status.busy": "2024-03-19T12:46:46.502046Z",
     "iopub.status.idle": "2024-03-19T12:46:46.513221Z",
     "shell.execute_reply": "2024-03-19T12:46:46.512360Z"
    },
    "papermill": {
     "duration": 0.034025,
     "end_time": "2024-03-19T12:46:46.515194",
     "exception": false,
     "start_time": "2024-03-19T12:46:46.481169",
     "status": "completed"
    },
    "tags": []
   },
   "outputs": [
    {
     "data": {
      "text/plain": [
       "tensor([ 1,  2,  3,  4,  5,  6,  7,  8,  9, 10])"
      ]
     },
     "execution_count": 21,
     "metadata": {},
     "output_type": "execute_result"
    }
   ],
   "source": [
    "one_to_ten = torch.arange(start=1, end=11, step=1)\n",
    "one_to_ten"
   ]
  },
  {
   "cell_type": "code",
   "execution_count": 22,
   "id": "0bcfe880",
   "metadata": {
    "execution": {
     "iopub.execute_input": "2024-03-19T12:46:46.557096Z",
     "iopub.status.busy": "2024-03-19T12:46:46.556712Z",
     "iopub.status.idle": "2024-03-19T12:46:46.564120Z",
     "shell.execute_reply": "2024-03-19T12:46:46.563183Z"
    },
    "papermill": {
     "duration": 0.030894,
     "end_time": "2024-03-19T12:46:46.566190",
     "exception": false,
     "start_time": "2024-03-19T12:46:46.535296",
     "status": "completed"
    },
    "tags": []
   },
   "outputs": [
    {
     "data": {
      "text/plain": [
       "tensor([0, 0, 0, 0, 0, 0, 0, 0, 0, 0])"
      ]
     },
     "execution_count": 22,
     "metadata": {},
     "output_type": "execute_result"
    }
   ],
   "source": [
    "# Creating tensor like\n",
    "ten_zeroes = torch.zeros_like(input=one_to_ten)\n",
    "ten_zeroes"
   ]
  },
  {
   "cell_type": "markdown",
   "id": "f263afb4",
   "metadata": {
    "papermill": {
     "duration": 0.019643,
     "end_time": "2024-03-19T12:46:46.606060",
     "exception": false,
     "start_time": "2024-03-19T12:46:46.586417",
     "status": "completed"
    },
    "tags": []
   },
   "source": [
    " ## Tensor Datatypes"
   ]
  },
  {
   "cell_type": "code",
   "execution_count": 23,
   "id": "4830b009",
   "metadata": {
    "execution": {
     "iopub.execute_input": "2024-03-19T12:46:46.647096Z",
     "iopub.status.busy": "2024-03-19T12:46:46.646702Z",
     "iopub.status.idle": "2024-03-19T12:46:46.654469Z",
     "shell.execute_reply": "2024-03-19T12:46:46.653580Z"
    },
    "papermill": {
     "duration": 0.030466,
     "end_time": "2024-03-19T12:46:46.656376",
     "exception": false,
     "start_time": "2024-03-19T12:46:46.625910",
     "status": "completed"
    },
    "tags": []
   },
   "outputs": [
    {
     "data": {
      "text/plain": [
       "tensor([3., 6., 9.])"
      ]
     },
     "execution_count": 23,
     "metadata": {},
     "output_type": "execute_result"
    }
   ],
   "source": [
    "float_32_tensor = torch.tensor([3.0, 6.0, 9.0],\n",
    "                              dtype=None, # what datatype is the tensor (e.g float32)\n",
    "                              device=None, # what device is your tensor\n",
    "                              requires_grad=False) # whether or not to track gradients with these tensor operations\n",
    "\n",
    "float_32_tensor "
   ]
  },
  {
   "cell_type": "code",
   "execution_count": 24,
   "id": "8160d10f",
   "metadata": {
    "execution": {
     "iopub.execute_input": "2024-03-19T12:46:46.697583Z",
     "iopub.status.busy": "2024-03-19T12:46:46.696959Z",
     "iopub.status.idle": "2024-03-19T12:46:46.707125Z",
     "shell.execute_reply": "2024-03-19T12:46:46.706146Z"
    },
    "papermill": {
     "duration": 0.033014,
     "end_time": "2024-03-19T12:46:46.709048",
     "exception": false,
     "start_time": "2024-03-19T12:46:46.676034",
     "status": "completed"
    },
    "tags": []
   },
   "outputs": [
    {
     "data": {
      "text/plain": [
       "tensor([3., 6., 9.], dtype=torch.float16)"
      ]
     },
     "execution_count": 24,
     "metadata": {},
     "output_type": "execute_result"
    }
   ],
   "source": [
    "float_16_tensor = float_32_tensor.type(torch.float16) # or torch.half\n",
    "float_16_tensor"
   ]
  },
  {
   "cell_type": "code",
   "execution_count": 25,
   "id": "35d5cbfe",
   "metadata": {
    "execution": {
     "iopub.execute_input": "2024-03-19T12:46:46.750570Z",
     "iopub.status.busy": "2024-03-19T12:46:46.749891Z",
     "iopub.status.idle": "2024-03-19T12:46:46.757114Z",
     "shell.execute_reply": "2024-03-19T12:46:46.756261Z"
    },
    "papermill": {
     "duration": 0.029965,
     "end_time": "2024-03-19T12:46:46.758999",
     "exception": false,
     "start_time": "2024-03-19T12:46:46.729034",
     "status": "completed"
    },
    "tags": []
   },
   "outputs": [
    {
     "data": {
      "text/plain": [
       "tensor([ 9., 36., 81.])"
      ]
     },
     "execution_count": 25,
     "metadata": {},
     "output_type": "execute_result"
    }
   ],
   "source": [
    "float_16_tensor * float_32_tensor"
   ]
  },
  {
   "cell_type": "markdown",
   "id": "0d8c0557",
   "metadata": {
    "papermill": {
     "duration": 0.020009,
     "end_time": "2024-03-19T12:46:46.798984",
     "exception": false,
     "start_time": "2024-03-19T12:46:46.778975",
     "status": "completed"
    },
    "tags": []
   },
   "source": [
    "## Getting information from tensors  "
   ]
  },
  {
   "cell_type": "code",
   "execution_count": 26,
   "id": "df83aef8",
   "metadata": {
    "execution": {
     "iopub.execute_input": "2024-03-19T12:46:46.841521Z",
     "iopub.status.busy": "2024-03-19T12:46:46.840702Z",
     "iopub.status.idle": "2024-03-19T12:46:46.848562Z",
     "shell.execute_reply": "2024-03-19T12:46:46.847673Z"
    },
    "papermill": {
     "duration": 0.031215,
     "end_time": "2024-03-19T12:46:46.850537",
     "exception": false,
     "start_time": "2024-03-19T12:46:46.819322",
     "status": "completed"
    },
    "tags": []
   },
   "outputs": [
    {
     "name": "stdout",
     "output_type": "stream",
     "text": [
      "tensor([[0.8146, 0.0614, 0.6041],\n",
      "        [0.8571, 0.2802, 0.8520],\n",
      "        [0.5443, 0.6541, 0.3114]])\n"
     ]
    },
    {
     "data": {
      "text/plain": [
       "(torch.float32, torch.Size([3, 3]), device(type='cpu'))"
      ]
     },
     "execution_count": 26,
     "metadata": {},
     "output_type": "execute_result"
    }
   ],
   "source": [
    "some_tensor = torch.rand([3, 3])\n",
    "print(some_tensor)\n",
    "some_tensor.dtype, some_tensor.shape, some_tensor.device"
   ]
  },
  {
   "cell_type": "markdown",
   "id": "c7ac5180",
   "metadata": {
    "papermill": {
     "duration": 0.020229,
     "end_time": "2024-03-19T12:46:46.891074",
     "exception": false,
     "start_time": "2024-03-19T12:46:46.870845",
     "status": "completed"
    },
    "tags": []
   },
   "source": [
    "## Manipulating Tensor (tensor operations)\n",
    "\n",
    "Tensor operations include:\n",
    "* **Addition**\n",
    "* **Subtraction**\n",
    "* **Multiplication**\n",
    "* **Division**\n",
    "* **Matrix Multiplication**"
   ]
  },
  {
   "cell_type": "code",
   "execution_count": 27,
   "id": "00c3f132",
   "metadata": {
    "execution": {
     "iopub.execute_input": "2024-03-19T12:46:46.934375Z",
     "iopub.status.busy": "2024-03-19T12:46:46.934038Z",
     "iopub.status.idle": "2024-03-19T12:46:46.945686Z",
     "shell.execute_reply": "2024-03-19T12:46:46.944693Z"
    },
    "papermill": {
     "duration": 0.035534,
     "end_time": "2024-03-19T12:46:46.947836",
     "exception": false,
     "start_time": "2024-03-19T12:46:46.912302",
     "status": "completed"
    },
    "tags": []
   },
   "outputs": [
    {
     "name": "stdout",
     "output_type": "stream",
     "text": [
      "Addition: tensor([[10.8146, 10.0614, 10.6041],\n",
      "        [10.8571, 10.2802, 10.8520],\n",
      "        [10.5443, 10.6541, 10.3114]])\n",
      "Subtraction: tensor([[-9.1854, -9.9386, -9.3959],\n",
      "        [-9.1429, -9.7198, -9.1480],\n",
      "        [-9.4557, -9.3459, -9.6886]])\n",
      "Multiplication: tensor([[8.1458, 0.6139, 6.0408],\n",
      "        [8.5712, 2.8021, 8.5204],\n",
      "        [5.4432, 6.5412, 3.1137]])\n",
      "Division: tensor([[0.0815, 0.0061, 0.0604],\n",
      "        [0.0857, 0.0280, 0.0852],\n",
      "        [0.0544, 0.0654, 0.0311]])\n"
     ]
    }
   ],
   "source": [
    "print(f'Addition: {some_tensor + 10}') # torch.add(tensor, 10)\n",
    "print(f'Subtraction: {some_tensor - 10}')\n",
    "print(f'Multiplication: {some_tensor * 10}')\n",
    "print(f'Division: {some_tensor / 10}')"
   ]
  },
  {
   "cell_type": "code",
   "execution_count": 28,
   "id": "aba52e7f",
   "metadata": {
    "execution": {
     "iopub.execute_input": "2024-03-19T12:46:46.990804Z",
     "iopub.status.busy": "2024-03-19T12:46:46.990411Z",
     "iopub.status.idle": "2024-03-19T12:46:46.997445Z",
     "shell.execute_reply": "2024-03-19T12:46:46.996546Z"
    },
    "papermill": {
     "duration": 0.030946,
     "end_time": "2024-03-19T12:46:46.999455",
     "exception": false,
     "start_time": "2024-03-19T12:46:46.968509",
     "status": "completed"
    },
    "tags": []
   },
   "outputs": [
    {
     "data": {
      "text/plain": [
       "tensor([[0.6635, 0.0038, 0.3649],\n",
       "        [0.7346, 0.0785, 0.7260],\n",
       "        [0.2963, 0.4279, 0.0970]])"
      ]
     },
     "execution_count": 28,
     "metadata": {},
     "output_type": "execute_result"
    }
   ],
   "source": [
    "# Element-wise Multiplication \n",
    "some_tensor * some_tensor"
   ]
  },
  {
   "cell_type": "code",
   "execution_count": 29,
   "id": "ccd5aa36",
   "metadata": {
    "execution": {
     "iopub.execute_input": "2024-03-19T12:46:47.042351Z",
     "iopub.status.busy": "2024-03-19T12:46:47.041986Z",
     "iopub.status.idle": "2024-03-19T12:46:47.083903Z",
     "shell.execute_reply": "2024-03-19T12:46:47.082956Z"
    },
    "papermill": {
     "duration": 0.065799,
     "end_time": "2024-03-19T12:46:47.086152",
     "exception": false,
     "start_time": "2024-03-19T12:46:47.020353",
     "status": "completed"
    },
    "tags": []
   },
   "outputs": [
    {
     "data": {
      "text/plain": [
       "tensor([[1.0450, 0.4624, 0.7325],\n",
       "        [1.4021, 0.6885, 1.0218],\n",
       "        [1.1735, 0.4204, 0.9831]])"
      ]
     },
     "execution_count": 29,
     "metadata": {},
     "output_type": "execute_result"
    }
   ],
   "source": [
    "# Matrix Multiplication (dot product)\n",
    "torch.matmul(some_tensor, some_tensor)"
   ]
  },
  {
   "cell_type": "markdown",
   "id": "1031600a",
   "metadata": {
    "papermill": {
     "duration": 0.021032,
     "end_time": "2024-03-19T12:46:47.129034",
     "exception": false,
     "start_time": "2024-03-19T12:46:47.108002",
     "status": "completed"
    },
    "tags": []
   },
   "source": [
    "## Shape Errors\n",
    "\n",
    "To fix our tensor shape issues, we can manipulate the shape of one of our tensors using **transpose**.\n",
    "\n",
    "A **transpose** switches the axes or dimensions of a given tensor."
   ]
  },
  {
   "cell_type": "code",
   "execution_count": 30,
   "id": "aafce7d9",
   "metadata": {
    "execution": {
     "iopub.execute_input": "2024-03-19T12:46:47.172013Z",
     "iopub.status.busy": "2024-03-19T12:46:47.171459Z",
     "iopub.status.idle": "2024-03-19T12:46:47.176741Z",
     "shell.execute_reply": "2024-03-19T12:46:47.175788Z"
    },
    "papermill": {
     "duration": 0.029323,
     "end_time": "2024-03-19T12:46:47.178827",
     "exception": false,
     "start_time": "2024-03-19T12:46:47.149504",
     "status": "completed"
    },
    "tags": []
   },
   "outputs": [],
   "source": [
    "tensor_A = torch.tensor([[1, 2],\n",
    "                       [3, 4],\n",
    "                       [5, 6]])\n",
    "\n",
    "tensor_B = torch.tensor([[7, 10],\n",
    "                       [8, 11],\n",
    "                       [9, 12]])"
   ]
  },
  {
   "cell_type": "code",
   "execution_count": 31,
   "id": "7605deed",
   "metadata": {
    "execution": {
     "iopub.execute_input": "2024-03-19T12:46:47.222844Z",
     "iopub.status.busy": "2024-03-19T12:46:47.222139Z",
     "iopub.status.idle": "2024-03-19T12:46:47.231748Z",
     "shell.execute_reply": "2024-03-19T12:46:47.230644Z"
    },
    "papermill": {
     "duration": 0.034017,
     "end_time": "2024-03-19T12:46:47.234021",
     "exception": false,
     "start_time": "2024-03-19T12:46:47.200004",
     "status": "completed"
    },
    "tags": []
   },
   "outputs": [
    {
     "data": {
      "text/plain": [
       "tensor([[ 27,  30,  33],\n",
       "        [ 61,  68,  75],\n",
       "        [ 95, 106, 117]])"
      ]
     },
     "execution_count": 31,
     "metadata": {},
     "output_type": "execute_result"
    }
   ],
   "source": [
    "torch.mm(tensor_A, tensor_B.T) # or torch.matmul()"
   ]
  },
  {
   "cell_type": "markdown",
   "id": "6bb29424",
   "metadata": {
    "papermill": {
     "duration": 0.022937,
     "end_time": "2024-03-19T12:46:47.280702",
     "exception": false,
     "start_time": "2024-03-19T12:46:47.257765",
     "status": "completed"
    },
    "tags": []
   },
   "source": [
    "## Min, Max, Mean, Sum (Tensor Aggregation)"
   ]
  },
  {
   "cell_type": "code",
   "execution_count": 32,
   "id": "e88ee579",
   "metadata": {
    "execution": {
     "iopub.execute_input": "2024-03-19T12:46:47.326078Z",
     "iopub.status.busy": "2024-03-19T12:46:47.325332Z",
     "iopub.status.idle": "2024-03-19T12:46:47.332298Z",
     "shell.execute_reply": "2024-03-19T12:46:47.331373Z"
    },
    "papermill": {
     "duration": 0.031239,
     "end_time": "2024-03-19T12:46:47.334409",
     "exception": false,
     "start_time": "2024-03-19T12:46:47.303170",
     "status": "completed"
    },
    "tags": []
   },
   "outputs": [
    {
     "data": {
      "text/plain": [
       "(tensor([ 0, 10, 20, 30, 40, 50, 60, 70, 80, 90]), torch.int64)"
      ]
     },
     "execution_count": 32,
     "metadata": {},
     "output_type": "execute_result"
    }
   ],
   "source": [
    "x = torch.arange(0, 100, 10)\n",
    "x, x.dtype"
   ]
  },
  {
   "cell_type": "code",
   "execution_count": 33,
   "id": "6881e760",
   "metadata": {
    "execution": {
     "iopub.execute_input": "2024-03-19T12:46:47.377949Z",
     "iopub.status.busy": "2024-03-19T12:46:47.377547Z",
     "iopub.status.idle": "2024-03-19T12:46:47.385821Z",
     "shell.execute_reply": "2024-03-19T12:46:47.384799Z"
    },
    "papermill": {
     "duration": 0.03243,
     "end_time": "2024-03-19T12:46:47.387782",
     "exception": false,
     "start_time": "2024-03-19T12:46:47.355352",
     "status": "completed"
    },
    "tags": []
   },
   "outputs": [
    {
     "name": "stdout",
     "output_type": "stream",
     "text": [
      "Torch Min: 0\n",
      "Torch Max: 90\n",
      "Torch Mean: 45.0\n",
      "Torch Sum: 450\n"
     ]
    }
   ],
   "source": [
    "print(f'Torch Min: {torch.min(x)}') # or x.min()\n",
    "print(f'Torch Max: {torch.max(x)}') # or x.max()\n",
    "print(f'Torch Mean: {torch.mean(x.type(torch.float32))}') # or x.type(torch.float32).mean()\n",
    "print(f'Torch Sum: {torch.sum(x)}') # or x.sum()"
   ]
  },
  {
   "cell_type": "markdown",
   "id": "ef019531",
   "metadata": {
    "papermill": {
     "duration": 0.022262,
     "end_time": "2024-03-19T12:46:47.431347",
     "exception": false,
     "start_time": "2024-03-19T12:46:47.409085",
     "status": "completed"
    },
    "tags": []
   },
   "source": [
    "## Finding the positional Min and Max"
   ]
  },
  {
   "cell_type": "code",
   "execution_count": 34,
   "id": "6ade2243",
   "metadata": {
    "execution": {
     "iopub.execute_input": "2024-03-19T12:46:47.477436Z",
     "iopub.status.busy": "2024-03-19T12:46:47.476557Z",
     "iopub.status.idle": "2024-03-19T12:46:47.483891Z",
     "shell.execute_reply": "2024-03-19T12:46:47.483006Z"
    },
    "papermill": {
     "duration": 0.031467,
     "end_time": "2024-03-19T12:46:47.485817",
     "exception": false,
     "start_time": "2024-03-19T12:46:47.454350",
     "status": "completed"
    },
    "tags": []
   },
   "outputs": [
    {
     "name": "stdout",
     "output_type": "stream",
     "text": [
      "Position: 0, Value: 0\n"
     ]
    }
   ],
   "source": [
    "print(f'Position: {x.argmin()}, Value: {x[x.argmin()]}')"
   ]
  },
  {
   "cell_type": "code",
   "execution_count": 35,
   "id": "8cfc846d",
   "metadata": {
    "execution": {
     "iopub.execute_input": "2024-03-19T12:46:47.529447Z",
     "iopub.status.busy": "2024-03-19T12:46:47.529123Z",
     "iopub.status.idle": "2024-03-19T12:46:47.534400Z",
     "shell.execute_reply": "2024-03-19T12:46:47.533517Z"
    },
    "papermill": {
     "duration": 0.029362,
     "end_time": "2024-03-19T12:46:47.536333",
     "exception": false,
     "start_time": "2024-03-19T12:46:47.506971",
     "status": "completed"
    },
    "tags": []
   },
   "outputs": [
    {
     "name": "stdout",
     "output_type": "stream",
     "text": [
      "Position: 9, Value: 90\n"
     ]
    }
   ],
   "source": [
    "print(f'Position: {x.argmax()}, Value: {x[x.argmax()]}')"
   ]
  },
  {
   "cell_type": "markdown",
   "id": "f061c75d",
   "metadata": {
    "papermill": {
     "duration": 0.020853,
     "end_time": "2024-03-19T12:46:47.578168",
     "exception": false,
     "start_time": "2024-03-19T12:46:47.557315",
     "status": "completed"
    },
    "tags": []
   },
   "source": [
    "## Reshaping, Stacking, Squeezing and Unsqueezing tensors\n",
    "\n",
    "* **Reshaping** -- reshapes an input tensor to a defined shape\n",
    "* **View** -- return a view of an input tensor of a certain shape but keep the same memory as the original tensor\n",
    "* **Stacking** -- combine multiple tensors on top of each other (vstack) or side by side (hstack)\n",
    "* **Squeezing** -- removes a `1` dimension from a tensor\n",
    "* **Unsqueezing** -- adds a `1` dimension to a target tensor\n",
    "* **Permute** -- return a view of the input with dimensions permuted (swapped) in a certain way"
   ]
  },
  {
   "cell_type": "code",
   "execution_count": 36,
   "id": "2695ab37",
   "metadata": {
    "execution": {
     "iopub.execute_input": "2024-03-19T12:46:47.622080Z",
     "iopub.status.busy": "2024-03-19T12:46:47.621721Z",
     "iopub.status.idle": "2024-03-19T12:46:47.628814Z",
     "shell.execute_reply": "2024-03-19T12:46:47.627798Z"
    },
    "papermill": {
     "duration": 0.031866,
     "end_time": "2024-03-19T12:46:47.630933",
     "exception": false,
     "start_time": "2024-03-19T12:46:47.599067",
     "status": "completed"
    },
    "tags": []
   },
   "outputs": [
    {
     "name": "stdout",
     "output_type": "stream",
     "text": [
      "Previous Tensor: tensor([ 0, 10, 20, 30, 40, 50, 60, 70, 80, 90])\n",
      "Previous Shape: torch.Size([10])\n",
      "\n",
      "New Tensor: tensor([[ 0, 10, 20, 30, 40, 50, 60, 70, 80, 90]])\n",
      "New Shape: torch.Size([1, 10])\n"
     ]
    }
   ],
   "source": [
    "# Reshaping\n",
    "print(f'Previous Tensor: {x}')\n",
    "print(f'Previous Shape: {x.shape}')\n",
    "\n",
    "x_reshaped = x.reshape(1, 10)\n",
    "\n",
    "print(f'\\nNew Tensor: {x_reshaped}')\n",
    "print(f'New Shape: {x_reshaped.shape}')"
   ]
  },
  {
   "cell_type": "code",
   "execution_count": 37,
   "id": "8dfcf284",
   "metadata": {
    "execution": {
     "iopub.execute_input": "2024-03-19T12:46:47.675899Z",
     "iopub.status.busy": "2024-03-19T12:46:47.675529Z",
     "iopub.status.idle": "2024-03-19T12:46:47.682561Z",
     "shell.execute_reply": "2024-03-19T12:46:47.681679Z"
    },
    "papermill": {
     "duration": 0.03122,
     "end_time": "2024-03-19T12:46:47.684489",
     "exception": false,
     "start_time": "2024-03-19T12:46:47.653269",
     "status": "completed"
    },
    "tags": []
   },
   "outputs": [
    {
     "data": {
      "text/plain": [
       "(tensor([[ 0, 10],\n",
       "         [20, 30],\n",
       "         [40, 50],\n",
       "         [60, 70],\n",
       "         [80, 90]]),\n",
       " torch.Size([5, 2]))"
      ]
     },
     "execution_count": 37,
     "metadata": {},
     "output_type": "execute_result"
    }
   ],
   "source": [
    "# Change the view\n",
    "z = x.view(5, 2)\n",
    "z, z.shape"
   ]
  },
  {
   "cell_type": "code",
   "execution_count": 38,
   "id": "2aa60474",
   "metadata": {
    "execution": {
     "iopub.execute_input": "2024-03-19T12:46:47.729333Z",
     "iopub.status.busy": "2024-03-19T12:46:47.728985Z",
     "iopub.status.idle": "2024-03-19T12:46:47.737267Z",
     "shell.execute_reply": "2024-03-19T12:46:47.736381Z"
    },
    "papermill": {
     "duration": 0.033119,
     "end_time": "2024-03-19T12:46:47.739242",
     "exception": false,
     "start_time": "2024-03-19T12:46:47.706123",
     "status": "completed"
    },
    "tags": []
   },
   "outputs": [
    {
     "data": {
      "text/plain": [
       "tensor([[ 0,  0,  0,  0],\n",
       "        [10, 10, 10, 10],\n",
       "        [20, 20, 20, 20],\n",
       "        [30, 30, 30, 30],\n",
       "        [40, 40, 40, 40],\n",
       "        [50, 50, 50, 50],\n",
       "        [60, 60, 60, 60],\n",
       "        [70, 70, 70, 70],\n",
       "        [80, 80, 80, 80],\n",
       "        [90, 90, 90, 90]])"
      ]
     },
     "execution_count": 38,
     "metadata": {},
     "output_type": "execute_result"
    }
   ],
   "source": [
    "# Stack tensors on top of each other\n",
    "x_stacked = torch.stack([x, x, x, x], dim=1)\n",
    "x_stacked"
   ]
  },
  {
   "cell_type": "code",
   "execution_count": 39,
   "id": "7cc0ab5c",
   "metadata": {
    "execution": {
     "iopub.execute_input": "2024-03-19T12:46:47.784915Z",
     "iopub.status.busy": "2024-03-19T12:46:47.784079Z",
     "iopub.status.idle": "2024-03-19T12:46:47.791208Z",
     "shell.execute_reply": "2024-03-19T12:46:47.790032Z"
    },
    "papermill": {
     "duration": 0.032058,
     "end_time": "2024-03-19T12:46:47.793084",
     "exception": false,
     "start_time": "2024-03-19T12:46:47.761026",
     "status": "completed"
    },
    "tags": []
   },
   "outputs": [
    {
     "name": "stdout",
     "output_type": "stream",
     "text": [
      "Previous Tensor: tensor([[ 0, 10, 20, 30, 40, 50, 60, 70, 80, 90]])\n",
      "Previous Shape: torch.Size([1, 10])\n",
      "\n",
      "New Tensor: tensor([ 0, 10, 20, 30, 40, 50, 60, 70, 80, 90])\n",
      "New Shape: torch.Size([10])\n"
     ]
    }
   ],
   "source": [
    "# Squeezing tensors\n",
    "print(f'Previous Tensor: {x_reshaped}')\n",
    "print(f'Previous Shape: {x_reshaped.shape}')\n",
    "\n",
    "x_squeezed = x_reshaped.squeeze()\n",
    "\n",
    "print(f'\\nNew Tensor: {x_squeezed}')\n",
    "print(f'New Shape: {x_squeezed.shape}')"
   ]
  },
  {
   "cell_type": "code",
   "execution_count": 40,
   "id": "4c88db7a",
   "metadata": {
    "execution": {
     "iopub.execute_input": "2024-03-19T12:46:47.842308Z",
     "iopub.status.busy": "2024-03-19T12:46:47.841944Z",
     "iopub.status.idle": "2024-03-19T12:46:47.849796Z",
     "shell.execute_reply": "2024-03-19T12:46:47.848687Z"
    },
    "papermill": {
     "duration": 0.032781,
     "end_time": "2024-03-19T12:46:47.851709",
     "exception": false,
     "start_time": "2024-03-19T12:46:47.818928",
     "status": "completed"
    },
    "tags": []
   },
   "outputs": [
    {
     "name": "stdout",
     "output_type": "stream",
     "text": [
      "Previous Tensor: tensor([ 0, 10, 20, 30, 40, 50, 60, 70, 80, 90])\n",
      "Previous Shape: torch.Size([10])\n",
      "\n",
      "New Tensor: tensor([[ 0, 10, 20, 30, 40, 50, 60, 70, 80, 90]])\n",
      "New Shape: torch.Size([1, 10])\n"
     ]
    }
   ],
   "source": [
    "# Unsqueezing tensors\n",
    "print(f'Previous Tensor: {x_squeezed}')\n",
    "print(f'Previous Shape: {x_squeezed.shape}')\n",
    "\n",
    "x_unsqueezed = x_squeezed.unsqueeze(dim=0)\n",
    "\n",
    "print(f'\\nNew Tensor: {x_unsqueezed}')\n",
    "print(f'New Shape: {x_unsqueezed.shape}')"
   ]
  },
  {
   "cell_type": "code",
   "execution_count": 41,
   "id": "91bb0cd4",
   "metadata": {
    "execution": {
     "iopub.execute_input": "2024-03-19T12:46:47.896812Z",
     "iopub.status.busy": "2024-03-19T12:46:47.896417Z",
     "iopub.status.idle": "2024-03-19T12:46:47.903856Z",
     "shell.execute_reply": "2024-03-19T12:46:47.902824Z"
    },
    "papermill": {
     "duration": 0.032023,
     "end_time": "2024-03-19T12:46:47.905776",
     "exception": false,
     "start_time": "2024-03-19T12:46:47.873753",
     "status": "completed"
    },
    "tags": []
   },
   "outputs": [
    {
     "name": "stdout",
     "output_type": "stream",
     "text": [
      "Previous shape: torch.Size([224, 224, 3])\n",
      "New shape: torch.Size([3, 224, 224])\n"
     ]
    }
   ],
   "source": [
    "# Permutation\n",
    "x_original = torch.rand(size=(224, 224, 3)) # height, width, colour channels\n",
    "\n",
    "x_permuted = x_original.permute(2, 0, 1) # shift 0->1, 1->2, 2->0\n",
    "\n",
    "print(f'Previous shape: {x_original.shape}')\n",
    "print(f'New shape: {x_permuted.shape}') # colour channels, height, width"
   ]
  },
  {
   "cell_type": "markdown",
   "id": "ecdb78e3",
   "metadata": {
    "papermill": {
     "duration": 0.022043,
     "end_time": "2024-03-19T12:46:47.950178",
     "exception": false,
     "start_time": "2024-03-19T12:46:47.928135",
     "status": "completed"
    },
    "tags": []
   },
   "source": [
    "## Indexing (selecting data from tensors)"
   ]
  },
  {
   "cell_type": "code",
   "execution_count": 42,
   "id": "d0a23dfc",
   "metadata": {
    "execution": {
     "iopub.execute_input": "2024-03-19T12:46:47.996861Z",
     "iopub.status.busy": "2024-03-19T12:46:47.996150Z",
     "iopub.status.idle": "2024-03-19T12:46:48.002819Z",
     "shell.execute_reply": "2024-03-19T12:46:48.001965Z"
    },
    "papermill": {
     "duration": 0.032963,
     "end_time": "2024-03-19T12:46:48.004776",
     "exception": false,
     "start_time": "2024-03-19T12:46:47.971813",
     "status": "completed"
    },
    "tags": []
   },
   "outputs": [
    {
     "data": {
      "text/plain": [
       "(tensor([[[1, 2, 3],\n",
       "          [4, 5, 6],\n",
       "          [7, 8, 9]]]),\n",
       " torch.Size([1, 3, 3]))"
      ]
     },
     "execution_count": 42,
     "metadata": {},
     "output_type": "execute_result"
    }
   ],
   "source": [
    "x = torch.arange(1, 10).reshape(1, 3, 3)\n",
    "x, x.shape"
   ]
  },
  {
   "cell_type": "code",
   "execution_count": 43,
   "id": "5bc59b19",
   "metadata": {
    "execution": {
     "iopub.execute_input": "2024-03-19T12:46:48.049873Z",
     "iopub.status.busy": "2024-03-19T12:46:48.049206Z",
     "iopub.status.idle": "2024-03-19T12:46:48.055735Z",
     "shell.execute_reply": "2024-03-19T12:46:48.054736Z"
    },
    "papermill": {
     "duration": 0.03146,
     "end_time": "2024-03-19T12:46:48.057816",
     "exception": false,
     "start_time": "2024-03-19T12:46:48.026356",
     "status": "completed"
    },
    "tags": []
   },
   "outputs": [
    {
     "name": "stdout",
     "output_type": "stream",
     "text": [
      "Index on the first bracket: \n",
      "tensor([[1, 2, 3],\n",
      "        [4, 5, 6],\n",
      "        [7, 8, 9]])\n",
      "\n",
      "Index on the middle bracket: tensor([1, 2, 3])\n",
      "\n",
      "Index on the inner bracket: 1\n"
     ]
    }
   ],
   "source": [
    "print(f'Index on the first bracket: \\n{x[0]}')\n",
    "print(f'\\nIndex on the middle bracket: {x[0][0]}')\n",
    "print(f'\\nIndex on the inner bracket: {x[0, 0, 0]}')"
   ]
  },
  {
   "cell_type": "code",
   "execution_count": 44,
   "id": "62e18bc0",
   "metadata": {
    "execution": {
     "iopub.execute_input": "2024-03-19T12:46:48.103453Z",
     "iopub.status.busy": "2024-03-19T12:46:48.102637Z",
     "iopub.status.idle": "2024-03-19T12:46:48.110210Z",
     "shell.execute_reply": "2024-03-19T12:46:48.109357Z"
    },
    "papermill": {
     "duration": 0.032682,
     "end_time": "2024-03-19T12:46:48.112175",
     "exception": false,
     "start_time": "2024-03-19T12:46:48.079493",
     "status": "completed"
    },
    "tags": []
   },
   "outputs": [
    {
     "data": {
      "text/plain": [
       "(tensor([[1, 2, 3]]), tensor([[3, 6, 9]]), tensor([[4, 5, 6]]))"
      ]
     },
     "execution_count": 44,
     "metadata": {},
     "output_type": "execute_result"
    }
   ],
   "source": [
    "# ':' all of target dimension\n",
    "x[:, 0], x[:, :, 2], x[:, 1, :]"
   ]
  },
  {
   "cell_type": "markdown",
   "id": "1976f5cd",
   "metadata": {
    "papermill": {
     "duration": 0.0216,
     "end_time": "2024-03-19T12:46:48.155707",
     "exception": false,
     "start_time": "2024-03-19T12:46:48.134107",
     "status": "completed"
    },
    "tags": []
   },
   "source": [
    "## Pytorch Tensors & NumPy\n",
    "\n",
    "* Data in NumPy -> Pytorch Tensor: `torch.from_numpy(ndarray)`\n",
    "* Pytorch Tensor -> NumPy: `torch.Tensor.numpy()`"
   ]
  },
  {
   "cell_type": "code",
   "execution_count": 45,
   "id": "4a1b4afe",
   "metadata": {
    "execution": {
     "iopub.execute_input": "2024-03-19T12:46:48.201088Z",
     "iopub.status.busy": "2024-03-19T12:46:48.200737Z",
     "iopub.status.idle": "2024-03-19T12:46:48.209028Z",
     "shell.execute_reply": "2024-03-19T12:46:48.208067Z"
    },
    "papermill": {
     "duration": 0.033456,
     "end_time": "2024-03-19T12:46:48.211047",
     "exception": false,
     "start_time": "2024-03-19T12:46:48.177591",
     "status": "completed"
    },
    "tags": []
   },
   "outputs": [
    {
     "data": {
      "text/plain": [
       "(array([1., 2., 3., 4., 5., 6., 7.]),\n",
       " tensor([1., 2., 3., 4., 5., 6., 7.], dtype=torch.float64))"
      ]
     },
     "execution_count": 45,
     "metadata": {},
     "output_type": "execute_result"
    }
   ],
   "source": [
    "import numpy as np\n",
    "\n",
    "# Numpy array to Pytorch tensor \n",
    "array = np.arange(1.0, 8.0)\n",
    "tensor = torch.from_numpy(array) # pytorch reflects numpy's default datatype of float64\n",
    "array, tensor"
   ]
  },
  {
   "cell_type": "code",
   "execution_count": 46,
   "id": "712ac6bc",
   "metadata": {
    "execution": {
     "iopub.execute_input": "2024-03-19T12:46:48.262419Z",
     "iopub.status.busy": "2024-03-19T12:46:48.262062Z",
     "iopub.status.idle": "2024-03-19T12:46:48.270419Z",
     "shell.execute_reply": "2024-03-19T12:46:48.269511Z"
    },
    "papermill": {
     "duration": 0.035912,
     "end_time": "2024-03-19T12:46:48.272512",
     "exception": false,
     "start_time": "2024-03-19T12:46:48.236600",
     "status": "completed"
    },
    "tags": []
   },
   "outputs": [
    {
     "data": {
      "text/plain": [
       "(tensor([1., 1., 1., 1., 1., 1., 1.]),\n",
       " array([1., 1., 1., 1., 1., 1., 1.], dtype=float32))"
      ]
     },
     "execution_count": 46,
     "metadata": {},
     "output_type": "execute_result"
    }
   ],
   "source": [
    "# Pytorch tensor to Numpy array\n",
    "tensor = torch.ones(7)\n",
    "array = tensor.numpy() \n",
    "tensor, array"
   ]
  },
  {
   "cell_type": "markdown",
   "id": "7bbc1fab",
   "metadata": {
    "papermill": {
     "duration": 0.022614,
     "end_time": "2024-03-19T12:46:48.318472",
     "exception": false,
     "start_time": "2024-03-19T12:46:48.295858",
     "status": "completed"
    },
    "tags": []
   },
   "source": [
    "## Reproducibility (trying to take random out of random)\n",
    "\n",
    "A Neural Network Learning Process:\n",
    "\n",
    "`start with random numbers -> tensor operations -> update random numbers to try and make them better representations of the data -> again -> again...`\n",
    "\n",
    "To reduce the randomness in neural networks and PyTorch comes the concept of a **random seed**."
   ]
  },
  {
   "cell_type": "code",
   "execution_count": 47,
   "id": "d7071cfc",
   "metadata": {
    "execution": {
     "iopub.execute_input": "2024-03-19T12:46:48.365001Z",
     "iopub.status.busy": "2024-03-19T12:46:48.364354Z",
     "iopub.status.idle": "2024-03-19T12:46:48.372381Z",
     "shell.execute_reply": "2024-03-19T12:46:48.371164Z"
    },
    "papermill": {
     "duration": 0.033472,
     "end_time": "2024-03-19T12:46:48.374376",
     "exception": false,
     "start_time": "2024-03-19T12:46:48.340904",
     "status": "completed"
    },
    "tags": []
   },
   "outputs": [
    {
     "name": "stdout",
     "output_type": "stream",
     "text": [
      "tensor([[0.7085, 0.6663, 0.6937, 0.5619],\n",
      "        [0.5185, 0.3473, 0.0680, 0.5088],\n",
      "        [0.3347, 0.1601, 0.2272, 0.2386]])\n",
      "tensor([[0.4268, 0.6608, 0.1347, 0.2093],\n",
      "        [0.3486, 0.0512, 0.7373, 0.1450],\n",
      "        [0.6515, 0.1775, 0.1729, 0.9063]])\n",
      "tensor([[False, False, False, False],\n",
      "        [False, False, False, False],\n",
      "        [False, False, False, False]])\n"
     ]
    }
   ],
   "source": [
    "# Create two random tensors \n",
    "random_tensor_A = torch.rand(3, 4)\n",
    "random_tensor_B = torch.rand(3, 4)\n",
    "\n",
    "print(random_tensor_A)\n",
    "print(random_tensor_B)\n",
    "print(random_tensor_A == random_tensor_B)"
   ]
  },
  {
   "cell_type": "code",
   "execution_count": 48,
   "id": "4c995579",
   "metadata": {
    "execution": {
     "iopub.execute_input": "2024-03-19T12:46:48.422222Z",
     "iopub.status.busy": "2024-03-19T12:46:48.421487Z",
     "iopub.status.idle": "2024-03-19T12:46:48.432190Z",
     "shell.execute_reply": "2024-03-19T12:46:48.431100Z"
    },
    "papermill": {
     "duration": 0.037374,
     "end_time": "2024-03-19T12:46:48.434266",
     "exception": false,
     "start_time": "2024-03-19T12:46:48.396892",
     "status": "completed"
    },
    "tags": []
   },
   "outputs": [
    {
     "name": "stdout",
     "output_type": "stream",
     "text": [
      "tensor([[0.8823, 0.9150, 0.3829, 0.9593],\n",
      "        [0.3904, 0.6009, 0.2566, 0.7936],\n",
      "        [0.9408, 0.1332, 0.9346, 0.5936]])\n",
      "tensor([[0.8823, 0.9150, 0.3829, 0.9593],\n",
      "        [0.3904, 0.6009, 0.2566, 0.7936],\n",
      "        [0.9408, 0.1332, 0.9346, 0.5936]])\n",
      "tensor([[True, True, True, True],\n",
      "        [True, True, True, True],\n",
      "        [True, True, True, True]])\n"
     ]
    }
   ],
   "source": [
    "# Set the random seed\n",
    "RANDOM_SEED = 42\n",
    "\n",
    "torch.manual_seed(RANDOM_SEED)\n",
    "random_tensor_C = torch.rand(3, 4)\n",
    "\n",
    "torch.manual_seed(RANDOM_SEED)\n",
    "random_tensor_D = torch.rand(3, 4)\n",
    "\n",
    "print(random_tensor_C)\n",
    "print(random_tensor_D)\n",
    "print(random_tensor_C == random_tensor_D)"
   ]
  },
  {
   "cell_type": "markdown",
   "id": "696e82d8",
   "metadata": {
    "papermill": {
     "duration": 0.022081,
     "end_time": "2024-03-19T12:46:48.479833",
     "exception": false,
     "start_time": "2024-03-19T12:46:48.457752",
     "status": "completed"
    },
    "tags": []
   },
   "source": [
    "## Running Tensors and Pytorch objects on the GPUs "
   ]
  },
  {
   "cell_type": "code",
   "execution_count": 49,
   "id": "b99c1522",
   "metadata": {
    "execution": {
     "iopub.execute_input": "2024-03-19T12:46:48.527023Z",
     "iopub.status.busy": "2024-03-19T12:46:48.526245Z",
     "iopub.status.idle": "2024-03-19T12:46:49.553116Z",
     "shell.execute_reply": "2024-03-19T12:46:49.551855Z"
    },
    "papermill": {
     "duration": 1.053674,
     "end_time": "2024-03-19T12:46:49.555779",
     "exception": false,
     "start_time": "2024-03-19T12:46:48.502105",
     "status": "completed"
    },
    "tags": []
   },
   "outputs": [
    {
     "name": "stdout",
     "output_type": "stream",
     "text": [
      "Tue Mar 19 12:46:49 2024       \r\n",
      "+---------------------------------------------------------------------------------------+\r\n",
      "| NVIDIA-SMI 535.129.03             Driver Version: 535.129.03   CUDA Version: 12.2     |\r\n",
      "|-----------------------------------------+----------------------+----------------------+\r\n",
      "| GPU  Name                 Persistence-M | Bus-Id        Disp.A | Volatile Uncorr. ECC |\r\n",
      "| Fan  Temp   Perf          Pwr:Usage/Cap |         Memory-Usage | GPU-Util  Compute M. |\r\n",
      "|                                         |                      |               MIG M. |\r\n",
      "|=========================================+======================+======================|\r\n",
      "|   0  Tesla P100-PCIE-16GB           Off | 00000000:00:04.0 Off |                    0 |\r\n",
      "| N/A   36C    P0              26W / 250W |      0MiB / 16384MiB |      0%      Default |\r\n",
      "|                                         |                      |                  N/A |\r\n",
      "+-----------------------------------------+----------------------+----------------------+\r\n",
      "                                                                                         \r\n",
      "+---------------------------------------------------------------------------------------+\r\n",
      "| Processes:                                                                            |\r\n",
      "|  GPU   GI   CI        PID   Type   Process name                            GPU Memory |\r\n",
      "|        ID   ID                                                             Usage      |\r\n",
      "|=======================================================================================|\r\n",
      "|  No running processes found                                                           |\r\n",
      "+---------------------------------------------------------------------------------------+\r\n"
     ]
    }
   ],
   "source": [
    " !nvidia-smi"
   ]
  },
  {
   "cell_type": "markdown",
   "id": "acd3e55a",
   "metadata": {
    "papermill": {
     "duration": 0.025233,
     "end_time": "2024-03-19T12:46:49.607204",
     "exception": false,
     "start_time": "2024-03-19T12:46:49.581971",
     "status": "completed"
    },
    "tags": []
   },
   "source": [
    "### Check for GPU access with Pytorch"
   ]
  },
  {
   "cell_type": "code",
   "execution_count": 50,
   "id": "c86bd0bb",
   "metadata": {
    "execution": {
     "iopub.execute_input": "2024-03-19T12:46:49.660264Z",
     "iopub.status.busy": "2024-03-19T12:46:49.659407Z",
     "iopub.status.idle": "2024-03-19T12:46:49.718809Z",
     "shell.execute_reply": "2024-03-19T12:46:49.717737Z"
    },
    "papermill": {
     "duration": 0.088131,
     "end_time": "2024-03-19T12:46:49.720990",
     "exception": false,
     "start_time": "2024-03-19T12:46:49.632859",
     "status": "completed"
    },
    "tags": []
   },
   "outputs": [
    {
     "data": {
      "text/plain": [
       "True"
      ]
     },
     "execution_count": 50,
     "metadata": {},
     "output_type": "execute_result"
    }
   ],
   "source": [
    "torch.cuda.is_available()"
   ]
  },
  {
   "cell_type": "code",
   "execution_count": 51,
   "id": "e6bdf1be",
   "metadata": {
    "execution": {
     "iopub.execute_input": "2024-03-19T12:46:49.774208Z",
     "iopub.status.busy": "2024-03-19T12:46:49.773286Z",
     "iopub.status.idle": "2024-03-19T12:46:49.779883Z",
     "shell.execute_reply": "2024-03-19T12:46:49.778951Z"
    },
    "papermill": {
     "duration": 0.035121,
     "end_time": "2024-03-19T12:46:49.781943",
     "exception": false,
     "start_time": "2024-03-19T12:46:49.746822",
     "status": "completed"
    },
    "tags": []
   },
   "outputs": [
    {
     "data": {
      "text/plain": [
       "'cuda'"
      ]
     },
     "execution_count": 51,
     "metadata": {},
     "output_type": "execute_result"
    }
   ],
   "source": [
    "device = 'cuda' if torch.cuda.is_available() else 'cpu'\n",
    "device"
   ]
  },
  {
   "cell_type": "code",
   "execution_count": 52,
   "id": "2985bf73",
   "metadata": {
    "execution": {
     "iopub.execute_input": "2024-03-19T12:46:49.833975Z",
     "iopub.status.busy": "2024-03-19T12:46:49.833130Z",
     "iopub.status.idle": "2024-03-19T12:46:49.863345Z",
     "shell.execute_reply": "2024-03-19T12:46:49.862352Z"
    },
    "papermill": {
     "duration": 0.058609,
     "end_time": "2024-03-19T12:46:49.865700",
     "exception": false,
     "start_time": "2024-03-19T12:46:49.807091",
     "status": "completed"
    },
    "tags": []
   },
   "outputs": [
    {
     "data": {
      "text/plain": [
       "1"
      ]
     },
     "execution_count": 52,
     "metadata": {},
     "output_type": "execute_result"
    }
   ],
   "source": [
    "torch.cuda.device_count()"
   ]
  },
  {
   "cell_type": "markdown",
   "id": "bfe1c825",
   "metadata": {
    "papermill": {
     "duration": 0.024625,
     "end_time": "2024-03-19T12:46:49.915940",
     "exception": false,
     "start_time": "2024-03-19T12:46:49.891315",
     "status": "completed"
    },
    "tags": []
   },
   "source": [
    "### Putting tensors  (and models) on the GPU\n",
    "\n",
    "GPU results in faster computations."
   ]
  },
  {
   "cell_type": "code",
   "execution_count": 53,
   "id": "4bc8c738",
   "metadata": {
    "execution": {
     "iopub.execute_input": "2024-03-19T12:46:49.967426Z",
     "iopub.status.busy": "2024-03-19T12:46:49.967028Z",
     "iopub.status.idle": "2024-03-19T12:46:49.974398Z",
     "shell.execute_reply": "2024-03-19T12:46:49.973498Z"
    },
    "papermill": {
     "duration": 0.035896,
     "end_time": "2024-03-19T12:46:49.976695",
     "exception": false,
     "start_time": "2024-03-19T12:46:49.940799",
     "status": "completed"
    },
    "tags": []
   },
   "outputs": [
    {
     "data": {
      "text/plain": [
       "(tensor([1, 2, 3]), device(type='cpu'))"
      ]
     },
     "execution_count": 53,
     "metadata": {},
     "output_type": "execute_result"
    }
   ],
   "source": [
    "tensor = torch.tensor([1, 2, 3])\n",
    "tensor, tensor.device"
   ]
  },
  {
   "cell_type": "code",
   "execution_count": 54,
   "id": "42042c88",
   "metadata": {
    "execution": {
     "iopub.execute_input": "2024-03-19T12:46:50.028821Z",
     "iopub.status.busy": "2024-03-19T12:46:50.028439Z",
     "iopub.status.idle": "2024-03-19T12:46:50.168284Z",
     "shell.execute_reply": "2024-03-19T12:46:50.167261Z"
    },
    "papermill": {
     "duration": 0.168199,
     "end_time": "2024-03-19T12:46:50.170540",
     "exception": false,
     "start_time": "2024-03-19T12:46:50.002341",
     "status": "completed"
    },
    "tags": []
   },
   "outputs": [
    {
     "data": {
      "text/plain": [
       "tensor([1, 2, 3], device='cuda:0')"
      ]
     },
     "execution_count": 54,
     "metadata": {},
     "output_type": "execute_result"
    }
   ],
   "source": [
    "tensor_on_gpu = tensor.to(device)\n",
    "tensor_on_gpu"
   ]
  },
  {
   "cell_type": "markdown",
   "id": "fd3b47c2",
   "metadata": {
    "papermill": {
     "duration": 0.024657,
     "end_time": "2024-03-19T12:46:50.220138",
     "exception": false,
     "start_time": "2024-03-19T12:46:50.195481",
     "status": "completed"
    },
    "tags": []
   },
   "source": [
    "### Moving back to the CPU"
   ]
  },
  {
   "cell_type": "code",
   "execution_count": 55,
   "id": "d00c6db6",
   "metadata": {
    "execution": {
     "iopub.execute_input": "2024-03-19T12:46:50.273125Z",
     "iopub.status.busy": "2024-03-19T12:46:50.272468Z",
     "iopub.status.idle": "2024-03-19T12:46:50.279274Z",
     "shell.execute_reply": "2024-03-19T12:46:50.278418Z"
    },
    "papermill": {
     "duration": 0.033981,
     "end_time": "2024-03-19T12:46:50.281395",
     "exception": false,
     "start_time": "2024-03-19T12:46:50.247414",
     "status": "completed"
    },
    "tags": []
   },
   "outputs": [
    {
     "data": {
      "text/plain": [
       "array([1, 2, 3])"
      ]
     },
     "execution_count": 55,
     "metadata": {},
     "output_type": "execute_result"
    }
   ],
   "source": [
    "# tensor_back_on_gpu.numpy() # will result an error\n",
    "tensor_back_on_cpu = tensor_on_gpu.cpu().numpy()\n",
    "tensor_back_on_cpu"
   ]
  }
 ],
 "metadata": {
  "kaggle": {
   "accelerator": "gpu",
   "dataSources": [],
   "dockerImageVersionId": 30664,
   "isGpuEnabled": true,
   "isInternetEnabled": true,
   "language": "python",
   "sourceType": "notebook"
  },
  "kernelspec": {
   "display_name": "Python 3",
   "language": "python",
   "name": "python3"
  },
  "language_info": {
   "codemirror_mode": {
    "name": "ipython",
    "version": 3
   },
   "file_extension": ".py",
   "mimetype": "text/x-python",
   "name": "python",
   "nbconvert_exporter": "python",
   "pygments_lexer": "ipython3",
   "version": "3.10.13"
  },
  "papermill": {
   "default_parameters": {},
   "duration": 13.590326,
   "end_time": "2024-03-19T12:46:51.628740",
   "environment_variables": {},
   "exception": null,
   "input_path": "__notebook__.ipynb",
   "output_path": "__notebook__.ipynb",
   "parameters": {},
   "start_time": "2024-03-19T12:46:38.038414",
   "version": "2.5.0"
  }
 },
 "nbformat": 4,
 "nbformat_minor": 5
}
