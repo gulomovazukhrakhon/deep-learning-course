{
 "cells": [
  {
   "cell_type": "markdown",
   "id": "e40a689b",
   "metadata": {
    "papermill": {
     "duration": 0.010994,
     "end_time": "2024-01-17T15:40:21.301611",
     "exception": false,
     "start_time": "2024-01-17T15:40:21.290617",
     "status": "completed"
    },
    "tags": []
   },
   "source": [
    "# Introduction to Keras"
   ]
  },
  {
   "cell_type": "code",
   "execution_count": 1,
   "id": "08595308",
   "metadata": {
    "collapsed": true,
    "execution": {
     "iopub.execute_input": "2024-01-17T15:40:21.324900Z",
     "iopub.status.busy": "2024-01-17T15:40:21.324184Z",
     "iopub.status.idle": "2024-01-17T15:40:49.542522Z",
     "shell.execute_reply": "2024-01-17T15:40:49.541367Z"
    },
    "jupyter": {
     "outputs_hidden": true
    },
    "papermill": {
     "duration": 28.232638,
     "end_time": "2024-01-17T15:40:49.544971",
     "exception": false,
     "start_time": "2024-01-17T15:40:21.312333",
     "status": "completed"
    },
    "scrolled": true,
    "tags": []
   },
   "outputs": [
    {
     "name": "stdout",
     "output_type": "stream",
     "text": [
      "Requirement already satisfied: keras in /opt/conda/lib/python3.10/site-packages (2.13.1)\r\n",
      "Collecting keras\r\n",
      "  Obtaining dependency information for keras from https://files.pythonhosted.org/packages/ca/48/643d21747d52fa380f572f76c493779fc5b4bd03605247209d2dd0a6d9a9/keras-3.0.2-py3-none-any.whl.metadata\r\n",
      "  Downloading keras-3.0.2-py3-none-any.whl.metadata (4.8 kB)\r\n",
      "Requirement already satisfied: absl-py in /opt/conda/lib/python3.10/site-packages (from keras) (1.4.0)\r\n",
      "Requirement already satisfied: numpy in /opt/conda/lib/python3.10/site-packages (from keras) (1.24.3)\r\n",
      "Requirement already satisfied: rich in /opt/conda/lib/python3.10/site-packages (from keras) (13.5.2)\r\n",
      "Requirement already satisfied: namex in /opt/conda/lib/python3.10/site-packages (from keras) (0.0.7)\r\n",
      "Requirement already satisfied: h5py in /opt/conda/lib/python3.10/site-packages (from keras) (3.9.0)\r\n",
      "Requirement already satisfied: dm-tree in /opt/conda/lib/python3.10/site-packages (from keras) (0.1.8)\r\n",
      "Requirement already satisfied: markdown-it-py>=2.2.0 in /opt/conda/lib/python3.10/site-packages (from rich->keras) (3.0.0)\r\n",
      "Requirement already satisfied: pygments<3.0.0,>=2.13.0 in /opt/conda/lib/python3.10/site-packages (from rich->keras) (2.16.1)\r\n",
      "Requirement already satisfied: mdurl~=0.1 in /opt/conda/lib/python3.10/site-packages (from markdown-it-py>=2.2.0->rich->keras) (0.1.2)\r\n",
      "Downloading keras-3.0.2-py3-none-any.whl (1.0 MB)\r\n",
      "\u001b[2K   \u001b[90m━━━━━━━━━━━━━━━━━━━━━━━━━━━━━━━━━━━━━━━━\u001b[0m \u001b[32m1.0/1.0 MB\u001b[0m \u001b[31m19.3 MB/s\u001b[0m eta \u001b[36m0:00:00\u001b[0m\r\n",
      "\u001b[?25hInstalling collected packages: keras\r\n",
      "  Attempting uninstall: keras\r\n",
      "    Found existing installation: keras 2.13.1\r\n",
      "    Uninstalling keras-2.13.1:\r\n",
      "      Successfully uninstalled keras-2.13.1\r\n",
      "\u001b[31mERROR: pip's dependency resolver does not currently take into account all the packages that are installed. This behaviour is the source of the following dependency conflicts.\r\n",
      "tensorflow 2.13.0 requires keras<2.14,>=2.13.1, but you have keras 3.0.2 which is incompatible.\r\n",
      "tensorflowjs 4.15.0 requires packaging~=23.1, but you have packaging 21.3 which is incompatible.\u001b[0m\u001b[31m\r\n",
      "\u001b[0mSuccessfully installed keras-3.0.2\r\n",
      "Requirement already satisfied: tensorflow in /opt/conda/lib/python3.10/site-packages (2.13.0)\r\n",
      "Requirement already satisfied: absl-py>=1.0.0 in /opt/conda/lib/python3.10/site-packages (from tensorflow) (1.4.0)\r\n",
      "Requirement already satisfied: astunparse>=1.6.0 in /opt/conda/lib/python3.10/site-packages (from tensorflow) (1.6.3)\r\n",
      "Requirement already satisfied: flatbuffers>=23.1.21 in /opt/conda/lib/python3.10/site-packages (from tensorflow) (23.5.26)\r\n",
      "Requirement already satisfied: gast<=0.4.0,>=0.2.1 in /opt/conda/lib/python3.10/site-packages (from tensorflow) (0.4.0)\r\n",
      "Requirement already satisfied: google-pasta>=0.1.1 in /opt/conda/lib/python3.10/site-packages (from tensorflow) (0.2.0)\r\n",
      "Requirement already satisfied: grpcio<2.0,>=1.24.3 in /opt/conda/lib/python3.10/site-packages (from tensorflow) (1.51.1)\r\n",
      "Requirement already satisfied: h5py>=2.9.0 in /opt/conda/lib/python3.10/site-packages (from tensorflow) (3.9.0)\r\n",
      "Collecting keras<2.14,>=2.13.1 (from tensorflow)\r\n",
      "  Obtaining dependency information for keras<2.14,>=2.13.1 from https://files.pythonhosted.org/packages/2e/f3/19da7511b45e80216cbbd9467137b2d28919c58ba1ccb971435cb631e470/keras-2.13.1-py3-none-any.whl.metadata\r\n",
      "  Downloading keras-2.13.1-py3-none-any.whl.metadata (2.4 kB)\r\n",
      "Requirement already satisfied: libclang>=13.0.0 in /opt/conda/lib/python3.10/site-packages (from tensorflow) (16.0.6)\r\n",
      "Requirement already satisfied: numpy<=1.24.3,>=1.22 in /opt/conda/lib/python3.10/site-packages (from tensorflow) (1.24.3)\r\n",
      "Requirement already satisfied: opt-einsum>=2.3.2 in /opt/conda/lib/python3.10/site-packages (from tensorflow) (3.3.0)\r\n",
      "Requirement already satisfied: packaging in /opt/conda/lib/python3.10/site-packages (from tensorflow) (21.3)\r\n",
      "Requirement already satisfied: protobuf!=4.21.0,!=4.21.1,!=4.21.2,!=4.21.3,!=4.21.4,!=4.21.5,<5.0.0dev,>=3.20.3 in /opt/conda/lib/python3.10/site-packages (from tensorflow) (3.20.3)\r\n",
      "Requirement already satisfied: setuptools in /opt/conda/lib/python3.10/site-packages (from tensorflow) (68.1.2)\r\n",
      "Requirement already satisfied: six>=1.12.0 in /opt/conda/lib/python3.10/site-packages (from tensorflow) (1.16.0)\r\n",
      "Requirement already satisfied: tensorboard<2.14,>=2.13 in /opt/conda/lib/python3.10/site-packages (from tensorflow) (2.13.0)\r\n",
      "Requirement already satisfied: tensorflow-estimator<2.14,>=2.13.0 in /opt/conda/lib/python3.10/site-packages (from tensorflow) (2.13.0)\r\n",
      "Requirement already satisfied: termcolor>=1.1.0 in /opt/conda/lib/python3.10/site-packages (from tensorflow) (2.3.0)\r\n",
      "Requirement already satisfied: typing-extensions<4.6.0,>=3.6.6 in /opt/conda/lib/python3.10/site-packages (from tensorflow) (4.5.0)\r\n",
      "Requirement already satisfied: wrapt>=1.11.0 in /opt/conda/lib/python3.10/site-packages (from tensorflow) (1.15.0)\r\n",
      "Requirement already satisfied: tensorflow-io-gcs-filesystem>=0.23.1 in /opt/conda/lib/python3.10/site-packages (from tensorflow) (0.34.0)\r\n",
      "Requirement already satisfied: wheel<1.0,>=0.23.0 in /opt/conda/lib/python3.10/site-packages (from astunparse>=1.6.0->tensorflow) (0.41.2)\r\n",
      "Requirement already satisfied: google-auth<3,>=1.6.3 in /opt/conda/lib/python3.10/site-packages (from tensorboard<2.14,>=2.13->tensorflow) (2.22.0)\r\n",
      "Requirement already satisfied: google-auth-oauthlib<1.1,>=0.5 in /opt/conda/lib/python3.10/site-packages (from tensorboard<2.14,>=2.13->tensorflow) (1.0.0)\r\n",
      "Requirement already satisfied: markdown>=2.6.8 in /opt/conda/lib/python3.10/site-packages (from tensorboard<2.14,>=2.13->tensorflow) (3.4.4)\r\n",
      "Requirement already satisfied: requests<3,>=2.21.0 in /opt/conda/lib/python3.10/site-packages (from tensorboard<2.14,>=2.13->tensorflow) (2.31.0)\r\n",
      "Requirement already satisfied: tensorboard-data-server<0.8.0,>=0.7.0 in /opt/conda/lib/python3.10/site-packages (from tensorboard<2.14,>=2.13->tensorflow) (0.7.1)\r\n",
      "Requirement already satisfied: werkzeug>=1.0.1 in /opt/conda/lib/python3.10/site-packages (from tensorboard<2.14,>=2.13->tensorflow) (3.0.1)\r\n",
      "Requirement already satisfied: pyparsing!=3.0.5,>=2.0.2 in /opt/conda/lib/python3.10/site-packages (from packaging->tensorflow) (3.0.9)\r\n",
      "Requirement already satisfied: cachetools<6.0,>=2.0.0 in /opt/conda/lib/python3.10/site-packages (from google-auth<3,>=1.6.3->tensorboard<2.14,>=2.13->tensorflow) (4.2.4)\r\n",
      "Requirement already satisfied: pyasn1-modules>=0.2.1 in /opt/conda/lib/python3.10/site-packages (from google-auth<3,>=1.6.3->tensorboard<2.14,>=2.13->tensorflow) (0.2.7)\r\n",
      "Requirement already satisfied: rsa<5,>=3.1.4 in /opt/conda/lib/python3.10/site-packages (from google-auth<3,>=1.6.3->tensorboard<2.14,>=2.13->tensorflow) (4.9)\r\n",
      "Requirement already satisfied: urllib3<2.0 in /opt/conda/lib/python3.10/site-packages (from google-auth<3,>=1.6.3->tensorboard<2.14,>=2.13->tensorflow) (1.26.15)\r\n",
      "Requirement already satisfied: requests-oauthlib>=0.7.0 in /opt/conda/lib/python3.10/site-packages (from google-auth-oauthlib<1.1,>=0.5->tensorboard<2.14,>=2.13->tensorflow) (1.3.1)\r\n",
      "Requirement already satisfied: charset-normalizer<4,>=2 in /opt/conda/lib/python3.10/site-packages (from requests<3,>=2.21.0->tensorboard<2.14,>=2.13->tensorflow) (3.2.0)\r\n",
      "Requirement already satisfied: idna<4,>=2.5 in /opt/conda/lib/python3.10/site-packages (from requests<3,>=2.21.0->tensorboard<2.14,>=2.13->tensorflow) (3.4)\r\n",
      "Requirement already satisfied: certifi>=2017.4.17 in /opt/conda/lib/python3.10/site-packages (from requests<3,>=2.21.0->tensorboard<2.14,>=2.13->tensorflow) (2023.11.17)\r\n",
      "Requirement already satisfied: MarkupSafe>=2.1.1 in /opt/conda/lib/python3.10/site-packages (from werkzeug>=1.0.1->tensorboard<2.14,>=2.13->tensorflow) (2.1.3)\r\n",
      "Requirement already satisfied: pyasn1<0.5.0,>=0.4.6 in /opt/conda/lib/python3.10/site-packages (from pyasn1-modules>=0.2.1->google-auth<3,>=1.6.3->tensorboard<2.14,>=2.13->tensorflow) (0.4.8)\r\n",
      "Requirement already satisfied: oauthlib>=3.0.0 in /opt/conda/lib/python3.10/site-packages (from requests-oauthlib>=0.7.0->google-auth-oauthlib<1.1,>=0.5->tensorboard<2.14,>=2.13->tensorflow) (3.2.2)\r\n",
      "Downloading keras-2.13.1-py3-none-any.whl (1.7 MB)\r\n",
      "\u001b[2K   \u001b[90m━━━━━━━━━━━━━━━━━━━━━━━━━━━━━━━━━━━━━━━━\u001b[0m \u001b[32m1.7/1.7 MB\u001b[0m \u001b[31m26.1 MB/s\u001b[0m eta \u001b[36m0:00:00\u001b[0m\r\n",
      "\u001b[?25hInstalling collected packages: keras\r\n",
      "  Attempting uninstall: keras\r\n",
      "    Found existing installation: keras 3.0.2\r\n",
      "    Uninstalling keras-3.0.2:\r\n",
      "      Successfully uninstalled keras-3.0.2\r\n",
      "\u001b[31mERROR: pip's dependency resolver does not currently take into account all the packages that are installed. This behaviour is the source of the following dependency conflicts.\r\n",
      "tensorflowjs 4.15.0 requires packaging~=23.1, but you have packaging 21.3 which is incompatible.\u001b[0m\u001b[31m\r\n",
      "\u001b[0mSuccessfully installed keras-2.13.1\r\n"
     ]
    }
   ],
   "source": [
    "!pip install keras --upgrade\n",
    "!pip install tensorflow"
   ]
  },
  {
   "cell_type": "markdown",
   "id": "b876ca6e",
   "metadata": {
    "papermill": {
     "duration": 0.012416,
     "end_time": "2024-01-17T15:40:49.570336",
     "exception": false,
     "start_time": "2024-01-17T15:40:49.557920",
     "status": "completed"
    },
    "tags": []
   },
   "source": [
    "## Notebook Imports"
   ]
  },
  {
   "cell_type": "code",
   "execution_count": 2,
   "id": "9b62f0f7",
   "metadata": {
    "execution": {
     "iopub.execute_input": "2024-01-17T15:40:49.598717Z",
     "iopub.status.busy": "2024-01-17T15:40:49.598054Z",
     "iopub.status.idle": "2024-01-17T15:41:01.703626Z",
     "shell.execute_reply": "2024-01-17T15:41:01.702818Z"
    },
    "papermill": {
     "duration": 12.122959,
     "end_time": "2024-01-17T15:41:01.706081",
     "exception": false,
     "start_time": "2024-01-17T15:40:49.583122",
     "status": "completed"
    },
    "tags": []
   },
   "outputs": [
    {
     "name": "stderr",
     "output_type": "stream",
     "text": [
      "/opt/conda/lib/python3.10/site-packages/scipy/__init__.py:146: UserWarning: A NumPy version >=1.16.5 and <1.23.0 is required for this version of SciPy (detected version 1.24.3\n",
      "  warnings.warn(f\"A NumPy version >={np_minversion} and <{np_maxversion}\"\n"
     ]
    }
   ],
   "source": [
    "from keras import models\n",
    "from keras import layers\n",
    "import numpy as np\n",
    "from random import randint\n",
    "from sklearn.utils import shuffle \n",
    "from sklearn.preprocessing import MinMaxScaler"
   ]
  },
  {
   "cell_type": "code",
   "execution_count": 3,
   "id": "8f17e074",
   "metadata": {
    "execution": {
     "iopub.execute_input": "2024-01-17T15:41:01.733830Z",
     "iopub.status.busy": "2024-01-17T15:41:01.733226Z",
     "iopub.status.idle": "2024-01-17T15:41:01.737637Z",
     "shell.execute_reply": "2024-01-17T15:41:01.736749Z"
    },
    "papermill": {
     "duration": 0.020331,
     "end_time": "2024-01-17T15:41:01.739608",
     "exception": false,
     "start_time": "2024-01-17T15:41:01.719277",
     "status": "completed"
    },
    "tags": []
   },
   "outputs": [],
   "source": [
    "train_labels = []\n",
    "train_samples = []"
   ]
  },
  {
   "cell_type": "markdown",
   "id": "b9156be0",
   "metadata": {
    "papermill": {
     "duration": 0.012572,
     "end_time": "2024-01-17T15:41:01.764995",
     "exception": false,
     "start_time": "2024-01-17T15:41:01.752423",
     "status": "completed"
    },
    "tags": []
   },
   "source": [
    "### Example\n",
    "\n",
    "* In a clinical trial with 2100 participants from 13 to 100\n",
    "* Half under 65 and half 65 or older\n",
    "* 95% of the older group had side effects\n",
    "* 95% of the younger group had no side effects"
   ]
  },
  {
   "cell_type": "code",
   "execution_count": 4,
   "id": "c9d21b50",
   "metadata": {
    "execution": {
     "iopub.execute_input": "2024-01-17T15:41:01.792704Z",
     "iopub.status.busy": "2024-01-17T15:41:01.791775Z",
     "iopub.status.idle": "2024-01-17T15:41:01.802365Z",
     "shell.execute_reply": "2024-01-17T15:41:01.801527Z"
    },
    "papermill": {
     "duration": 0.026303,
     "end_time": "2024-01-17T15:41:01.804295",
     "exception": false,
     "start_time": "2024-01-17T15:41:01.777992",
     "status": "completed"
    },
    "tags": []
   },
   "outputs": [],
   "source": [
    "for i in range(50):\n",
    "    # ~5% of younger individuals who did experience side effect\n",
    "    random_younger = randint(13, 64)\n",
    "    train_samples.append(random_younger)\n",
    "    train_labels.append(1)\n",
    "    \n",
    "    # ~5% of older individuals who did not experience side effect\n",
    "    random_older = randint(65, 100)\n",
    "    train_samples.append(random_older)\n",
    "    train_labels.append(0)\n",
    "    \n",
    "for i in range(1000):\n",
    "    # ~95% of younger individuals who did not experience side effect\n",
    "    random_younger = randint(13, 64)\n",
    "    train_samples.append(random_younger)\n",
    "    train_labels.append(0)\n",
    "    \n",
    "    # ~95% of older individuals who did experience side effect\n",
    "    random_older = randint(65, 100)\n",
    "    train_samples.append(random_older)\n",
    "    train_labels.append(1)"
   ]
  },
  {
   "cell_type": "code",
   "execution_count": 5,
   "id": "ad51b266",
   "metadata": {
    "execution": {
     "iopub.execute_input": "2024-01-17T15:41:01.830553Z",
     "iopub.status.busy": "2024-01-17T15:41:01.830267Z",
     "iopub.status.idle": "2024-01-17T15:41:01.837070Z",
     "shell.execute_reply": "2024-01-17T15:41:01.836311Z"
    },
    "papermill": {
     "duration": 0.022104,
     "end_time": "2024-01-17T15:41:01.839079",
     "exception": false,
     "start_time": "2024-01-17T15:41:01.816975",
     "status": "completed"
    },
    "tags": []
   },
   "outputs": [],
   "source": [
    "train_labels = np.array(train_labels)\n",
    "train_samples = np.array(train_samples)\n",
    "train_labels, train_samples = shuffle(train_labels, train_samples)"
   ]
  },
  {
   "cell_type": "code",
   "execution_count": 6,
   "id": "5602e7c4",
   "metadata": {
    "execution": {
     "iopub.execute_input": "2024-01-17T15:41:01.865678Z",
     "iopub.status.busy": "2024-01-17T15:41:01.865392Z",
     "iopub.status.idle": "2024-01-17T15:41:01.870752Z",
     "shell.execute_reply": "2024-01-17T15:41:01.869918Z"
    },
    "papermill": {
     "duration": 0.021117,
     "end_time": "2024-01-17T15:41:01.872775",
     "exception": false,
     "start_time": "2024-01-17T15:41:01.851658",
     "status": "completed"
    },
    "tags": []
   },
   "outputs": [],
   "source": [
    "scaler = MinMaxScaler(feature_range=(0, 1))\n",
    "scaled_train_samples = scaler.fit_transform(train_samples.reshape(-1, 1))"
   ]
  },
  {
   "cell_type": "code",
   "execution_count": 7,
   "id": "518106f3",
   "metadata": {
    "execution": {
     "iopub.execute_input": "2024-01-17T15:41:01.899401Z",
     "iopub.status.busy": "2024-01-17T15:41:01.899090Z",
     "iopub.status.idle": "2024-01-17T15:41:01.906203Z",
     "shell.execute_reply": "2024-01-17T15:41:01.905350Z"
    },
    "papermill": {
     "duration": 0.022911,
     "end_time": "2024-01-17T15:41:01.908443",
     "exception": false,
     "start_time": "2024-01-17T15:41:01.885532",
     "status": "completed"
    },
    "tags": []
   },
   "outputs": [
    {
     "data": {
      "text/plain": [
       "array([[0.77011494],\n",
       "       [0.12643678],\n",
       "       [0.32183908],\n",
       "       ...,\n",
       "       [0.72413793],\n",
       "       [0.88505747],\n",
       "       [0.05747126]])"
      ]
     },
     "execution_count": 7,
     "metadata": {},
     "output_type": "execute_result"
    }
   ],
   "source": [
    "scaled_train_samples"
   ]
  },
  {
   "cell_type": "markdown",
   "id": "b1fd1d73",
   "metadata": {
    "papermill": {
     "duration": 0.012623,
     "end_time": "2024-01-17T15:41:01.935068",
     "exception": false,
     "start_time": "2024-01-17T15:41:01.922445",
     "status": "completed"
    },
    "tags": []
   },
   "source": [
    "# Simple tf.keras Sequential Model"
   ]
  },
  {
   "cell_type": "markdown",
   "id": "96f8c1d6",
   "metadata": {
    "papermill": {
     "duration": 0.012687,
     "end_time": "2024-01-17T15:41:01.960350",
     "exception": false,
     "start_time": "2024-01-17T15:41:01.947663",
     "status": "completed"
    },
    "tags": []
   },
   "source": [
    "## Notebook Imports"
   ]
  },
  {
   "cell_type": "code",
   "execution_count": 8,
   "id": "6a4a03aa",
   "metadata": {
    "execution": {
     "iopub.execute_input": "2024-01-17T15:41:02.037721Z",
     "iopub.status.busy": "2024-01-17T15:41:02.037340Z",
     "iopub.status.idle": "2024-01-17T15:41:02.060681Z",
     "shell.execute_reply": "2024-01-17T15:41:02.059742Z"
    },
    "papermill": {
     "duration": 0.039856,
     "end_time": "2024-01-17T15:41:02.062921",
     "exception": false,
     "start_time": "2024-01-17T15:41:02.023065",
     "status": "completed"
    },
    "tags": []
   },
   "outputs": [],
   "source": [
    "import tensorflow as tf\n",
    "from tensorflow import keras\n",
    "from tensorflow.keras.models import Sequential \n",
    "from tensorflow.keras.layers import Activation, Dense \n",
    "from tensorflow.keras.optimizers import Adam \n",
    "from tensorflow.keras.metrics import categorical_crossentropy "
   ]
  },
  {
   "cell_type": "code",
   "execution_count": 9,
   "id": "652fb736",
   "metadata": {
    "execution": {
     "iopub.execute_input": "2024-01-17T15:41:02.090360Z",
     "iopub.status.busy": "2024-01-17T15:41:02.090017Z",
     "iopub.status.idle": "2024-01-17T15:41:02.520599Z",
     "shell.execute_reply": "2024-01-17T15:41:02.519584Z"
    },
    "papermill": {
     "duration": 0.446502,
     "end_time": "2024-01-17T15:41:02.522551",
     "exception": false,
     "start_time": "2024-01-17T15:41:02.076049",
     "status": "completed"
    },
    "tags": []
   },
   "outputs": [
    {
     "name": "stdout",
     "output_type": "stream",
     "text": [
      "Num GPUs Available: 1\n"
     ]
    }
   ],
   "source": [
    "physical_devices = tf.config.experimental.list_physical_devices('GPU')\n",
    "print('Num GPUs Available:', len(physical_devices)) "
   ]
  },
  {
   "cell_type": "code",
   "execution_count": 10,
   "id": "b68d64a0",
   "metadata": {
    "execution": {
     "iopub.execute_input": "2024-01-17T15:41:02.550572Z",
     "iopub.status.busy": "2024-01-17T15:41:02.550219Z",
     "iopub.status.idle": "2024-01-17T15:41:03.150789Z",
     "shell.execute_reply": "2024-01-17T15:41:03.149765Z"
    },
    "papermill": {
     "duration": 0.617979,
     "end_time": "2024-01-17T15:41:03.154034",
     "exception": false,
     "start_time": "2024-01-17T15:41:02.536055",
     "status": "completed"
    },
    "tags": []
   },
   "outputs": [],
   "source": [
    "model = Sequential([\n",
    "    Dense(units=16, input_shape=(1,), activation='relu'),\n",
    "    Dense(units=32, activation='relu'),\n",
    "    Dense(units=2, activation='softmax'),\n",
    "])"
   ]
  },
  {
   "cell_type": "code",
   "execution_count": 11,
   "id": "56378f7e",
   "metadata": {
    "execution": {
     "iopub.execute_input": "2024-01-17T15:41:03.181735Z",
     "iopub.status.busy": "2024-01-17T15:41:03.181382Z",
     "iopub.status.idle": "2024-01-17T15:41:03.202274Z",
     "shell.execute_reply": "2024-01-17T15:41:03.201289Z"
    },
    "papermill": {
     "duration": 0.038787,
     "end_time": "2024-01-17T15:41:03.206249",
     "exception": false,
     "start_time": "2024-01-17T15:41:03.167462",
     "status": "completed"
    },
    "tags": []
   },
   "outputs": [
    {
     "name": "stdout",
     "output_type": "stream",
     "text": [
      "Model: \"sequential\"\n",
      "_________________________________________________________________\n",
      " Layer (type)                Output Shape              Param #   \n",
      "=================================================================\n",
      " dense (Dense)               (None, 16)                32        \n",
      "                                                                 \n",
      " dense_1 (Dense)             (None, 32)                544       \n",
      "                                                                 \n",
      " dense_2 (Dense)             (None, 2)                 66        \n",
      "                                                                 \n",
      "=================================================================\n",
      "Total params: 642 (2.51 KB)\n",
      "Trainable params: 642 (2.51 KB)\n",
      "Non-trainable params: 0 (0.00 Byte)\n",
      "_________________________________________________________________\n"
     ]
    }
   ],
   "source": [
    "model.summary()"
   ]
  },
  {
   "cell_type": "code",
   "execution_count": 12,
   "id": "3ea63a05",
   "metadata": {
    "execution": {
     "iopub.execute_input": "2024-01-17T15:41:03.235099Z",
     "iopub.status.busy": "2024-01-17T15:41:03.234784Z",
     "iopub.status.idle": "2024-01-17T15:41:03.251127Z",
     "shell.execute_reply": "2024-01-17T15:41:03.250385Z"
    },
    "papermill": {
     "duration": 0.033036,
     "end_time": "2024-01-17T15:41:03.253095",
     "exception": false,
     "start_time": "2024-01-17T15:41:03.220059",
     "status": "completed"
    },
    "tags": []
   },
   "outputs": [],
   "source": [
    "model.compile(optimizer=Adam(learning_rate=0.0001), loss='sparse_categorical_crossentropy', metrics=['accuracy'])"
   ]
  },
  {
   "cell_type": "code",
   "execution_count": 13,
   "id": "98c86967",
   "metadata": {
    "execution": {
     "iopub.execute_input": "2024-01-17T15:41:03.282503Z",
     "iopub.status.busy": "2024-01-17T15:41:03.282189Z",
     "iopub.status.idle": "2024-01-17T15:41:24.674244Z",
     "shell.execute_reply": "2024-01-17T15:41:24.673254Z"
    },
    "papermill": {
     "duration": 21.409308,
     "end_time": "2024-01-17T15:41:24.676387",
     "exception": false,
     "start_time": "2024-01-17T15:41:03.267079",
     "status": "completed"
    },
    "tags": []
   },
   "outputs": [
    {
     "name": "stdout",
     "output_type": "stream",
     "text": [
      "Epoch 1/30\n",
      "189/189 - 3s - loss: 0.6736 - accuracy: 0.6079 - val_loss: 0.6559 - val_accuracy: 0.7238 - 3s/epoch - 16ms/step\n",
      "Epoch 2/30\n",
      "189/189 - 0s - loss: 0.6409 - accuracy: 0.7455 - val_loss: 0.6208 - val_accuracy: 0.7619 - 425ms/epoch - 2ms/step\n",
      "Epoch 3/30\n",
      "189/189 - 0s - loss: 0.6048 - accuracy: 0.8048 - val_loss: 0.5837 - val_accuracy: 0.7810 - 425ms/epoch - 2ms/step\n",
      "Epoch 4/30\n",
      "189/189 - 0s - loss: 0.5659 - accuracy: 0.8360 - val_loss: 0.5454 - val_accuracy: 0.8286 - 426ms/epoch - 2ms/step\n",
      "Epoch 5/30\n",
      "189/189 - 0s - loss: 0.5275 - accuracy: 0.8635 - val_loss: 0.5102 - val_accuracy: 0.8429 - 427ms/epoch - 2ms/step\n",
      "Epoch 6/30\n",
      "189/189 - 0s - loss: 0.4920 - accuracy: 0.8698 - val_loss: 0.4770 - val_accuracy: 0.8524 - 427ms/epoch - 2ms/step\n",
      "Epoch 7/30\n",
      "189/189 - 0s - loss: 0.4581 - accuracy: 0.8804 - val_loss: 0.4470 - val_accuracy: 0.8619 - 426ms/epoch - 2ms/step\n",
      "Epoch 8/30\n",
      "189/189 - 0s - loss: 0.4273 - accuracy: 0.8931 - val_loss: 0.4197 - val_accuracy: 0.8619 - 436ms/epoch - 2ms/step\n",
      "Epoch 9/30\n",
      "189/189 - 0s - loss: 0.4000 - accuracy: 0.9000 - val_loss: 0.3964 - val_accuracy: 0.8619 - 427ms/epoch - 2ms/step\n",
      "Epoch 10/30\n",
      "189/189 - 0s - loss: 0.3766 - accuracy: 0.9042 - val_loss: 0.3771 - val_accuracy: 0.8714 - 424ms/epoch - 2ms/step\n",
      "Epoch 11/30\n",
      "189/189 - 0s - loss: 0.3566 - accuracy: 0.9090 - val_loss: 0.3608 - val_accuracy: 0.8857 - 423ms/epoch - 2ms/step\n",
      "Epoch 12/30\n",
      "189/189 - 1s - loss: 0.3398 - accuracy: 0.9153 - val_loss: 0.3473 - val_accuracy: 0.8905 - 507ms/epoch - 3ms/step\n",
      "Epoch 13/30\n",
      "189/189 - 1s - loss: 0.3259 - accuracy: 0.9180 - val_loss: 0.3364 - val_accuracy: 0.8905 - 529ms/epoch - 3ms/step\n",
      "Epoch 14/30\n",
      "189/189 - 0s - loss: 0.3140 - accuracy: 0.9259 - val_loss: 0.3277 - val_accuracy: 0.8905 - 464ms/epoch - 2ms/step\n",
      "Epoch 15/30\n",
      "189/189 - 0s - loss: 0.3046 - accuracy: 0.9212 - val_loss: 0.3204 - val_accuracy: 0.9000 - 425ms/epoch - 2ms/step\n",
      "Epoch 16/30\n",
      "189/189 - 0s - loss: 0.2966 - accuracy: 0.9259 - val_loss: 0.3149 - val_accuracy: 0.9000 - 415ms/epoch - 2ms/step\n",
      "Epoch 17/30\n",
      "189/189 - 0s - loss: 0.2899 - accuracy: 0.9265 - val_loss: 0.3093 - val_accuracy: 0.9190 - 421ms/epoch - 2ms/step\n",
      "Epoch 18/30\n",
      "189/189 - 0s - loss: 0.2843 - accuracy: 0.9280 - val_loss: 0.3061 - val_accuracy: 0.9190 - 417ms/epoch - 2ms/step\n",
      "Epoch 19/30\n",
      "189/189 - 0s - loss: 0.2796 - accuracy: 0.9296 - val_loss: 0.3030 - val_accuracy: 0.9190 - 432ms/epoch - 2ms/step\n",
      "Epoch 20/30\n",
      "189/189 - 0s - loss: 0.2756 - accuracy: 0.9328 - val_loss: 0.3012 - val_accuracy: 0.9000 - 438ms/epoch - 2ms/step\n",
      "Epoch 21/30\n",
      "189/189 - 0s - loss: 0.2723 - accuracy: 0.9323 - val_loss: 0.2990 - val_accuracy: 0.9190 - 470ms/epoch - 2ms/step\n",
      "Epoch 22/30\n",
      "189/189 - 0s - loss: 0.2694 - accuracy: 0.9323 - val_loss: 0.2965 - val_accuracy: 0.9190 - 421ms/epoch - 2ms/step\n",
      "Epoch 23/30\n",
      "189/189 - 0s - loss: 0.2668 - accuracy: 0.9360 - val_loss: 0.2965 - val_accuracy: 0.9190 - 419ms/epoch - 2ms/step\n",
      "Epoch 24/30\n",
      "189/189 - 0s - loss: 0.2646 - accuracy: 0.9323 - val_loss: 0.2938 - val_accuracy: 0.9190 - 422ms/epoch - 2ms/step\n",
      "Epoch 25/30\n",
      "189/189 - 0s - loss: 0.2627 - accuracy: 0.9360 - val_loss: 0.2931 - val_accuracy: 0.9190 - 425ms/epoch - 2ms/step\n",
      "Epoch 26/30\n",
      "189/189 - 0s - loss: 0.2611 - accuracy: 0.9381 - val_loss: 0.2920 - val_accuracy: 0.9190 - 418ms/epoch - 2ms/step\n",
      "Epoch 27/30\n",
      "189/189 - 0s - loss: 0.2595 - accuracy: 0.9370 - val_loss: 0.2912 - val_accuracy: 0.9190 - 423ms/epoch - 2ms/step\n",
      "Epoch 28/30\n",
      "189/189 - 0s - loss: 0.2581 - accuracy: 0.9365 - val_loss: 0.2902 - val_accuracy: 0.9190 - 428ms/epoch - 2ms/step\n",
      "Epoch 29/30\n",
      "189/189 - 0s - loss: 0.2565 - accuracy: 0.9439 - val_loss: 0.2911 - val_accuracy: 0.9190 - 423ms/epoch - 2ms/step\n",
      "Epoch 30/30\n",
      "189/189 - 0s - loss: 0.2558 - accuracy: 0.9339 - val_loss: 0.2885 - val_accuracy: 0.9190 - 417ms/epoch - 2ms/step\n"
     ]
    },
    {
     "data": {
      "text/plain": [
       "<keras.src.callbacks.History at 0x7c92d827ccd0>"
      ]
     },
     "execution_count": 13,
     "metadata": {},
     "output_type": "execute_result"
    }
   ],
   "source": [
    "model.fit(x=scaled_train_samples, y=train_labels, validation_split=0.1, \n",
    "          batch_size=10, epochs=30, shuffle=True, verbose=2)"
   ]
  },
  {
   "cell_type": "markdown",
   "id": "d1046df3",
   "metadata": {
    "papermill": {
     "duration": 0.018478,
     "end_time": "2024-01-17T15:41:24.713618",
     "exception": false,
     "start_time": "2024-01-17T15:41:24.695140",
     "status": "completed"
    },
    "tags": []
   },
   "source": [
    "## Preprocess Test Data"
   ]
  },
  {
   "cell_type": "code",
   "execution_count": 14,
   "id": "54476779",
   "metadata": {
    "execution": {
     "iopub.execute_input": "2024-01-17T15:41:24.752973Z",
     "iopub.status.busy": "2024-01-17T15:41:24.752590Z",
     "iopub.status.idle": "2024-01-17T15:41:24.756898Z",
     "shell.execute_reply": "2024-01-17T15:41:24.756004Z"
    },
    "papermill": {
     "duration": 0.02632,
     "end_time": "2024-01-17T15:41:24.758823",
     "exception": false,
     "start_time": "2024-01-17T15:41:24.732503",
     "status": "completed"
    },
    "tags": []
   },
   "outputs": [],
   "source": [
    "test_labels = []\n",
    "test_samples = []"
   ]
  },
  {
   "cell_type": "code",
   "execution_count": 15,
   "id": "4b6250cb",
   "metadata": {
    "execution": {
     "iopub.execute_input": "2024-01-17T15:41:24.799103Z",
     "iopub.status.busy": "2024-01-17T15:41:24.798507Z",
     "iopub.status.idle": "2024-01-17T15:41:24.806191Z",
     "shell.execute_reply": "2024-01-17T15:41:24.805209Z"
    },
    "papermill": {
     "duration": 0.030005,
     "end_time": "2024-01-17T15:41:24.808168",
     "exception": false,
     "start_time": "2024-01-17T15:41:24.778163",
     "status": "completed"
    },
    "tags": []
   },
   "outputs": [],
   "source": [
    "for i in range(10):\n",
    "    # ~5% of younger individuals who did experience side effect\n",
    "    random_younger = randint(13, 64)\n",
    "    test_samples.append(random_younger)\n",
    "    test_labels.append(1)\n",
    "    \n",
    "    # ~5% of older individuals who did not experience side effect\n",
    "    random_older = randint(65, 100)\n",
    "    test_samples.append(random_older)\n",
    "    test_labels.append(0)\n",
    "    \n",
    "for i in range(200):\n",
    "    # ~95% of younger individuals who did not experience side effect\n",
    "    random_younger = randint(13, 64)\n",
    "    test_samples.append(random_younger)\n",
    "    test_labels.append(0)\n",
    "    \n",
    "    # ~95% of older individuals who did experience side effect\n",
    "    random_older = randint(65, 100)\n",
    "    test_samples.append(random_older)\n",
    "    test_labels.append(1)"
   ]
  },
  {
   "cell_type": "code",
   "execution_count": 16,
   "id": "5a7cf2e4",
   "metadata": {
    "execution": {
     "iopub.execute_input": "2024-01-17T15:41:24.848544Z",
     "iopub.status.busy": "2024-01-17T15:41:24.847675Z",
     "iopub.status.idle": "2024-01-17T15:41:24.852779Z",
     "shell.execute_reply": "2024-01-17T15:41:24.851893Z"
    },
    "papermill": {
     "duration": 0.027726,
     "end_time": "2024-01-17T15:41:24.854773",
     "exception": false,
     "start_time": "2024-01-17T15:41:24.827047",
     "status": "completed"
    },
    "tags": []
   },
   "outputs": [],
   "source": [
    "test_labels = np.array(test_labels)\n",
    "test_samples = np.array(test_samples)\n",
    "test_labels, test_samples = shuffle(test_labels, test_samples)"
   ]
  },
  {
   "cell_type": "code",
   "execution_count": 17,
   "id": "d2590a38",
   "metadata": {
    "execution": {
     "iopub.execute_input": "2024-01-17T15:41:24.895095Z",
     "iopub.status.busy": "2024-01-17T15:41:24.894360Z",
     "iopub.status.idle": "2024-01-17T15:41:24.899770Z",
     "shell.execute_reply": "2024-01-17T15:41:24.898897Z"
    },
    "papermill": {
     "duration": 0.027434,
     "end_time": "2024-01-17T15:41:24.901766",
     "exception": false,
     "start_time": "2024-01-17T15:41:24.874332",
     "status": "completed"
    },
    "tags": []
   },
   "outputs": [],
   "source": [
    "scaler = MinMaxScaler(feature_range=(0, 1))\n",
    "scaled_test_samples = scaler.fit_transform(test_samples.reshape(-1, 1))"
   ]
  },
  {
   "cell_type": "markdown",
   "id": "0dad4241",
   "metadata": {
    "papermill": {
     "duration": 0.018607,
     "end_time": "2024-01-17T15:41:24.939596",
     "exception": false,
     "start_time": "2024-01-17T15:41:24.920989",
     "status": "completed"
    },
    "tags": []
   },
   "source": [
    "## Predict"
   ]
  },
  {
   "cell_type": "code",
   "execution_count": 18,
   "id": "d6fb9619",
   "metadata": {
    "execution": {
     "iopub.execute_input": "2024-01-17T15:41:24.979240Z",
     "iopub.status.busy": "2024-01-17T15:41:24.978840Z",
     "iopub.status.idle": "2024-01-17T15:41:25.235622Z",
     "shell.execute_reply": "2024-01-17T15:41:25.234508Z"
    },
    "papermill": {
     "duration": 0.27952,
     "end_time": "2024-01-17T15:41:25.238167",
     "exception": false,
     "start_time": "2024-01-17T15:41:24.958647",
     "status": "completed"
    },
    "tags": []
   },
   "outputs": [],
   "source": [
    "predictions = model.predict(x=scaled_test_samples, batch_size=10, verbose=0)"
   ]
  },
  {
   "cell_type": "code",
   "execution_count": 19,
   "id": "4d30dd80",
   "metadata": {
    "execution": {
     "iopub.execute_input": "2024-01-17T15:41:25.279817Z",
     "iopub.status.busy": "2024-01-17T15:41:25.278994Z",
     "iopub.status.idle": "2024-01-17T15:41:25.283732Z",
     "shell.execute_reply": "2024-01-17T15:41:25.282845Z"
    },
    "papermill": {
     "duration": 0.028148,
     "end_time": "2024-01-17T15:41:25.285606",
     "exception": false,
     "start_time": "2024-01-17T15:41:25.257458",
     "status": "completed"
    },
    "tags": []
   },
   "outputs": [],
   "source": [
    "rounded_predictions = np.argmax(predictions, axis=-1)"
   ]
  },
  {
   "cell_type": "code",
   "execution_count": 20,
   "id": "db47d006",
   "metadata": {
    "execution": {
     "iopub.execute_input": "2024-01-17T15:41:25.325186Z",
     "iopub.status.busy": "2024-01-17T15:41:25.324416Z",
     "iopub.status.idle": "2024-01-17T15:41:25.332150Z",
     "shell.execute_reply": "2024-01-17T15:41:25.331296Z"
    },
    "papermill": {
     "duration": 0.029703,
     "end_time": "2024-01-17T15:41:25.334020",
     "exception": false,
     "start_time": "2024-01-17T15:41:25.304317",
     "status": "completed"
    },
    "tags": []
   },
   "outputs": [
    {
     "data": {
      "text/plain": [
       "array([0, 1, 1, 0, 1, 0, 1, 0, 0, 0, 0, 0, 1, 0, 1, 0, 1, 1, 1, 0, 0, 1,\n",
       "       1, 1, 0, 1, 1, 0, 1, 0, 0, 1, 0, 1, 1, 0, 0, 0, 1, 1, 1, 1, 1, 1,\n",
       "       1, 0, 1, 1, 1, 0, 1, 0, 1, 0, 0, 1, 1, 1, 0, 1, 1, 0, 0, 0, 0, 1,\n",
       "       1, 1, 0, 0, 1, 0, 1, 0, 1, 0, 0, 0, 0, 1, 0, 1, 0, 1, 0, 0, 1, 0,\n",
       "       0, 1, 1, 1, 0, 1, 0, 0, 0, 1, 0, 1, 1, 0, 1, 1, 1, 0, 0, 0, 1, 1,\n",
       "       1, 1, 1, 0, 1, 0, 1, 1, 1, 0, 1, 1, 0, 1, 1, 1, 0, 0, 1, 1, 0, 1,\n",
       "       1, 0, 0, 1, 0, 0, 1, 1, 0, 0, 0, 1, 0, 1, 0, 1, 0, 1, 1, 1, 0, 1,\n",
       "       1, 0, 0, 0, 1, 0, 1, 1, 0, 0, 0, 0, 0, 1, 0, 0, 0, 1, 0, 1, 1, 1,\n",
       "       1, 0, 1, 1, 0, 1, 0, 1, 0, 0, 0, 1, 0, 0, 0, 0, 1, 1, 1, 0, 0, 0,\n",
       "       1, 1, 0, 0, 1, 0, 0, 1, 0, 0, 1, 0, 0, 1, 1, 0, 0, 0, 1, 1, 0, 1,\n",
       "       1, 0, 1, 1, 1, 1, 0, 1, 1, 1, 1, 1, 1, 1, 0, 0, 0, 1, 1, 1, 1, 0,\n",
       "       1, 0, 0, 0, 1, 1, 0, 0, 0, 1, 0, 0, 0, 0, 0, 1, 0, 0, 1, 0, 1, 1,\n",
       "       1, 0, 0, 0, 0, 1, 0, 1, 1, 0, 1, 1, 1, 1, 0, 1, 0, 1, 1, 0, 1, 0,\n",
       "       1, 1, 1, 1, 0, 0, 1, 1, 0, 0, 1, 0, 1, 0, 1, 1, 0, 0, 0, 0, 0, 0,\n",
       "       1, 1, 1, 1, 0, 1, 0, 1, 0, 1, 1, 1, 0, 0, 1, 0, 0, 1, 0, 0, 0, 1,\n",
       "       1, 0, 0, 1, 0, 0, 0, 1, 0, 0, 0, 0, 1, 0, 1, 1, 1, 0, 0, 0, 1, 0,\n",
       "       1, 0, 1, 1, 0, 0, 1, 1, 1, 1, 1, 1, 1, 0, 0, 0, 1, 1, 1, 1, 0, 1,\n",
       "       0, 1, 1, 0, 1, 1, 1, 1, 0, 0, 1, 0, 1, 0, 0, 1, 1, 1, 0, 0, 1, 0,\n",
       "       0, 0, 1, 1, 0, 1, 1, 0, 1, 1, 1, 0, 1, 0, 0, 1, 0, 0, 0, 0, 1, 1,\n",
       "       0, 1])"
      ]
     },
     "execution_count": 20,
     "metadata": {},
     "output_type": "execute_result"
    }
   ],
   "source": [
    "rounded_predictions"
   ]
  },
  {
   "cell_type": "markdown",
   "id": "f998a6ef",
   "metadata": {
    "papermill": {
     "duration": 0.01885,
     "end_time": "2024-01-17T15:41:25.372184",
     "exception": false,
     "start_time": "2024-01-17T15:41:25.353334",
     "status": "completed"
    },
    "tags": []
   },
   "source": [
    "## Confusion Matrix"
   ]
  },
  {
   "cell_type": "code",
   "execution_count": 21,
   "id": "20d20a77",
   "metadata": {
    "execution": {
     "iopub.execute_input": "2024-01-17T15:41:25.412516Z",
     "iopub.status.busy": "2024-01-17T15:41:25.412154Z",
     "iopub.status.idle": "2024-01-17T15:41:25.486833Z",
     "shell.execute_reply": "2024-01-17T15:41:25.485818Z"
    },
    "papermill": {
     "duration": 0.09807,
     "end_time": "2024-01-17T15:41:25.489351",
     "exception": false,
     "start_time": "2024-01-17T15:41:25.391281",
     "status": "completed"
    },
    "tags": []
   },
   "outputs": [],
   "source": [
    "%matplotlib inline \n",
    "from sklearn.metrics import confusion_matrix\n",
    "import itertools\n",
    "import matplotlib.pyplot as plt"
   ]
  },
  {
   "cell_type": "code",
   "execution_count": 22,
   "id": "7e2de0ba",
   "metadata": {
    "execution": {
     "iopub.execute_input": "2024-01-17T15:41:25.530070Z",
     "iopub.status.busy": "2024-01-17T15:41:25.529169Z",
     "iopub.status.idle": "2024-01-17T15:41:25.536455Z",
     "shell.execute_reply": "2024-01-17T15:41:25.535522Z"
    },
    "papermill": {
     "duration": 0.029826,
     "end_time": "2024-01-17T15:41:25.538734",
     "exception": false,
     "start_time": "2024-01-17T15:41:25.508908",
     "status": "completed"
    },
    "tags": []
   },
   "outputs": [],
   "source": [
    "cm = confusion_matrix(y_true=test_labels, y_pred=rounded_predictions)"
   ]
  },
  {
   "cell_type": "code",
   "execution_count": 23,
   "id": "7edd8e66",
   "metadata": {
    "execution": {
     "iopub.execute_input": "2024-01-17T15:41:25.578737Z",
     "iopub.status.busy": "2024-01-17T15:41:25.578428Z",
     "iopub.status.idle": "2024-01-17T15:41:25.587178Z",
     "shell.execute_reply": "2024-01-17T15:41:25.586259Z"
    },
    "papermill": {
     "duration": 0.030688,
     "end_time": "2024-01-17T15:41:25.589013",
     "exception": false,
     "start_time": "2024-01-17T15:41:25.558325",
     "status": "completed"
    },
    "tags": []
   },
   "outputs": [],
   "source": [
    "def plot_confusion_matrix(cm, classes, normalize=False, \n",
    "                          title=\"Confusion Matrix\", cmap=plt.cm.Blues):\n",
    "    \n",
    "    plt.imshow(cm, interpolation='nearest', cmap=cmap) \n",
    "    plt.title(title)\n",
    "    plt.colorbar()\n",
    "    \n",
    "    tick_marks = np.arange(len(classes))\n",
    "    plt.xticks(tick_marks, classes)\n",
    "    plt.yticks(tick_marks, classes)\n",
    "    \n",
    "    if normalize:\n",
    "        cm = cm.astype('float') / cm.sum(axis=1)[:, np.newaxis]\n",
    "        print(\"Normalized confusion matrix\")\n",
    "    else:\n",
    "        print(\"Confusion Matrix, without normalization\")\n",
    "        \n",
    "    print(cm)\n",
    "    \n",
    "    tresh = cm.max() / 2.\n",
    "    \n",
    "    for i, j in itertools.product(range(cm.shape[0]), range(cm.shape[1])):\n",
    "        plt.text(j, i, cm[i, j], horizontalalignment='center',\n",
    "                color='white' if cm[i, j] > tresh else \"black\")\n",
    "        \n",
    "        plt.tight_layout()\n",
    "        plt.ylabel(\"True Label\")\n",
    "        plt.xlabel(\"Predicted Label\")"
   ]
  },
  {
   "cell_type": "code",
   "execution_count": 24,
   "id": "4acdf750",
   "metadata": {
    "execution": {
     "iopub.execute_input": "2024-01-17T15:41:25.629264Z",
     "iopub.status.busy": "2024-01-17T15:41:25.628620Z",
     "iopub.status.idle": "2024-01-17T15:41:26.102063Z",
     "shell.execute_reply": "2024-01-17T15:41:26.101197Z"
    },
    "papermill": {
     "duration": 0.49601,
     "end_time": "2024-01-17T15:41:26.104204",
     "exception": false,
     "start_time": "2024-01-17T15:41:25.608194",
     "status": "completed"
    },
    "tags": []
   },
   "outputs": [
    {
     "name": "stdout",
     "output_type": "stream",
     "text": [
      "Confusion Matrix, without normalization\n",
      "[[195  15]\n",
      " [  9 201]]\n"
     ]
    },
    {
     "data": {
      "image/png": "[encoded data removed]",
      "text/plain": [
       "<Figure size 640x480 with 2 Axes>"
      ]
     },
     "metadata": {},
     "output_type": "display_data"
    }
   ],
   "source": [
    "plot_labels = [\"no_side_effects\", \"had_side_effects\"]\n",
    "plot_confusion_matrix(cm=cm, classes=plot_labels)"
   ]
  },
  {
   "cell_type": "markdown",
   "id": "7a4252e1",
   "metadata": {
    "papermill": {
     "duration": 0.019977,
     "end_time": "2024-01-17T15:41:26.144207",
     "exception": false,
     "start_time": "2024-01-17T15:41:26.124230",
     "status": "completed"
    },
    "tags": []
   },
   "source": [
    "## Save and Load a Model "
   ]
  },
  {
   "cell_type": "code",
   "execution_count": 25,
   "id": "ab3a914f",
   "metadata": {
    "execution": {
     "iopub.execute_input": "2024-01-17T15:41:26.186212Z",
     "iopub.status.busy": "2024-01-17T15:41:26.185332Z",
     "iopub.status.idle": "2024-01-17T15:41:26.204249Z",
     "shell.execute_reply": "2024-01-17T15:41:26.203327Z"
    },
    "papermill": {
     "duration": 0.046041,
     "end_time": "2024-01-17T15:41:26.210417",
     "exception": false,
     "start_time": "2024-01-17T15:41:26.164376",
     "status": "completed"
    },
    "tags": []
   },
   "outputs": [
    {
     "name": "stdout",
     "output_type": "stream",
     "text": [
      "Model: \"sequential\"\n",
      "_________________________________________________________________\n",
      " Layer (type)                Output Shape              Param #   \n",
      "=================================================================\n",
      " dense (Dense)               (None, 16)                32        \n",
      "                                                                 \n",
      " dense_1 (Dense)             (None, 32)                544       \n",
      "                                                                 \n",
      " dense_2 (Dense)             (None, 2)                 66        \n",
      "                                                                 \n",
      "=================================================================\n",
      "Total params: 642 (2.51 KB)\n",
      "Trainable params: 642 (2.51 KB)\n",
      "Non-trainable params: 0 (0.00 Byte)\n",
      "_________________________________________________________________\n"
     ]
    }
   ],
   "source": [
    "model.summary()"
   ]
  },
  {
   "cell_type": "code",
   "execution_count": 26,
   "id": "b9753425",
   "metadata": {
    "execution": {
     "iopub.execute_input": "2024-01-17T15:41:26.253855Z",
     "iopub.status.busy": "2024-01-17T15:41:26.252999Z",
     "iopub.status.idle": "2024-01-17T15:41:26.285444Z",
     "shell.execute_reply": "2024-01-17T15:41:26.284531Z"
    },
    "papermill": {
     "duration": 0.056595,
     "end_time": "2024-01-17T15:41:26.287714",
     "exception": false,
     "start_time": "2024-01-17T15:41:26.231119",
     "status": "completed"
    },
    "tags": []
   },
   "outputs": [
    {
     "name": "stderr",
     "output_type": "stream",
     "text": [
      "/opt/conda/lib/python3.10/site-packages/keras/src/engine/training.py:3000: UserWarning: You are saving your model as an HDF5 file via `model.save()`. This file format is considered legacy. We recommend using instead the native Keras format, e.g. `model.save('my_model.keras')`.\n",
      "  saving_api.save_model(\n"
     ]
    }
   ],
   "source": [
    "import os.path\n",
    "\n",
    "if os.path.isfile('models/medical_trial_model.h5') is False:\n",
    "    model.save('models/medical_trial_model.h5')"
   ]
  },
  {
   "cell_type": "markdown",
   "id": "9eeeed6f",
   "metadata": {
    "papermill": {
     "duration": 0.020473,
     "end_time": "2024-01-17T15:41:26.329222",
     "exception": false,
     "start_time": "2024-01-17T15:41:26.308749",
     "status": "completed"
    },
    "tags": []
   },
   "source": [
    "**This save function saves:**\n",
    "\n",
    "* The architecture of the model, allowing to re-create the model.\n",
    "* The weights of the model.\n",
    "* The training configuration (loss, optimizer).\n",
    "* The state of the optimizer, allowing to resume training exactly where you left off."
   ]
  },
  {
   "cell_type": "code",
   "execution_count": 27,
   "id": "bc45e2d9",
   "metadata": {
    "execution": {
     "iopub.execute_input": "2024-01-17T15:41:26.372700Z",
     "iopub.status.busy": "2024-01-17T15:41:26.372099Z",
     "iopub.status.idle": "2024-01-17T15:41:26.457155Z",
     "shell.execute_reply": "2024-01-17T15:41:26.456291Z"
    },
    "papermill": {
     "duration": 0.109697,
     "end_time": "2024-01-17T15:41:26.459448",
     "exception": false,
     "start_time": "2024-01-17T15:41:26.349751",
     "status": "completed"
    },
    "tags": []
   },
   "outputs": [],
   "source": [
    "from tensorflow.keras.models import load_model, model_from_json\n",
    "\n",
    "new_model = load_model('models/medical_trial_model.h5')"
   ]
  },
  {
   "cell_type": "code",
   "execution_count": 28,
   "id": "804aa5f9",
   "metadata": {
    "execution": {
     "iopub.execute_input": "2024-01-17T15:41:26.503640Z",
     "iopub.status.busy": "2024-01-17T15:41:26.503267Z",
     "iopub.status.idle": "2024-01-17T15:41:26.519982Z",
     "shell.execute_reply": "2024-01-17T15:41:26.518874Z"
    },
    "papermill": {
     "duration": 0.046322,
     "end_time": "2024-01-17T15:41:26.527506",
     "exception": false,
     "start_time": "2024-01-17T15:41:26.481184",
     "status": "completed"
    },
    "tags": []
   },
   "outputs": [
    {
     "name": "stdout",
     "output_type": "stream",
     "text": [
      "Model: \"sequential\"\n",
      "_________________________________________________________________\n",
      " Layer (type)                Output Shape              Param #   \n",
      "=================================================================\n",
      " dense (Dense)               (None, 16)                32        \n",
      "                                                                 \n",
      " dense_1 (Dense)             (None, 32)                544       \n",
      "                                                                 \n",
      " dense_2 (Dense)             (None, 2)                 66        \n",
      "                                                                 \n",
      "=================================================================\n",
      "Total params: 642 (2.51 KB)\n",
      "Trainable params: 642 (2.51 KB)\n",
      "Non-trainable params: 0 (0.00 Byte)\n",
      "_________________________________________________________________\n"
     ]
    }
   ],
   "source": [
    "new_model.summary()"
   ]
  },
  {
   "cell_type": "code",
   "execution_count": 29,
   "id": "2d1508c5",
   "metadata": {
    "execution": {
     "iopub.execute_input": "2024-01-17T15:41:26.573809Z",
     "iopub.status.busy": "2024-01-17T15:41:26.572968Z",
     "iopub.status.idle": "2024-01-17T15:41:26.577097Z",
     "shell.execute_reply": "2024-01-17T15:41:26.576225Z"
    },
    "papermill": {
     "duration": 0.029347,
     "end_time": "2024-01-17T15:41:26.579182",
     "exception": false,
     "start_time": "2024-01-17T15:41:26.549835",
     "status": "completed"
    },
    "tags": []
   },
   "outputs": [],
   "source": [
    "# new_model.get_weights()"
   ]
  },
  {
   "cell_type": "code",
   "execution_count": 30,
   "id": "77e45e05",
   "metadata": {
    "execution": {
     "iopub.execute_input": "2024-01-17T15:41:26.625382Z",
     "iopub.status.busy": "2024-01-17T15:41:26.624773Z",
     "iopub.status.idle": "2024-01-17T15:41:26.630762Z",
     "shell.execute_reply": "2024-01-17T15:41:26.629904Z"
    },
    "papermill": {
     "duration": 0.031683,
     "end_time": "2024-01-17T15:41:26.632822",
     "exception": false,
     "start_time": "2024-01-17T15:41:26.601139",
     "status": "completed"
    },
    "tags": []
   },
   "outputs": [
    {
     "data": {
      "text/plain": [
       "<keras.src.optimizers.adam.Adam at 0x7c92d013c8b0>"
      ]
     },
     "execution_count": 30,
     "metadata": {},
     "output_type": "execute_result"
    }
   ],
   "source": [
    "new_model.optimizer"
   ]
  },
  {
   "cell_type": "markdown",
   "id": "a87944ab",
   "metadata": {
    "papermill": {
     "duration": 0.021752,
     "end_time": "2024-01-17T15:41:26.676419",
     "exception": false,
     "start_time": "2024-01-17T15:41:26.654667",
     "status": "completed"
    },
    "tags": []
   },
   "source": [
    "### 2. model.to_json()"
   ]
  },
  {
   "cell_type": "code",
   "execution_count": 31,
   "id": "a69cc5ce",
   "metadata": {
    "execution": {
     "iopub.execute_input": "2024-01-17T15:41:26.722092Z",
     "iopub.status.busy": "2024-01-17T15:41:26.721406Z",
     "iopub.status.idle": "2024-01-17T15:41:26.728334Z",
     "shell.execute_reply": "2024-01-17T15:41:26.727409Z"
    },
    "papermill": {
     "duration": 0.032142,
     "end_time": "2024-01-17T15:41:26.730295",
     "exception": false,
     "start_time": "2024-01-17T15:41:26.698153",
     "status": "completed"
    },
    "tags": []
   },
   "outputs": [
    {
     "data": {
      "text/plain": [
       "'{\"class_name\": \"Sequential\", \"config\": {\"name\": \"sequential\", \"layers\": [{\"class_name\": \"InputLayer\", \"config\": {\"batch_input_shape\": [null, 1], \"dtype\": \"float32\", \"sparse\": false, \"ragged\": false, \"name\": \"dense_input\"}}, {\"class_name\": \"Dense\", \"config\": {\"name\": \"dense\", \"trainable\": true, \"dtype\": \"float32\", \"batch_input_shape\": [null, 1], \"units\": 16, \"activation\": \"relu\", \"use_bias\": true, \"kernel_initializer\": {\"module\": \"keras.initializers\", \"class_name\": \"GlorotUniform\", \"config\": {\"seed\": null}, \"registered_name\": null}, \"bias_initializer\": {\"module\": \"keras.initializers\", \"class_name\": \"Zeros\", \"config\": {}, \"registered_name\": null}, \"kernel_regularizer\": null, \"bias_regularizer\": null, \"activity_regularizer\": null, \"kernel_constraint\": null, \"bias_constraint\": null}}, {\"class_name\": \"Dense\", \"config\": {\"name\": \"dense_1\", \"trainable\": true, \"dtype\": \"float32\", \"units\": 32, \"activation\": \"relu\", \"use_bias\": true, \"kernel_initializer\": {\"module\": \"keras.initializers\", \"class_name\": \"GlorotUniform\", \"config\": {\"seed\": null}, \"registered_name\": null}, \"bias_initializer\": {\"module\": \"keras.initializers\", \"class_name\": \"Zeros\", \"config\": {}, \"registered_name\": null}, \"kernel_regularizer\": null, \"bias_regularizer\": null, \"activity_regularizer\": null, \"kernel_constraint\": null, \"bias_constraint\": null}}, {\"class_name\": \"Dense\", \"config\": {\"name\": \"dense_2\", \"trainable\": true, \"dtype\": \"float32\", \"units\": 2, \"activation\": \"softmax\", \"use_bias\": true, \"kernel_initializer\": {\"module\": \"keras.initializers\", \"class_name\": \"GlorotUniform\", \"config\": {\"seed\": null}, \"registered_name\": null}, \"bias_initializer\": {\"module\": \"keras.initializers\", \"class_name\": \"Zeros\", \"config\": {}, \"registered_name\": null}, \"kernel_regularizer\": null, \"bias_regularizer\": null, \"activity_regularizer\": null, \"kernel_constraint\": null, \"bias_constraint\": null}}]}, \"keras_version\": \"2.13.1\", \"backend\": \"tensorflow\"}'"
      ]
     },
     "execution_count": 31,
     "metadata": {},
     "output_type": "execute_result"
    }
   ],
   "source": [
    "# save as JSON\n",
    "json_string = model.to_json()\n",
    "json_string"
   ]
  },
  {
   "cell_type": "code",
   "execution_count": 32,
   "id": "a71462d9",
   "metadata": {
    "execution": {
     "iopub.execute_input": "2024-01-17T15:41:26.776933Z",
     "iopub.status.busy": "2024-01-17T15:41:26.776563Z",
     "iopub.status.idle": "2024-01-17T15:41:26.828529Z",
     "shell.execute_reply": "2024-01-17T15:41:26.827411Z"
    },
    "papermill": {
     "duration": 0.080092,
     "end_time": "2024-01-17T15:41:26.833136",
     "exception": false,
     "start_time": "2024-01-17T15:41:26.753044",
     "status": "completed"
    },
    "tags": []
   },
   "outputs": [
    {
     "name": "stdout",
     "output_type": "stream",
     "text": [
      "Model: \"sequential\"\n",
      "_________________________________________________________________\n",
      " Layer (type)                Output Shape              Param #   \n",
      "=================================================================\n",
      " dense (Dense)               (None, 16)                32        \n",
      "                                                                 \n",
      " dense_1 (Dense)             (None, 32)                544       \n",
      "                                                                 \n",
      " dense_2 (Dense)             (None, 2)                 66        \n",
      "                                                                 \n",
      "=================================================================\n",
      "Total params: 642 (2.51 KB)\n",
      "Trainable params: 642 (2.51 KB)\n",
      "Non-trainable params: 0 (0.00 Byte)\n",
      "_________________________________________________________________\n"
     ]
    }
   ],
   "source": [
    "model_architecture = model_from_json(json_string)\n",
    "model_architecture.summary()"
   ]
  },
  {
   "cell_type": "markdown",
   "id": "99bd79a9",
   "metadata": {
    "papermill": {
     "duration": 0.022945,
     "end_time": "2024-01-17T15:41:26.879447",
     "exception": false,
     "start_time": "2024-01-17T15:41:26.856502",
     "status": "completed"
    },
    "tags": []
   },
   "source": [
    "# "
   ]
  }
 ],
 "metadata": {
  "kaggle": {
   "accelerator": "gpu",
   "dataSources": [
    {
     "databundleVersionId": 31148,
     "sourceId": 3362,
     "sourceType": "competition"
    }
   ],
   "dockerImageVersionId": 30636,
   "isGpuEnabled": true,
   "isInternetEnabled": true,
   "language": "python",
   "sourceType": "notebook"
  },
  "kernelspec": {
   "display_name": "Python 3",
   "language": "python",
   "name": "python3"
  },
  "language_info": {
   "codemirror_mode": {
    "name": "ipython",
    "version": 3
   },
   "file_extension": ".py",
   "mimetype": "text/x-python",
   "name": "python",
   "nbconvert_exporter": "python",
   "pygments_lexer": "ipython3",
   "version": "3.10.12"
  },
  "papermill": {
   "default_parameters": {},
   "duration": 71.587897,
   "end_time": "2024-01-17T15:41:29.451093",
   "environment_variables": {},
   "exception": null,
   "input_path": "__notebook__.ipynb",
   "output_path": "__notebook__.ipynb",
   "parameters": {},
   "start_time": "2024-01-17T15:40:17.863196",
   "version": "2.4.0"
  }
 },
 "nbformat": 4,
 "nbformat_minor": 5
}
