{
 "cells": [
  {
   "cell_type": "markdown",
   "id": "ad0a1247",
   "metadata": {
    "_cell_guid": "b1076dfc-b9ad-4769-8c92-a6c4dae69d19",
    "_uuid": "8f2839f25d086af736a60e9eeb907d3b93b6e0e5",
    "papermill": {
     "duration": 0.00711,
     "end_time": "2024-01-24T06:52:48.123333",
     "exception": false,
     "start_time": "2024-01-24T06:52:48.116223",
     "status": "completed"
    },
    "tags": []
   },
   "source": [
    "# Sign Language Digits"
   ]
  },
  {
   "cell_type": "markdown",
   "id": "0b1208ce",
   "metadata": {
    "papermill": {
     "duration": 0.006307,
     "end_time": "2024-01-24T06:52:48.136191",
     "exception": false,
     "start_time": "2024-01-24T06:52:48.129884",
     "status": "completed"
    },
    "tags": []
   },
   "source": [
    "### Notebook Imports"
   ]
  },
  {
   "cell_type": "code",
   "execution_count": 1,
   "id": "b7096627",
   "metadata": {
    "execution": {
     "iopub.execute_input": "2024-01-24T06:52:48.150713Z",
     "iopub.status.busy": "2024-01-24T06:52:48.150356Z",
     "iopub.status.idle": "2024-01-24T06:53:00.593443Z",
     "shell.execute_reply": "2024-01-24T06:53:00.592659Z"
    },
    "papermill": {
     "duration": 12.452849,
     "end_time": "2024-01-24T06:53:00.595709",
     "exception": false,
     "start_time": "2024-01-24T06:52:48.142860",
     "status": "completed"
    },
    "tags": []
   },
   "outputs": [
    {
     "name": "stderr",
     "output_type": "stream",
     "text": [
      "/opt/conda/lib/python3.10/site-packages/scipy/__init__.py:146: UserWarning: A NumPy version >=1.16.5 and <1.23.0 is required for this version of SciPy (detected version 1.24.3\n",
      "  warnings.warn(f\"A NumPy version >={np_minversion} and <{np_maxversion}\"\n"
     ]
    }
   ],
   "source": [
    "import numpy as np\n",
    "\n",
    "import tensorflow as tf\n",
    "from tensorflow import keras\n",
    "from tensorflow.keras.layers import Activation, Dense\n",
    "from tensorflow.keras.optimizers import Adam\n",
    "from tensorflow.keras.models import Model\n",
    "from tensorflow.keras.metrics import categorical_crossentropy\n",
    "from tensorflow.keras.preprocessing.image import ImageDataGenerator\n",
    "from tensorflow.keras.preprocessing import image\n",
    "from tensorflow.keras.applications import imagenet_utils\n",
    "\n",
    "from sklearn.metrics import confusion_matrix\n",
    "import itertools\n",
    "import os\n",
    "import shutil\n",
    "import random\n",
    "import glob\n",
    "import matplotlib.pyplot as plt\n",
    "import warnings\n",
    "\n",
    "warnings.simplefilter(action='ignore', category=FutureWarning)\n",
    "%matplotlib inline"
   ]
  },
  {
   "cell_type": "markdown",
   "id": "c98c5868",
   "metadata": {
    "papermill": {
     "duration": 0.006336,
     "end_time": "2024-01-24T06:53:00.608933",
     "exception": false,
     "start_time": "2024-01-24T06:53:00.602597",
     "status": "completed"
    },
    "tags": []
   },
   "source": [
    "### Organizing data into Train, Valid, Test dirs"
   ]
  },
  {
   "cell_type": "code",
   "execution_count": 2,
   "id": "c5fe806a",
   "metadata": {
    "execution": {
     "iopub.execute_input": "2024-01-24T06:53:00.623325Z",
     "iopub.status.busy": "2024-01-24T06:53:00.622795Z",
     "iopub.status.idle": "2024-01-24T06:53:07.490956Z",
     "shell.execute_reply": "2024-01-24T06:53:07.489845Z"
    },
    "papermill": {
     "duration": 6.877981,
     "end_time": "2024-01-24T06:53:07.493281",
     "exception": false,
     "start_time": "2024-01-24T06:53:00.615300",
     "status": "completed"
    },
    "tags": []
   },
   "outputs": [
    {
     "name": "stdout",
     "output_type": "stream",
     "text": [
      "Items successfully copied to output folder: ['0', '2', '6', '9', '7', '3', '1', '4', '8', '5']\n"
     ]
    }
   ],
   "source": [
    "input_folder = '/kaggle/input/signlanguagedigitsdataset/Dataset'\n",
    "output_folder = '/kaggle/working/dataset'\n",
    "\n",
    "# Create the output folder if it doesn't exist\n",
    "os.makedirs(output_folder, exist_ok=True)\n",
    "\n",
    "# Function to copy either a file or a directory\n",
    "def copy_item(item_name):\n",
    "    source_path = os.path.join(input_folder, item_name)\n",
    "    destination_path = os.path.join(output_folder, item_name)\n",
    "    if os.path.isfile(source_path):\n",
    "        shutil.copy(source_path, destination_path)\n",
    "    elif os.path.isdir(source_path):\n",
    "        shutil.copytree(source_path, destination_path)\n",
    "\n",
    "# List all items in the input folder (files and directories)\n",
    "items_list = os.listdir(input_folder)\n",
    "\n",
    "# Copy each item from the input to the output folder\n",
    "for item_name in items_list:\n",
    "    copy_item(item_name)\n",
    "\n",
    "# Check if items are successfully copied\n",
    "output_items = os.listdir(output_folder)\n",
    "print(f\"Items successfully copied to output folder: {output_items}\")"
   ]
  },
  {
   "cell_type": "code",
   "execution_count": 3,
   "id": "3f38a56b",
   "metadata": {
    "execution": {
     "iopub.execute_input": "2024-01-24T06:53:07.508333Z",
     "iopub.status.busy": "2024-01-24T06:53:07.507996Z",
     "iopub.status.idle": "2024-01-24T06:53:07.535188Z",
     "shell.execute_reply": "2024-01-24T06:53:07.534363Z"
    },
    "papermill": {
     "duration": 0.036975,
     "end_time": "2024-01-24T06:53:07.537262",
     "exception": false,
     "start_time": "2024-01-24T06:53:07.500287",
     "status": "completed"
    },
    "tags": []
   },
   "outputs": [],
   "source": [
    "os.chdir('/kaggle/working/dataset')\n",
    "if os.path.isdir('train/0/') is False: \n",
    "    os.mkdir('train')\n",
    "    os.mkdir('valid')\n",
    "    os.mkdir('test')\n",
    "\n",
    "    for i in range(0, 10):\n",
    "        shutil.move(f'{i}', 'train')\n",
    "        os.mkdir(f'valid/{i}')\n",
    "        os.mkdir(f'test/{i}')\n",
    "\n",
    "        valid_samples = random.sample(os.listdir(f'train/{i}'), 30)\n",
    "        for j in valid_samples:\n",
    "            shutil.move(f'train/{i}/{j}', f'valid/{i}')\n",
    "\n",
    "        test_samples = random.sample(os.listdir(f'train/{i}'), 5)\n",
    "        for k in test_samples:\n",
    "            shutil.move(f'train/{i}/{k}', f'test/{i}')\n",
    "os.chdir('../..')"
   ]
  },
  {
   "cell_type": "code",
   "execution_count": 4,
   "id": "351adc72",
   "metadata": {
    "execution": {
     "iopub.execute_input": "2024-01-24T06:53:07.552047Z",
     "iopub.status.busy": "2024-01-24T06:53:07.551743Z",
     "iopub.status.idle": "2024-01-24T06:53:07.555929Z",
     "shell.execute_reply": "2024-01-24T06:53:07.555076Z"
    },
    "papermill": {
     "duration": 0.013729,
     "end_time": "2024-01-24T06:53:07.557774",
     "exception": false,
     "start_time": "2024-01-24T06:53:07.544045",
     "status": "completed"
    },
    "tags": []
   },
   "outputs": [],
   "source": [
    "train_path = '/kaggle/working/dataset/train'\n",
    "valid_path = '/kaggle/working/dataset/valid'\n",
    "test_path = '/kaggle/working/dataset/test'"
   ]
  },
  {
   "cell_type": "code",
   "execution_count": 5,
   "id": "d439edc4",
   "metadata": {
    "execution": {
     "iopub.execute_input": "2024-01-24T06:53:07.572122Z",
     "iopub.status.busy": "2024-01-24T06:53:07.571855Z",
     "iopub.status.idle": "2024-01-24T06:53:07.663559Z",
     "shell.execute_reply": "2024-01-24T06:53:07.662841Z"
    },
    "papermill": {
     "duration": 0.101087,
     "end_time": "2024-01-24T06:53:07.665437",
     "exception": false,
     "start_time": "2024-01-24T06:53:07.564350",
     "status": "completed"
    },
    "tags": []
   },
   "outputs": [
    {
     "name": "stdout",
     "output_type": "stream",
     "text": [
      "Found 1712 images belonging to 10 classes.\n",
      "Found 300 images belonging to 10 classes.\n",
      "Found 50 images belonging to 10 classes.\n"
     ]
    }
   ],
   "source": [
    "train_batches = ImageDataGenerator(preprocessing_function=tf.keras.applications.mobilenet.preprocess_input).flow_from_directory(\n",
    "    directory=train_path, target_size=(224,224), batch_size=10)\n",
    "\n",
    "valid_batches = ImageDataGenerator(preprocessing_function=tf.keras.applications.mobilenet.preprocess_input).flow_from_directory(\n",
    "    directory=valid_path, target_size=(224,224), batch_size=10)\n",
    "\n",
    "test_batches = ImageDataGenerator(preprocessing_function=tf.keras.applications.mobilenet.preprocess_input).flow_from_directory(\n",
    "    directory=test_path, target_size=(224,224), batch_size=10, shuffle=False)"
   ]
  },
  {
   "cell_type": "markdown",
   "id": "16a1ff41",
   "metadata": {
    "papermill": {
     "duration": 0.00663,
     "end_time": "2024-01-24T06:53:07.679001",
     "exception": false,
     "start_time": "2024-01-24T06:53:07.672371",
     "status": "completed"
    },
    "tags": []
   },
   "source": [
    "### Modify Model"
   ]
  },
  {
   "cell_type": "code",
   "execution_count": 6,
   "id": "4bc4e3a3",
   "metadata": {
    "execution": {
     "iopub.execute_input": "2024-01-24T06:53:07.694124Z",
     "iopub.status.busy": "2024-01-24T06:53:07.693822Z",
     "iopub.status.idle": "2024-01-24T06:53:11.774478Z",
     "shell.execute_reply": "2024-01-24T06:53:11.773421Z"
    },
    "papermill": {
     "duration": 4.090972,
     "end_time": "2024-01-24T06:53:11.776855",
     "exception": false,
     "start_time": "2024-01-24T06:53:07.685883",
     "status": "completed"
    },
    "tags": []
   },
   "outputs": [
    {
     "name": "stdout",
     "output_type": "stream",
     "text": [
      "Downloading data from https://storage.googleapis.com/tensorflow/keras-applications/mobilenet/mobilenet_1_0_224_tf.h5\n",
      "17225924/17225924 [==============================] - 1s 0us/step\n"
     ]
    }
   ],
   "source": [
    "mobile = tf.keras.applications.mobilenet.MobileNet()"
   ]
  },
  {
   "cell_type": "code",
   "execution_count": 7,
   "id": "a453480b",
   "metadata": {
    "execution": {
     "iopub.execute_input": "2024-01-24T06:53:11.796649Z",
     "iopub.status.busy": "2024-01-24T06:53:11.796313Z",
     "iopub.status.idle": "2024-01-24T06:53:11.994516Z",
     "shell.execute_reply": "2024-01-24T06:53:11.993583Z"
    },
    "papermill": {
     "duration": 0.281207,
     "end_time": "2024-01-24T06:53:12.067950",
     "exception": false,
     "start_time": "2024-01-24T06:53:11.786743",
     "status": "completed"
    },
    "tags": []
   },
   "outputs": [
    {
     "name": "stdout",
     "output_type": "stream",
     "text": [
      "Model: \"mobilenet_1.00_224\"\n",
      "_________________________________________________________________\n",
      " Layer (type)                Output Shape              Param #   \n",
      "=================================================================\n",
      " input_1 (InputLayer)        [(None, 224, 224, 3)]     0         \n",
      "                                                                 \n",
      " conv1 (Conv2D)              (None, 112, 112, 32)      864       \n",
      "                                                                 \n",
      " conv1_bn (BatchNormalizati  (None, 112, 112, 32)      128       \n",
      " on)                                                             \n",
      "                                                                 \n",
      " conv1_relu (ReLU)           (None, 112, 112, 32)      0         \n",
      "                                                                 \n",
      " conv_dw_1 (DepthwiseConv2D  (None, 112, 112, 32)      288       \n",
      " )                                                               \n",
      "                                                                 \n",
      " conv_dw_1_bn (BatchNormali  (None, 112, 112, 32)      128       \n",
      " zation)                                                         \n",
      "                                                                 \n",
      " conv_dw_1_relu (ReLU)       (None, 112, 112, 32)      0         \n",
      "                                                                 \n",
      " conv_pw_1 (Conv2D)          (None, 112, 112, 64)      2048      \n",
      "                                                                 \n",
      " conv_pw_1_bn (BatchNormali  (None, 112, 112, 64)      256       \n",
      " zation)                                                         \n",
      "                                                                 \n",
      " conv_pw_1_relu (ReLU)       (None, 112, 112, 64)      0         \n",
      "                                                                 \n",
      " conv_pad_2 (ZeroPadding2D)  (None, 113, 113, 64)      0         \n",
      "                                                                 \n",
      " conv_dw_2 (DepthwiseConv2D  (None, 56, 56, 64)        576       \n",
      " )                                                               \n",
      "                                                                 \n",
      " conv_dw_2_bn (BatchNormali  (None, 56, 56, 64)        256       \n",
      " zation)                                                         \n",
      "                                                                 \n",
      " conv_dw_2_relu (ReLU)       (None, 56, 56, 64)        0         \n",
      "                                                                 \n",
      " conv_pw_2 (Conv2D)          (None, 56, 56, 128)       8192      \n",
      "                                                                 \n",
      " conv_pw_2_bn (BatchNormali  (None, 56, 56, 128)       512       \n",
      " zation)                                                         \n",
      "                                                                 \n",
      " conv_pw_2_relu (ReLU)       (None, 56, 56, 128)       0         \n",
      "                                                                 \n",
      " conv_dw_3 (DepthwiseConv2D  (None, 56, 56, 128)       1152      \n",
      " )                                                               \n",
      "                                                                 \n",
      " conv_dw_3_bn (BatchNormali  (None, 56, 56, 128)       512       \n",
      " zation)                                                         \n",
      "                                                                 \n",
      " conv_dw_3_relu (ReLU)       (None, 56, 56, 128)       0         \n",
      "                                                                 \n",
      " conv_pw_3 (Conv2D)          (None, 56, 56, 128)       16384     \n",
      "                                                                 \n",
      " conv_pw_3_bn (BatchNormali  (None, 56, 56, 128)       512       \n",
      " zation)                                                         \n",
      "                                                                 \n",
      " conv_pw_3_relu (ReLU)       (None, 56, 56, 128)       0         \n",
      "                                                                 \n",
      " conv_pad_4 (ZeroPadding2D)  (None, 57, 57, 128)       0         \n",
      "                                                                 \n",
      " conv_dw_4 (DepthwiseConv2D  (None, 28, 28, 128)       1152      \n",
      " )                                                               \n",
      "                                                                 \n",
      " conv_dw_4_bn (BatchNormali  (None, 28, 28, 128)       512       \n",
      " zation)                                                         \n",
      "                                                                 \n",
      " conv_dw_4_relu (ReLU)       (None, 28, 28, 128)       0         \n",
      "                                                                 \n",
      " conv_pw_4 (Conv2D)          (None, 28, 28, 256)       32768     \n",
      "                                                                 \n",
      " conv_pw_4_bn (BatchNormali  (None, 28, 28, 256)       1024      \n",
      " zation)                                                         \n",
      "                                                                 \n",
      " conv_pw_4_relu (ReLU)       (None, 28, 28, 256)       0         \n",
      "                                                                 \n",
      " conv_dw_5 (DepthwiseConv2D  (None, 28, 28, 256)       2304      \n",
      " )                                                               \n",
      "                                                                 \n",
      " conv_dw_5_bn (BatchNormali  (None, 28, 28, 256)       1024      \n",
      " zation)                                                         \n",
      "                                                                 \n",
      " conv_dw_5_relu (ReLU)       (None, 28, 28, 256)       0         \n",
      "                                                                 \n",
      " conv_pw_5 (Conv2D)          (None, 28, 28, 256)       65536     \n",
      "                                                                 \n",
      " conv_pw_5_bn (BatchNormali  (None, 28, 28, 256)       1024      \n",
      " zation)                                                         \n",
      "                                                                 \n",
      " conv_pw_5_relu (ReLU)       (None, 28, 28, 256)       0         \n",
      "                                                                 \n",
      " conv_pad_6 (ZeroPadding2D)  (None, 29, 29, 256)       0         \n",
      "                                                                 \n",
      " conv_dw_6 (DepthwiseConv2D  (None, 14, 14, 256)       2304      \n",
      " )                                                               \n",
      "                                                                 \n",
      " conv_dw_6_bn (BatchNormali  (None, 14, 14, 256)       1024      \n",
      " zation)                                                         \n",
      "                                                                 \n",
      " conv_dw_6_relu (ReLU)       (None, 14, 14, 256)       0         \n",
      "                                                                 \n",
      " conv_pw_6 (Conv2D)          (None, 14, 14, 512)       131072    \n",
      "                                                                 \n",
      " conv_pw_6_bn (BatchNormali  (None, 14, 14, 512)       2048      \n",
      " zation)                                                         \n",
      "                                                                 \n",
      " conv_pw_6_relu (ReLU)       (None, 14, 14, 512)       0         \n",
      "                                                                 \n",
      " conv_dw_7 (DepthwiseConv2D  (None, 14, 14, 512)       4608      \n",
      " )                                                               \n",
      "                                                                 \n",
      " conv_dw_7_bn (BatchNormali  (None, 14, 14, 512)       2048      \n",
      " zation)                                                         \n",
      "                                                                 \n",
      " conv_dw_7_relu (ReLU)       (None, 14, 14, 512)       0         \n",
      "                                                                 \n",
      " conv_pw_7 (Conv2D)          (None, 14, 14, 512)       262144    \n",
      "                                                                 \n",
      " conv_pw_7_bn (BatchNormali  (None, 14, 14, 512)       2048      \n",
      " zation)                                                         \n",
      "                                                                 \n",
      " conv_pw_7_relu (ReLU)       (None, 14, 14, 512)       0         \n",
      "                                                                 \n",
      " conv_dw_8 (DepthwiseConv2D  (None, 14, 14, 512)       4608      \n",
      " )                                                               \n",
      "                                                                 \n",
      " conv_dw_8_bn (BatchNormali  (None, 14, 14, 512)       2048      \n",
      " zation)                                                         \n",
      "                                                                 \n",
      " conv_dw_8_relu (ReLU)       (None, 14, 14, 512)       0         \n",
      "                                                                 \n",
      " conv_pw_8 (Conv2D)          (None, 14, 14, 512)       262144    \n",
      "                                                                 \n",
      " conv_pw_8_bn (BatchNormali  (None, 14, 14, 512)       2048      \n",
      " zation)                                                         \n",
      "                                                                 \n",
      " conv_pw_8_relu (ReLU)       (None, 14, 14, 512)       0         \n",
      "                                                                 \n",
      " conv_dw_9 (DepthwiseConv2D  (None, 14, 14, 512)       4608      \n",
      " )                                                               \n",
      "                                                                 \n",
      " conv_dw_9_bn (BatchNormali  (None, 14, 14, 512)       2048      \n",
      " zation)                                                         \n",
      "                                                                 \n",
      " conv_dw_9_relu (ReLU)       (None, 14, 14, 512)       0         \n",
      "                                                                 \n",
      " conv_pw_9 (Conv2D)          (None, 14, 14, 512)       262144    \n",
      "                                                                 \n",
      " conv_pw_9_bn (BatchNormali  (None, 14, 14, 512)       2048      \n",
      " zation)                                                         \n",
      "                                                                 \n",
      " conv_pw_9_relu (ReLU)       (None, 14, 14, 512)       0         \n",
      "                                                                 \n",
      " conv_dw_10 (DepthwiseConv2  (None, 14, 14, 512)       4608      \n",
      " D)                                                              \n",
      "                                                                 \n",
      " conv_dw_10_bn (BatchNormal  (None, 14, 14, 512)       2048      \n",
      " ization)                                                        \n",
      "                                                                 \n",
      " conv_dw_10_relu (ReLU)      (None, 14, 14, 512)       0         \n",
      "                                                                 \n",
      " conv_pw_10 (Conv2D)         (None, 14, 14, 512)       262144    \n",
      "                                                                 \n",
      " conv_pw_10_bn (BatchNormal  (None, 14, 14, 512)       2048      \n",
      " ization)                                                        \n",
      "                                                                 \n",
      " conv_pw_10_relu (ReLU)      (None, 14, 14, 512)       0         \n",
      "                                                                 \n",
      " conv_dw_11 (DepthwiseConv2  (None, 14, 14, 512)       4608      \n",
      " D)                                                              \n",
      "                                                                 \n",
      " conv_dw_11_bn (BatchNormal  (None, 14, 14, 512)       2048      \n",
      " ization)                                                        \n",
      "                                                                 \n",
      " conv_dw_11_relu (ReLU)      (None, 14, 14, 512)       0         \n",
      "                                                                 \n",
      " conv_pw_11 (Conv2D)         (None, 14, 14, 512)       262144    \n",
      "                                                                 \n",
      " conv_pw_11_bn (BatchNormal  (None, 14, 14, 512)       2048      \n",
      " ization)                                                        \n",
      "                                                                 \n",
      " conv_pw_11_relu (ReLU)      (None, 14, 14, 512)       0         \n",
      "                                                                 \n",
      " conv_pad_12 (ZeroPadding2D  (None, 15, 15, 512)       0         \n",
      " )                                                               \n",
      "                                                                 \n",
      " conv_dw_12 (DepthwiseConv2  (None, 7, 7, 512)         4608      \n",
      " D)                                                              \n",
      "                                                                 \n",
      " conv_dw_12_bn (BatchNormal  (None, 7, 7, 512)         2048      \n",
      " ization)                                                        \n",
      "                                                                 \n",
      " conv_dw_12_relu (ReLU)      (None, 7, 7, 512)         0         \n",
      "                                                                 \n",
      " conv_pw_12 (Conv2D)         (None, 7, 7, 1024)        524288    \n",
      "                                                                 \n",
      " conv_pw_12_bn (BatchNormal  (None, 7, 7, 1024)        4096      \n",
      " ization)                                                        \n",
      "                                                                 \n",
      " conv_pw_12_relu (ReLU)      (None, 7, 7, 1024)        0         \n",
      "                                                                 \n",
      " conv_dw_13 (DepthwiseConv2  (None, 7, 7, 1024)        9216      \n",
      " D)                                                              \n",
      "                                                                 \n",
      " conv_dw_13_bn (BatchNormal  (None, 7, 7, 1024)        4096      \n",
      " ization)                                                        \n",
      "                                                                 \n",
      " conv_dw_13_relu (ReLU)      (None, 7, 7, 1024)        0         \n",
      "                                                                 \n",
      " conv_pw_13 (Conv2D)         (None, 7, 7, 1024)        1048576   \n",
      "                                                                 \n",
      " conv_pw_13_bn (BatchNormal  (None, 7, 7, 1024)        4096      \n",
      " ization)                                                        \n",
      "                                                                 \n",
      " conv_pw_13_relu (ReLU)      (None, 7, 7, 1024)        0         \n",
      "                                                                 \n",
      " global_average_pooling2d (  (None, 1, 1, 1024)        0         \n",
      " GlobalAveragePooling2D)                                         \n",
      "                                                                 \n",
      " dropout (Dropout)           (None, 1, 1, 1024)        0         \n",
      "                                                                 \n",
      " conv_preds (Conv2D)         (None, 1, 1, 1000)        1025000   \n",
      "                                                                 \n",
      " reshape_2 (Reshape)         (None, 1000)              0         \n",
      "                                                                 \n",
      " predictions (Activation)    (None, 1000)              0         \n",
      "                                                                 \n",
      "=================================================================\n",
      "Total params: 4253864 (16.23 MB)\n",
      "Trainable params: 4231976 (16.14 MB)\n",
      "Non-trainable params: 21888 (85.50 KB)\n",
      "_________________________________________________________________\n"
     ]
    }
   ],
   "source": [
    "mobile.summary()"
   ]
  },
  {
   "cell_type": "code",
   "execution_count": 8,
   "id": "d03efb53",
   "metadata": {
    "execution": {
     "iopub.execute_input": "2024-01-24T06:53:12.121567Z",
     "iopub.status.busy": "2024-01-24T06:53:12.121272Z",
     "iopub.status.idle": "2024-01-24T06:53:12.145823Z",
     "shell.execute_reply": "2024-01-24T06:53:12.145068Z"
    },
    "papermill": {
     "duration": 0.053515,
     "end_time": "2024-01-24T06:53:12.147761",
     "exception": false,
     "start_time": "2024-01-24T06:53:12.094246",
     "status": "completed"
    },
    "tags": []
   },
   "outputs": [],
   "source": [
    "x = mobile.layers[-6].output\n",
    "x = tf.keras.layers.GlobalAveragePooling2D()(x)\n",
    "output = Dense(units=10, activation='softmax')(x)"
   ]
  },
  {
   "cell_type": "code",
   "execution_count": 9,
   "id": "51ee5f2a",
   "metadata": {
    "execution": {
     "iopub.execute_input": "2024-01-24T06:53:12.203561Z",
     "iopub.status.busy": "2024-01-24T06:53:12.203034Z",
     "iopub.status.idle": "2024-01-24T06:53:12.216262Z",
     "shell.execute_reply": "2024-01-24T06:53:12.215423Z"
    },
    "papermill": {
     "duration": 0.043884,
     "end_time": "2024-01-24T06:53:12.218386",
     "exception": false,
     "start_time": "2024-01-24T06:53:12.174502",
     "status": "completed"
    },
    "tags": []
   },
   "outputs": [],
   "source": [
    "model = Model(inputs=mobile.input, outputs=output)"
   ]
  },
  {
   "cell_type": "code",
   "execution_count": 10,
   "id": "fd74c10f",
   "metadata": {
    "execution": {
     "iopub.execute_input": "2024-01-24T06:53:12.272406Z",
     "iopub.status.busy": "2024-01-24T06:53:12.272116Z",
     "iopub.status.idle": "2024-01-24T06:53:12.278871Z",
     "shell.execute_reply": "2024-01-24T06:53:12.278003Z"
    },
    "papermill": {
     "duration": 0.035457,
     "end_time": "2024-01-24T06:53:12.280618",
     "exception": false,
     "start_time": "2024-01-24T06:53:12.245161",
     "status": "completed"
    },
    "tags": []
   },
   "outputs": [],
   "source": [
    "for layer in model.layers[:-23]:\n",
    "    layer.trainable = False"
   ]
  },
  {
   "cell_type": "code",
   "execution_count": 11,
   "id": "047759c9",
   "metadata": {
    "execution": {
     "iopub.execute_input": "2024-01-24T06:53:12.333261Z",
     "iopub.status.busy": "2024-01-24T06:53:12.332739Z",
     "iopub.status.idle": "2024-01-24T06:53:12.544869Z",
     "shell.execute_reply": "2024-01-24T06:53:12.543924Z"
    },
    "papermill": {
     "duration": 0.302803,
     "end_time": "2024-01-24T06:53:12.609080",
     "exception": false,
     "start_time": "2024-01-24T06:53:12.306277",
     "status": "completed"
    },
    "tags": []
   },
   "outputs": [
    {
     "name": "stdout",
     "output_type": "stream",
     "text": [
      "Model: \"model\"\n",
      "_________________________________________________________________\n",
      " Layer (type)                Output Shape              Param #   \n",
      "=================================================================\n",
      " input_1 (InputLayer)        [(None, 224, 224, 3)]     0         \n",
      "                                                                 \n",
      " conv1 (Conv2D)              (None, 112, 112, 32)      864       \n",
      "                                                                 \n",
      " conv1_bn (BatchNormalizati  (None, 112, 112, 32)      128       \n",
      " on)                                                             \n",
      "                                                                 \n",
      " conv1_relu (ReLU)           (None, 112, 112, 32)      0         \n",
      "                                                                 \n",
      " conv_dw_1 (DepthwiseConv2D  (None, 112, 112, 32)      288       \n",
      " )                                                               \n",
      "                                                                 \n",
      " conv_dw_1_bn (BatchNormali  (None, 112, 112, 32)      128       \n",
      " zation)                                                         \n",
      "                                                                 \n",
      " conv_dw_1_relu (ReLU)       (None, 112, 112, 32)      0         \n",
      "                                                                 \n",
      " conv_pw_1 (Conv2D)          (None, 112, 112, 64)      2048      \n",
      "                                                                 \n",
      " conv_pw_1_bn (BatchNormali  (None, 112, 112, 64)      256       \n",
      " zation)                                                         \n",
      "                                                                 \n",
      " conv_pw_1_relu (ReLU)       (None, 112, 112, 64)      0         \n",
      "                                                                 \n",
      " conv_pad_2 (ZeroPadding2D)  (None, 113, 113, 64)      0         \n",
      "                                                                 \n",
      " conv_dw_2 (DepthwiseConv2D  (None, 56, 56, 64)        576       \n",
      " )                                                               \n",
      "                                                                 \n",
      " conv_dw_2_bn (BatchNormali  (None, 56, 56, 64)        256       \n",
      " zation)                                                         \n",
      "                                                                 \n",
      " conv_dw_2_relu (ReLU)       (None, 56, 56, 64)        0         \n",
      "                                                                 \n",
      " conv_pw_2 (Conv2D)          (None, 56, 56, 128)       8192      \n",
      "                                                                 \n",
      " conv_pw_2_bn (BatchNormali  (None, 56, 56, 128)       512       \n",
      " zation)                                                         \n",
      "                                                                 \n",
      " conv_pw_2_relu (ReLU)       (None, 56, 56, 128)       0         \n",
      "                                                                 \n",
      " conv_dw_3 (DepthwiseConv2D  (None, 56, 56, 128)       1152      \n",
      " )                                                               \n",
      "                                                                 \n",
      " conv_dw_3_bn (BatchNormali  (None, 56, 56, 128)       512       \n",
      " zation)                                                         \n",
      "                                                                 \n",
      " conv_dw_3_relu (ReLU)       (None, 56, 56, 128)       0         \n",
      "                                                                 \n",
      " conv_pw_3 (Conv2D)          (None, 56, 56, 128)       16384     \n",
      "                                                                 \n",
      " conv_pw_3_bn (BatchNormali  (None, 56, 56, 128)       512       \n",
      " zation)                                                         \n",
      "                                                                 \n",
      " conv_pw_3_relu (ReLU)       (None, 56, 56, 128)       0         \n",
      "                                                                 \n",
      " conv_pad_4 (ZeroPadding2D)  (None, 57, 57, 128)       0         \n",
      "                                                                 \n",
      " conv_dw_4 (DepthwiseConv2D  (None, 28, 28, 128)       1152      \n",
      " )                                                               \n",
      "                                                                 \n",
      " conv_dw_4_bn (BatchNormali  (None, 28, 28, 128)       512       \n",
      " zation)                                                         \n",
      "                                                                 \n",
      " conv_dw_4_relu (ReLU)       (None, 28, 28, 128)       0         \n",
      "                                                                 \n",
      " conv_pw_4 (Conv2D)          (None, 28, 28, 256)       32768     \n",
      "                                                                 \n",
      " conv_pw_4_bn (BatchNormali  (None, 28, 28, 256)       1024      \n",
      " zation)                                                         \n",
      "                                                                 \n",
      " conv_pw_4_relu (ReLU)       (None, 28, 28, 256)       0         \n",
      "                                                                 \n",
      " conv_dw_5 (DepthwiseConv2D  (None, 28, 28, 256)       2304      \n",
      " )                                                               \n",
      "                                                                 \n",
      " conv_dw_5_bn (BatchNormali  (None, 28, 28, 256)       1024      \n",
      " zation)                                                         \n",
      "                                                                 \n",
      " conv_dw_5_relu (ReLU)       (None, 28, 28, 256)       0         \n",
      "                                                                 \n",
      " conv_pw_5 (Conv2D)          (None, 28, 28, 256)       65536     \n",
      "                                                                 \n",
      " conv_pw_5_bn (BatchNormali  (None, 28, 28, 256)       1024      \n",
      " zation)                                                         \n",
      "                                                                 \n",
      " conv_pw_5_relu (ReLU)       (None, 28, 28, 256)       0         \n",
      "                                                                 \n",
      " conv_pad_6 (ZeroPadding2D)  (None, 29, 29, 256)       0         \n",
      "                                                                 \n",
      " conv_dw_6 (DepthwiseConv2D  (None, 14, 14, 256)       2304      \n",
      " )                                                               \n",
      "                                                                 \n",
      " conv_dw_6_bn (BatchNormali  (None, 14, 14, 256)       1024      \n",
      " zation)                                                         \n",
      "                                                                 \n",
      " conv_dw_6_relu (ReLU)       (None, 14, 14, 256)       0         \n",
      "                                                                 \n",
      " conv_pw_6 (Conv2D)          (None, 14, 14, 512)       131072    \n",
      "                                                                 \n",
      " conv_pw_6_bn (BatchNormali  (None, 14, 14, 512)       2048      \n",
      " zation)                                                         \n",
      "                                                                 \n",
      " conv_pw_6_relu (ReLU)       (None, 14, 14, 512)       0         \n",
      "                                                                 \n",
      " conv_dw_7 (DepthwiseConv2D  (None, 14, 14, 512)       4608      \n",
      " )                                                               \n",
      "                                                                 \n",
      " conv_dw_7_bn (BatchNormali  (None, 14, 14, 512)       2048      \n",
      " zation)                                                         \n",
      "                                                                 \n",
      " conv_dw_7_relu (ReLU)       (None, 14, 14, 512)       0         \n",
      "                                                                 \n",
      " conv_pw_7 (Conv2D)          (None, 14, 14, 512)       262144    \n",
      "                                                                 \n",
      " conv_pw_7_bn (BatchNormali  (None, 14, 14, 512)       2048      \n",
      " zation)                                                         \n",
      "                                                                 \n",
      " conv_pw_7_relu (ReLU)       (None, 14, 14, 512)       0         \n",
      "                                                                 \n",
      " conv_dw_8 (DepthwiseConv2D  (None, 14, 14, 512)       4608      \n",
      " )                                                               \n",
      "                                                                 \n",
      " conv_dw_8_bn (BatchNormali  (None, 14, 14, 512)       2048      \n",
      " zation)                                                         \n",
      "                                                                 \n",
      " conv_dw_8_relu (ReLU)       (None, 14, 14, 512)       0         \n",
      "                                                                 \n",
      " conv_pw_8 (Conv2D)          (None, 14, 14, 512)       262144    \n",
      "                                                                 \n",
      " conv_pw_8_bn (BatchNormali  (None, 14, 14, 512)       2048      \n",
      " zation)                                                         \n",
      "                                                                 \n",
      " conv_pw_8_relu (ReLU)       (None, 14, 14, 512)       0         \n",
      "                                                                 \n",
      " conv_dw_9 (DepthwiseConv2D  (None, 14, 14, 512)       4608      \n",
      " )                                                               \n",
      "                                                                 \n",
      " conv_dw_9_bn (BatchNormali  (None, 14, 14, 512)       2048      \n",
      " zation)                                                         \n",
      "                                                                 \n",
      " conv_dw_9_relu (ReLU)       (None, 14, 14, 512)       0         \n",
      "                                                                 \n",
      " conv_pw_9 (Conv2D)          (None, 14, 14, 512)       262144    \n",
      "                                                                 \n",
      " conv_pw_9_bn (BatchNormali  (None, 14, 14, 512)       2048      \n",
      " zation)                                                         \n",
      "                                                                 \n",
      " conv_pw_9_relu (ReLU)       (None, 14, 14, 512)       0         \n",
      "                                                                 \n",
      " conv_dw_10 (DepthwiseConv2  (None, 14, 14, 512)       4608      \n",
      " D)                                                              \n",
      "                                                                 \n",
      " conv_dw_10_bn (BatchNormal  (None, 14, 14, 512)       2048      \n",
      " ization)                                                        \n",
      "                                                                 \n",
      " conv_dw_10_relu (ReLU)      (None, 14, 14, 512)       0         \n",
      "                                                                 \n",
      " conv_pw_10 (Conv2D)         (None, 14, 14, 512)       262144    \n",
      "                                                                 \n",
      " conv_pw_10_bn (BatchNormal  (None, 14, 14, 512)       2048      \n",
      " ization)                                                        \n",
      "                                                                 \n",
      " conv_pw_10_relu (ReLU)      (None, 14, 14, 512)       0         \n",
      "                                                                 \n",
      " conv_dw_11 (DepthwiseConv2  (None, 14, 14, 512)       4608      \n",
      " D)                                                              \n",
      "                                                                 \n",
      " conv_dw_11_bn (BatchNormal  (None, 14, 14, 512)       2048      \n",
      " ization)                                                        \n",
      "                                                                 \n",
      " conv_dw_11_relu (ReLU)      (None, 14, 14, 512)       0         \n",
      "                                                                 \n",
      " conv_pw_11 (Conv2D)         (None, 14, 14, 512)       262144    \n",
      "                                                                 \n",
      " conv_pw_11_bn (BatchNormal  (None, 14, 14, 512)       2048      \n",
      " ization)                                                        \n",
      "                                                                 \n",
      " conv_pw_11_relu (ReLU)      (None, 14, 14, 512)       0         \n",
      "                                                                 \n",
      " conv_pad_12 (ZeroPadding2D  (None, 15, 15, 512)       0         \n",
      " )                                                               \n",
      "                                                                 \n",
      " conv_dw_12 (DepthwiseConv2  (None, 7, 7, 512)         4608      \n",
      " D)                                                              \n",
      "                                                                 \n",
      " conv_dw_12_bn (BatchNormal  (None, 7, 7, 512)         2048      \n",
      " ization)                                                        \n",
      "                                                                 \n",
      " conv_dw_12_relu (ReLU)      (None, 7, 7, 512)         0         \n",
      "                                                                 \n",
      " conv_pw_12 (Conv2D)         (None, 7, 7, 1024)        524288    \n",
      "                                                                 \n",
      " conv_pw_12_bn (BatchNormal  (None, 7, 7, 1024)        4096      \n",
      " ization)                                                        \n",
      "                                                                 \n",
      " conv_pw_12_relu (ReLU)      (None, 7, 7, 1024)        0         \n",
      "                                                                 \n",
      " conv_dw_13 (DepthwiseConv2  (None, 7, 7, 1024)        9216      \n",
      " D)                                                              \n",
      "                                                                 \n",
      " conv_dw_13_bn (BatchNormal  (None, 7, 7, 1024)        4096      \n",
      " ization)                                                        \n",
      "                                                                 \n",
      " conv_dw_13_relu (ReLU)      (None, 7, 7, 1024)        0         \n",
      "                                                                 \n",
      " conv_pw_13 (Conv2D)         (None, 7, 7, 1024)        1048576   \n",
      "                                                                 \n",
      " conv_pw_13_bn (BatchNormal  (None, 7, 7, 1024)        4096      \n",
      " ization)                                                        \n",
      "                                                                 \n",
      " conv_pw_13_relu (ReLU)      (None, 7, 7, 1024)        0         \n",
      "                                                                 \n",
      " global_average_pooling2d_1  (None, 1024)              0         \n",
      "  (GlobalAveragePooling2D)                                       \n",
      "                                                                 \n",
      " dense (Dense)               (None, 10)                10250     \n",
      "                                                                 \n",
      "=================================================================\n",
      "Total params: 3239114 (12.36 MB)\n",
      "Trainable params: 1873930 (7.15 MB)\n",
      "Non-trainable params: 1365184 (5.21 MB)\n",
      "_________________________________________________________________\n"
     ]
    }
   ],
   "source": [
    "model.summary()"
   ]
  },
  {
   "cell_type": "markdown",
   "id": "c987cf3c",
   "metadata": {
    "papermill": {
     "duration": 0.083732,
     "end_time": "2024-01-24T06:53:12.736115",
     "exception": false,
     "start_time": "2024-01-24T06:53:12.652383",
     "status": "completed"
    },
    "tags": []
   },
   "source": [
    "### Train the Model"
   ]
  },
  {
   "cell_type": "code",
   "execution_count": 12,
   "id": "7c72c8d7",
   "metadata": {
    "execution": {
     "iopub.execute_input": "2024-01-24T06:53:12.824641Z",
     "iopub.status.busy": "2024-01-24T06:53:12.824289Z",
     "iopub.status.idle": "2024-01-24T06:53:12.843122Z",
     "shell.execute_reply": "2024-01-24T06:53:12.842392Z"
    },
    "papermill": {
     "duration": 0.06548,
     "end_time": "2024-01-24T06:53:12.845118",
     "exception": false,
     "start_time": "2024-01-24T06:53:12.779638",
     "status": "completed"
    },
    "tags": []
   },
   "outputs": [],
   "source": [
    "model.compile(optimizer=Adam(lr=0.0001), loss='categorical_crossentropy', metrics=['accuracy'])"
   ]
  },
  {
   "cell_type": "code",
   "execution_count": 13,
   "id": "6802c811",
   "metadata": {
    "execution": {
     "iopub.execute_input": "2024-01-24T06:53:12.935420Z",
     "iopub.status.busy": "2024-01-24T06:53:12.935088Z",
     "iopub.status.idle": "2024-01-24T06:53:54.902355Z",
     "shell.execute_reply": "2024-01-24T06:53:54.901422Z"
    },
    "papermill": {
     "duration": 42.014749,
     "end_time": "2024-01-24T06:53:54.904359",
     "exception": false,
     "start_time": "2024-01-24T06:53:12.889610",
     "status": "completed"
    },
    "tags": []
   },
   "outputs": [
    {
     "name": "stdout",
     "output_type": "stream",
     "text": [
      "Epoch 1/10\n",
      "172/172 - 11s - loss: 0.3811 - accuracy: 0.8873 - val_loss: 2.0355 - val_accuracy: 0.5467 - 11s/epoch - 63ms/step\n",
      "Epoch 2/10\n",
      "172/172 - 3s - loss: 0.0937 - accuracy: 0.9708 - val_loss: 0.1277 - val_accuracy: 0.9600 - 3s/epoch - 18ms/step\n",
      "Epoch 3/10\n",
      "172/172 - 3s - loss: 0.0491 - accuracy: 0.9801 - val_loss: 0.1218 - val_accuracy: 0.9600 - 3s/epoch - 19ms/step\n",
      "Epoch 4/10\n",
      "172/172 - 3s - loss: 0.0483 - accuracy: 0.9848 - val_loss: 0.0113 - val_accuracy: 1.0000 - 3s/epoch - 19ms/step\n",
      "Epoch 5/10\n",
      "172/172 - 3s - loss: 0.0359 - accuracy: 0.9860 - val_loss: 0.0179 - val_accuracy: 0.9933 - 3s/epoch - 19ms/step\n",
      "Epoch 6/10\n",
      "172/172 - 3s - loss: 0.0129 - accuracy: 0.9953 - val_loss: 0.1511 - val_accuracy: 0.9467 - 3s/epoch - 19ms/step\n",
      "Epoch 7/10\n",
      "172/172 - 3s - loss: 0.0043 - accuracy: 0.9994 - val_loss: 0.0034 - val_accuracy: 1.0000 - 3s/epoch - 19ms/step\n",
      "Epoch 8/10\n",
      "172/172 - 3s - loss: 0.0061 - accuracy: 0.9977 - val_loss: 0.0114 - val_accuracy: 0.9967 - 3s/epoch - 19ms/step\n",
      "Epoch 9/10\n",
      "172/172 - 3s - loss: 0.0267 - accuracy: 0.9918 - val_loss: 0.0925 - val_accuracy: 0.9600 - 3s/epoch - 19ms/step\n",
      "Epoch 10/10\n",
      "172/172 - 3s - loss: 0.0058 - accuracy: 0.9988 - val_loss: 0.0041 - val_accuracy: 0.9967 - 3s/epoch - 19ms/step\n"
     ]
    },
    {
     "data": {
      "text/plain": [
       "<keras.src.callbacks.History at 0x7d75d875fe20>"
      ]
     },
     "execution_count": 13,
     "metadata": {},
     "output_type": "execute_result"
    }
   ],
   "source": [
    "model.fit(x=train_batches, validation_data=valid_batches, epochs=10, verbose=2)"
   ]
  },
  {
   "cell_type": "markdown",
   "id": "04411fb2",
   "metadata": {
    "papermill": {
     "duration": 0.044775,
     "end_time": "2024-01-24T06:53:54.994078",
     "exception": false,
     "start_time": "2024-01-24T06:53:54.949303",
     "status": "completed"
    },
    "tags": []
   },
   "source": [
    "### Predict sign language digits"
   ]
  },
  {
   "cell_type": "code",
   "execution_count": 14,
   "id": "4d813747",
   "metadata": {
    "execution": {
     "iopub.execute_input": "2024-01-24T06:53:55.084903Z",
     "iopub.status.busy": "2024-01-24T06:53:55.084503Z",
     "iopub.status.idle": "2024-01-24T06:53:55.090834Z",
     "shell.execute_reply": "2024-01-24T06:53:55.090000Z"
    },
    "papermill": {
     "duration": 0.054457,
     "end_time": "2024-01-24T06:53:55.093006",
     "exception": false,
     "start_time": "2024-01-24T06:53:55.038549",
     "status": "completed"
    },
    "tags": []
   },
   "outputs": [
    {
     "data": {
      "text/plain": [
       "array([0, 0, 0, 0, 0, 1, 1, 1, 1, 1, 2, 2, 2, 2, 2, 3, 3, 3, 3, 3, 4, 4,\n",
       "       4, 4, 4, 5, 5, 5, 5, 5, 6, 6, 6, 6, 6, 7, 7, 7, 7, 7, 8, 8, 8, 8,\n",
       "       8, 9, 9, 9, 9, 9], dtype=int32)"
      ]
     },
     "execution_count": 14,
     "metadata": {},
     "output_type": "execute_result"
    }
   ],
   "source": [
    "test_labels = test_batches.classes\n",
    "test_batches.classes"
   ]
  },
  {
   "cell_type": "code",
   "execution_count": 15,
   "id": "aec054e4",
   "metadata": {
    "execution": {
     "iopub.execute_input": "2024-01-24T06:53:55.185129Z",
     "iopub.status.busy": "2024-01-24T06:53:55.184788Z",
     "iopub.status.idle": "2024-01-24T06:53:55.798547Z",
     "shell.execute_reply": "2024-01-24T06:53:55.797750Z"
    },
    "papermill": {
     "duration": 0.662021,
     "end_time": "2024-01-24T06:53:55.800945",
     "exception": false,
     "start_time": "2024-01-24T06:53:55.138924",
     "status": "completed"
    },
    "tags": []
   },
   "outputs": [],
   "source": [
    "predictions = model.predict(x=test_batches, verbose=0)"
   ]
  },
  {
   "cell_type": "code",
   "execution_count": 16,
   "id": "4cd1e802",
   "metadata": {
    "execution": {
     "iopub.execute_input": "2024-01-24T06:53:55.892939Z",
     "iopub.status.busy": "2024-01-24T06:53:55.892566Z",
     "iopub.status.idle": "2024-01-24T06:53:55.899483Z",
     "shell.execute_reply": "2024-01-24T06:53:55.898802Z"
    },
    "papermill": {
     "duration": 0.054893,
     "end_time": "2024-01-24T06:53:55.901325",
     "exception": false,
     "start_time": "2024-01-24T06:53:55.846432",
     "status": "completed"
    },
    "tags": []
   },
   "outputs": [],
   "source": [
    "cm = confusion_matrix(y_true=test_labels, y_pred=predictions.argmax(axis=-1))"
   ]
  },
  {
   "cell_type": "code",
   "execution_count": 17,
   "id": "cad7f7a9",
   "metadata": {
    "execution": {
     "iopub.execute_input": "2024-01-24T06:53:55.992191Z",
     "iopub.status.busy": "2024-01-24T06:53:55.991874Z",
     "iopub.status.idle": "2024-01-24T06:53:55.997936Z",
     "shell.execute_reply": "2024-01-24T06:53:55.997095Z"
    },
    "papermill": {
     "duration": 0.053702,
     "end_time": "2024-01-24T06:53:55.999879",
     "exception": false,
     "start_time": "2024-01-24T06:53:55.946177",
     "status": "completed"
    },
    "tags": []
   },
   "outputs": [
    {
     "data": {
      "text/plain": [
       "{'0': 0,\n",
       " '1': 1,\n",
       " '2': 2,\n",
       " '3': 3,\n",
       " '4': 4,\n",
       " '5': 5,\n",
       " '6': 6,\n",
       " '7': 7,\n",
       " '8': 8,\n",
       " '9': 9}"
      ]
     },
     "execution_count": 17,
     "metadata": {},
     "output_type": "execute_result"
    }
   ],
   "source": [
    "test_batches.class_indices"
   ]
  },
  {
   "cell_type": "code",
   "execution_count": 18,
   "id": "e64372c0",
   "metadata": {
    "execution": {
     "iopub.execute_input": "2024-01-24T06:53:56.091446Z",
     "iopub.status.busy": "2024-01-24T06:53:56.091081Z",
     "iopub.status.idle": "2024-01-24T06:53:56.100192Z",
     "shell.execute_reply": "2024-01-24T06:53:56.099268Z"
    },
    "papermill": {
     "duration": 0.057246,
     "end_time": "2024-01-24T06:53:56.102044",
     "exception": false,
     "start_time": "2024-01-24T06:53:56.044798",
     "status": "completed"
    },
    "tags": []
   },
   "outputs": [],
   "source": [
    "def plot_confusion_matrix(cm, classes, normalize=False, \n",
    "                          title=\"Confusion Matrix\", cmap=plt.cm.Blues):\n",
    "    \n",
    "    plt.imshow(cm, interpolation='nearest', cmap=cmap) \n",
    "    plt.title(title)\n",
    "    plt.colorbar()\n",
    "    \n",
    "    tick_marks = np.arange(len(classes))\n",
    "    plt.xticks(tick_marks, classes)\n",
    "    plt.yticks(tick_marks, classes)\n",
    "    \n",
    "    if normalize:\n",
    "        cm = cm.astype('float') / cm.sum(axis=1)[:, np.newaxis]\n",
    "        print(\"Normalized confusion matrix\")\n",
    "    else:\n",
    "        print(\"Confusion Matrix, without normalization\")\n",
    "        \n",
    "    print(cm)\n",
    "    \n",
    "    tresh = cm.max() / 2.\n",
    "    \n",
    "    for i, j in itertools.product(range(cm.shape[0]), range(cm.shape[1])):\n",
    "        plt.text(j, i, cm[i, j], horizontalalignment='center',\n",
    "                color='white' if cm[i, j] > tresh else \"black\")\n",
    "        \n",
    "        plt.tight_layout()\n",
    "        plt.ylabel(\"True Label\")\n",
    "        plt.xlabel(\"Predicted Label\")"
   ]
  },
  {
   "cell_type": "code",
   "execution_count": 19,
   "id": "3e563847",
   "metadata": {
    "execution": {
     "iopub.execute_input": "2024-01-24T06:53:56.192829Z",
     "iopub.status.busy": "2024-01-24T06:53:56.192519Z",
     "iopub.status.idle": "2024-01-24T06:54:00.948204Z",
     "shell.execute_reply": "2024-01-24T06:54:00.947285Z"
    },
    "papermill": {
     "duration": 4.803604,
     "end_time": "2024-01-24T06:54:00.950380",
     "exception": false,
     "start_time": "2024-01-24T06:53:56.146776",
     "status": "completed"
    },
    "tags": []
   },
   "outputs": [
    {
     "name": "stdout",
     "output_type": "stream",
     "text": [
      "Confusion Matrix, without normalization\n",
      "[[5 0 0 0 0 0 0 0 0 0]\n",
      " [0 5 0 0 0 0 0 0 0 0]\n",
      " [0 0 5 0 0 0 0 0 0 0]\n",
      " [0 0 0 5 0 0 0 0 0 0]\n",
      " [0 0 0 0 5 0 0 0 0 0]\n",
      " [0 0 0 0 0 5 0 0 0 0]\n",
      " [0 0 0 0 0 0 5 0 0 0]\n",
      " [0 0 0 0 0 0 0 5 0 0]\n",
      " [0 0 0 0 0 0 0 0 5 0]\n",
      " [0 0 0 0 0 0 0 0 0 5]]\n"
     ]
    },
    {
     "data": {
      "image/png": "[encoded data removed]",
      "text/plain": [
       "<Figure size 640x480 with 2 Axes>"
      ]
     },
     "metadata": {},
     "output_type": "display_data"
    }
   ],
   "source": [
    "cm_plot_labels = [f'{i}' for i in range(0, 10)]\n",
    "plot_confusion_matrix(cm=cm, classes=cm_plot_labels, title='Confusion Matrix')"
   ]
  }
 ],
 "metadata": {
  "kaggle": {
   "accelerator": "gpu",
   "dataSources": [
    {
     "datasetId": 1768717,
     "sourceId": 2887289,
     "sourceType": "datasetVersion"
    }
   ],
   "dockerImageVersionId": 30636,
   "isGpuEnabled": true,
   "isInternetEnabled": true,
   "language": "python",
   "sourceType": "notebook"
  },
  "kernelspec": {
   "display_name": "Python 3",
   "language": "python",
   "name": "python3"
  },
  "language_info": {
   "codemirror_mode": {
    "name": "ipython",
    "version": 3
   },
   "file_extension": ".py",
   "mimetype": "text/x-python",
   "name": "python",
   "nbconvert_exporter": "python",
   "pygments_lexer": "ipython3",
   "version": "3.10.12"
  },
  "papermill": {
   "default_parameters": {},
   "duration": 78.516217,
   "end_time": "2024-01-24T06:54:03.229714",
   "environment_variables": {},
   "exception": null,
   "input_path": "__notebook__.ipynb",
   "output_path": "__notebook__.ipynb",
   "parameters": {},
   "start_time": "2024-01-24T06:52:44.713497",
   "version": "2.4.0"
  }
 },
 "nbformat": 4,
 "nbformat_minor": 5
}
