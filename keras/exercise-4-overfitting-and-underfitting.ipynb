{
 "cells": [
  {
   "cell_type": "markdown",
   "id": "0c0d2bb7",
   "metadata": {
    "papermill": {
     "duration": 0.006645,
     "end_time": "2024-01-29T09:12:23.576178",
     "exception": false,
     "start_time": "2024-01-29T09:12:23.569533",
     "status": "completed"
    },
    "tags": []
   },
   "source": [
    "**This notebook is an exercise in the [Intro to Deep Learning](https://www.kaggle.com/learn/intro-to-deep-learning) course.  You can reference the tutorial at [this link](https://www.kaggle.com/ryanholbrook/overfitting-and-underfitting).**\n",
    "\n",
    "---\n"
   ]
  },
  {
   "cell_type": "markdown",
   "id": "4bc7acf8",
   "metadata": {
    "papermill": {
     "duration": 0.005864,
     "end_time": "2024-01-29T09:12:23.588201",
     "exception": false,
     "start_time": "2024-01-29T09:12:23.582337",
     "status": "completed"
    },
    "tags": []
   },
   "source": [
    "# Introduction #\n",
    "\n",
    "In this exercise, you’ll learn how to improve training outcomes by including an early stopping callback to prevent overfitting.\n",
    "\n",
    "When you're ready, run this next cell to set everything up!"
   ]
  },
  {
   "cell_type": "code",
   "execution_count": 1,
   "id": "5b8d35e3",
   "metadata": {
    "execution": {
     "iopub.execute_input": "2024-01-29T09:12:23.601687Z",
     "iopub.status.busy": "2024-01-29T09:12:23.601316Z",
     "iopub.status.idle": "2024-01-29T09:12:24.377126Z",
     "shell.execute_reply": "2024-01-29T09:12:24.376204Z"
    },
    "papermill": {
     "duration": 0.78533,
     "end_time": "2024-01-29T09:12:24.379464",
     "exception": false,
     "start_time": "2024-01-29T09:12:23.594134",
     "status": "completed"
    },
    "tags": []
   },
   "outputs": [
    {
     "name": "stderr",
     "output_type": "stream",
     "text": [
      "/tmp/ipykernel_26/1500229236.py:3: MatplotlibDeprecationWarning: The seaborn styles shipped by Matplotlib are deprecated since 3.6, as they no longer correspond to the styles shipped by seaborn. However, they will remain available as 'seaborn-v0_8-<style>'. Alternatively, directly use the seaborn API instead.\n",
      "  plt.style.use('seaborn-whitegrid')\n"
     ]
    }
   ],
   "source": [
    "# Setup plotting\n",
    "import matplotlib.pyplot as plt\n",
    "plt.style.use('seaborn-whitegrid')\n",
    "# Set Matplotlib defaults\n",
    "plt.rc('figure', autolayout=True)\n",
    "plt.rc('axes', labelweight='bold', labelsize='large',\n",
    "       titleweight='bold', titlesize=18, titlepad=10)\n",
    "plt.rc('animation', html='html5')\n",
    "\n",
    "# Setup feedback system\n",
    "from learntools.core import binder\n",
    "binder.bind(globals())\n",
    "from learntools.deep_learning_intro.ex4 import *"
   ]
  },
  {
   "cell_type": "markdown",
   "id": "1b73b01e",
   "metadata": {
    "papermill": {
     "duration": 0.006142,
     "end_time": "2024-01-29T09:12:24.392107",
     "exception": false,
     "start_time": "2024-01-29T09:12:24.385965",
     "status": "completed"
    },
    "tags": []
   },
   "source": [
    "First load the *Spotify* dataset. Your task will be to predict the popularity of a song based on various audio features, like `'tempo'`, `'danceability'`, and `'mode'`."
   ]
  },
  {
   "cell_type": "code",
   "execution_count": 2,
   "id": "54f5babb",
   "metadata": {
    "execution": {
     "iopub.execute_input": "2024-01-29T09:12:24.406539Z",
     "iopub.status.busy": "2024-01-29T09:12:24.406092Z",
     "iopub.status.idle": "2024-01-29T09:12:37.866703Z",
     "shell.execute_reply": "2024-01-29T09:12:37.865652Z"
    },
    "papermill": {
     "duration": 13.470535,
     "end_time": "2024-01-29T09:12:37.869105",
     "exception": false,
     "start_time": "2024-01-29T09:12:24.398570",
     "status": "completed"
    },
    "tags": []
   },
   "outputs": [
    {
     "name": "stderr",
     "output_type": "stream",
     "text": [
      "/opt/conda/lib/python3.10/site-packages/scipy/__init__.py:146: UserWarning: A NumPy version >=1.16.5 and <1.23.0 is required for this version of SciPy (detected version 1.24.3\n",
      "  warnings.warn(f\"A NumPy version >={np_minversion} and <{np_maxversion}\"\n"
     ]
    },
    {
     "name": "stdout",
     "output_type": "stream",
     "text": [
      "Input shape: [18]\n"
     ]
    }
   ],
   "source": [
    "import pandas as pd\n",
    "from sklearn.preprocessing import StandardScaler, OneHotEncoder\n",
    "from sklearn.compose import make_column_transformer\n",
    "from sklearn.model_selection import GroupShuffleSplit\n",
    "\n",
    "from tensorflow import keras\n",
    "from tensorflow.keras import layers\n",
    "from tensorflow.keras import callbacks\n",
    "\n",
    "spotify = pd.read_csv('../input/dl-course-data/spotify.csv')\n",
    "\n",
    "X = spotify.copy().dropna()\n",
    "y = X.pop('track_popularity')\n",
    "artists = X['track_artist']\n",
    "\n",
    "features_num = ['danceability', 'energy', 'key', 'loudness', 'mode',\n",
    "                'speechiness', 'acousticness', 'instrumentalness',\n",
    "                'liveness', 'valence', 'tempo', 'duration_ms']\n",
    "features_cat = ['playlist_genre']\n",
    "\n",
    "preprocessor = make_column_transformer(\n",
    "    (StandardScaler(), features_num),\n",
    "    (OneHotEncoder(), features_cat),\n",
    ")\n",
    "\n",
    "# We'll do a \"grouped\" split to keep all of an artist's songs in one\n",
    "# split or the other. This is to help prevent signal leakage.\n",
    "def group_split(X, y, group, train_size=0.75):\n",
    "    splitter = GroupShuffleSplit(train_size=train_size)\n",
    "    train, test = next(splitter.split(X, y, groups=group))\n",
    "    return (X.iloc[train], X.iloc[test], y.iloc[train], y.iloc[test])\n",
    "\n",
    "X_train, X_valid, y_train, y_valid = group_split(X, y, artists)\n",
    "\n",
    "X_train = preprocessor.fit_transform(X_train)\n",
    "X_valid = preprocessor.transform(X_valid)\n",
    "y_train = y_train / 100 # popularity is on a scale 0-100, so this rescales to 0-1.\n",
    "y_valid = y_valid / 100\n",
    "\n",
    "input_shape = [X_train.shape[1]]\n",
    "print(\"Input shape: {}\".format(input_shape))"
   ]
  },
  {
   "cell_type": "markdown",
   "id": "43cd2ee4",
   "metadata": {
    "papermill": {
     "duration": 0.006268,
     "end_time": "2024-01-29T09:12:37.882847",
     "exception": false,
     "start_time": "2024-01-29T09:12:37.876579",
     "status": "completed"
    },
    "tags": []
   },
   "source": [
    "Let's start with the simplest network, a linear model. This model has low capacity.\n",
    "\n",
    "Run this next cell without any changes to train a linear model on the *Spotify* dataset."
   ]
  },
  {
   "cell_type": "code",
   "execution_count": 3,
   "id": "88409182",
   "metadata": {
    "execution": {
     "iopub.execute_input": "2024-01-29T09:12:37.896624Z",
     "iopub.status.busy": "2024-01-29T09:12:37.896334Z",
     "iopub.status.idle": "2024-01-29T09:12:48.388319Z",
     "shell.execute_reply": "2024-01-29T09:12:48.387449Z"
    },
    "lines_to_next_cell": 0,
    "papermill": {
     "duration": 10.501667,
     "end_time": "2024-01-29T09:12:48.390613",
     "exception": false,
     "start_time": "2024-01-29T09:12:37.888946",
     "status": "completed"
    },
    "tags": []
   },
   "outputs": [
    {
     "name": "stdout",
     "output_type": "stream",
     "text": [
      "Minimum Validation Loss: 0.1976\n"
     ]
    },
    {
     "data": {
      "image/png": "[encoded data removed]",
      "text/plain": [
       "<Figure size 640x480 with 1 Axes>"
      ]
     },
     "metadata": {},
     "output_type": "display_data"
    }
   ],
   "source": [
    "model = keras.Sequential([\n",
    "    layers.Dense(1, input_shape=input_shape),\n",
    "])\n",
    "model.compile(\n",
    "    optimizer='adam',\n",
    "    loss='mae',\n",
    ")\n",
    "history = model.fit(\n",
    "    X_train, y_train,\n",
    "    validation_data=(X_valid, y_valid),\n",
    "    batch_size=512,\n",
    "    epochs=50,\n",
    "    verbose=0, # suppress output since we'll plot the curves\n",
    ")\n",
    "history_df = pd.DataFrame(history.history)\n",
    "history_df.loc[0:, ['loss', 'val_loss']].plot()\n",
    "print(\"Minimum Validation Loss: {:0.4f}\".format(history_df['val_loss'].min()));"
   ]
  },
  {
   "cell_type": "markdown",
   "id": "e03e4f3a",
   "metadata": {
    "papermill": {
     "duration": 0.00662,
     "end_time": "2024-01-29T09:12:48.404615",
     "exception": false,
     "start_time": "2024-01-29T09:12:48.397995",
     "status": "completed"
    },
    "tags": []
   },
   "source": [
    "It's not uncommon for the curves to follow a \"hockey stick\" pattern like you see here. This makes the final part of training hard to see, so let's start at epoch 10 instead:"
   ]
  },
  {
   "cell_type": "code",
   "execution_count": 4,
   "id": "240fd5c9",
   "metadata": {
    "execution": {
     "iopub.execute_input": "2024-01-29T09:12:48.419911Z",
     "iopub.status.busy": "2024-01-29T09:12:48.419576Z",
     "iopub.status.idle": "2024-01-29T09:12:48.952970Z",
     "shell.execute_reply": "2024-01-29T09:12:48.952057Z"
    },
    "papermill": {
     "duration": 0.543921,
     "end_time": "2024-01-29T09:12:48.955509",
     "exception": false,
     "start_time": "2024-01-29T09:12:48.411588",
     "status": "completed"
    },
    "tags": []
   },
   "outputs": [
    {
     "name": "stdout",
     "output_type": "stream",
     "text": [
      "Minimum Validation Loss: 0.1976\n"
     ]
    },
    {
     "data": {
      "image/png": "[encoded data removed]",
      "text/plain": [
       "<Figure size 640x480 with 1 Axes>"
      ]
     },
     "metadata": {},
     "output_type": "display_data"
    }
   ],
   "source": [
    "# Start the plot at epoch 10\n",
    "history_df.loc[10:, ['loss', 'val_loss']].plot()\n",
    "print(\"Minimum Validation Loss: {:0.4f}\".format(history_df['val_loss'].min()));"
   ]
  },
  {
   "cell_type": "markdown",
   "id": "086bf048",
   "metadata": {
    "papermill": {
     "duration": 0.007785,
     "end_time": "2024-01-29T09:12:48.971184",
     "exception": false,
     "start_time": "2024-01-29T09:12:48.963399",
     "status": "completed"
    },
    "tags": []
   },
   "source": [
    "# 1) Evaluate Baseline\n",
    "\n",
    "What do you think? Would you say this model is underfitting, overfitting, just right?"
   ]
  },
  {
   "cell_type": "code",
   "execution_count": 5,
   "id": "a2525b56",
   "metadata": {
    "execution": {
     "iopub.execute_input": "2024-01-29T09:12:48.987614Z",
     "iopub.status.busy": "2024-01-29T09:12:48.987306Z",
     "iopub.status.idle": "2024-01-29T09:12:48.995015Z",
     "shell.execute_reply": "2024-01-29T09:12:48.994048Z"
    },
    "papermill": {
     "duration": 0.018139,
     "end_time": "2024-01-29T09:12:48.997117",
     "exception": false,
     "start_time": "2024-01-29T09:12:48.978978",
     "status": "completed"
    },
    "tags": []
   },
   "outputs": [
    {
     "data": {
      "application/javascript": [
       "parent.postMessage({\"jupyterEvent\": \"custom.exercise_interaction\", \"data\": {\"outcomeType\": 1, \"valueTowardsCompletion\": 0.25, \"interactionType\": 1, \"questionType\": 4, \"questionId\": \"1_Q1\", \"learnToolsVersion\": \"0.3.4\", \"failureMessage\": \"\", \"exceptionClass\": \"\", \"trace\": \"\"}}, \"*\")"
      ],
      "text/plain": [
       "<IPython.core.display.Javascript object>"
      ]
     },
     "metadata": {},
     "output_type": "display_data"
    },
    {
     "data": {
      "text/markdown": [
       "<span style=\"color:#33cc33\">Correct:</span> \n",
       "\n",
       "The gap between these curves is quite small and the validation loss never increases, so it's more likely that the network is underfitting than overfitting. It would be worth experimenting with more capacity to see if that's the case."
      ],
      "text/plain": [
       "Correct: \n",
       "\n",
       "The gap between these curves is quite small and the validation loss never increases, so it's more likely that the network is underfitting than overfitting. It would be worth experimenting with more capacity to see if that's the case."
      ]
     },
     "metadata": {},
     "output_type": "display_data"
    }
   ],
   "source": [
    "# View the solution (Run this cell to receive credit!)\n",
    "q_1.check()"
   ]
  },
  {
   "cell_type": "markdown",
   "id": "0d5639b3",
   "metadata": {
    "papermill": {
     "duration": 0.007436,
     "end_time": "2024-01-29T09:12:49.012988",
     "exception": false,
     "start_time": "2024-01-29T09:12:49.005552",
     "status": "completed"
    },
    "tags": []
   },
   "source": [
    "Now let's add some capacity to our network. We'll add three hidden layers with 128 units each. Run the next cell to train the network and see the learning curves."
   ]
  },
  {
   "cell_type": "code",
   "execution_count": 6,
   "id": "e951e233",
   "metadata": {
    "execution": {
     "iopub.execute_input": "2024-01-29T09:12:49.030220Z",
     "iopub.status.busy": "2024-01-29T09:12:49.029853Z",
     "iopub.status.idle": "2024-01-29T09:13:00.230118Z",
     "shell.execute_reply": "2024-01-29T09:13:00.229110Z"
    },
    "papermill": {
     "duration": 11.211378,
     "end_time": "2024-01-29T09:13:00.232190",
     "exception": false,
     "start_time": "2024-01-29T09:12:49.020812",
     "status": "completed"
    },
    "tags": []
   },
   "outputs": [
    {
     "name": "stdout",
     "output_type": "stream",
     "text": [
      "Epoch 1/50\n",
      "48/48 [==============================] - 2s 6ms/step - loss: 0.2546 - val_loss: 0.2123\n",
      "Epoch 2/50\n",
      "48/48 [==============================] - 0s 4ms/step - loss: 0.2037 - val_loss: 0.2065\n",
      "Epoch 3/50\n",
      "48/48 [==============================] - 0s 4ms/step - loss: 0.1979 - val_loss: 0.2044\n",
      "Epoch 4/50\n",
      "48/48 [==============================] - 0s 4ms/step - loss: 0.1942 - val_loss: 0.2030\n",
      "Epoch 5/50\n",
      "48/48 [==============================] - 0s 4ms/step - loss: 0.1920 - val_loss: 0.2017\n",
      "Epoch 6/50\n",
      "48/48 [==============================] - 0s 4ms/step - loss: 0.1898 - val_loss: 0.2016\n",
      "Epoch 7/50\n",
      "48/48 [==============================] - 0s 4ms/step - loss: 0.1890 - val_loss: 0.2008\n",
      "Epoch 8/50\n",
      "48/48 [==============================] - 0s 4ms/step - loss: 0.1878 - val_loss: 0.1993\n",
      "Epoch 9/50\n",
      "48/48 [==============================] - 0s 4ms/step - loss: 0.1864 - val_loss: 0.2012\n",
      "Epoch 10/50\n",
      "48/48 [==============================] - 0s 4ms/step - loss: 0.1857 - val_loss: 0.2012\n",
      "Epoch 11/50\n",
      "48/48 [==============================] - 0s 4ms/step - loss: 0.1850 - val_loss: 0.1985\n",
      "Epoch 12/50\n",
      "48/48 [==============================] - 0s 4ms/step - loss: 0.1838 - val_loss: 0.1990\n",
      "Epoch 13/50\n",
      "48/48 [==============================] - 0s 4ms/step - loss: 0.1826 - val_loss: 0.1977\n",
      "Epoch 14/50\n",
      "48/48 [==============================] - 0s 4ms/step - loss: 0.1827 - val_loss: 0.1997\n",
      "Epoch 15/50\n",
      "48/48 [==============================] - 0s 4ms/step - loss: 0.1823 - val_loss: 0.1990\n",
      "Epoch 16/50\n",
      "48/48 [==============================] - 0s 4ms/step - loss: 0.1811 - val_loss: 0.1978\n",
      "Epoch 17/50\n",
      "48/48 [==============================] - 0s 4ms/step - loss: 0.1810 - val_loss: 0.1989\n",
      "Epoch 18/50\n",
      "48/48 [==============================] - 0s 4ms/step - loss: 0.1803 - val_loss: 0.1998\n",
      "Epoch 19/50\n",
      "48/48 [==============================] - 0s 4ms/step - loss: 0.1799 - val_loss: 0.2021\n",
      "Epoch 20/50\n",
      "48/48 [==============================] - 0s 4ms/step - loss: 0.1796 - val_loss: 0.2002\n",
      "Epoch 21/50\n",
      "48/48 [==============================] - 0s 4ms/step - loss: 0.1786 - val_loss: 0.1990\n",
      "Epoch 22/50\n",
      "48/48 [==============================] - 0s 4ms/step - loss: 0.1779 - val_loss: 0.2000\n",
      "Epoch 23/50\n",
      "48/48 [==============================] - 0s 4ms/step - loss: 0.1784 - val_loss: 0.2027\n",
      "Epoch 24/50\n",
      "48/48 [==============================] - 0s 4ms/step - loss: 0.1774 - val_loss: 0.2005\n",
      "Epoch 25/50\n",
      "48/48 [==============================] - 0s 4ms/step - loss: 0.1762 - val_loss: 0.2013\n",
      "Epoch 26/50\n",
      "48/48 [==============================] - 0s 4ms/step - loss: 0.1762 - val_loss: 0.2014\n",
      "Epoch 27/50\n",
      "48/48 [==============================] - 0s 4ms/step - loss: 0.1755 - val_loss: 0.2011\n",
      "Epoch 28/50\n",
      "48/48 [==============================] - 0s 4ms/step - loss: 0.1747 - val_loss: 0.2018\n",
      "Epoch 29/50\n",
      "48/48 [==============================] - 0s 4ms/step - loss: 0.1742 - val_loss: 0.2016\n",
      "Epoch 30/50\n",
      "48/48 [==============================] - 0s 4ms/step - loss: 0.1738 - val_loss: 0.2009\n",
      "Epoch 31/50\n",
      "48/48 [==============================] - 0s 4ms/step - loss: 0.1736 - val_loss: 0.2024\n",
      "Epoch 32/50\n",
      "48/48 [==============================] - 0s 4ms/step - loss: 0.1727 - val_loss: 0.2013\n",
      "Epoch 33/50\n",
      "48/48 [==============================] - 0s 4ms/step - loss: 0.1727 - val_loss: 0.2028\n",
      "Epoch 34/50\n",
      "48/48 [==============================] - 0s 4ms/step - loss: 0.1723 - val_loss: 0.2033\n",
      "Epoch 35/50\n",
      "48/48 [==============================] - 0s 4ms/step - loss: 0.1717 - val_loss: 0.2019\n",
      "Epoch 36/50\n",
      "48/48 [==============================] - 0s 4ms/step - loss: 0.1716 - val_loss: 0.2026\n",
      "Epoch 37/50\n",
      "48/48 [==============================] - 0s 4ms/step - loss: 0.1714 - val_loss: 0.2025\n",
      "Epoch 38/50\n",
      "48/48 [==============================] - 0s 4ms/step - loss: 0.1712 - val_loss: 0.2015\n",
      "Epoch 39/50\n",
      "48/48 [==============================] - 0s 4ms/step - loss: 0.1699 - val_loss: 0.2019\n",
      "Epoch 40/50\n",
      "48/48 [==============================] - 0s 4ms/step - loss: 0.1694 - val_loss: 0.2039\n",
      "Epoch 41/50\n",
      "48/48 [==============================] - 0s 4ms/step - loss: 0.1695 - val_loss: 0.2046\n",
      "Epoch 42/50\n",
      "48/48 [==============================] - 0s 4ms/step - loss: 0.1697 - val_loss: 0.2018\n",
      "Epoch 43/50\n",
      "48/48 [==============================] - 0s 4ms/step - loss: 0.1681 - val_loss: 0.2039\n",
      "Epoch 44/50\n",
      "48/48 [==============================] - 0s 4ms/step - loss: 0.1692 - val_loss: 0.2025\n",
      "Epoch 45/50\n",
      "48/48 [==============================] - 0s 4ms/step - loss: 0.1680 - val_loss: 0.2053\n",
      "Epoch 46/50\n",
      "48/48 [==============================] - 0s 4ms/step - loss: 0.1675 - val_loss: 0.2039\n",
      "Epoch 47/50\n",
      "48/48 [==============================] - 0s 4ms/step - loss: 0.1672 - val_loss: 0.2041\n",
      "Epoch 48/50\n",
      "48/48 [==============================] - 0s 4ms/step - loss: 0.1667 - val_loss: 0.2056\n",
      "Epoch 49/50\n",
      "48/48 [==============================] - 0s 4ms/step - loss: 0.1666 - val_loss: 0.2052\n",
      "Epoch 50/50\n",
      "48/48 [==============================] - 0s 4ms/step - loss: 0.1656 - val_loss: 0.2062\n",
      "Minimum Validation Loss: 0.1977\n"
     ]
    },
    {
     "data": {
      "image/png": "[encoded data removed]",
      "text/plain": [
       "<Figure size 640x480 with 1 Axes>"
      ]
     },
     "metadata": {},
     "output_type": "display_data"
    }
   ],
   "source": [
    "model = keras.Sequential([\n",
    "    layers.Dense(128, activation='relu', input_shape=input_shape),\n",
    "    layers.Dense(64, activation='relu'),\n",
    "    layers.Dense(1)\n",
    "])\n",
    "model.compile(\n",
    "    optimizer='adam',\n",
    "    loss='mae',\n",
    ")\n",
    "history = model.fit(\n",
    "    X_train, y_train,\n",
    "    validation_data=(X_valid, y_valid),\n",
    "    batch_size=512,\n",
    "    epochs=50,\n",
    ")\n",
    "history_df = pd.DataFrame(history.history)\n",
    "history_df.loc[:, ['loss', 'val_loss']].plot()\n",
    "print(\"Minimum Validation Loss: {:0.4f}\".format(history_df['val_loss'].min()));"
   ]
  },
  {
   "cell_type": "markdown",
   "id": "e9c6ca03",
   "metadata": {
    "papermill": {
     "duration": 0.028902,
     "end_time": "2024-01-29T09:13:00.289907",
     "exception": false,
     "start_time": "2024-01-29T09:13:00.261005",
     "status": "completed"
    },
    "tags": []
   },
   "source": [
    "# 2) Add Capacity\n",
    "\n",
    "What is your evaluation of these curves? Underfitting, overfitting, just right?"
   ]
  },
  {
   "cell_type": "code",
   "execution_count": 7,
   "id": "8463178d",
   "metadata": {
    "execution": {
     "iopub.execute_input": "2024-01-29T09:13:00.352685Z",
     "iopub.status.busy": "2024-01-29T09:13:00.352329Z",
     "iopub.status.idle": "2024-01-29T09:13:00.360616Z",
     "shell.execute_reply": "2024-01-29T09:13:00.359683Z"
    },
    "papermill": {
     "duration": 0.041374,
     "end_time": "2024-01-29T09:13:00.362670",
     "exception": false,
     "start_time": "2024-01-29T09:13:00.321296",
     "status": "completed"
    },
    "tags": []
   },
   "outputs": [
    {
     "data": {
      "application/javascript": [
       "parent.postMessage({\"jupyterEvent\": \"custom.exercise_interaction\", \"data\": {\"outcomeType\": 1, \"valueTowardsCompletion\": 0.25, \"interactionType\": 1, \"questionType\": 4, \"questionId\": \"2_Q2\", \"learnToolsVersion\": \"0.3.4\", \"failureMessage\": \"\", \"exceptionClass\": \"\", \"trace\": \"\"}}, \"*\")"
      ],
      "text/plain": [
       "<IPython.core.display.Javascript object>"
      ]
     },
     "metadata": {},
     "output_type": "display_data"
    },
    {
     "data": {
      "text/markdown": [
       "<span style=\"color:#33cc33\">Correct:</span> \n",
       "\n",
       "Now the validation loss begins to rise very early, while the training loss continues to decrease. This indicates that the network has begun to overfit. At this point, we would need to try something to prevent it, either by reducing the number of units or through a method like early stopping. (We'll see another in the next lesson!)"
      ],
      "text/plain": [
       "Correct: \n",
       "\n",
       "Now the validation loss begins to rise very early, while the training loss continues to decrease. This indicates that the network has begun to overfit. At this point, we would need to try something to prevent it, either by reducing the number of units or through a method like early stopping. (We'll see another in the next lesson!)"
      ]
     },
     "metadata": {},
     "output_type": "display_data"
    }
   ],
   "source": [
    "# View the solution (Run this cell to receive credit!)\n",
    "q_2.check()"
   ]
  },
  {
   "cell_type": "markdown",
   "id": "11ae946c",
   "metadata": {
    "papermill": {
     "duration": 0.029157,
     "end_time": "2024-01-29T09:13:00.421405",
     "exception": false,
     "start_time": "2024-01-29T09:13:00.392248",
     "status": "completed"
    },
    "tags": []
   },
   "source": [
    "# 3) Define Early Stopping Callback\n",
    "\n",
    "Now define an early stopping callback that waits 5 epochs (`patience'`) for a change in validation loss of at least `0.001` (`min_delta`) and keeps the weights with the best loss (`restore_best_weights`)."
   ]
  },
  {
   "cell_type": "code",
   "execution_count": 8,
   "id": "4163f5cf",
   "metadata": {
    "execution": {
     "iopub.execute_input": "2024-01-29T09:13:00.482202Z",
     "iopub.status.busy": "2024-01-29T09:13:00.481787Z",
     "iopub.status.idle": "2024-01-29T09:13:00.490643Z",
     "shell.execute_reply": "2024-01-29T09:13:00.489781Z"
    },
    "lines_to_next_cell": 0,
    "papermill": {
     "duration": 0.04104,
     "end_time": "2024-01-29T09:13:00.492635",
     "exception": false,
     "start_time": "2024-01-29T09:13:00.451595",
     "status": "completed"
    },
    "tags": []
   },
   "outputs": [
    {
     "data": {
      "application/javascript": [
       "parent.postMessage({\"jupyterEvent\": \"custom.exercise_interaction\", \"data\": {\"outcomeType\": 1, \"valueTowardsCompletion\": 0.25, \"interactionType\": 1, \"questionType\": 2, \"questionId\": \"3_Q3\", \"learnToolsVersion\": \"0.3.4\", \"failureMessage\": \"\", \"exceptionClass\": \"\", \"trace\": \"\"}}, \"*\")"
      ],
      "text/plain": [
       "<IPython.core.display.Javascript object>"
      ]
     },
     "metadata": {},
     "output_type": "display_data"
    },
    {
     "data": {
      "text/markdown": [
       "<span style=\"color:#33cc33\">Correct</span>"
      ],
      "text/plain": [
       "Correct"
      ]
     },
     "metadata": {},
     "output_type": "display_data"
    }
   ],
   "source": [
    "from tensorflow.keras import callbacks\n",
    "\n",
    "# YOUR CODE HERE: define an early stopping callback\n",
    "early_stopping = callbacks.EarlyStopping(monitor='val_loss', min_delta=0.001, patience=5, restore_best_weights=True)\n",
    "\n",
    "# Check your answer\n",
    "q_3.check()"
   ]
  },
  {
   "cell_type": "code",
   "execution_count": 9,
   "id": "93d572b9",
   "metadata": {
    "execution": {
     "iopub.execute_input": "2024-01-29T09:13:00.553331Z",
     "iopub.status.busy": "2024-01-29T09:13:00.552608Z",
     "iopub.status.idle": "2024-01-29T09:13:00.557170Z",
     "shell.execute_reply": "2024-01-29T09:13:00.556197Z"
    },
    "papermill": {
     "duration": 0.037282,
     "end_time": "2024-01-29T09:13:00.559055",
     "exception": false,
     "start_time": "2024-01-29T09:13:00.521773",
     "status": "completed"
    },
    "tags": []
   },
   "outputs": [],
   "source": [
    "# Lines below will give you a hint or solution code\n",
    "#q_3.hint()\n",
    "#q_3.solution()"
   ]
  },
  {
   "cell_type": "markdown",
   "id": "7d9f0d72",
   "metadata": {
    "papermill": {
     "duration": 0.073815,
     "end_time": "2024-01-29T09:13:00.662091",
     "exception": false,
     "start_time": "2024-01-29T09:13:00.588276",
     "status": "completed"
    },
    "tags": []
   },
   "source": [
    "Now run this cell to train the model and get the learning curves. Notice the `callbacks` argument in `model.fit`."
   ]
  },
  {
   "cell_type": "code",
   "execution_count": 10,
   "id": "35ac3069",
   "metadata": {
    "execution": {
     "iopub.execute_input": "2024-01-29T09:13:00.722808Z",
     "iopub.status.busy": "2024-01-29T09:13:00.721973Z",
     "iopub.status.idle": "2024-01-29T09:13:04.548180Z",
     "shell.execute_reply": "2024-01-29T09:13:04.547264Z"
    },
    "papermill": {
     "duration": 3.859022,
     "end_time": "2024-01-29T09:13:04.550449",
     "exception": false,
     "start_time": "2024-01-29T09:13:00.691427",
     "status": "completed"
    },
    "tags": []
   },
   "outputs": [
    {
     "name": "stdout",
     "output_type": "stream",
     "text": [
      "Epoch 1/50\n",
      "48/48 [==============================] - 1s 6ms/step - loss: 0.2587 - val_loss: 0.2103\n",
      "Epoch 2/50\n",
      "48/48 [==============================] - 0s 4ms/step - loss: 0.2034 - val_loss: 0.2040\n",
      "Epoch 3/50\n",
      "48/48 [==============================] - 0s 4ms/step - loss: 0.1973 - val_loss: 0.2016\n",
      "Epoch 4/50\n",
      "48/48 [==============================] - 0s 4ms/step - loss: 0.1941 - val_loss: 0.2001\n",
      "Epoch 5/50\n",
      "48/48 [==============================] - 0s 4ms/step - loss: 0.1914 - val_loss: 0.2007\n",
      "Epoch 6/50\n",
      "48/48 [==============================] - 0s 4ms/step - loss: 0.1899 - val_loss: 0.1979\n",
      "Epoch 7/50\n",
      "48/48 [==============================] - 0s 4ms/step - loss: 0.1884 - val_loss: 0.1978\n",
      "Epoch 8/50\n",
      "48/48 [==============================] - 0s 4ms/step - loss: 0.1872 - val_loss: 0.1977\n",
      "Epoch 9/50\n",
      "48/48 [==============================] - 0s 4ms/step - loss: 0.1862 - val_loss: 0.1974\n",
      "Epoch 10/50\n",
      "48/48 [==============================] - 0s 4ms/step - loss: 0.1847 - val_loss: 0.1989\n",
      "Epoch 11/50\n",
      "48/48 [==============================] - 0s 4ms/step - loss: 0.1836 - val_loss: 0.1977\n",
      "Minimum Validation Loss: 0.1974\n"
     ]
    },
    {
     "data": {
      "image/png": "[encoded data removed]",
      "text/plain": [
       "<Figure size 640x480 with 1 Axes>"
      ]
     },
     "metadata": {},
     "output_type": "display_data"
    }
   ],
   "source": [
    "model = keras.Sequential([\n",
    "    layers.Dense(128, activation='relu', input_shape=input_shape),\n",
    "    layers.Dense(64, activation='relu'),    \n",
    "    layers.Dense(1)\n",
    "])\n",
    "model.compile(\n",
    "    optimizer='adam',\n",
    "    loss='mae',\n",
    ")\n",
    "history = model.fit(\n",
    "    X_train, y_train,\n",
    "    validation_data=(X_valid, y_valid),\n",
    "    batch_size=512,\n",
    "    epochs=50,\n",
    "    callbacks=[early_stopping]\n",
    ")\n",
    "history_df = pd.DataFrame(history.history)\n",
    "history_df.loc[:, ['loss', 'val_loss']].plot()\n",
    "print(\"Minimum Validation Loss: {:0.4f}\".format(history_df['val_loss'].min()));"
   ]
  },
  {
   "cell_type": "markdown",
   "id": "c27ef995",
   "metadata": {
    "papermill": {
     "duration": 0.033345,
     "end_time": "2024-01-29T09:13:04.617864",
     "exception": false,
     "start_time": "2024-01-29T09:13:04.584519",
     "status": "completed"
    },
    "tags": []
   },
   "source": [
    "# 4) Train and Interpret\n",
    "\n",
    "Was this an improvement compared to training without early stopping?"
   ]
  },
  {
   "cell_type": "code",
   "execution_count": 11,
   "id": "1009afc0",
   "metadata": {
    "execution": {
     "iopub.execute_input": "2024-01-29T09:13:04.688765Z",
     "iopub.status.busy": "2024-01-29T09:13:04.688379Z",
     "iopub.status.idle": "2024-01-29T09:13:04.696482Z",
     "shell.execute_reply": "2024-01-29T09:13:04.695526Z"
    },
    "papermill": {
     "duration": 0.047115,
     "end_time": "2024-01-29T09:13:04.698739",
     "exception": false,
     "start_time": "2024-01-29T09:13:04.651624",
     "status": "completed"
    },
    "tags": []
   },
   "outputs": [
    {
     "data": {
      "application/javascript": [
       "parent.postMessage({\"jupyterEvent\": \"custom.exercise_interaction\", \"data\": {\"outcomeType\": 1, \"valueTowardsCompletion\": 0.25, \"interactionType\": 1, \"questionType\": 4, \"questionId\": \"4_Q4\", \"learnToolsVersion\": \"0.3.4\", \"failureMessage\": \"\", \"exceptionClass\": \"\", \"trace\": \"\"}}, \"*\")"
      ],
      "text/plain": [
       "<IPython.core.display.Javascript object>"
      ]
     },
     "metadata": {},
     "output_type": "display_data"
    },
    {
     "data": {
      "text/markdown": [
       "<span style=\"color:#33cc33\">Correct:</span> \n",
       "\n",
       "The early stopping callback did stop the training once the network began overfitting. Moreover, by including `restore_best_weights` we still get to keep the model where validation loss was lowest."
      ],
      "text/plain": [
       "Correct: \n",
       "\n",
       "The early stopping callback did stop the training once the network began overfitting. Moreover, by including `restore_best_weights` we still get to keep the model where validation loss was lowest."
      ]
     },
     "metadata": {},
     "output_type": "display_data"
    }
   ],
   "source": [
    "# View the solution (Run this cell to receive credit!)\n",
    "q_4.check()"
   ]
  },
  {
   "cell_type": "markdown",
   "id": "d5a283e5",
   "metadata": {
    "papermill": {
     "duration": 0.033731,
     "end_time": "2024-01-29T09:13:04.766608",
     "exception": false,
     "start_time": "2024-01-29T09:13:04.732877",
     "status": "completed"
    },
    "tags": []
   },
   "source": [
    "If you like, try experimenting with `patience` and `min_delta` to see what difference it might make.\n",
    "\n",
    "# Keep Going #\n",
    "\n",
    "Move on to [**learn about a couple of special layers**](https://www.kaggle.com/ryanholbrook/dropout-and-batch-normalization): batch normalization and dropout."
   ]
  },
  {
   "cell_type": "markdown",
   "id": "d5046c4e",
   "metadata": {
    "papermill": {
     "duration": 0.034134,
     "end_time": "2024-01-29T09:13:04.834230",
     "exception": false,
     "start_time": "2024-01-29T09:13:04.800096",
     "status": "completed"
    },
    "tags": []
   },
   "source": [
    "---\n",
    "\n",
    "\n",
    "\n",
    "\n",
    "*Have questions or comments? Visit the [course discussion forum](https://www.kaggle.com/learn/intro-to-deep-learning/discussion) to chat with other learners.*"
   ]
  }
 ],
 "metadata": {
  "jupytext": {
   "cell_metadata_filter": "-all",
   "formats": "ipynb"
  },
  "kaggle": {
   "accelerator": "gpu",
   "dataSources": [
    {
     "datasetId": 829369,
     "sourceId": 1480608,
     "sourceType": "datasetVersion"
    }
   ],
   "isGpuEnabled": true,
   "isInternetEnabled": false,
   "language": "python",
   "sourceType": "notebook"
  },
  "kernelspec": {
   "display_name": "Python 3",
   "language": "python",
   "name": "python3"
  },
  "language_info": {
   "codemirror_mode": {
    "name": "ipython",
    "version": 3
   },
   "file_extension": ".py",
   "mimetype": "text/x-python",
   "name": "python",
   "nbconvert_exporter": "python",
   "pygments_lexer": "ipython3",
   "version": "3.10.12"
  },
  "papermill": {
   "default_parameters": {},
   "duration": 47.682395,
   "end_time": "2024-01-29T09:13:07.680609",
   "environment_variables": {},
   "exception": null,
   "input_path": "__notebook__.ipynb",
   "output_path": "__notebook__.ipynb",
   "parameters": {},
   "start_time": "2024-01-29T09:12:19.998214",
   "version": "2.4.0"
  }
 },
 "nbformat": 4,
 "nbformat_minor": 5
}
