{
 "cells": [
  {
   "cell_type": "markdown",
   "id": "069b7038",
   "metadata": {
    "papermill": {
     "duration": 0.004899,
     "end_time": "2024-01-25T03:34:25.087029",
     "exception": false,
     "start_time": "2024-01-25T03:34:25.082130",
     "status": "completed"
    },
    "tags": []
   },
   "source": [
    "**This notebook is an exercise in the [Intro to Deep Learning](https://www.kaggle.com/learn/intro-to-deep-learning) course.  You can reference the tutorial at [this link](https://www.kaggle.com/ryanholbrook/a-single-neuron).**\n",
    "\n",
    "---\n"
   ]
  },
  {
   "cell_type": "markdown",
   "id": "c7f45581",
   "metadata": {
    "papermill": {
     "duration": 0.003893,
     "end_time": "2024-01-25T03:34:25.095307",
     "exception": false,
     "start_time": "2024-01-25T03:34:25.091414",
     "status": "completed"
    },
    "tags": []
   },
   "source": [
    "# Introduction #\n",
    "\n",
    "In the tutorial we learned about the building blocks of neural networks: *linear units*. We saw that a model of just one linear unit will fit a linear function to a dataset (equivalent to linear regression). In this exercise, you'll build a linear model and get some practice working with models in Keras.\n",
    "\n",
    "Before you get started, run the code cell below to set everything up."
   ]
  },
  {
   "cell_type": "code",
   "execution_count": 1,
   "id": "2402e0ae",
   "metadata": {
    "execution": {
     "iopub.execute_input": "2024-01-25T03:34:25.105442Z",
     "iopub.status.busy": "2024-01-25T03:34:25.105023Z",
     "iopub.status.idle": "2024-01-25T03:34:37.900391Z",
     "shell.execute_reply": "2024-01-25T03:34:37.898916Z"
    },
    "papermill": {
     "duration": 12.803447,
     "end_time": "2024-01-25T03:34:37.902895",
     "exception": false,
     "start_time": "2024-01-25T03:34:25.099448",
     "status": "completed"
    },
    "tags": []
   },
   "outputs": [
    {
     "name": "stderr",
     "output_type": "stream",
     "text": [
      "/tmp/ipykernel_18/3895727876.py:4: MatplotlibDeprecationWarning: The seaborn styles shipped by Matplotlib are deprecated since 3.6, as they no longer correspond to the styles shipped by seaborn. However, they will remain available as 'seaborn-v0_8-<style>'. Alternatively, directly use the seaborn API instead.\n",
      "  plt.style.use('seaborn-whitegrid')\n"
     ]
    }
   ],
   "source": [
    "# Setup plotting\n",
    "import matplotlib.pyplot as plt\n",
    "\n",
    "plt.style.use('seaborn-whitegrid')\n",
    "# Set Matplotlib defaults\n",
    "plt.rc('figure', autolayout=True)\n",
    "plt.rc('axes', labelweight='bold', labelsize='large',\n",
    "       titleweight='bold', titlesize=18, titlepad=10)\n",
    "\n",
    "# Setup feedback system\n",
    "from learntools.core import binder\n",
    "binder.bind(globals())\n",
    "from learntools.deep_learning_intro.ex1 import *"
   ]
  },
  {
   "cell_type": "markdown",
   "id": "00162873",
   "metadata": {
    "papermill": {
     "duration": 0.003887,
     "end_time": "2024-01-25T03:34:37.911267",
     "exception": false,
     "start_time": "2024-01-25T03:34:37.907380",
     "status": "completed"
    },
    "tags": []
   },
   "source": [
    "The *Red Wine Quality* dataset consists of physiochemical measurements from about 1600 Portuguese red wines.  Also included is a quality rating for each wine from blind taste-tests. \n",
    "\n",
    "First, run the next cell to display the first few rows of this dataset."
   ]
  },
  {
   "cell_type": "code",
   "execution_count": 2,
   "id": "fe646865",
   "metadata": {
    "execution": {
     "iopub.execute_input": "2024-01-25T03:34:37.924677Z",
     "iopub.status.busy": "2024-01-25T03:34:37.923180Z",
     "iopub.status.idle": "2024-01-25T03:34:37.968969Z",
     "shell.execute_reply": "2024-01-25T03:34:37.967863Z"
    },
    "papermill": {
     "duration": 0.055077,
     "end_time": "2024-01-25T03:34:37.971234",
     "exception": false,
     "start_time": "2024-01-25T03:34:37.916157",
     "status": "completed"
    },
    "tags": []
   },
   "outputs": [
    {
     "data": {
      "text/html": [
       "<div>\n",
       "<style scoped>\n",
       "    .dataframe tbody tr th:only-of-type {\n",
       "        vertical-align: middle;\n",
       "    }\n",
       "\n",
       "    .dataframe tbody tr th {\n",
       "        vertical-align: top;\n",
       "    }\n",
       "\n",
       "    .dataframe thead th {\n",
       "        text-align: right;\n",
       "    }\n",
       "</style>\n",
       "<table border=\"1\" class=\"dataframe\">\n",
       "  <thead>\n",
       "    <tr style=\"text-align: right;\">\n",
       "      <th></th>\n",
       "      <th>fixed acidity</th>\n",
       "      <th>volatile acidity</th>\n",
       "      <th>citric acid</th>\n",
       "      <th>residual sugar</th>\n",
       "      <th>chlorides</th>\n",
       "      <th>free sulfur dioxide</th>\n",
       "      <th>total sulfur dioxide</th>\n",
       "      <th>density</th>\n",
       "      <th>pH</th>\n",
       "      <th>sulphates</th>\n",
       "      <th>alcohol</th>\n",
       "      <th>quality</th>\n",
       "    </tr>\n",
       "  </thead>\n",
       "  <tbody>\n",
       "    <tr>\n",
       "      <th>0</th>\n",
       "      <td>7.4</td>\n",
       "      <td>0.70</td>\n",
       "      <td>0.00</td>\n",
       "      <td>1.9</td>\n",
       "      <td>0.076</td>\n",
       "      <td>11.0</td>\n",
       "      <td>34.0</td>\n",
       "      <td>0.9978</td>\n",
       "      <td>3.51</td>\n",
       "      <td>0.56</td>\n",
       "      <td>9.4</td>\n",
       "      <td>5</td>\n",
       "    </tr>\n",
       "    <tr>\n",
       "      <th>1</th>\n",
       "      <td>7.8</td>\n",
       "      <td>0.88</td>\n",
       "      <td>0.00</td>\n",
       "      <td>2.6</td>\n",
       "      <td>0.098</td>\n",
       "      <td>25.0</td>\n",
       "      <td>67.0</td>\n",
       "      <td>0.9968</td>\n",
       "      <td>3.20</td>\n",
       "      <td>0.68</td>\n",
       "      <td>9.8</td>\n",
       "      <td>5</td>\n",
       "    </tr>\n",
       "    <tr>\n",
       "      <th>2</th>\n",
       "      <td>7.8</td>\n",
       "      <td>0.76</td>\n",
       "      <td>0.04</td>\n",
       "      <td>2.3</td>\n",
       "      <td>0.092</td>\n",
       "      <td>15.0</td>\n",
       "      <td>54.0</td>\n",
       "      <td>0.9970</td>\n",
       "      <td>3.26</td>\n",
       "      <td>0.65</td>\n",
       "      <td>9.8</td>\n",
       "      <td>5</td>\n",
       "    </tr>\n",
       "    <tr>\n",
       "      <th>3</th>\n",
       "      <td>11.2</td>\n",
       "      <td>0.28</td>\n",
       "      <td>0.56</td>\n",
       "      <td>1.9</td>\n",
       "      <td>0.075</td>\n",
       "      <td>17.0</td>\n",
       "      <td>60.0</td>\n",
       "      <td>0.9980</td>\n",
       "      <td>3.16</td>\n",
       "      <td>0.58</td>\n",
       "      <td>9.8</td>\n",
       "      <td>6</td>\n",
       "    </tr>\n",
       "    <tr>\n",
       "      <th>4</th>\n",
       "      <td>7.4</td>\n",
       "      <td>0.70</td>\n",
       "      <td>0.00</td>\n",
       "      <td>1.9</td>\n",
       "      <td>0.076</td>\n",
       "      <td>11.0</td>\n",
       "      <td>34.0</td>\n",
       "      <td>0.9978</td>\n",
       "      <td>3.51</td>\n",
       "      <td>0.56</td>\n",
       "      <td>9.4</td>\n",
       "      <td>5</td>\n",
       "    </tr>\n",
       "  </tbody>\n",
       "</table>\n",
       "</div>"
      ],
      "text/plain": [
       "   fixed acidity  volatile acidity  citric acid  residual sugar  chlorides  \\\n",
       "0            7.4              0.70         0.00             1.9      0.076   \n",
       "1            7.8              0.88         0.00             2.6      0.098   \n",
       "2            7.8              0.76         0.04             2.3      0.092   \n",
       "3           11.2              0.28         0.56             1.9      0.075   \n",
       "4            7.4              0.70         0.00             1.9      0.076   \n",
       "\n",
       "   free sulfur dioxide  total sulfur dioxide  density    pH  sulphates  \\\n",
       "0                 11.0                  34.0   0.9978  3.51       0.56   \n",
       "1                 25.0                  67.0   0.9968  3.20       0.68   \n",
       "2                 15.0                  54.0   0.9970  3.26       0.65   \n",
       "3                 17.0                  60.0   0.9980  3.16       0.58   \n",
       "4                 11.0                  34.0   0.9978  3.51       0.56   \n",
       "\n",
       "   alcohol  quality  \n",
       "0      9.4        5  \n",
       "1      9.8        5  \n",
       "2      9.8        5  \n",
       "3      9.8        6  \n",
       "4      9.4        5  "
      ]
     },
     "execution_count": 2,
     "metadata": {},
     "output_type": "execute_result"
    }
   ],
   "source": [
    "import pandas as pd\n",
    "\n",
    "red_wine = pd.read_csv('../input/dl-course-data/red-wine.csv')\n",
    "red_wine.head()"
   ]
  },
  {
   "cell_type": "markdown",
   "id": "02c17dea",
   "metadata": {
    "papermill": {
     "duration": 0.004014,
     "end_time": "2024-01-25T03:34:37.979836",
     "exception": false,
     "start_time": "2024-01-25T03:34:37.975822",
     "status": "completed"
    },
    "tags": []
   },
   "source": [
    "You can get the number of rows and columns of a dataframe (or a Numpy array) with the `shape` attribute."
   ]
  },
  {
   "cell_type": "code",
   "execution_count": 3,
   "id": "be4d2bf4",
   "metadata": {
    "execution": {
     "iopub.execute_input": "2024-01-25T03:34:37.990452Z",
     "iopub.status.busy": "2024-01-25T03:34:37.989807Z",
     "iopub.status.idle": "2024-01-25T03:34:37.994981Z",
     "shell.execute_reply": "2024-01-25T03:34:37.994086Z"
    },
    "papermill": {
     "duration": 0.013417,
     "end_time": "2024-01-25T03:34:37.997547",
     "exception": false,
     "start_time": "2024-01-25T03:34:37.984130",
     "status": "completed"
    },
    "tags": []
   },
   "outputs": [
    {
     "data": {
      "text/plain": [
       "(1599, 12)"
      ]
     },
     "execution_count": 3,
     "metadata": {},
     "output_type": "execute_result"
    }
   ],
   "source": [
    "red_wine.shape # (rows, columns)"
   ]
  },
  {
   "cell_type": "markdown",
   "id": "ebddce59",
   "metadata": {
    "papermill": {
     "duration": 0.004513,
     "end_time": "2024-01-25T03:34:38.007117",
     "exception": false,
     "start_time": "2024-01-25T03:34:38.002604",
     "status": "completed"
    },
    "tags": []
   },
   "source": [
    "# 1) Input shape #\n",
    "\n",
    "How well can we predict a wine's perceived quality from the physiochemical measurements?  \n",
    "\n",
    "The target is `'quality'`, and the remaining columns are the features.  How would you set the `input_shape` parameter for a Keras model on this task?"
   ]
  },
  {
   "cell_type": "code",
   "execution_count": 4,
   "id": "f2dcf01f",
   "metadata": {
    "execution": {
     "iopub.execute_input": "2024-01-25T03:34:38.018368Z",
     "iopub.status.busy": "2024-01-25T03:34:38.017998Z",
     "iopub.status.idle": "2024-01-25T03:34:38.025062Z",
     "shell.execute_reply": "2024-01-25T03:34:38.024389Z"
    },
    "lines_to_next_cell": 0,
    "papermill": {
     "duration": 0.014753,
     "end_time": "2024-01-25T03:34:38.026651",
     "exception": false,
     "start_time": "2024-01-25T03:34:38.011898",
     "status": "completed"
    },
    "tags": []
   },
   "outputs": [
    {
     "data": {
      "application/javascript": [
       "parent.postMessage({\"jupyterEvent\": \"custom.exercise_interaction\", \"data\": {\"outcomeType\": 1, \"valueTowardsCompletion\": 0.3333333333333333, \"interactionType\": 1, \"questionType\": 2, \"questionId\": \"1_Q1\", \"learnToolsVersion\": \"0.3.4\", \"failureMessage\": \"\", \"exceptionClass\": \"\", \"trace\": \"\"}}, \"*\")"
      ],
      "text/plain": [
       "<IPython.core.display.Javascript object>"
      ]
     },
     "metadata": {},
     "output_type": "display_data"
    },
    {
     "data": {
      "text/markdown": [
       "<span style=\"color:#33cc33\">Correct</span>"
      ],
      "text/plain": [
       "Correct"
      ]
     },
     "metadata": {},
     "output_type": "display_data"
    }
   ],
   "source": [
    "# YOUR CODE HERE\n",
    "input_shape = [11]\n",
    "\n",
    "# Check your answer\n",
    "q_1.check()"
   ]
  },
  {
   "cell_type": "code",
   "execution_count": 5,
   "id": "4e7507b2",
   "metadata": {
    "execution": {
     "iopub.execute_input": "2024-01-25T03:34:38.038058Z",
     "iopub.status.busy": "2024-01-25T03:34:38.037490Z",
     "iopub.status.idle": "2024-01-25T03:34:38.041874Z",
     "shell.execute_reply": "2024-01-25T03:34:38.040639Z"
    },
    "papermill": {
     "duration": 0.012661,
     "end_time": "2024-01-25T03:34:38.044116",
     "exception": false,
     "start_time": "2024-01-25T03:34:38.031455",
     "status": "completed"
    },
    "tags": []
   },
   "outputs": [],
   "source": [
    "# Lines below will give you a hint or solution code\n",
    "#q_1.hint()\n",
    "#q_1.solution()"
   ]
  },
  {
   "cell_type": "markdown",
   "id": "346230f1",
   "metadata": {
    "papermill": {
     "duration": 0.004438,
     "end_time": "2024-01-25T03:34:38.053556",
     "exception": false,
     "start_time": "2024-01-25T03:34:38.049118",
     "status": "completed"
    },
    "tags": []
   },
   "source": [
    "# 2) Define a linear model\n",
    "\n",
    "Now define a linear model appropriate for this task. Pay attention to how many inputs and outputs the model should have."
   ]
  },
  {
   "cell_type": "code",
   "execution_count": 6,
   "id": "764ff707",
   "metadata": {
    "execution": {
     "iopub.execute_input": "2024-01-25T03:34:38.065237Z",
     "iopub.status.busy": "2024-01-25T03:34:38.064093Z",
     "iopub.status.idle": "2024-01-25T03:34:38.327663Z",
     "shell.execute_reply": "2024-01-25T03:34:38.326443Z"
    },
    "lines_to_next_cell": 0,
    "papermill": {
     "duration": 0.271871,
     "end_time": "2024-01-25T03:34:38.330075",
     "exception": false,
     "start_time": "2024-01-25T03:34:38.058204",
     "status": "completed"
    },
    "tags": []
   },
   "outputs": [
    {
     "data": {
      "application/javascript": [
       "parent.postMessage({\"jupyterEvent\": \"custom.exercise_interaction\", \"data\": {\"outcomeType\": 1, \"valueTowardsCompletion\": 0.3333333333333333, \"interactionType\": 1, \"questionType\": 2, \"questionId\": \"2_Q2\", \"learnToolsVersion\": \"0.3.4\", \"failureMessage\": \"\", \"exceptionClass\": \"\", \"trace\": \"\"}}, \"*\")"
      ],
      "text/plain": [
       "<IPython.core.display.Javascript object>"
      ]
     },
     "metadata": {},
     "output_type": "display_data"
    },
    {
     "data": {
      "text/markdown": [
       "<span style=\"color:#33cc33\">Correct</span>"
      ],
      "text/plain": [
       "Correct"
      ]
     },
     "metadata": {},
     "output_type": "display_data"
    }
   ],
   "source": [
    "from tensorflow import keras\n",
    "from tensorflow.keras import layers\n",
    "\n",
    "# YOUR CODE HERE\n",
    "model = keras.Sequential([\n",
    "    layers.Dense(units=1, input_shape=input_shape)\n",
    "])\n",
    "\n",
    "# Check your answer\n",
    "q_2.check()"
   ]
  },
  {
   "cell_type": "code",
   "execution_count": 7,
   "id": "038b237e",
   "metadata": {
    "execution": {
     "iopub.execute_input": "2024-01-25T03:34:38.341956Z",
     "iopub.status.busy": "2024-01-25T03:34:38.341631Z",
     "iopub.status.idle": "2024-01-25T03:34:38.345769Z",
     "shell.execute_reply": "2024-01-25T03:34:38.344742Z"
    },
    "papermill": {
     "duration": 0.012243,
     "end_time": "2024-01-25T03:34:38.347655",
     "exception": false,
     "start_time": "2024-01-25T03:34:38.335412",
     "status": "completed"
    },
    "tags": []
   },
   "outputs": [],
   "source": [
    "# Lines below will give you a hint or solution code\n",
    "#q_2.hint()\n",
    "#q_2.solution()"
   ]
  },
  {
   "cell_type": "markdown",
   "id": "4716bb43",
   "metadata": {
    "papermill": {
     "duration": 0.004687,
     "end_time": "2024-01-25T03:34:38.357543",
     "exception": false,
     "start_time": "2024-01-25T03:34:38.352856",
     "status": "completed"
    },
    "tags": []
   },
   "source": [
    "# 3) Look at the weights\n",
    "\n",
    "Internally, Keras represents the weights of a neural network with **tensors**. Tensors are basically TensorFlow's version of a Numpy array with a few differences that make them better suited to deep learning. One of the most important is that tensors are compatible with [GPU](https://www.kaggle.com/docs/efficient-gpu-usage) and [TPU](https://www.kaggle.com/docs/tpu)) accelerators. TPUs, in fact, are designed specifically for tensor computations.\n",
    "\n",
    "A model's weights are kept in its `weights` attribute as a list of tensors. Get the weights of the model you defined above. (If you want, you could display the weights with something like: `print(\"Weights\\n{}\\n\\nBias\\n{}\".format(w, b))`)."
   ]
  },
  {
   "cell_type": "code",
   "execution_count": 8,
   "id": "4f805284",
   "metadata": {
    "execution": {
     "iopub.execute_input": "2024-01-25T03:34:38.369099Z",
     "iopub.status.busy": "2024-01-25T03:34:38.368282Z",
     "iopub.status.idle": "2024-01-25T03:34:38.376333Z",
     "shell.execute_reply": "2024-01-25T03:34:38.375079Z"
    },
    "lines_to_next_cell": 0,
    "papermill": {
     "duration": 0.015825,
     "end_time": "2024-01-25T03:34:38.378234",
     "exception": false,
     "start_time": "2024-01-25T03:34:38.362409",
     "status": "completed"
    },
    "tags": []
   },
   "outputs": [
    {
     "data": {
      "application/javascript": [
       "parent.postMessage({\"jupyterEvent\": \"custom.exercise_interaction\", \"data\": {\"outcomeType\": 1, \"valueTowardsCompletion\": 0.3333333333333333, \"interactionType\": 1, \"questionType\": 2, \"questionId\": \"3_Q3\", \"learnToolsVersion\": \"0.3.4\", \"failureMessage\": \"\", \"exceptionClass\": \"\", \"trace\": \"\"}}, \"*\")"
      ],
      "text/plain": [
       "<IPython.core.display.Javascript object>"
      ]
     },
     "metadata": {},
     "output_type": "display_data"
    },
    {
     "data": {
      "text/markdown": [
       "<span style=\"color:#33cc33\">Correct:</span> Do you see how there's one weight for each input (and a bias)? Notice though that there doesn't seem to be any pattern to the values the weights have. Before the model is trained, the weights are set to random numbers (and the bias to 0.0). A neural network learns by finding better values for its weights.\n"
      ],
      "text/plain": [
       "Correct: Do you see how there's one weight for each input (and a bias)? Notice though that there doesn't seem to be any pattern to the values the weights have. Before the model is trained, the weights are set to random numbers (and the bias to 0.0). A neural network learns by finding better values for its weights."
      ]
     },
     "metadata": {},
     "output_type": "display_data"
    }
   ],
   "source": [
    "# YOUR CODE HERE\n",
    "w, b = model.weights\n",
    "\n",
    "# Check your answer\n",
    "q_3.check()"
   ]
  },
  {
   "cell_type": "code",
   "execution_count": 9,
   "id": "9643ec75",
   "metadata": {
    "execution": {
     "iopub.execute_input": "2024-01-25T03:34:38.390964Z",
     "iopub.status.busy": "2024-01-25T03:34:38.390654Z",
     "iopub.status.idle": "2024-01-25T03:34:38.400037Z",
     "shell.execute_reply": "2024-01-25T03:34:38.398608Z"
    },
    "papermill": {
     "duration": 0.017833,
     "end_time": "2024-01-25T03:34:38.402029",
     "exception": false,
     "start_time": "2024-01-25T03:34:38.384196",
     "status": "completed"
    },
    "tags": []
   },
   "outputs": [
    {
     "name": "stdout",
     "output_type": "stream",
     "text": [
      "Weights\n",
      "<tf.Variable 'dense/kernel:0' shape=(11, 1) dtype=float32, numpy=\n",
      "array([[-0.09516001],\n",
      "       [ 0.11654937],\n",
      "       [-0.53868765],\n",
      "       [-0.04952389],\n",
      "       [-0.65476376],\n",
      "       [-0.6159578 ],\n",
      "       [ 0.56954473],\n",
      "       [ 0.27054077],\n",
      "       [ 0.02667946],\n",
      "       [ 0.24958855],\n",
      "       [-0.32560143]], dtype=float32)>\n",
      "\n",
      "Bias\n",
      "<tf.Variable 'dense/bias:0' shape=(1,) dtype=float32, numpy=array([0.], dtype=float32)>\n"
     ]
    }
   ],
   "source": [
    "print(\"Weights\\n{}\\n\\nBias\\n{}\".format(w, b))"
   ]
  },
  {
   "cell_type": "code",
   "execution_count": 10,
   "id": "cfae6d95",
   "metadata": {
    "execution": {
     "iopub.execute_input": "2024-01-25T03:34:38.414274Z",
     "iopub.status.busy": "2024-01-25T03:34:38.413878Z",
     "iopub.status.idle": "2024-01-25T03:34:38.418206Z",
     "shell.execute_reply": "2024-01-25T03:34:38.417028Z"
    },
    "lines_to_next_cell": 0,
    "papermill": {
     "duration": 0.012857,
     "end_time": "2024-01-25T03:34:38.420386",
     "exception": false,
     "start_time": "2024-01-25T03:34:38.407529",
     "status": "completed"
    },
    "tags": []
   },
   "outputs": [],
   "source": [
    "# Lines below will give you a hint or solution code\n",
    "#q_3.hint()\n",
    "#q_3.solution()"
   ]
  },
  {
   "cell_type": "markdown",
   "id": "07975d1b",
   "metadata": {
    "papermill": {
     "duration": 0.005046,
     "end_time": "2024-01-25T03:34:38.431064",
     "exception": false,
     "start_time": "2024-01-25T03:34:38.426018",
     "status": "completed"
    },
    "tags": []
   },
   "source": [
    "(By the way, Keras represents weights as tensors, but also uses tensors to represent data. When you set the `input_shape` argument, you are telling Keras the dimensions of the array it should expect for each example in the training data. Setting `input_shape=[3]` would create a network accepting vectors of length 3, like `[0.2, 0.4, 0.6]`.)\n",
    " \n",
    "\n",
    "# Optional: Plot the output of an untrained linear model\n",
    " \n",
    "The kinds of problems we'll work on through Lesson 5 will be *regression* problems, where the goal is to predict some numeric target. Regression problems are like \"curve-fitting\" problems: we're trying to find a curve that best fits the data. Let's take a look at the \"curve\" produced by a linear model. (You've probably guessed that it's a line!)\n",
    " \n",
    "We mentioned that before training a model's weights are set randomly. Run the cell below a few times to see the different lines produced with a random initialization. (There's no coding for this exercise -- it's just a demonstration.)"
   ]
  },
  {
   "cell_type": "code",
   "execution_count": 11,
   "id": "83ce3f41",
   "metadata": {
    "execution": {
     "iopub.execute_input": "2024-01-25T03:34:38.443580Z",
     "iopub.status.busy": "2024-01-25T03:34:38.443015Z",
     "iopub.status.idle": "2024-01-25T03:34:39.054239Z",
     "shell.execute_reply": "2024-01-25T03:34:39.052817Z"
    },
    "lines_to_next_cell": 0,
    "papermill": {
     "duration": 0.620079,
     "end_time": "2024-01-25T03:34:39.056536",
     "exception": false,
     "start_time": "2024-01-25T03:34:38.436457",
     "status": "completed"
    },
    "tags": []
   },
   "outputs": [
    {
     "name": "stdout",
     "output_type": "stream",
     "text": [
      "4/4 [==============================] - 0s 2ms/step\n"
     ]
    },
    {
     "data": {
      "image/png": "[encoded data removed]",
      "text/plain": [
       "<Figure size 640x480 with 1 Axes>"
      ]
     },
     "metadata": {},
     "output_type": "display_data"
    }
   ],
   "source": [
    "import tensorflow as tf\n",
    "import matplotlib.pyplot as plt\n",
    "\n",
    "model = keras.Sequential([\n",
    "    layers.Dense(1, input_shape=[1]),\n",
    "])\n",
    "\n",
    "x = tf.linspace(-1.0, 1.0, 100)\n",
    "y = model.predict(x)\n",
    "\n",
    "plt.figure(dpi=100)\n",
    "plt.plot(x, y, 'k')\n",
    "plt.xlim(-1, 1)\n",
    "plt.ylim(-1, 1)\n",
    "plt.xlabel(\"Input: x\")\n",
    "plt.ylabel(\"Target y\")\n",
    "w, b = model.weights # you could also use model.get_weights() here\n",
    "plt.title(\"Weight: {:0.2f}\\nBias: {:0.2f}\".format(w[0][0], b[0]))\n",
    "plt.show()"
   ]
  },
  {
   "cell_type": "markdown",
   "id": "c1cc6d1f",
   "metadata": {
    "papermill": {
     "duration": 0.00609,
     "end_time": "2024-01-25T03:34:39.069013",
     "exception": false,
     "start_time": "2024-01-25T03:34:39.062923",
     "status": "completed"
    },
    "tags": []
   },
   "source": [
    "# Keep Going #\n",
    "\n",
    "Add hidden layers and [**make your models deep**](https://www.kaggle.com/ryanholbrook/deep-neural-networks) in Lesson 2."
   ]
  },
  {
   "cell_type": "markdown",
   "id": "5397026d",
   "metadata": {
    "papermill": {
     "duration": 0.006283,
     "end_time": "2024-01-25T03:34:39.081615",
     "exception": false,
     "start_time": "2024-01-25T03:34:39.075332",
     "status": "completed"
    },
    "tags": []
   },
   "source": [
    "---\n",
    "\n",
    "\n",
    "\n",
    "\n",
    "*Have questions or comments? Visit the [course discussion forum](https://www.kaggle.com/learn/intro-to-deep-learning/discussion) to chat with other learners.*"
   ]
  }
 ],
 "metadata": {
  "jupytext": {
   "cell_metadata_filter": "-all",
   "formats": "ipynb"
  },
  "kaggle": {
   "accelerator": "none",
   "dataSources": [
    {
     "datasetId": 829369,
     "sourceId": 1480608,
     "sourceType": "datasetVersion"
    }
   ],
   "isGpuEnabled": false,
   "isInternetEnabled": false,
   "language": "python",
   "sourceType": "notebook"
  },
  "kernelspec": {
   "display_name": "Python 3",
   "language": "python",
   "name": "python3"
  },
  "language_info": {
   "codemirror_mode": {
    "name": "ipython",
    "version": 3
   },
   "file_extension": ".py",
   "mimetype": "text/x-python",
   "name": "python",
   "nbconvert_exporter": "python",
   "pygments_lexer": "ipython3",
   "version": "3.10.12"
  },
  "papermill": {
   "default_parameters": {},
   "duration": 18.083485,
   "end_time": "2024-01-25T03:34:40.512081",
   "environment_variables": {},
   "exception": null,
   "input_path": "__notebook__.ipynb",
   "output_path": "__notebook__.ipynb",
   "parameters": {},
   "start_time": "2024-01-25T03:34:22.428596",
   "version": "2.4.0"
  }
 },
 "nbformat": 4,
 "nbformat_minor": 5
}
