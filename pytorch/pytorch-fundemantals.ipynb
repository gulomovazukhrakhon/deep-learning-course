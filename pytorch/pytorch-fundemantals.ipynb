{
 "cells": [
  {
   "cell_type": "markdown",
   "id": "c2843233",
   "metadata": {
    "papermill": {
     "duration": 0.012772,
     "end_time": "2024-03-14T08:51:41.868791",
     "exception": false,
     "start_time": "2024-03-14T08:51:41.856019",
     "status": "completed"
    },
    "tags": []
   },
   "source": [
    "## Notebook Imports"
   ]
  },
  {
   "cell_type": "code",
   "execution_count": 1,
   "id": "054f236d",
   "metadata": {
    "execution": {
     "iopub.execute_input": "2024-03-14T08:51:41.894723Z",
     "iopub.status.busy": "2024-03-14T08:51:41.894035Z",
     "iopub.status.idle": "2024-03-14T08:51:45.916910Z",
     "shell.execute_reply": "2024-03-14T08:51:45.915772Z"
    },
    "papermill": {
     "duration": 4.038839,
     "end_time": "2024-03-14T08:51:45.919656",
     "exception": false,
     "start_time": "2024-03-14T08:51:41.880817",
     "status": "completed"
    },
    "tags": []
   },
   "outputs": [],
   "source": [
    "import torch\n",
    "import pandas as pd\n",
    "import numpy as np\n",
    "import matplotlib.pyplot as plt"
   ]
  },
  {
   "cell_type": "code",
   "execution_count": 2,
   "id": "b819183e",
   "metadata": {
    "execution": {
     "iopub.execute_input": "2024-03-14T08:51:45.946062Z",
     "iopub.status.busy": "2024-03-14T08:51:45.945510Z",
     "iopub.status.idle": "2024-03-14T08:51:45.950924Z",
     "shell.execute_reply": "2024-03-14T08:51:45.949913Z"
    },
    "papermill": {
     "duration": 0.020527,
     "end_time": "2024-03-14T08:51:45.953106",
     "exception": false,
     "start_time": "2024-03-14T08:51:45.932579",
     "status": "completed"
    },
    "tags": []
   },
   "outputs": [
    {
     "name": "stdout",
     "output_type": "stream",
     "text": [
      "2.1.2+cpu\n"
     ]
    }
   ],
   "source": [
    "print(torch.__version__)"
   ]
  },
  {
   "cell_type": "markdown",
   "id": "95ba7e2c",
   "metadata": {
    "papermill": {
     "duration": 0.011235,
     "end_time": "2024-03-14T08:51:45.976932",
     "exception": false,
     "start_time": "2024-03-14T08:51:45.965697",
     "status": "completed"
    },
    "tags": []
   },
   "source": [
    "## Introduction to Tensors\n"
   ]
  },
  {
   "cell_type": "code",
   "execution_count": 3,
   "id": "bc9db0b3",
   "metadata": {
    "execution": {
     "iopub.execute_input": "2024-03-14T08:51:46.003277Z",
     "iopub.status.busy": "2024-03-14T08:51:46.002884Z",
     "iopub.status.idle": "2024-03-14T08:51:46.045918Z",
     "shell.execute_reply": "2024-03-14T08:51:46.044810Z"
    },
    "papermill": {
     "duration": 0.058968,
     "end_time": "2024-03-14T08:51:46.048187",
     "exception": false,
     "start_time": "2024-03-14T08:51:45.989219",
     "status": "completed"
    },
    "tags": []
   },
   "outputs": [
    {
     "data": {
      "text/plain": [
       "tensor(7)"
      ]
     },
     "execution_count": 3,
     "metadata": {},
     "output_type": "execute_result"
    }
   ],
   "source": [
    "# scalar\n",
    "scalar = torch.tensor(7)\n",
    "scalar"
   ]
  },
  {
   "cell_type": "code",
   "execution_count": 4,
   "id": "037abae3",
   "metadata": {
    "execution": {
     "iopub.execute_input": "2024-03-14T08:51:46.074365Z",
     "iopub.status.busy": "2024-03-14T08:51:46.073984Z",
     "iopub.status.idle": "2024-03-14T08:51:46.080627Z",
     "shell.execute_reply": "2024-03-14T08:51:46.079562Z"
    },
    "papermill": {
     "duration": 0.022083,
     "end_time": "2024-03-14T08:51:46.082750",
     "exception": false,
     "start_time": "2024-03-14T08:51:46.060667",
     "status": "completed"
    },
    "tags": []
   },
   "outputs": [
    {
     "data": {
      "text/plain": [
       "0"
      ]
     },
     "execution_count": 4,
     "metadata": {},
     "output_type": "execute_result"
    }
   ],
   "source": [
    "scalar.ndim"
   ]
  },
  {
   "cell_type": "code",
   "execution_count": 5,
   "id": "e6de1058",
   "metadata": {
    "execution": {
     "iopub.execute_input": "2024-03-14T08:51:46.108631Z",
     "iopub.status.busy": "2024-03-14T08:51:46.108215Z",
     "iopub.status.idle": "2024-03-14T08:51:46.115013Z",
     "shell.execute_reply": "2024-03-14T08:51:46.113978Z"
    },
    "papermill": {
     "duration": 0.022602,
     "end_time": "2024-03-14T08:51:46.117303",
     "exception": false,
     "start_time": "2024-03-14T08:51:46.094701",
     "status": "completed"
    },
    "tags": []
   },
   "outputs": [
    {
     "data": {
      "text/plain": [
       "7"
      ]
     },
     "execution_count": 5,
     "metadata": {},
     "output_type": "execute_result"
    }
   ],
   "source": [
    "scalar.item()"
   ]
  },
  {
   "cell_type": "code",
   "execution_count": 6,
   "id": "9d609e75",
   "metadata": {
    "execution": {
     "iopub.execute_input": "2024-03-14T08:51:46.143611Z",
     "iopub.status.busy": "2024-03-14T08:51:46.143204Z",
     "iopub.status.idle": "2024-03-14T08:51:46.152314Z",
     "shell.execute_reply": "2024-03-14T08:51:46.151329Z"
    },
    "papermill": {
     "duration": 0.024734,
     "end_time": "2024-03-14T08:51:46.154339",
     "exception": false,
     "start_time": "2024-03-14T08:51:46.129605",
     "status": "completed"
    },
    "tags": []
   },
   "outputs": [
    {
     "data": {
      "text/plain": [
       "tensor([7, 7])"
      ]
     },
     "execution_count": 6,
     "metadata": {},
     "output_type": "execute_result"
    }
   ],
   "source": [
    "# vector\n",
    "vector = torch.tensor([7, 7])\n",
    "vector"
   ]
  },
  {
   "cell_type": "code",
   "execution_count": 7,
   "id": "1193d4c9",
   "metadata": {
    "execution": {
     "iopub.execute_input": "2024-03-14T08:51:46.183258Z",
     "iopub.status.busy": "2024-03-14T08:51:46.182710Z",
     "iopub.status.idle": "2024-03-14T08:51:46.188957Z",
     "shell.execute_reply": "2024-03-14T08:51:46.187806Z"
    },
    "papermill": {
     "duration": 0.023655,
     "end_time": "2024-03-14T08:51:46.191282",
     "exception": false,
     "start_time": "2024-03-14T08:51:46.167627",
     "status": "completed"
    },
    "tags": []
   },
   "outputs": [
    {
     "data": {
      "text/plain": [
       "1"
      ]
     },
     "execution_count": 7,
     "metadata": {},
     "output_type": "execute_result"
    }
   ],
   "source": [
    "vector.ndim"
   ]
  },
  {
   "cell_type": "code",
   "execution_count": 8,
   "id": "ecb68eec",
   "metadata": {
    "execution": {
     "iopub.execute_input": "2024-03-14T08:51:46.218109Z",
     "iopub.status.busy": "2024-03-14T08:51:46.217721Z",
     "iopub.status.idle": "2024-03-14T08:51:46.223586Z",
     "shell.execute_reply": "2024-03-14T08:51:46.222824Z"
    },
    "papermill": {
     "duration": 0.021663,
     "end_time": "2024-03-14T08:51:46.225702",
     "exception": false,
     "start_time": "2024-03-14T08:51:46.204039",
     "status": "completed"
    },
    "tags": []
   },
   "outputs": [
    {
     "data": {
      "text/plain": [
       "torch.Size([2])"
      ]
     },
     "execution_count": 8,
     "metadata": {},
     "output_type": "execute_result"
    }
   ],
   "source": [
    "vector.shape"
   ]
  },
  {
   "cell_type": "code",
   "execution_count": 9,
   "id": "f6f418d3",
   "metadata": {
    "execution": {
     "iopub.execute_input": "2024-03-14T08:51:46.254245Z",
     "iopub.status.busy": "2024-03-14T08:51:46.253157Z",
     "iopub.status.idle": "2024-03-14T08:51:46.263333Z",
     "shell.execute_reply": "2024-03-14T08:51:46.262117Z"
    },
    "papermill": {
     "duration": 0.028231,
     "end_time": "2024-03-14T08:51:46.266201",
     "exception": false,
     "start_time": "2024-03-14T08:51:46.237970",
     "status": "completed"
    },
    "tags": []
   },
   "outputs": [
    {
     "data": {
      "text/plain": [
       "tensor([[ 7,  8],\n",
       "        [ 9, 10]])"
      ]
     },
     "execution_count": 9,
     "metadata": {},
     "output_type": "execute_result"
    }
   ],
   "source": [
    "# MATRIX\n",
    "MATRIX = torch.tensor([[7, 8],\n",
    "                       [9, 10]])\n",
    "\n",
    "MATRIX"
   ]
  },
  {
   "cell_type": "code",
   "execution_count": 10,
   "id": "80ed25e7",
   "metadata": {
    "execution": {
     "iopub.execute_input": "2024-03-14T08:51:46.294751Z",
     "iopub.status.busy": "2024-03-14T08:51:46.294375Z",
     "iopub.status.idle": "2024-03-14T08:51:46.300587Z",
     "shell.execute_reply": "2024-03-14T08:51:46.299544Z"
    },
    "papermill": {
     "duration": 0.022735,
     "end_time": "2024-03-14T08:51:46.302883",
     "exception": false,
     "start_time": "2024-03-14T08:51:46.280148",
     "status": "completed"
    },
    "tags": []
   },
   "outputs": [
    {
     "data": {
      "text/plain": [
       "2"
      ]
     },
     "execution_count": 10,
     "metadata": {},
     "output_type": "execute_result"
    }
   ],
   "source": [
    "MATRIX.ndim"
   ]
  },
  {
   "cell_type": "code",
   "execution_count": 11,
   "id": "cea1b8b4",
   "metadata": {
    "execution": {
     "iopub.execute_input": "2024-03-14T08:51:46.332067Z",
     "iopub.status.busy": "2024-03-14T08:51:46.331676Z",
     "iopub.status.idle": "2024-03-14T08:51:46.338805Z",
     "shell.execute_reply": "2024-03-14T08:51:46.337754Z"
    },
    "papermill": {
     "duration": 0.024173,
     "end_time": "2024-03-14T08:51:46.340933",
     "exception": false,
     "start_time": "2024-03-14T08:51:46.316760",
     "status": "completed"
    },
    "tags": []
   },
   "outputs": [
    {
     "data": {
      "text/plain": [
       "tensor([7, 8])"
      ]
     },
     "execution_count": 11,
     "metadata": {},
     "output_type": "execute_result"
    }
   ],
   "source": [
    "MATRIX[0]"
   ]
  },
  {
   "cell_type": "code",
   "execution_count": 12,
   "id": "818858de",
   "metadata": {
    "execution": {
     "iopub.execute_input": "2024-03-14T08:51:46.369410Z",
     "iopub.status.busy": "2024-03-14T08:51:46.368986Z",
     "iopub.status.idle": "2024-03-14T08:51:46.375844Z",
     "shell.execute_reply": "2024-03-14T08:51:46.374508Z"
    },
    "papermill": {
     "duration": 0.023322,
     "end_time": "2024-03-14T08:51:46.378036",
     "exception": false,
     "start_time": "2024-03-14T08:51:46.354714",
     "status": "completed"
    },
    "tags": []
   },
   "outputs": [
    {
     "data": {
      "text/plain": [
       "torch.Size([2, 2])"
      ]
     },
     "execution_count": 12,
     "metadata": {},
     "output_type": "execute_result"
    }
   ],
   "source": [
    "MATRIX.shape"
   ]
  },
  {
   "cell_type": "code",
   "execution_count": 13,
   "id": "a022ee2b",
   "metadata": {
    "execution": {
     "iopub.execute_input": "2024-03-14T08:51:46.406406Z",
     "iopub.status.busy": "2024-03-14T08:51:46.405937Z",
     "iopub.status.idle": "2024-03-14T08:51:46.413899Z",
     "shell.execute_reply": "2024-03-14T08:51:46.412805Z"
    },
    "papermill": {
     "duration": 0.024906,
     "end_time": "2024-03-14T08:51:46.416099",
     "exception": false,
     "start_time": "2024-03-14T08:51:46.391193",
     "status": "completed"
    },
    "tags": []
   },
   "outputs": [
    {
     "data": {
      "text/plain": [
       "tensor([[[1, 2, 3],\n",
       "         [3, 6, 7],\n",
       "         [2, 4, 5]]])"
      ]
     },
     "execution_count": 13,
     "metadata": {},
     "output_type": "execute_result"
    }
   ],
   "source": [
    "# TENSOR\n",
    "TENSOR = torch.tensor([[[1, 2, 3],\n",
    "                       [3, 6, 7],\n",
    "                       [2, 4, 5]]])\n",
    "TENSOR"
   ]
  },
  {
   "cell_type": "code",
   "execution_count": 14,
   "id": "4fa525f6",
   "metadata": {
    "execution": {
     "iopub.execute_input": "2024-03-14T08:51:46.445225Z",
     "iopub.status.busy": "2024-03-14T08:51:46.444716Z",
     "iopub.status.idle": "2024-03-14T08:51:46.451672Z",
     "shell.execute_reply": "2024-03-14T08:51:46.450561Z"
    },
    "papermill": {
     "duration": 0.023957,
     "end_time": "2024-03-14T08:51:46.453676",
     "exception": false,
     "start_time": "2024-03-14T08:51:46.429719",
     "status": "completed"
    },
    "tags": []
   },
   "outputs": [
    {
     "data": {
      "text/plain": [
       "3"
      ]
     },
     "execution_count": 14,
     "metadata": {},
     "output_type": "execute_result"
    }
   ],
   "source": [
    "TENSOR.ndim"
   ]
  },
  {
   "cell_type": "code",
   "execution_count": 15,
   "id": "4bb3c6d3",
   "metadata": {
    "execution": {
     "iopub.execute_input": "2024-03-14T08:51:46.483143Z",
     "iopub.status.busy": "2024-03-14T08:51:46.482760Z",
     "iopub.status.idle": "2024-03-14T08:51:46.488730Z",
     "shell.execute_reply": "2024-03-14T08:51:46.487863Z"
    },
    "papermill": {
     "duration": 0.023962,
     "end_time": "2024-03-14T08:51:46.490661",
     "exception": false,
     "start_time": "2024-03-14T08:51:46.466699",
     "status": "completed"
    },
    "tags": []
   },
   "outputs": [
    {
     "data": {
      "text/plain": [
       "torch.Size([1, 3, 3])"
      ]
     },
     "execution_count": 15,
     "metadata": {},
     "output_type": "execute_result"
    }
   ],
   "source": [
    "TENSOR.shape"
   ]
  },
  {
   "cell_type": "markdown",
   "id": "4efc7740",
   "metadata": {
    "papermill": {
     "duration": 0.013146,
     "end_time": "2024-03-14T08:51:46.517409",
     "exception": false,
     "start_time": "2024-03-14T08:51:46.504263",
     "status": "completed"
    },
    "tags": []
   },
   "source": [
    "## Random Tensors\n",
    "\n",
    "Random tensors are important because the way many neural networks learn is that they start with tensors full of random numbers and then adjust those random numbers to better represent the data.\n",
    "\n",
    "`Start with random number -> look at the data -> update random numbers -> look at the data -> update random numbers`"
   ]
  },
  {
   "cell_type": "code",
   "execution_count": 16,
   "id": "fc030327",
   "metadata": {
    "execution": {
     "iopub.execute_input": "2024-03-14T08:51:46.544909Z",
     "iopub.status.busy": "2024-03-14T08:51:46.544519Z",
     "iopub.status.idle": "2024-03-14T08:51:46.602357Z",
     "shell.execute_reply": "2024-03-14T08:51:46.601526Z"
    },
    "papermill": {
     "duration": 0.073848,
     "end_time": "2024-03-14T08:51:46.604334",
     "exception": false,
     "start_time": "2024-03-14T08:51:46.530486",
     "status": "completed"
    },
    "tags": []
   },
   "outputs": [
    {
     "data": {
      "text/plain": [
       "tensor([[0.8223, 0.4365, 0.8988, 0.9544],\n",
       "        [0.4772, 0.1273, 0.2887, 0.1948],\n",
       "        [0.1888, 0.4558, 0.4194, 0.8409]])"
      ]
     },
     "execution_count": 16,
     "metadata": {},
     "output_type": "execute_result"
    }
   ],
   "source": [
    "# Create a random tensor\n",
    "random_tensor = torch.rand(3, 4)\n",
    "random_tensor"
   ]
  },
  {
   "cell_type": "code",
   "execution_count": 17,
   "id": "120cc7c7",
   "metadata": {
    "execution": {
     "iopub.execute_input": "2024-03-14T08:51:46.633270Z",
     "iopub.status.busy": "2024-03-14T08:51:46.632931Z",
     "iopub.status.idle": "2024-03-14T08:51:46.638390Z",
     "shell.execute_reply": "2024-03-14T08:51:46.637366Z"
    },
    "papermill": {
     "duration": 0.021924,
     "end_time": "2024-03-14T08:51:46.640162",
     "exception": false,
     "start_time": "2024-03-14T08:51:46.618238",
     "status": "completed"
    },
    "tags": []
   },
   "outputs": [
    {
     "data": {
      "text/plain": [
       "2"
      ]
     },
     "execution_count": 17,
     "metadata": {},
     "output_type": "execute_result"
    }
   ],
   "source": [
    "random_tensor.ndim"
   ]
  },
  {
   "cell_type": "code",
   "execution_count": 18,
   "id": "557a486c",
   "metadata": {
    "execution": {
     "iopub.execute_input": "2024-03-14T08:51:46.669474Z",
     "iopub.status.busy": "2024-03-14T08:51:46.668917Z",
     "iopub.status.idle": "2024-03-14T08:51:46.677899Z",
     "shell.execute_reply": "2024-03-14T08:51:46.676811Z"
    },
    "papermill": {
     "duration": 0.026005,
     "end_time": "2024-03-14T08:51:46.679992",
     "exception": false,
     "start_time": "2024-03-14T08:51:46.653987",
     "status": "completed"
    },
    "tags": []
   },
   "outputs": [
    {
     "data": {
      "text/plain": [
       "(torch.Size([224, 224, 3]), 3)"
      ]
     },
     "execution_count": 18,
     "metadata": {},
     "output_type": "execute_result"
    }
   ],
   "source": [
    "# Create an image tensor\n",
    "random_image_size_tensor = torch.rand(size=(224, 224, 3)) # height, width, colour channels\n",
    "random_image_size_tensor.shape, random_image_size_tensor.ndim"
   ]
  },
  {
   "cell_type": "markdown",
   "id": "740add10",
   "metadata": {
    "papermill": {
     "duration": 0.075237,
     "end_time": "2024-03-14T08:51:46.769176",
     "exception": false,
     "start_time": "2024-03-14T08:51:46.693939",
     "status": "completed"
    },
    "tags": []
   },
   "source": [
    "## Zeroes and Ones"
   ]
  },
  {
   "cell_type": "code",
   "execution_count": 19,
   "id": "09423833",
   "metadata": {
    "execution": {
     "iopub.execute_input": "2024-03-14T08:51:46.799233Z",
     "iopub.status.busy": "2024-03-14T08:51:46.798850Z",
     "iopub.status.idle": "2024-03-14T08:51:46.811675Z",
     "shell.execute_reply": "2024-03-14T08:51:46.810387Z"
    },
    "papermill": {
     "duration": 0.030643,
     "end_time": "2024-03-14T08:51:46.814166",
     "exception": false,
     "start_time": "2024-03-14T08:51:46.783523",
     "status": "completed"
    },
    "tags": []
   },
   "outputs": [
    {
     "data": {
      "text/plain": [
       "tensor([[0., 0., 0., 0.],\n",
       "        [0., 0., 0., 0.],\n",
       "        [0., 0., 0., 0.]])"
      ]
     },
     "execution_count": 19,
     "metadata": {},
     "output_type": "execute_result"
    }
   ],
   "source": [
    "zeroes = torch.zeros(size=(3, 4))\n",
    "zeroes"
   ]
  },
  {
   "cell_type": "code",
   "execution_count": 20,
   "id": "fc9f964b",
   "metadata": {
    "execution": {
     "iopub.execute_input": "2024-03-14T08:51:46.844332Z",
     "iopub.status.busy": "2024-03-14T08:51:46.843957Z",
     "iopub.status.idle": "2024-03-14T08:51:46.852737Z",
     "shell.execute_reply": "2024-03-14T08:51:46.851384Z"
    },
    "papermill": {
     "duration": 0.026774,
     "end_time": "2024-03-14T08:51:46.855051",
     "exception": false,
     "start_time": "2024-03-14T08:51:46.828277",
     "status": "completed"
    },
    "tags": []
   },
   "outputs": [
    {
     "data": {
      "text/plain": [
       "tensor([[1., 1., 1., 1.],\n",
       "        [1., 1., 1., 1.],\n",
       "        [1., 1., 1., 1.]])"
      ]
     },
     "execution_count": 20,
     "metadata": {},
     "output_type": "execute_result"
    }
   ],
   "source": [
    "ones = torch.ones(size=(3, 4))\n",
    "ones"
   ]
  },
  {
   "cell_type": "markdown",
   "id": "0f404af2",
   "metadata": {
    "papermill": {
     "duration": 0.015446,
     "end_time": "2024-03-14T08:51:46.885017",
     "exception": false,
     "start_time": "2024-03-14T08:51:46.869571",
     "status": "completed"
    },
    "tags": []
   },
   "source": [
    "## A Range of Tensors and Tensor-Like"
   ]
  },
  {
   "cell_type": "code",
   "execution_count": 21,
   "id": "a05fdb70",
   "metadata": {
    "execution": {
     "iopub.execute_input": "2024-03-14T08:51:46.915230Z",
     "iopub.status.busy": "2024-03-14T08:51:46.914837Z",
     "iopub.status.idle": "2024-03-14T08:51:46.928161Z",
     "shell.execute_reply": "2024-03-14T08:51:46.927045Z"
    },
    "papermill": {
     "duration": 0.031233,
     "end_time": "2024-03-14T08:51:46.930412",
     "exception": false,
     "start_time": "2024-03-14T08:51:46.899179",
     "status": "completed"
    },
    "tags": []
   },
   "outputs": [
    {
     "data": {
      "text/plain": [
       "tensor([ 1,  2,  3,  4,  5,  6,  7,  8,  9, 10])"
      ]
     },
     "execution_count": 21,
     "metadata": {},
     "output_type": "execute_result"
    }
   ],
   "source": [
    "one_to_ten = torch.arange(start=1, end=11, step=1)\n",
    "one_to_ten"
   ]
  },
  {
   "cell_type": "code",
   "execution_count": 22,
   "id": "a431cab1",
   "metadata": {
    "execution": {
     "iopub.execute_input": "2024-03-14T08:51:46.960644Z",
     "iopub.status.busy": "2024-03-14T08:51:46.960262Z",
     "iopub.status.idle": "2024-03-14T08:51:46.967564Z",
     "shell.execute_reply": "2024-03-14T08:51:46.966467Z"
    },
    "papermill": {
     "duration": 0.024693,
     "end_time": "2024-03-14T08:51:46.969634",
     "exception": false,
     "start_time": "2024-03-14T08:51:46.944941",
     "status": "completed"
    },
    "tags": []
   },
   "outputs": [
    {
     "data": {
      "text/plain": [
       "tensor([0, 0, 0, 0, 0, 0, 0, 0, 0, 0])"
      ]
     },
     "execution_count": 22,
     "metadata": {},
     "output_type": "execute_result"
    }
   ],
   "source": [
    "# Creating tensor like\n",
    "ten_zeroes = torch.zeros_like(input=one_to_ten)\n",
    "ten_zeroes"
   ]
  },
  {
   "cell_type": "markdown",
   "id": "ba415942",
   "metadata": {
    "papermill": {
     "duration": 0.015925,
     "end_time": "2024-03-14T08:51:46.999881",
     "exception": false,
     "start_time": "2024-03-14T08:51:46.983956",
     "status": "completed"
    },
    "tags": []
   },
   "source": [
    " ## Tensor Datatypes"
   ]
  },
  {
   "cell_type": "code",
   "execution_count": 23,
   "id": "119d95e7",
   "metadata": {
    "execution": {
     "iopub.execute_input": "2024-03-14T08:51:47.030573Z",
     "iopub.status.busy": "2024-03-14T08:51:47.029800Z",
     "iopub.status.idle": "2024-03-14T08:51:47.039000Z",
     "shell.execute_reply": "2024-03-14T08:51:47.037802Z"
    },
    "papermill": {
     "duration": 0.026762,
     "end_time": "2024-03-14T08:51:47.041189",
     "exception": false,
     "start_time": "2024-03-14T08:51:47.014427",
     "status": "completed"
    },
    "tags": []
   },
   "outputs": [
    {
     "data": {
      "text/plain": [
       "tensor([3., 6., 9.])"
      ]
     },
     "execution_count": 23,
     "metadata": {},
     "output_type": "execute_result"
    }
   ],
   "source": [
    "float_32_tensor = torch.tensor([3.0, 6.0, 9.0],\n",
    "                              dtype=None, # what datatype is the tensor (e.g float32)\n",
    "                              device=None, # what device is your tensor\n",
    "                              requires_grad=False) # whether or not to track gradients with these tensor operations\n",
    "\n",
    "float_32_tensor "
   ]
  },
  {
   "cell_type": "code",
   "execution_count": 24,
   "id": "aa653eda",
   "metadata": {
    "execution": {
     "iopub.execute_input": "2024-03-14T08:51:47.072172Z",
     "iopub.status.busy": "2024-03-14T08:51:47.071228Z",
     "iopub.status.idle": "2024-03-14T08:51:47.083421Z",
     "shell.execute_reply": "2024-03-14T08:51:47.082232Z"
    },
    "papermill": {
     "duration": 0.030028,
     "end_time": "2024-03-14T08:51:47.085583",
     "exception": false,
     "start_time": "2024-03-14T08:51:47.055555",
     "status": "completed"
    },
    "tags": []
   },
   "outputs": [
    {
     "data": {
      "text/plain": [
       "tensor([3., 6., 9.], dtype=torch.float16)"
      ]
     },
     "execution_count": 24,
     "metadata": {},
     "output_type": "execute_result"
    }
   ],
   "source": [
    "float_16_tensor = float_32_tensor.type(torch.float16) # or torch.half\n",
    "float_16_tensor"
   ]
  },
  {
   "cell_type": "code",
   "execution_count": 25,
   "id": "3d422388",
   "metadata": {
    "execution": {
     "iopub.execute_input": "2024-03-14T08:51:47.116249Z",
     "iopub.status.busy": "2024-03-14T08:51:47.115519Z",
     "iopub.status.idle": "2024-03-14T08:51:47.122806Z",
     "shell.execute_reply": "2024-03-14T08:51:47.121772Z"
    },
    "papermill": {
     "duration": 0.025159,
     "end_time": "2024-03-14T08:51:47.124937",
     "exception": false,
     "start_time": "2024-03-14T08:51:47.099778",
     "status": "completed"
    },
    "tags": []
   },
   "outputs": [
    {
     "data": {
      "text/plain": [
       "tensor([ 9., 36., 81.])"
      ]
     },
     "execution_count": 25,
     "metadata": {},
     "output_type": "execute_result"
    }
   ],
   "source": [
    "float_16_tensor * float_32_tensor"
   ]
  },
  {
   "cell_type": "markdown",
   "id": "bbf7c38d",
   "metadata": {
    "papermill": {
     "duration": 0.014203,
     "end_time": "2024-03-14T08:51:47.154700",
     "exception": false,
     "start_time": "2024-03-14T08:51:47.140497",
     "status": "completed"
    },
    "tags": []
   },
   "source": [
    "## Getting information from tensors  "
   ]
  },
  {
   "cell_type": "code",
   "execution_count": 26,
   "id": "1c5500fe",
   "metadata": {
    "execution": {
     "iopub.execute_input": "2024-03-14T08:51:47.186396Z",
     "iopub.status.busy": "2024-03-14T08:51:47.186006Z",
     "iopub.status.idle": "2024-03-14T08:51:47.194924Z",
     "shell.execute_reply": "2024-03-14T08:51:47.193878Z"
    },
    "papermill": {
     "duration": 0.027994,
     "end_time": "2024-03-14T08:51:47.196980",
     "exception": false,
     "start_time": "2024-03-14T08:51:47.168986",
     "status": "completed"
    },
    "tags": []
   },
   "outputs": [
    {
     "name": "stdout",
     "output_type": "stream",
     "text": [
      "tensor([[0.6736, 0.2060, 0.2299],\n",
      "        [0.8878, 0.2297, 0.3718],\n",
      "        [0.1272, 0.2571, 0.2774]])\n"
     ]
    },
    {
     "data": {
      "text/plain": [
       "(torch.float32, torch.Size([3, 3]), device(type='cpu'))"
      ]
     },
     "execution_count": 26,
     "metadata": {},
     "output_type": "execute_result"
    }
   ],
   "source": [
    "some_tensor = torch.rand([3, 3])\n",
    "print(some_tensor)\n",
    "some_tensor.dtype, some_tensor.shape, some_tensor.device"
   ]
  },
  {
   "cell_type": "markdown",
   "id": "537cb50d",
   "metadata": {
    "papermill": {
     "duration": 0.014697,
     "end_time": "2024-03-14T08:51:47.226072",
     "exception": false,
     "start_time": "2024-03-14T08:51:47.211375",
     "status": "completed"
    },
    "tags": []
   },
   "source": [
    "## Manipulating Tensor (tensor operations)\n",
    "\n",
    "Tensor operations include:\n",
    "* **Addition**\n",
    "* **Subtraction**\n",
    "* **Multiplication**\n",
    "* **Division**\n",
    "* **Matrix Multiplication**"
   ]
  },
  {
   "cell_type": "code",
   "execution_count": 27,
   "id": "03bfeb6a",
   "metadata": {
    "execution": {
     "iopub.execute_input": "2024-03-14T08:51:47.259633Z",
     "iopub.status.busy": "2024-03-14T08:51:47.259126Z",
     "iopub.status.idle": "2024-03-14T08:51:47.270736Z",
     "shell.execute_reply": "2024-03-14T08:51:47.269504Z"
    },
    "papermill": {
     "duration": 0.031289,
     "end_time": "2024-03-14T08:51:47.273433",
     "exception": false,
     "start_time": "2024-03-14T08:51:47.242144",
     "status": "completed"
    },
    "tags": []
   },
   "outputs": [
    {
     "name": "stdout",
     "output_type": "stream",
     "text": [
      "Addition: tensor([[10.6736, 10.2060, 10.2299],\n",
      "        [10.8878, 10.2297, 10.3718],\n",
      "        [10.1272, 10.2571, 10.2774]])\n",
      "Subtraction: tensor([[-9.3264, -9.7940, -9.7701],\n",
      "        [-9.1122, -9.7703, -9.6282],\n",
      "        [-9.8728, -9.7429, -9.7226]])\n",
      "Multiplication: tensor([[6.7363, 2.0601, 2.2990],\n",
      "        [8.8778, 2.2971, 3.7184],\n",
      "        [1.2716, 2.5710, 2.7744]])\n",
      "Division: tensor([[0.0674, 0.0206, 0.0230],\n",
      "        [0.0888, 0.0230, 0.0372],\n",
      "        [0.0127, 0.0257, 0.0277]])\n"
     ]
    }
   ],
   "source": [
    "print(f'Addition: {some_tensor + 10}') # torch.add(tensor, 10)\n",
    "print(f'Subtraction: {some_tensor - 10}')\n",
    "print(f'Multiplication: {some_tensor * 10}')\n",
    "print(f'Division: {some_tensor / 10}')"
   ]
  },
  {
   "cell_type": "code",
   "execution_count": 28,
   "id": "c328b61a",
   "metadata": {
    "execution": {
     "iopub.execute_input": "2024-03-14T08:51:47.306093Z",
     "iopub.status.busy": "2024-03-14T08:51:47.305715Z",
     "iopub.status.idle": "2024-03-14T08:51:47.313614Z",
     "shell.execute_reply": "2024-03-14T08:51:47.312566Z"
    },
    "papermill": {
     "duration": 0.02619,
     "end_time": "2024-03-14T08:51:47.315785",
     "exception": false,
     "start_time": "2024-03-14T08:51:47.289595",
     "status": "completed"
    },
    "tags": []
   },
   "outputs": [
    {
     "data": {
      "text/plain": [
       "tensor([[0.4538, 0.0424, 0.0529],\n",
       "        [0.7881, 0.0528, 0.1383],\n",
       "        [0.0162, 0.0661, 0.0770]])"
      ]
     },
     "execution_count": 28,
     "metadata": {},
     "output_type": "execute_result"
    }
   ],
   "source": [
    "# Element-wise Multiplication \n",
    "some_tensor * some_tensor"
   ]
  },
  {
   "cell_type": "code",
   "execution_count": 29,
   "id": "26939ad1",
   "metadata": {
    "execution": {
     "iopub.execute_input": "2024-03-14T08:51:47.347011Z",
     "iopub.status.busy": "2024-03-14T08:51:47.346621Z",
     "iopub.status.idle": "2024-03-14T08:51:47.359344Z",
     "shell.execute_reply": "2024-03-14T08:51:47.358321Z"
    },
    "papermill": {
     "duration": 0.030762,
     "end_time": "2024-03-14T08:51:47.361383",
     "exception": false,
     "start_time": "2024-03-14T08:51:47.330621",
     "status": "completed"
    },
    "tags": []
   },
   "outputs": [
    {
     "data": {
      "text/plain": [
       "tensor([[0.6659, 0.2452, 0.2952],\n",
       "        [0.8492, 0.3313, 0.3927],\n",
       "        [0.3492, 0.1566, 0.2018]])"
      ]
     },
     "execution_count": 29,
     "metadata": {},
     "output_type": "execute_result"
    }
   ],
   "source": [
    "# Matrix Multiplication (dot product)\n",
    "torch.matmul(some_tensor, some_tensor)"
   ]
  },
  {
   "cell_type": "markdown",
   "id": "db50653f",
   "metadata": {
    "papermill": {
     "duration": 0.015232,
     "end_time": "2024-03-14T08:51:47.391605",
     "exception": false,
     "start_time": "2024-03-14T08:51:47.376373",
     "status": "completed"
    },
    "tags": []
   },
   "source": [
    "## Shape Errors\n",
    "\n",
    "To fix our tensor shape issues, we can manipulate the shape of one of our tensors using **transpose**.\n",
    "\n",
    "A **transpose** switches the axes or dimensions of a given tensor."
   ]
  },
  {
   "cell_type": "code",
   "execution_count": 30,
   "id": "5dfc6d07",
   "metadata": {
    "execution": {
     "iopub.execute_input": "2024-03-14T08:51:47.424011Z",
     "iopub.status.busy": "2024-03-14T08:51:47.423192Z",
     "iopub.status.idle": "2024-03-14T08:51:47.428689Z",
     "shell.execute_reply": "2024-03-14T08:51:47.427521Z"
    },
    "papermill": {
     "duration": 0.024331,
     "end_time": "2024-03-14T08:51:47.430929",
     "exception": false,
     "start_time": "2024-03-14T08:51:47.406598",
     "status": "completed"
    },
    "tags": []
   },
   "outputs": [],
   "source": [
    "tensor_A = torch.tensor([[1, 2],\n",
    "                       [3, 4],\n",
    "                       [5, 6]])\n",
    "\n",
    "tensor_B = torch.tensor([[7, 10],\n",
    "                       [8, 11],\n",
    "                       [9, 12]])"
   ]
  },
  {
   "cell_type": "code",
   "execution_count": 31,
   "id": "3a258b6d",
   "metadata": {
    "execution": {
     "iopub.execute_input": "2024-03-14T08:51:47.462716Z",
     "iopub.status.busy": "2024-03-14T08:51:47.461970Z",
     "iopub.status.idle": "2024-03-14T08:51:47.471636Z",
     "shell.execute_reply": "2024-03-14T08:51:47.470441Z"
    },
    "papermill": {
     "duration": 0.028228,
     "end_time": "2024-03-14T08:51:47.473891",
     "exception": false,
     "start_time": "2024-03-14T08:51:47.445663",
     "status": "completed"
    },
    "tags": []
   },
   "outputs": [
    {
     "data": {
      "text/plain": [
       "tensor([[ 27,  30,  33],\n",
       "        [ 61,  68,  75],\n",
       "        [ 95, 106, 117]])"
      ]
     },
     "execution_count": 31,
     "metadata": {},
     "output_type": "execute_result"
    }
   ],
   "source": [
    "torch.mm(tensor_A, tensor_B.T) # or torch.matmul()"
   ]
  },
  {
   "cell_type": "markdown",
   "id": "fcea58e0",
   "metadata": {
    "papermill": {
     "duration": 0.015081,
     "end_time": "2024-03-14T08:51:47.504247",
     "exception": false,
     "start_time": "2024-03-14T08:51:47.489166",
     "status": "completed"
    },
    "tags": []
   },
   "source": [
    "## Min, Max, Mean, Sum (Tensor Aggregation)"
   ]
  },
  {
   "cell_type": "code",
   "execution_count": 32,
   "id": "e90a3045",
   "metadata": {
    "execution": {
     "iopub.execute_input": "2024-03-14T08:51:47.536001Z",
     "iopub.status.busy": "2024-03-14T08:51:47.535239Z",
     "iopub.status.idle": "2024-03-14T08:51:47.542449Z",
     "shell.execute_reply": "2024-03-14T08:51:47.541471Z"
    },
    "papermill": {
     "duration": 0.025252,
     "end_time": "2024-03-14T08:51:47.544275",
     "exception": false,
     "start_time": "2024-03-14T08:51:47.519023",
     "status": "completed"
    },
    "tags": []
   },
   "outputs": [
    {
     "data": {
      "text/plain": [
       "(tensor([ 0, 10, 20, 30, 40, 50, 60, 70, 80, 90]), torch.int64)"
      ]
     },
     "execution_count": 32,
     "metadata": {},
     "output_type": "execute_result"
    }
   ],
   "source": [
    "x = torch.arange(0, 100, 10)\n",
    "x, x.dtype"
   ]
  },
  {
   "cell_type": "code",
   "execution_count": 33,
   "id": "adf09bd1",
   "metadata": {
    "execution": {
     "iopub.execute_input": "2024-03-14T08:51:47.576349Z",
     "iopub.status.busy": "2024-03-14T08:51:47.575935Z",
     "iopub.status.idle": "2024-03-14T08:51:47.586708Z",
     "shell.execute_reply": "2024-03-14T08:51:47.585498Z"
    },
    "papermill": {
     "duration": 0.02968,
     "end_time": "2024-03-14T08:51:47.588870",
     "exception": false,
     "start_time": "2024-03-14T08:51:47.559190",
     "status": "completed"
    },
    "tags": []
   },
   "outputs": [
    {
     "name": "stdout",
     "output_type": "stream",
     "text": [
      "Torch Min: 0\n",
      "Torch Max: 90\n",
      "Torch Mean: 45.0\n",
      "Torch Sum: 450\n"
     ]
    }
   ],
   "source": [
    "print(f'Torch Min: {torch.min(x)}') # or x.min()\n",
    "print(f'Torch Max: {torch.max(x)}') # or x.max()\n",
    "print(f'Torch Mean: {torch.mean(x.type(torch.float32))}') # or x.type(torch.float32).mean()\n",
    "print(f'Torch Sum: {torch.sum(x)}') # or x.sum()"
   ]
  },
  {
   "cell_type": "markdown",
   "id": "704d78ab",
   "metadata": {
    "papermill": {
     "duration": 0.014661,
     "end_time": "2024-03-14T08:51:47.619434",
     "exception": false,
     "start_time": "2024-03-14T08:51:47.604773",
     "status": "completed"
    },
    "tags": []
   },
   "source": [
    "## Finding the positional Min and Max"
   ]
  },
  {
   "cell_type": "code",
   "execution_count": 34,
   "id": "29656a66",
   "metadata": {
    "execution": {
     "iopub.execute_input": "2024-03-14T08:51:47.650928Z",
     "iopub.status.busy": "2024-03-14T08:51:47.650572Z",
     "iopub.status.idle": "2024-03-14T08:51:47.658614Z",
     "shell.execute_reply": "2024-03-14T08:51:47.657562Z"
    },
    "papermill": {
     "duration": 0.026556,
     "end_time": "2024-03-14T08:51:47.660895",
     "exception": false,
     "start_time": "2024-03-14T08:51:47.634339",
     "status": "completed"
    },
    "tags": []
   },
   "outputs": [
    {
     "name": "stdout",
     "output_type": "stream",
     "text": [
      "Position: 0, Value: 0\n"
     ]
    }
   ],
   "source": [
    "print(f'Position: {x.argmin()}, Value: {x[x.argmin()]}')"
   ]
  },
  {
   "cell_type": "code",
   "execution_count": 35,
   "id": "8fcc3d60",
   "metadata": {
    "execution": {
     "iopub.execute_input": "2024-03-14T08:51:47.696599Z",
     "iopub.status.busy": "2024-03-14T08:51:47.696222Z",
     "iopub.status.idle": "2024-03-14T08:51:47.701712Z",
     "shell.execute_reply": "2024-03-14T08:51:47.700736Z"
    },
    "papermill": {
     "duration": 0.024453,
     "end_time": "2024-03-14T08:51:47.703815",
     "exception": false,
     "start_time": "2024-03-14T08:51:47.679362",
     "status": "completed"
    },
    "tags": []
   },
   "outputs": [
    {
     "name": "stdout",
     "output_type": "stream",
     "text": [
      "Position: 9, Value: 90\n"
     ]
    }
   ],
   "source": [
    "print(f'Position: {x.argmax()}, Value: {x[x.argmax()]}')"
   ]
  },
  {
   "cell_type": "markdown",
   "id": "bab3b523",
   "metadata": {
    "papermill": {
     "duration": 0.014881,
     "end_time": "2024-03-14T08:51:47.733709",
     "exception": false,
     "start_time": "2024-03-14T08:51:47.718828",
     "status": "completed"
    },
    "tags": []
   },
   "source": [
    "## Reshaping, Stacking, Squeezing and Unsqueezing tensors\n",
    "\n",
    "* **Reshaping** -- reshapes an input tensor to a defined shape\n",
    "* **View** -- return a view of an input tensor of a certain shape but keep the same memory as the original tensor\n",
    "* **Stacking** -- combine multiple tensors on top of each other (vstack) or side by side (hstack)\n",
    "* **Squeezing** -- removes a `1` dimension from a tensor\n",
    "* **Unsqueezing** -- adds a `1` dimension to a target tensor\n",
    "* **Permute** -- return a view of the input with dimensions permuted (swapped) in a certain way"
   ]
  },
  {
   "cell_type": "code",
   "execution_count": 36,
   "id": "0daff128",
   "metadata": {
    "execution": {
     "iopub.execute_input": "2024-03-14T08:51:47.771673Z",
     "iopub.status.busy": "2024-03-14T08:51:47.771190Z",
     "iopub.status.idle": "2024-03-14T08:51:47.778822Z",
     "shell.execute_reply": "2024-03-14T08:51:47.777505Z"
    },
    "papermill": {
     "duration": 0.030922,
     "end_time": "2024-03-14T08:51:47.780988",
     "exception": false,
     "start_time": "2024-03-14T08:51:47.750066",
     "status": "completed"
    },
    "tags": []
   },
   "outputs": [
    {
     "name": "stdout",
     "output_type": "stream",
     "text": [
      "Previous Tensor: tensor([ 0, 10, 20, 30, 40, 50, 60, 70, 80, 90])\n",
      "Previous Shape: torch.Size([10])\n",
      "\n",
      "New Tensor: tensor([[ 0, 10, 20, 30, 40, 50, 60, 70, 80, 90]])\n",
      "New Shape: torch.Size([1, 10])\n"
     ]
    }
   ],
   "source": [
    "# Reshaping\n",
    "print(f'Previous Tensor: {x}')\n",
    "print(f'Previous Shape: {x.shape}')\n",
    "\n",
    "x_reshaped = x.reshape(1, 10)\n",
    "\n",
    "print(f'\\nNew Tensor: {x_reshaped}')\n",
    "print(f'New Shape: {x_reshaped.shape}')"
   ]
  },
  {
   "cell_type": "code",
   "execution_count": 37,
   "id": "ed865f13",
   "metadata": {
    "execution": {
     "iopub.execute_input": "2024-03-14T08:51:47.819460Z",
     "iopub.status.busy": "2024-03-14T08:51:47.818769Z",
     "iopub.status.idle": "2024-03-14T08:51:47.826100Z",
     "shell.execute_reply": "2024-03-14T08:51:47.825108Z"
    },
    "papermill": {
     "duration": 0.028104,
     "end_time": "2024-03-14T08:51:47.828027",
     "exception": false,
     "start_time": "2024-03-14T08:51:47.799923",
     "status": "completed"
    },
    "tags": []
   },
   "outputs": [
    {
     "data": {
      "text/plain": [
       "(tensor([[ 0, 10],\n",
       "         [20, 30],\n",
       "         [40, 50],\n",
       "         [60, 70],\n",
       "         [80, 90]]),\n",
       " torch.Size([5, 2]))"
      ]
     },
     "execution_count": 37,
     "metadata": {},
     "output_type": "execute_result"
    }
   ],
   "source": [
    "# Change the view\n",
    "z = x.view(5, 2)\n",
    "z, z.shape"
   ]
  },
  {
   "cell_type": "code",
   "execution_count": 38,
   "id": "70917e09",
   "metadata": {
    "execution": {
     "iopub.execute_input": "2024-03-14T08:51:47.860337Z",
     "iopub.status.busy": "2024-03-14T08:51:47.859931Z",
     "iopub.status.idle": "2024-03-14T08:51:47.872667Z",
     "shell.execute_reply": "2024-03-14T08:51:47.871509Z"
    },
    "papermill": {
     "duration": 0.031985,
     "end_time": "2024-03-14T08:51:47.875407",
     "exception": false,
     "start_time": "2024-03-14T08:51:47.843422",
     "status": "completed"
    },
    "tags": []
   },
   "outputs": [
    {
     "data": {
      "text/plain": [
       "tensor([[ 0,  0,  0,  0],\n",
       "        [10, 10, 10, 10],\n",
       "        [20, 20, 20, 20],\n",
       "        [30, 30, 30, 30],\n",
       "        [40, 40, 40, 40],\n",
       "        [50, 50, 50, 50],\n",
       "        [60, 60, 60, 60],\n",
       "        [70, 70, 70, 70],\n",
       "        [80, 80, 80, 80],\n",
       "        [90, 90, 90, 90]])"
      ]
     },
     "execution_count": 38,
     "metadata": {},
     "output_type": "execute_result"
    }
   ],
   "source": [
    "# Stack tensors on top of each other\n",
    "x_stacked = torch.stack([x, x, x, x], dim=1)\n",
    "x_stacked"
   ]
  },
  {
   "cell_type": "code",
   "execution_count": 39,
   "id": "c45e77c0",
   "metadata": {
    "execution": {
     "iopub.execute_input": "2024-03-14T08:51:47.919673Z",
     "iopub.status.busy": "2024-03-14T08:51:47.918675Z",
     "iopub.status.idle": "2024-03-14T08:51:47.927485Z",
     "shell.execute_reply": "2024-03-14T08:51:47.926135Z"
    },
    "papermill": {
     "duration": 0.036317,
     "end_time": "2024-03-14T08:51:47.930068",
     "exception": false,
     "start_time": "2024-03-14T08:51:47.893751",
     "status": "completed"
    },
    "tags": []
   },
   "outputs": [
    {
     "name": "stdout",
     "output_type": "stream",
     "text": [
      "Previous Tensor: tensor([[ 0, 10, 20, 30, 40, 50, 60, 70, 80, 90]])\n",
      "Previous Shape: torch.Size([1, 10])\n",
      "\n",
      "New Tensor: tensor([ 0, 10, 20, 30, 40, 50, 60, 70, 80, 90])\n",
      "New Shape: torch.Size([10])\n"
     ]
    }
   ],
   "source": [
    "# Squeezing tensors\n",
    "print(f'Previous Tensor: {x_reshaped}')\n",
    "print(f'Previous Shape: {x_reshaped.shape}')\n",
    "\n",
    "x_squeezed = x_reshaped.squeeze()\n",
    "\n",
    "print(f'\\nNew Tensor: {x_squeezed}')\n",
    "print(f'New Shape: {x_squeezed.shape}')"
   ]
  },
  {
   "cell_type": "code",
   "execution_count": 40,
   "id": "6a430ed1",
   "metadata": {
    "execution": {
     "iopub.execute_input": "2024-03-14T08:51:47.972135Z",
     "iopub.status.busy": "2024-03-14T08:51:47.971534Z",
     "iopub.status.idle": "2024-03-14T08:51:47.978556Z",
     "shell.execute_reply": "2024-03-14T08:51:47.977387Z"
    },
    "papermill": {
     "duration": 0.032981,
     "end_time": "2024-03-14T08:51:47.981608",
     "exception": false,
     "start_time": "2024-03-14T08:51:47.948627",
     "status": "completed"
    },
    "tags": []
   },
   "outputs": [
    {
     "name": "stdout",
     "output_type": "stream",
     "text": [
      "Previous Tensor: tensor([ 0, 10, 20, 30, 40, 50, 60, 70, 80, 90])\n",
      "Previous Shape: torch.Size([10])\n",
      "\n",
      "New Tensor: tensor([[ 0, 10, 20, 30, 40, 50, 60, 70, 80, 90]])\n",
      "New Shape: torch.Size([1, 10])\n"
     ]
    }
   ],
   "source": [
    "# Unsqueezing tensors\n",
    "print(f'Previous Tensor: {x_squeezed}')\n",
    "print(f'Previous Shape: {x_squeezed.shape}')\n",
    "\n",
    "x_unsqueezed = x_squeezed.unsqueeze(dim=0)\n",
    "\n",
    "print(f'\\nNew Tensor: {x_unsqueezed}')\n",
    "print(f'New Shape: {x_unsqueezed.shape}')"
   ]
  },
  {
   "cell_type": "code",
   "execution_count": 41,
   "id": "5432a7c0",
   "metadata": {
    "execution": {
     "iopub.execute_input": "2024-03-14T08:51:48.017406Z",
     "iopub.status.busy": "2024-03-14T08:51:48.017017Z",
     "iopub.status.idle": "2024-03-14T08:51:48.024554Z",
     "shell.execute_reply": "2024-03-14T08:51:48.023599Z"
    },
    "papermill": {
     "duration": 0.027386,
     "end_time": "2024-03-14T08:51:48.026890",
     "exception": false,
     "start_time": "2024-03-14T08:51:47.999504",
     "status": "completed"
    },
    "tags": []
   },
   "outputs": [
    {
     "name": "stdout",
     "output_type": "stream",
     "text": [
      "Previous shape: torch.Size([224, 224, 3])\n",
      "New shape: torch.Size([3, 224, 224])\n"
     ]
    }
   ],
   "source": [
    "# Permutation\n",
    "x_original = torch.rand(size=(224, 224, 3)) # height, width, colour channels\n",
    "\n",
    "x_permuted = x_original.permute(2, 0, 1) # shift 0->1, 1->2, 2->0\n",
    "\n",
    "print(f'Previous shape: {x_original.shape}')\n",
    "print(f'New shape: {x_permuted.shape}') # colour channels, height, width"
   ]
  },
  {
   "cell_type": "markdown",
   "id": "02c37ded",
   "metadata": {
    "papermill": {
     "duration": 0.019072,
     "end_time": "2024-03-14T08:51:48.062584",
     "exception": false,
     "start_time": "2024-03-14T08:51:48.043512",
     "status": "completed"
    },
    "tags": []
   },
   "source": [
    "## Indexing (selecting data from tensors)"
   ]
  },
  {
   "cell_type": "code",
   "execution_count": 42,
   "id": "43518e10",
   "metadata": {
    "execution": {
     "iopub.execute_input": "2024-03-14T08:51:48.096473Z",
     "iopub.status.busy": "2024-03-14T08:51:48.096056Z",
     "iopub.status.idle": "2024-03-14T08:51:48.105218Z",
     "shell.execute_reply": "2024-03-14T08:51:48.104131Z"
    },
    "papermill": {
     "duration": 0.029112,
     "end_time": "2024-03-14T08:51:48.107585",
     "exception": false,
     "start_time": "2024-03-14T08:51:48.078473",
     "status": "completed"
    },
    "tags": []
   },
   "outputs": [
    {
     "data": {
      "text/plain": [
       "(tensor([[[1, 2, 3],\n",
       "          [4, 5, 6],\n",
       "          [7, 8, 9]]]),\n",
       " torch.Size([1, 3, 3]))"
      ]
     },
     "execution_count": 42,
     "metadata": {},
     "output_type": "execute_result"
    }
   ],
   "source": [
    "x = torch.arange(1, 10).reshape(1, 3, 3)\n",
    "x, x.shape"
   ]
  },
  {
   "cell_type": "code",
   "execution_count": 43,
   "id": "07cd97e3",
   "metadata": {
    "execution": {
     "iopub.execute_input": "2024-03-14T08:51:48.146466Z",
     "iopub.status.busy": "2024-03-14T08:51:48.146066Z",
     "iopub.status.idle": "2024-03-14T08:51:48.153043Z",
     "shell.execute_reply": "2024-03-14T08:51:48.151400Z"
    },
    "papermill": {
     "duration": 0.028576,
     "end_time": "2024-03-14T08:51:48.155315",
     "exception": false,
     "start_time": "2024-03-14T08:51:48.126739",
     "status": "completed"
    },
    "tags": []
   },
   "outputs": [
    {
     "name": "stdout",
     "output_type": "stream",
     "text": [
      "Index on the first bracket: \n",
      "tensor([[1, 2, 3],\n",
      "        [4, 5, 6],\n",
      "        [7, 8, 9]])\n",
      "\n",
      "Index on the middle bracket: tensor([1, 2, 3])\n",
      "\n",
      "Index on the inner bracket: 1\n"
     ]
    }
   ],
   "source": [
    "print(f'Index on the first bracket: \\n{x[0]}')\n",
    "print(f'\\nIndex on the middle bracket: {x[0][0]}')\n",
    "print(f'\\nIndex on the inner bracket: {x[0, 0, 0]}')"
   ]
  },
  {
   "cell_type": "code",
   "execution_count": 44,
   "id": "eb844578",
   "metadata": {
    "execution": {
     "iopub.execute_input": "2024-03-14T08:51:48.194096Z",
     "iopub.status.busy": "2024-03-14T08:51:48.193351Z",
     "iopub.status.idle": "2024-03-14T08:51:48.202575Z",
     "shell.execute_reply": "2024-03-14T08:51:48.201450Z"
    },
    "papermill": {
     "duration": 0.032911,
     "end_time": "2024-03-14T08:51:48.204932",
     "exception": false,
     "start_time": "2024-03-14T08:51:48.172021",
     "status": "completed"
    },
    "tags": []
   },
   "outputs": [
    {
     "data": {
      "text/plain": [
       "(tensor([[1, 2, 3]]), tensor([[3, 6, 9]]), tensor([[4, 5, 6]]))"
      ]
     },
     "execution_count": 44,
     "metadata": {},
     "output_type": "execute_result"
    }
   ],
   "source": [
    "# ':' all of target dimension\n",
    "x[:, 0], x[:, :, 2], x[:, 1, :]"
   ]
  },
  {
   "cell_type": "markdown",
   "id": "5a9dd44b",
   "metadata": {
    "papermill": {
     "duration": 0.016997,
     "end_time": "2024-03-14T08:51:48.239775",
     "exception": false,
     "start_time": "2024-03-14T08:51:48.222778",
     "status": "completed"
    },
    "tags": []
   },
   "source": [
    "## Pytorch Tensors & NumPy\n",
    "\n",
    "* Data in NumPy -> Pytorch Tensor: `torch.from_numpy(ndarray)`\n",
    "* Pytorch Tensor -> NumPy: `torch.Tensor.numpy()`"
   ]
  },
  {
   "cell_type": "code",
   "execution_count": 45,
   "id": "058a397f",
   "metadata": {
    "execution": {
     "iopub.execute_input": "2024-03-14T08:51:48.279123Z",
     "iopub.status.busy": "2024-03-14T08:51:48.278415Z",
     "iopub.status.idle": "2024-03-14T08:51:48.288144Z",
     "shell.execute_reply": "2024-03-14T08:51:48.287125Z"
    },
    "papermill": {
     "duration": 0.029819,
     "end_time": "2024-03-14T08:51:48.290370",
     "exception": false,
     "start_time": "2024-03-14T08:51:48.260551",
     "status": "completed"
    },
    "tags": []
   },
   "outputs": [
    {
     "data": {
      "text/plain": [
       "(array([1., 2., 3., 4., 5., 6., 7.]),\n",
       " tensor([1., 2., 3., 4., 5., 6., 7.], dtype=torch.float64))"
      ]
     },
     "execution_count": 45,
     "metadata": {},
     "output_type": "execute_result"
    }
   ],
   "source": [
    "import numpy as np\n",
    "\n",
    "# Numpy array to Pytorch tensor \n",
    "array = np.arange(1.0, 8.0)\n",
    "tensor = torch.from_numpy(array) # pytorch reflects numpy's default datatype of float64\n",
    "array, tensor"
   ]
  },
  {
   "cell_type": "code",
   "execution_count": 46,
   "id": "abdcfc7e",
   "metadata": {
    "execution": {
     "iopub.execute_input": "2024-03-14T08:51:48.327568Z",
     "iopub.status.busy": "2024-03-14T08:51:48.326777Z",
     "iopub.status.idle": "2024-03-14T08:51:48.335316Z",
     "shell.execute_reply": "2024-03-14T08:51:48.334276Z"
    },
    "papermill": {
     "duration": 0.02961,
     "end_time": "2024-03-14T08:51:48.337433",
     "exception": false,
     "start_time": "2024-03-14T08:51:48.307823",
     "status": "completed"
    },
    "tags": []
   },
   "outputs": [
    {
     "data": {
      "text/plain": [
       "(tensor([1., 1., 1., 1., 1., 1., 1.]),\n",
       " array([1., 1., 1., 1., 1., 1., 1.], dtype=float32))"
      ]
     },
     "execution_count": 46,
     "metadata": {},
     "output_type": "execute_result"
    }
   ],
   "source": [
    "# Pytorch tensor to Numpy array\n",
    "tensor = torch.ones(7)\n",
    "array = tensor.numpy() \n",
    "tensor, array"
   ]
  }
 ],
 "metadata": {
  "kaggle": {
   "accelerator": "none",
   "dataSources": [],
   "dockerImageVersionId": 30664,
   "isGpuEnabled": false,
   "isInternetEnabled": true,
   "language": "python",
   "sourceType": "notebook"
  },
  "kernelspec": {
   "display_name": "Python 3",
   "language": "python",
   "name": "python3"
  },
  "language_info": {
   "codemirror_mode": {
    "name": "ipython",
    "version": 3
   },
   "file_extension": ".py",
   "mimetype": "text/x-python",
   "name": "python",
   "nbconvert_exporter": "python",
   "pygments_lexer": "ipython3",
   "version": "3.10.13"
  },
  "papermill": {
   "default_parameters": {},
   "duration": 10.108839,
   "end_time": "2024-03-14T08:51:49.276018",
   "environment_variables": {},
   "exception": null,
   "input_path": "__notebook__.ipynb",
   "output_path": "__notebook__.ipynb",
   "parameters": {},
   "start_time": "2024-03-14T08:51:39.167179",
   "version": "2.5.0"
  }
 },
 "nbformat": 4,
 "nbformat_minor": 5
}
